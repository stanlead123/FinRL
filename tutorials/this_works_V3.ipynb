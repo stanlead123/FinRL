{
  "nbformat": 4,
  "nbformat_minor": 0,
  "metadata": {
    "colab": {
      "name": "tutorial_this_works_1_18.ipynb",
      "provenance": [],
      "collapsed_sections": [
        "uijiWgkuh1jB"
      ]
    },
    "kernelspec": {
      "display_name": "Python 3",
      "language": "python",
      "name": "python3"
    },
    "language_info": {
      "codemirror_mode": {
        "name": "ipython",
        "version": 3
      },
      "file_extension": ".py",
      "mimetype": "text/x-python",
      "name": "python",
      "nbconvert_exporter": "python",
      "pygments_lexer": "ipython3",
      "version": "3.6.12"
    },
    "pycharm": {
      "stem_cell": {
        "cell_type": "raw",
        "metadata": {
          "collapsed": false
        },
        "source": []
      }
    },
    "accelerator": "GPU"
  },
  "cells": [
    {
      "cell_type": "code",
      "metadata": {
        "id": "4kowM1tg-YUC",
        "colab": {
          "base_uri": "https://localhost:8080/"
        },
        "outputId": "8d749096-ed01-402a-d19f-6ed42f3b2ad0"
      },
      "source": [
        "!pip install git+https://github.com/AI4Finance-LLC/FinRL-Library.git"
      ],
      "execution_count": 1,
      "outputs": [
        {
          "output_type": "stream",
          "text": [
            "Collecting git+https://github.com/AI4Finance-LLC/FinRL-Library.git\n",
            "  Cloning https://github.com/AI4Finance-LLC/FinRL-Library.git to /tmp/pip-req-build-h18qannk\n",
            "  Running command git clone -q https://github.com/AI4Finance-LLC/FinRL-Library.git /tmp/pip-req-build-h18qannk\n",
            "Collecting pyfolio@ git+https://github.com/quantopian/pyfolio.git#egg=pyfolio-0.9.2\n",
            "  Cloning https://github.com/quantopian/pyfolio.git to /tmp/pip-install-sks46kc0/pyfolio_2162e9bc223542b88afac438fce029c0\n",
            "  Running command git clone -q https://github.com/quantopian/pyfolio.git /tmp/pip-install-sks46kc0/pyfolio_2162e9bc223542b88afac438fce029c0\n",
            "Requirement already satisfied: numpy>=1.17.3 in /usr/local/lib/python3.7/dist-packages (from finrl==0.3.0) (1.19.5)\n",
            "Requirement already satisfied: pandas>=1.1.5 in /usr/local/lib/python3.7/dist-packages (from finrl==0.3.0) (1.1.5)\n",
            "Collecting stockstats\n",
            "  Downloading stockstats-0.3.2-py2.py3-none-any.whl (13 kB)\n",
            "Collecting yfinance\n",
            "  Downloading yfinance-0.1.63.tar.gz (26 kB)\n",
            "Requirement already satisfied: matplotlib in /usr/local/lib/python3.7/dist-packages (from finrl==0.3.0) (3.2.2)\n",
            "Requirement already satisfied: scikit-learn>=0.21.0 in /usr/local/lib/python3.7/dist-packages (from finrl==0.3.0) (0.22.2.post1)\n",
            "Requirement already satisfied: gym>=0.17 in /usr/local/lib/python3.7/dist-packages (from finrl==0.3.0) (0.17.3)\n",
            "Collecting stable-baselines3[extra]\n",
            "  Downloading stable_baselines3-1.1.0-py3-none-any.whl (172 kB)\n",
            "\u001b[K     |████████████████████████████████| 172 kB 15.2 MB/s \n",
            "\u001b[?25hRequirement already satisfied: pytest in /usr/local/lib/python3.7/dist-packages (from finrl==0.3.0) (3.6.4)\n",
            "Requirement already satisfied: setuptools>=41.4.0 in /usr/local/lib/python3.7/dist-packages (from finrl==0.3.0) (57.2.0)\n",
            "Requirement already satisfied: wheel>=0.33.6 in /usr/local/lib/python3.7/dist-packages (from finrl==0.3.0) (0.36.2)\n",
            "Requirement already satisfied: ipython>=3.2.3 in /usr/local/lib/python3.7/dist-packages (from pyfolio@ git+https://github.com/quantopian/pyfolio.git#egg=pyfolio-0.9.2->finrl==0.3.0) (5.5.0)\n",
            "Requirement already satisfied: pytz>=2014.10 in /usr/local/lib/python3.7/dist-packages (from pyfolio@ git+https://github.com/quantopian/pyfolio.git#egg=pyfolio-0.9.2->finrl==0.3.0) (2018.9)\n",
            "Requirement already satisfied: scipy>=0.14.0 in /usr/local/lib/python3.7/dist-packages (from pyfolio@ git+https://github.com/quantopian/pyfolio.git#egg=pyfolio-0.9.2->finrl==0.3.0) (1.4.1)\n",
            "Requirement already satisfied: seaborn>=0.7.1 in /usr/local/lib/python3.7/dist-packages (from pyfolio@ git+https://github.com/quantopian/pyfolio.git#egg=pyfolio-0.9.2->finrl==0.3.0) (0.11.1)\n",
            "Collecting empyrical>=0.5.0\n",
            "  Downloading empyrical-0.5.5.tar.gz (52 kB)\n",
            "\u001b[K     |████████████████████████████████| 52 kB 1.4 MB/s \n",
            "\u001b[?25hRequirement already satisfied: pandas-datareader>=0.2 in /usr/local/lib/python3.7/dist-packages (from empyrical>=0.5.0->pyfolio@ git+https://github.com/quantopian/pyfolio.git#egg=pyfolio-0.9.2->finrl==0.3.0) (0.9.0)\n",
            "Requirement already satisfied: cloudpickle<1.7.0,>=1.2.0 in /usr/local/lib/python3.7/dist-packages (from gym>=0.17->finrl==0.3.0) (1.3.0)\n",
            "Requirement already satisfied: pyglet<=1.5.0,>=1.4.0 in /usr/local/lib/python3.7/dist-packages (from gym>=0.17->finrl==0.3.0) (1.5.0)\n",
            "Requirement already satisfied: pexpect in /usr/local/lib/python3.7/dist-packages (from ipython>=3.2.3->pyfolio@ git+https://github.com/quantopian/pyfolio.git#egg=pyfolio-0.9.2->finrl==0.3.0) (4.8.0)\n",
            "Requirement already satisfied: decorator in /usr/local/lib/python3.7/dist-packages (from ipython>=3.2.3->pyfolio@ git+https://github.com/quantopian/pyfolio.git#egg=pyfolio-0.9.2->finrl==0.3.0) (4.4.2)\n",
            "Requirement already satisfied: prompt-toolkit<2.0.0,>=1.0.4 in /usr/local/lib/python3.7/dist-packages (from ipython>=3.2.3->pyfolio@ git+https://github.com/quantopian/pyfolio.git#egg=pyfolio-0.9.2->finrl==0.3.0) (1.0.18)\n",
            "Requirement already satisfied: pickleshare in /usr/local/lib/python3.7/dist-packages (from ipython>=3.2.3->pyfolio@ git+https://github.com/quantopian/pyfolio.git#egg=pyfolio-0.9.2->finrl==0.3.0) (0.7.5)\n",
            "Requirement already satisfied: pygments in /usr/local/lib/python3.7/dist-packages (from ipython>=3.2.3->pyfolio@ git+https://github.com/quantopian/pyfolio.git#egg=pyfolio-0.9.2->finrl==0.3.0) (2.6.1)\n",
            "Requirement already satisfied: simplegeneric>0.8 in /usr/local/lib/python3.7/dist-packages (from ipython>=3.2.3->pyfolio@ git+https://github.com/quantopian/pyfolio.git#egg=pyfolio-0.9.2->finrl==0.3.0) (0.8.1)\n",
            "Requirement already satisfied: traitlets>=4.2 in /usr/local/lib/python3.7/dist-packages (from ipython>=3.2.3->pyfolio@ git+https://github.com/quantopian/pyfolio.git#egg=pyfolio-0.9.2->finrl==0.3.0) (5.0.5)\n",
            "Requirement already satisfied: cycler>=0.10 in /usr/local/lib/python3.7/dist-packages (from matplotlib->finrl==0.3.0) (0.10.0)\n",
            "Requirement already satisfied: kiwisolver>=1.0.1 in /usr/local/lib/python3.7/dist-packages (from matplotlib->finrl==0.3.0) (1.3.1)\n",
            "Requirement already satisfied: pyparsing!=2.0.4,!=2.1.2,!=2.1.6,>=2.0.1 in /usr/local/lib/python3.7/dist-packages (from matplotlib->finrl==0.3.0) (2.4.7)\n",
            "Requirement already satisfied: python-dateutil>=2.1 in /usr/local/lib/python3.7/dist-packages (from matplotlib->finrl==0.3.0) (2.8.1)\n",
            "Requirement already satisfied: six in /usr/local/lib/python3.7/dist-packages (from cycler>=0.10->matplotlib->finrl==0.3.0) (1.15.0)\n",
            "Requirement already satisfied: requests>=2.19.0 in /usr/local/lib/python3.7/dist-packages (from pandas-datareader>=0.2->empyrical>=0.5.0->pyfolio@ git+https://github.com/quantopian/pyfolio.git#egg=pyfolio-0.9.2->finrl==0.3.0) (2.23.0)\n",
            "Requirement already satisfied: lxml in /usr/local/lib/python3.7/dist-packages (from pandas-datareader>=0.2->empyrical>=0.5.0->pyfolio@ git+https://github.com/quantopian/pyfolio.git#egg=pyfolio-0.9.2->finrl==0.3.0) (4.2.6)\n",
            "Requirement already satisfied: wcwidth in /usr/local/lib/python3.7/dist-packages (from prompt-toolkit<2.0.0,>=1.0.4->ipython>=3.2.3->pyfolio@ git+https://github.com/quantopian/pyfolio.git#egg=pyfolio-0.9.2->finrl==0.3.0) (0.2.5)\n",
            "Requirement already satisfied: future in /usr/local/lib/python3.7/dist-packages (from pyglet<=1.5.0,>=1.4.0->gym>=0.17->finrl==0.3.0) (0.16.0)\n",
            "Requirement already satisfied: urllib3!=1.25.0,!=1.25.1,<1.26,>=1.21.1 in /usr/local/lib/python3.7/dist-packages (from requests>=2.19.0->pandas-datareader>=0.2->empyrical>=0.5.0->pyfolio@ git+https://github.com/quantopian/pyfolio.git#egg=pyfolio-0.9.2->finrl==0.3.0) (1.24.3)\n",
            "Requirement already satisfied: certifi>=2017.4.17 in /usr/local/lib/python3.7/dist-packages (from requests>=2.19.0->pandas-datareader>=0.2->empyrical>=0.5.0->pyfolio@ git+https://github.com/quantopian/pyfolio.git#egg=pyfolio-0.9.2->finrl==0.3.0) (2021.5.30)\n",
            "Requirement already satisfied: chardet<4,>=3.0.2 in /usr/local/lib/python3.7/dist-packages (from requests>=2.19.0->pandas-datareader>=0.2->empyrical>=0.5.0->pyfolio@ git+https://github.com/quantopian/pyfolio.git#egg=pyfolio-0.9.2->finrl==0.3.0) (3.0.4)\n",
            "Requirement already satisfied: idna<3,>=2.5 in /usr/local/lib/python3.7/dist-packages (from requests>=2.19.0->pandas-datareader>=0.2->empyrical>=0.5.0->pyfolio@ git+https://github.com/quantopian/pyfolio.git#egg=pyfolio-0.9.2->finrl==0.3.0) (2.10)\n",
            "Requirement already satisfied: joblib>=0.11 in /usr/local/lib/python3.7/dist-packages (from scikit-learn>=0.21.0->finrl==0.3.0) (1.0.1)\n",
            "Requirement already satisfied: ipython-genutils in /usr/local/lib/python3.7/dist-packages (from traitlets>=4.2->ipython>=3.2.3->pyfolio@ git+https://github.com/quantopian/pyfolio.git#egg=pyfolio-0.9.2->finrl==0.3.0) (0.2.0)\n",
            "Requirement already satisfied: ptyprocess>=0.5 in /usr/local/lib/python3.7/dist-packages (from pexpect->ipython>=3.2.3->pyfolio@ git+https://github.com/quantopian/pyfolio.git#egg=pyfolio-0.9.2->finrl==0.3.0) (0.7.0)\n",
            "Requirement already satisfied: pluggy<0.8,>=0.5 in /usr/local/lib/python3.7/dist-packages (from pytest->finrl==0.3.0) (0.7.1)\n",
            "Requirement already satisfied: atomicwrites>=1.0 in /usr/local/lib/python3.7/dist-packages (from pytest->finrl==0.3.0) (1.4.0)\n",
            "Requirement already satisfied: py>=1.5.0 in /usr/local/lib/python3.7/dist-packages (from pytest->finrl==0.3.0) (1.10.0)\n",
            "Requirement already satisfied: attrs>=17.4.0 in /usr/local/lib/python3.7/dist-packages (from pytest->finrl==0.3.0) (21.2.0)\n",
            "Requirement already satisfied: more-itertools>=4.0.0 in /usr/local/lib/python3.7/dist-packages (from pytest->finrl==0.3.0) (8.8.0)\n",
            "Requirement already satisfied: torch>=1.4.0 in /usr/local/lib/python3.7/dist-packages (from stable-baselines3[extra]->finrl==0.3.0) (1.9.0+cu102)\n",
            "Requirement already satisfied: opencv-python in /usr/local/lib/python3.7/dist-packages (from stable-baselines3[extra]->finrl==0.3.0) (4.1.2.30)\n",
            "Requirement already satisfied: tensorboard>=2.2.0 in /usr/local/lib/python3.7/dist-packages (from stable-baselines3[extra]->finrl==0.3.0) (2.5.0)\n",
            "Requirement already satisfied: pillow in /usr/local/lib/python3.7/dist-packages (from stable-baselines3[extra]->finrl==0.3.0) (7.1.2)\n",
            "Requirement already satisfied: atari-py~=0.2.0 in /usr/local/lib/python3.7/dist-packages (from stable-baselines3[extra]->finrl==0.3.0) (0.2.9)\n",
            "Requirement already satisfied: psutil in /usr/local/lib/python3.7/dist-packages (from stable-baselines3[extra]->finrl==0.3.0) (5.4.8)\n",
            "Requirement already satisfied: tensorboard-data-server<0.7.0,>=0.6.0 in /usr/local/lib/python3.7/dist-packages (from tensorboard>=2.2.0->stable-baselines3[extra]->finrl==0.3.0) (0.6.1)\n",
            "Requirement already satisfied: google-auth<2,>=1.6.3 in /usr/local/lib/python3.7/dist-packages (from tensorboard>=2.2.0->stable-baselines3[extra]->finrl==0.3.0) (1.32.1)\n",
            "Requirement already satisfied: werkzeug>=0.11.15 in /usr/local/lib/python3.7/dist-packages (from tensorboard>=2.2.0->stable-baselines3[extra]->finrl==0.3.0) (1.0.1)\n",
            "Requirement already satisfied: markdown>=2.6.8 in /usr/local/lib/python3.7/dist-packages (from tensorboard>=2.2.0->stable-baselines3[extra]->finrl==0.3.0) (3.3.4)\n",
            "Requirement already satisfied: absl-py>=0.4 in /usr/local/lib/python3.7/dist-packages (from tensorboard>=2.2.0->stable-baselines3[extra]->finrl==0.3.0) (0.12.0)\n",
            "Requirement already satisfied: grpcio>=1.24.3 in /usr/local/lib/python3.7/dist-packages (from tensorboard>=2.2.0->stable-baselines3[extra]->finrl==0.3.0) (1.34.1)\n",
            "Requirement already satisfied: protobuf>=3.6.0 in /usr/local/lib/python3.7/dist-packages (from tensorboard>=2.2.0->stable-baselines3[extra]->finrl==0.3.0) (3.17.3)\n",
            "Requirement already satisfied: tensorboard-plugin-wit>=1.6.0 in /usr/local/lib/python3.7/dist-packages (from tensorboard>=2.2.0->stable-baselines3[extra]->finrl==0.3.0) (1.8.0)\n",
            "Requirement already satisfied: google-auth-oauthlib<0.5,>=0.4.1 in /usr/local/lib/python3.7/dist-packages (from tensorboard>=2.2.0->stable-baselines3[extra]->finrl==0.3.0) (0.4.4)\n",
            "Requirement already satisfied: cachetools<5.0,>=2.0.0 in /usr/local/lib/python3.7/dist-packages (from google-auth<2,>=1.6.3->tensorboard>=2.2.0->stable-baselines3[extra]->finrl==0.3.0) (4.2.2)\n",
            "Requirement already satisfied: rsa<5,>=3.1.4 in /usr/local/lib/python3.7/dist-packages (from google-auth<2,>=1.6.3->tensorboard>=2.2.0->stable-baselines3[extra]->finrl==0.3.0) (4.7.2)\n",
            "Requirement already satisfied: pyasn1-modules>=0.2.1 in /usr/local/lib/python3.7/dist-packages (from google-auth<2,>=1.6.3->tensorboard>=2.2.0->stable-baselines3[extra]->finrl==0.3.0) (0.2.8)\n",
            "Requirement already satisfied: requests-oauthlib>=0.7.0 in /usr/local/lib/python3.7/dist-packages (from google-auth-oauthlib<0.5,>=0.4.1->tensorboard>=2.2.0->stable-baselines3[extra]->finrl==0.3.0) (1.3.0)\n",
            "Requirement already satisfied: importlib-metadata in /usr/local/lib/python3.7/dist-packages (from markdown>=2.6.8->tensorboard>=2.2.0->stable-baselines3[extra]->finrl==0.3.0) (4.6.1)\n",
            "Requirement already satisfied: pyasn1<0.5.0,>=0.4.6 in /usr/local/lib/python3.7/dist-packages (from pyasn1-modules>=0.2.1->google-auth<2,>=1.6.3->tensorboard>=2.2.0->stable-baselines3[extra]->finrl==0.3.0) (0.4.8)\n",
            "Requirement already satisfied: oauthlib>=3.0.0 in /usr/local/lib/python3.7/dist-packages (from requests-oauthlib>=0.7.0->google-auth-oauthlib<0.5,>=0.4.1->tensorboard>=2.2.0->stable-baselines3[extra]->finrl==0.3.0) (3.1.1)\n",
            "Requirement already satisfied: typing-extensions in /usr/local/lib/python3.7/dist-packages (from torch>=1.4.0->stable-baselines3[extra]->finrl==0.3.0) (3.7.4.3)\n",
            "Requirement already satisfied: zipp>=0.5 in /usr/local/lib/python3.7/dist-packages (from importlib-metadata->markdown>=2.6.8->tensorboard>=2.2.0->stable-baselines3[extra]->finrl==0.3.0) (3.5.0)\n",
            "Collecting int-date>=0.1.7\n",
            "  Downloading int_date-0.1.8-py2.py3-none-any.whl (5.0 kB)\n",
            "Requirement already satisfied: multitasking>=0.0.7 in /usr/local/lib/python3.7/dist-packages (from yfinance->finrl==0.3.0) (0.0.9)\n",
            "Collecting lxml\n",
            "  Downloading lxml-4.6.3-cp37-cp37m-manylinux2014_x86_64.whl (6.3 MB)\n",
            "\u001b[K     |████████████████████████████████| 6.3 MB 41.9 MB/s \n",
            "\u001b[?25hBuilding wheels for collected packages: finrl, pyfolio, empyrical, yfinance\n",
            "  Building wheel for finrl (setup.py) ... \u001b[?25l\u001b[?25hdone\n",
            "  Created wheel for finrl: filename=finrl-0.3.0-py3-none-any.whl size=62457 sha256=14ae2e27c7110274f2ee0991f22535628688b3119d7f9a77ae7ac84ab8bd7294\n",
            "  Stored in directory: /tmp/pip-ephem-wheel-cache-gjw0j4yi/wheels/17/ff/bd/1bc602a0352762b0b24041b88536d803ae343ed0a711fcf55e\n",
            "  Building wheel for pyfolio (setup.py) ... \u001b[?25l\u001b[?25hdone\n",
            "  Created wheel for pyfolio: filename=pyfolio-0.9.2+75.g4b901f6-py3-none-any.whl size=75773 sha256=367587c1810fa95e03423a163aa389a87ae48df9c9fcd254c432c70f6fdbabbe\n",
            "  Stored in directory: /tmp/pip-ephem-wheel-cache-gjw0j4yi/wheels/ef/09/e5/2c1bf37c050d22557c080deb1be986d06424627c04aeca19b9\n",
            "  Building wheel for empyrical (setup.py) ... \u001b[?25l\u001b[?25hdone\n",
            "  Created wheel for empyrical: filename=empyrical-0.5.5-py3-none-any.whl size=39779 sha256=f4f5766480e28b9de18d8a4d03de4e1dcd9f0834fc4f7fcbd77f2c6354a1d0a0\n",
            "  Stored in directory: /root/.cache/pip/wheels/d9/91/4b/654fcff57477efcf149eaca236da2fce991526cbab431bf312\n",
            "  Building wheel for yfinance (setup.py) ... \u001b[?25l\u001b[?25hdone\n",
            "  Created wheel for yfinance: filename=yfinance-0.1.63-py2.py3-none-any.whl size=23919 sha256=26b01e2f4b9ac63dcdf8728da4e9226c41cc3720208feb4d49ec901c625db506\n",
            "  Stored in directory: /root/.cache/pip/wheels/fe/87/8b/7ec24486e001d3926537f5f7801f57a74d181be25b11157983\n",
            "Successfully built finrl pyfolio empyrical yfinance\n",
            "Installing collected packages: lxml, stable-baselines3, int-date, empyrical, yfinance, stockstats, pyfolio, finrl\n",
            "  Attempting uninstall: lxml\n",
            "    Found existing installation: lxml 4.2.6\n",
            "    Uninstalling lxml-4.2.6:\n",
            "      Successfully uninstalled lxml-4.2.6\n",
            "Successfully installed empyrical-0.5.5 finrl-0.3.0 int-date-0.1.8 lxml-4.6.3 pyfolio-0.9.2+75.g4b901f6 stable-baselines3-1.1.0 stockstats-0.3.2 yfinance-0.1.63\n"
          ],
          "name": "stdout"
        }
      ]
    },
    {
      "cell_type": "markdown",
      "metadata": {
        "id": "gXaoZs2lh1hi"
      },
      "source": [
        "# Deep Reinforcement Learning for Stock Trading from Scratch: Multiple Stock Trading\n",
        "\n",
        "Tutorials to use OpenAI DRL to trade multiple stocks in one Jupyter Notebook | Presented at NeurIPS 2020: Deep RL Workshop\n",
        "\n",
        "* This blog is based on our paper: FinRL: A Deep Reinforcement Learning Library for Automated Stock Trading in Quantitative Finance, presented at NeurIPS 2020: Deep RL Workshop.\n",
        "* Check out medium blog for detailed explanations: https://towardsdatascience.com/finrl-for-quantitative-finance-tutorial-for-multiple-stock-trading-7b00763b7530\n",
        "* Please report any issues to our Github: https://github.com/AI4Finance-LLC/FinRL-Library/issues\n",
        "* **Pytorch Version** \n",
        "\n"
      ]
    },
    {
      "cell_type": "markdown",
      "metadata": {
        "id": "lGunVt8oLCVS"
      },
      "source": [
        "# Content"
      ]
    },
    {
      "cell_type": "markdown",
      "metadata": {
        "id": "HOzAKQ-SLGX6"
      },
      "source": [
        "* [1. Problem Definition](#0)\n",
        "* [2. Getting Started - Load Python packages](#1)\n",
        "    * [2.1. Install Packages](#1.1)    \n",
        "    * [2.2. Check Additional Packages](#1.2)\n",
        "    * [2.3. Import Packages](#1.3)\n",
        "    * [2.4. Create Folders](#1.4)\n",
        "* [3. Download Data](#2)\n",
        "* [4. Preprocess Data](#3)        \n",
        "    * [4.1. Technical Indicators](#3.1)\n",
        "    * [4.2. Perform Feature Engineering](#3.2)\n",
        "* [5.Build Environment](#4)  \n",
        "    * [5.1. Training & Trade Data Split](#4.1)\n",
        "    * [5.2. User-defined Environment](#4.2)   \n",
        "    * [5.3. Initialize Environment](#4.3)    \n",
        "* [6.Implement DRL Algorithms](#5)  \n",
        "* [7.Backtesting Performance](#6)  \n",
        "    * [7.1. BackTestStats](#6.1)\n",
        "    * [7.2. BackTestPlot](#6.2)   \n",
        "    * [7.3. Baseline Stats](#6.3)   \n",
        "    * [7.3. Compare to Stock Market Index](#6.4)             "
      ]
    },
    {
      "cell_type": "markdown",
      "metadata": {
        "id": "sApkDlD9LIZv"
      },
      "source": [
        "<a id='0'></a>\n",
        "# Part 1. Problem Definition"
      ]
    },
    {
      "cell_type": "markdown",
      "metadata": {
        "id": "HjLD2TZSLKZ-"
      },
      "source": [
        "This problem is to design an automated trading solution for single stock trading. We model the stock trading process as a Markov Decision Process (MDP). We then formulate our trading goal as a maximization problem.\n",
        "\n",
        "The algorithm is trained using Deep Reinforcement Learning (DRL) algorithms and the components of the reinforcement learning environment are:\n",
        "\n",
        "\n",
        "* Action: The action space describes the allowed actions that the agent interacts with the\n",
        "environment. Normally, a ∈ A includes three actions: a ∈ {−1, 0, 1}, where −1, 0, 1 represent\n",
        "selling, holding, and buying one stock. Also, an action can be carried upon multiple shares. We use\n",
        "an action space {−k, ..., −1, 0, 1, ..., k}, where k denotes the number of shares. For example, \"Buy\n",
        "10 shares of AAPL\" or \"Sell 10 shares of AAPL\" are 10 or −10, respectively\n",
        "\n",
        "* Reward function: r(s, a, s′) is the incentive mechanism for an agent to learn a better action. The change of the portfolio value when action a is taken at state s and arriving at new state s',  i.e., r(s, a, s′) = v′ − v, where v′ and v represent the portfolio\n",
        "values at state s′ and s, respectively\n",
        "\n",
        "* State: The state space describes the observations that the agent receives from the environment. Just as a human trader needs to analyze various information before executing a trade, so\n",
        "our trading agent observes many different features to better learn in an interactive environment.\n",
        "\n",
        "* Environment: Dow 30 consituents\n",
        "\n",
        "\n",
        "The data of the single stock that we will be using for this case study is obtained from Yahoo Finance API. The data contains Open-High-Low-Close price and volume.\n"
      ]
    },
    {
      "cell_type": "markdown",
      "metadata": {
        "id": "Ffsre789LY08"
      },
      "source": [
        "<a id='1'></a>\n",
        "# Part 2. Getting Started- ASSUMES USING DOCKER, see readme for instructions"
      ]
    },
    {
      "cell_type": "markdown",
      "metadata": {
        "id": "Uy5_PTmOh1hj"
      },
      "source": [
        "<a id='1.1'></a>\n",
        "## 2.1. Add FinRL to your path. You can of course install it as a pipy package, but this is for development purposes.\n"
      ]
    },
    {
      "cell_type": "code",
      "metadata": {
        "id": "mPT0ipYE28wL"
      },
      "source": [
        "import sys\n",
        "\n",
        "sys.path.append(\"..\")"
      ],
      "execution_count": null,
      "outputs": []
    },
    {
      "cell_type": "code",
      "metadata": {
        "id": "6jkbrjod-wpw",
        "colab": {
          "base_uri": "https://localhost:8080/"
        },
        "outputId": "af1a2670-ba5d-419e-ccf0-b05a0671273e"
      },
      "source": [
        "import pandas as pd\n",
        "print(pd.__version__)"
      ],
      "execution_count": null,
      "outputs": [
        {
          "output_type": "stream",
          "text": [
            "1.1.5\n"
          ],
          "name": "stdout"
        }
      ]
    },
    {
      "cell_type": "markdown",
      "metadata": {
        "id": "osBHhVysOEzi"
      },
      "source": [
        "\n",
        "<a id='1.2'></a>\n",
        "## 2.2. Check if the additional packages needed are present, if not install them. \n",
        "* Yahoo Finance API\n",
        "* pandas\n",
        "* numpy\n",
        "* matplotlib\n",
        "* stockstats\n",
        "* OpenAI gym\n",
        "* stable-baselines\n",
        "* tensorflow\n",
        "* pyfolio"
      ]
    },
    {
      "cell_type": "markdown",
      "metadata": {
        "id": "nGv01K8Sh1hn"
      },
      "source": [
        "<a id='1.3'></a>\n",
        "## 2.3. Import Packages"
      ]
    },
    {
      "cell_type": "code",
      "metadata": {
        "colab": {
          "base_uri": "https://localhost:8080/"
        },
        "id": "lPqeTTwoh1hn",
        "outputId": "083f1255-a270-41d1-ed52-1b3cdf9a61db"
      },
      "source": [
        "import pandas as pd\n",
        "import numpy as np\n",
        "import matplotlib\n",
        "import matplotlib.pyplot as plt\n",
        "# matplotlib.use('Agg')\n",
        "import datetime\n",
        "\n",
        "%matplotlib inline\n",
        "from finrl.apps import config\n",
        "from finrl.neo_finrl.preprocessor.yahoodownloader import YahooDownloader\n",
        "from finrl.neo_finrl.preprocessor.preprocessors import FeatureEngineer, data_split\n",
        "from finrl.neo_finrl.env_stock_trading.env_stocktrading import StockTradingEnv\n",
        "from finrl.drl_agents.stablebaselines3.models import DRLAgent\n",
        "from finrl.plot import backtest_stats, backtest_plot, get_daily_return, get_baseline\n",
        "\n",
        "from pprint import pprint\n",
        "\n",
        "import sys\n",
        "sys.path.append(\"../FinRL-Library\")\n",
        "\n",
        "import itertools"
      ],
      "execution_count": 2,
      "outputs": [
        {
          "output_type": "stream",
          "text": [
            "/usr/local/lib/python3.7/dist-packages/pyfolio/pos.py:27: UserWarning: Module \"zipline.assets\" not found; multipliers will not be applied to position notionals.\n",
            "  'Module \"zipline.assets\" not found; multipliers will not be applied'\n"
          ],
          "name": "stderr"
        }
      ]
    },
    {
      "cell_type": "markdown",
      "metadata": {
        "id": "T2owTj985RW4"
      },
      "source": [
        "<a id='1.4'></a>\n",
        "## 2.4. Create Folders"
      ]
    },
    {
      "cell_type": "code",
      "metadata": {
        "id": "w9A8CN5R5PuZ"
      },
      "source": [
        "import os\n",
        "if not os.path.exists(\"./\" + config.DATA_SAVE_DIR):\n",
        "    os.makedirs(\"./\" + config.DATA_SAVE_DIR)\n",
        "if not os.path.exists(\"./\" + config.TRAINED_MODEL_DIR):\n",
        "    os.makedirs(\"./\" + config.TRAINED_MODEL_DIR)\n",
        "if not os.path.exists(\"./\" + config.TENSORBOARD_LOG_DIR):\n",
        "    os.makedirs(\"./\" + config.TENSORBOARD_LOG_DIR)\n",
        "if not os.path.exists(\"./\" + config.RESULTS_DIR):\n",
        "    os.makedirs(\"./\" + config.RESULTS_DIR)"
      ],
      "execution_count": null,
      "outputs": []
    },
    {
      "cell_type": "markdown",
      "metadata": {
        "id": "A289rQWMh1hq"
      },
      "source": [
        "<a id='2'></a>\n",
        "# Part 3. Download Data\n",
        "Yahoo Finance is a website that provides stock data, financial news, financial reports, etc. All the data provided by Yahoo Finance is free.\n",
        "* FinRL uses a class **YahooDownloader** to fetch data from Yahoo Finance API\n",
        "* Call Limit: Using the Public API (without authentication), you are limited to 2,000 requests per hour per IP (or up to a total of 48,000 requests a day).\n"
      ]
    },
    {
      "cell_type": "markdown",
      "metadata": {
        "id": "NPeQ7iS-LoMm"
      },
      "source": [
        "\n",
        "\n",
        "-----\n",
        "class YahooDownloader:\n",
        "    Provides methods for retrieving daily stock data from\n",
        "    Yahoo Finance API\n",
        "\n",
        "    Attributes\n",
        "    ----------\n",
        "        start_date : str\n",
        "            start date of the data (modified from config.py)\n",
        "        end_date : str\n",
        "            end date of the data (modified from config.py)\n",
        "        ticker_list : list\n",
        "            a list of stock tickers (modified from config.py)\n",
        "\n",
        "    Methods\n",
        "    -------\n",
        "    fetch_data()\n",
        "        Fetches data from yahoo API\n"
      ]
    },
    {
      "cell_type": "code",
      "metadata": {
        "colab": {
          "base_uri": "https://localhost:8080/",
          "height": 36
        },
        "id": "h3XJnvrbLp-C",
        "outputId": "9d7b1759-b478-4eec-b02d-962dee128eff"
      },
      "source": [
        "# from config.py start_date is a string\n",
        "config.START_DATE"
      ],
      "execution_count": 3,
      "outputs": [
        {
          "output_type": "execute_result",
          "data": {
            "application/vnd.google.colaboratory.intrinsic+json": {
              "type": "string"
            },
            "text/plain": [
              "'2009-01-01'"
            ]
          },
          "metadata": {
            "tags": []
          },
          "execution_count": 3
        }
      ]
    },
    {
      "cell_type": "code",
      "metadata": {
        "colab": {
          "base_uri": "https://localhost:8080/",
          "height": 36
        },
        "id": "FUnY8WEfLq3C",
        "outputId": "637563cd-5c03-46b3-b6aa-d3c7b84ff119"
      },
      "source": [
        "# from config.py end_date is a string\n",
        "config.END_DATE"
      ],
      "execution_count": 4,
      "outputs": [
        {
          "output_type": "execute_result",
          "data": {
            "application/vnd.google.colaboratory.intrinsic+json": {
              "type": "string"
            },
            "text/plain": [
              "'2021-01-01'"
            ]
          },
          "metadata": {
            "tags": []
          },
          "execution_count": 4
        }
      ]
    },
    {
      "cell_type": "code",
      "metadata": {
        "colab": {
          "base_uri": "https://localhost:8080/"
        },
        "id": "JzqRRTOX6aFu",
        "outputId": "cb46d4a6-2878-4ea9-81bb-11420c59b2c3"
      },
      "source": [
        "print(config.DOW_30_TICKER)\n",
        "\n"
      ],
      "execution_count": null,
      "outputs": [
        {
          "output_type": "stream",
          "text": [
            "['AAPL', 'MSFT', 'JPM', 'V', 'RTX', 'PG', 'GS', 'NKE', 'DIS', 'AXP', 'HD', 'INTC', 'WMT', 'IBM', 'MRK', 'UNH', 'KO', 'CAT', 'TRV', 'JNJ', 'CVX', 'MCD', 'VZ', 'CSCO', 'XOM', 'BA', 'MMM', 'PFE', 'WBA', 'DD']\n"
          ],
          "name": "stdout"
        }
      ]
    },
    {
      "cell_type": "code",
      "metadata": {
        "colab": {
          "base_uri": "https://localhost:8080/"
        },
        "id": "yCKm4om-s9kE",
        "outputId": "3d1de9e7-9784-40c4-9bfd-b6be8cf96049"
      },
      "source": [
        "tickers = ['CSCO']\n",
        "\n",
        "df = YahooDownloader(start_date = '2009-01-01',\n",
        "                     end_date = '2021-01-01',\n",
        "                     ticker_list = tickers).fetch_data()"
      ],
      "execution_count": 22,
      "outputs": [
        {
          "output_type": "stream",
          "text": [
            "\r[*********************100%***********************]  1 of 1 completed\n",
            "Shape of DataFrame:  (3021, 8)\n"
          ],
          "name": "stdout"
        }
      ]
    },
    {
      "cell_type": "markdown",
      "metadata": {
        "id": "uqC6c40Zh1iH"
      },
      "source": [
        "# Part 4: Preprocess Data\n",
        "Data preprocessing is a crucial step for training a high quality machine learning model. We need to check for missing data and do feature engineering in order to convert the data into a model-ready state.\n",
        "* Add technical indicators. In practical trading, various information needs to be taken into account, for example the historical stock prices, current holding shares, technical indicators, etc. In this article, we demonstrate two trend-following technical indicators: MACD and RSI.\n",
        "* Add turbulence index. Risk-aversion reflects whether an investor will choose to preserve the capital. It also influences one's trading strategy when facing different market volatility level. To control the risk in a worst-case scenario, such as financial crisis of 2007–2008, FinRL employs the financial turbulence index that measures extreme asset price fluctuation."
      ]
    },
    {
      "cell_type": "code",
      "metadata": {
        "jupyter": {
          "outputs_hidden": false
        },
        "pycharm": {
          "name": "#%%\n"
        },
        "id": "_kmPMUBs-wpz",
        "colab": {
          "base_uri": "https://localhost:8080/"
        },
        "outputId": "d21fc711-8f2e-4369-ad9f-d91c041a2efd"
      },
      "source": [
        "fe = FeatureEngineer(\n",
        "                    use_technical_indicator=True,\n",
        "                    tech_indicator_list = [\"macd\", \"macds\", \"macdh\", \"close_14_ema\", \"rsi_30\", \"cci_30\", \"dx_30\"],\n",
        "                    use_turbulence=True,\n",
        "                    user_defined_feature = False)\n",
        "\n",
        "processed = fe.preprocess_data(df)"
      ],
      "execution_count": 23,
      "outputs": [
        {
          "output_type": "stream",
          "text": [
            "Successfully added technical indicators\n",
            "Successfully added turbulence index\n"
          ],
          "name": "stdout"
        }
      ]
    },
    {
      "cell_type": "code",
      "metadata": {
        "id": "skqM5mnOBg_5",
        "outputId": "01e4c73f-4fbb-479b-c709-40d1ec261b53",
        "colab": {
          "base_uri": "https://localhost:8080/",
          "height": 667
        }
      },
      "source": [
        "processed.head(20)"
      ],
      "execution_count": 24,
      "outputs": [
        {
          "output_type": "execute_result",
          "data": {
            "text/html": [
              "<div>\n",
              "<style scoped>\n",
              "    .dataframe tbody tr th:only-of-type {\n",
              "        vertical-align: middle;\n",
              "    }\n",
              "\n",
              "    .dataframe tbody tr th {\n",
              "        vertical-align: top;\n",
              "    }\n",
              "\n",
              "    .dataframe thead th {\n",
              "        text-align: right;\n",
              "    }\n",
              "</style>\n",
              "<table border=\"1\" class=\"dataframe\">\n",
              "  <thead>\n",
              "    <tr style=\"text-align: right;\">\n",
              "      <th></th>\n",
              "      <th>date</th>\n",
              "      <th>open</th>\n",
              "      <th>high</th>\n",
              "      <th>low</th>\n",
              "      <th>close</th>\n",
              "      <th>volume</th>\n",
              "      <th>tic</th>\n",
              "      <th>day</th>\n",
              "      <th>macd</th>\n",
              "      <th>macds</th>\n",
              "      <th>macdh</th>\n",
              "      <th>close_14_ema</th>\n",
              "      <th>rsi_30</th>\n",
              "      <th>cci_30</th>\n",
              "      <th>dx_30</th>\n",
              "      <th>turbulence</th>\n",
              "    </tr>\n",
              "  </thead>\n",
              "  <tbody>\n",
              "    <tr>\n",
              "      <th>0</th>\n",
              "      <td>2009-01-02</td>\n",
              "      <td>16.410000</td>\n",
              "      <td>17.000000</td>\n",
              "      <td>16.250000</td>\n",
              "      <td>12.505757</td>\n",
              "      <td>40980600</td>\n",
              "      <td>CSCO</td>\n",
              "      <td>4</td>\n",
              "      <td>0.000000</td>\n",
              "      <td>0.000000</td>\n",
              "      <td>0.000000</td>\n",
              "      <td>12.505757</td>\n",
              "      <td>100.000000</td>\n",
              "      <td>66.666667</td>\n",
              "      <td>100.000000</td>\n",
              "      <td>0.0</td>\n",
              "    </tr>\n",
              "    <tr>\n",
              "      <th>1</th>\n",
              "      <td>2009-01-05</td>\n",
              "      <td>16.850000</td>\n",
              "      <td>17.299999</td>\n",
              "      <td>16.750000</td>\n",
              "      <td>12.616367</td>\n",
              "      <td>45480200</td>\n",
              "      <td>CSCO</td>\n",
              "      <td>0</td>\n",
              "      <td>0.002482</td>\n",
              "      <td>0.001379</td>\n",
              "      <td>0.001103</td>\n",
              "      <td>12.565013</td>\n",
              "      <td>100.000000</td>\n",
              "      <td>66.666667</td>\n",
              "      <td>100.000000</td>\n",
              "      <td>0.0</td>\n",
              "    </tr>\n",
              "    <tr>\n",
              "      <th>2</th>\n",
              "      <td>2009-01-06</td>\n",
              "      <td>17.330000</td>\n",
              "      <td>17.980000</td>\n",
              "      <td>17.260000</td>\n",
              "      <td>13.117774</td>\n",
              "      <td>58256600</td>\n",
              "      <td>CSCO</td>\n",
              "      <td>1</td>\n",
              "      <td>0.018711</td>\n",
              "      <td>0.008482</td>\n",
              "      <td>0.010229</td>\n",
              "      <td>12.776169</td>\n",
              "      <td>100.000000</td>\n",
              "      <td>100.000000</td>\n",
              "      <td>100.000000</td>\n",
              "      <td>0.0</td>\n",
              "    </tr>\n",
              "    <tr>\n",
              "      <th>3</th>\n",
              "      <td>2009-01-07</td>\n",
              "      <td>17.370001</td>\n",
              "      <td>17.580000</td>\n",
              "      <td>17.110001</td>\n",
              "      <td>12.771208</td>\n",
              "      <td>50246600</td>\n",
              "      <td>CSCO</td>\n",
              "      <td>2</td>\n",
              "      <td>0.013121</td>\n",
              "      <td>0.010053</td>\n",
              "      <td>0.003067</td>\n",
              "      <td>12.774652</td>\n",
              "      <td>62.918955</td>\n",
              "      <td>31.474718</td>\n",
              "      <td>71.392334</td>\n",
              "      <td>0.0</td>\n",
              "    </tr>\n",
              "    <tr>\n",
              "      <th>4</th>\n",
              "      <td>2009-01-08</td>\n",
              "      <td>17.230000</td>\n",
              "      <td>17.570000</td>\n",
              "      <td>17.000000</td>\n",
              "      <td>12.933430</td>\n",
              "      <td>46484600</td>\n",
              "      <td>CSCO</td>\n",
              "      <td>3</td>\n",
              "      <td>0.016262</td>\n",
              "      <td>0.011900</td>\n",
              "      <td>0.004362</td>\n",
              "      <td>12.816076</td>\n",
              "      <td>68.563542</td>\n",
              "      <td>31.501498</td>\n",
              "      <td>54.111807</td>\n",
              "      <td>0.0</td>\n",
              "    </tr>\n",
              "    <tr>\n",
              "      <th>5</th>\n",
              "      <td>2009-01-09</td>\n",
              "      <td>17.240000</td>\n",
              "      <td>17.260000</td>\n",
              "      <td>16.610001</td>\n",
              "      <td>12.314041</td>\n",
              "      <td>68118900</td>\n",
              "      <td>CSCO</td>\n",
              "      <td>4</td>\n",
              "      <td>-0.008640</td>\n",
              "      <td>0.006333</td>\n",
              "      <td>-0.014973</td>\n",
              "      <td>12.699914</td>\n",
              "      <td>42.818687</td>\n",
              "      <td>-68.194434</td>\n",
              "      <td>11.504044</td>\n",
              "      <td>0.0</td>\n",
              "    </tr>\n",
              "    <tr>\n",
              "      <th>6</th>\n",
              "      <td>2009-01-12</td>\n",
              "      <td>16.680000</td>\n",
              "      <td>16.780001</td>\n",
              "      <td>16.030001</td>\n",
              "      <td>12.092828</td>\n",
              "      <td>54927700</td>\n",
              "      <td>CSCO</td>\n",
              "      <td>0</td>\n",
              "      <td>-0.034483</td>\n",
              "      <td>-0.003997</td>\n",
              "      <td>-0.030486</td>\n",
              "      <td>12.571988</td>\n",
              "      <td>37.602160</td>\n",
              "      <td>-128.252751</td>\n",
              "      <td>22.540919</td>\n",
              "      <td>0.0</td>\n",
              "    </tr>\n",
              "    <tr>\n",
              "      <th>7</th>\n",
              "      <td>2009-01-13</td>\n",
              "      <td>16.290001</td>\n",
              "      <td>16.540001</td>\n",
              "      <td>16.110001</td>\n",
              "      <td>12.129698</td>\n",
              "      <td>51933800</td>\n",
              "      <td>CSCO</td>\n",
              "      <td>1</td>\n",
              "      <td>-0.049504</td>\n",
              "      <td>-0.014933</td>\n",
              "      <td>-0.034571</td>\n",
              "      <td>12.485483</td>\n",
              "      <td>38.885893</td>\n",
              "      <td>-106.564599</td>\n",
              "      <td>22.540919</td>\n",
              "      <td>0.0</td>\n",
              "    </tr>\n",
              "    <tr>\n",
              "      <th>8</th>\n",
              "      <td>2009-01-14</td>\n",
              "      <td>16.100000</td>\n",
              "      <td>16.219999</td>\n",
              "      <td>15.600000</td>\n",
              "      <td>11.606168</td>\n",
              "      <td>50111800</td>\n",
              "      <td>CSCO</td>\n",
              "      <td>2</td>\n",
              "      <td>-0.085126</td>\n",
              "      <td>-0.031148</td>\n",
              "      <td>-0.053978</td>\n",
              "      <td>12.323581</td>\n",
              "      <td>29.861654</td>\n",
              "      <td>-144.146753</td>\n",
              "      <td>40.725394</td>\n",
              "      <td>0.0</td>\n",
              "    </tr>\n",
              "    <tr>\n",
              "      <th>9</th>\n",
              "      <td>2009-01-15</td>\n",
              "      <td>15.620000</td>\n",
              "      <td>15.950000</td>\n",
              "      <td>15.190000</td>\n",
              "      <td>11.657785</td>\n",
              "      <td>61814500</td>\n",
              "      <td>CSCO</td>\n",
              "      <td>3</td>\n",
              "      <td>-0.106498</td>\n",
              "      <td>-0.048031</td>\n",
              "      <td>-0.058468</td>\n",
              "      <td>12.206917</td>\n",
              "      <td>31.483441</td>\n",
              "      <td>-137.174421</td>\n",
              "      <td>50.676290</td>\n",
              "      <td>0.0</td>\n",
              "    </tr>\n",
              "    <tr>\n",
              "      <th>10</th>\n",
              "      <td>2009-01-16</td>\n",
              "      <td>16.219999</td>\n",
              "      <td>16.330000</td>\n",
              "      <td>15.500000</td>\n",
              "      <td>11.665158</td>\n",
              "      <td>66930700</td>\n",
              "      <td>CSCO</td>\n",
              "      <td>4</td>\n",
              "      <td>-0.120056</td>\n",
              "      <td>-0.063789</td>\n",
              "      <td>-0.056266</td>\n",
              "      <td>12.115805</td>\n",
              "      <td>31.716740</td>\n",
              "      <td>-89.996065</td>\n",
              "      <td>29.188995</td>\n",
              "      <td>0.0</td>\n",
              "    </tr>\n",
              "    <tr>\n",
              "      <th>11</th>\n",
              "      <td>2009-01-20</td>\n",
              "      <td>15.810000</td>\n",
              "      <td>15.930000</td>\n",
              "      <td>15.010000</td>\n",
              "      <td>11.067889</td>\n",
              "      <td>57808600</td>\n",
              "      <td>CSCO</td>\n",
              "      <td>1</td>\n",
              "      <td>-0.161171</td>\n",
              "      <td>-0.084703</td>\n",
              "      <td>-0.076468</td>\n",
              "      <td>11.945502</td>\n",
              "      <td>24.675598</td>\n",
              "      <td>-127.502432</td>\n",
              "      <td>40.821575</td>\n",
              "      <td>0.0</td>\n",
              "    </tr>\n",
              "    <tr>\n",
              "      <th>12</th>\n",
              "      <td>2009-01-21</td>\n",
              "      <td>15.320000</td>\n",
              "      <td>15.760000</td>\n",
              "      <td>15.050000</td>\n",
              "      <td>11.576675</td>\n",
              "      <td>56231900</td>\n",
              "      <td>CSCO</td>\n",
              "      <td>2</td>\n",
              "      <td>-0.160784</td>\n",
              "      <td>-0.100804</td>\n",
              "      <td>-0.059980</td>\n",
              "      <td>11.887262</td>\n",
              "      <td>37.000423</td>\n",
              "      <td>-99.757946</td>\n",
              "      <td>40.821575</td>\n",
              "      <td>0.0</td>\n",
              "    </tr>\n",
              "    <tr>\n",
              "      <th>13</th>\n",
              "      <td>2009-01-22</td>\n",
              "      <td>15.380000</td>\n",
              "      <td>15.590000</td>\n",
              "      <td>15.000000</td>\n",
              "      <td>11.333342</td>\n",
              "      <td>56676100</td>\n",
              "      <td>CSCO</td>\n",
              "      <td>3</td>\n",
              "      <td>-0.172510</td>\n",
              "      <td>-0.115805</td>\n",
              "      <td>-0.056704</td>\n",
              "      <td>11.801892</td>\n",
              "      <td>34.229432</td>\n",
              "      <td>-104.354732</td>\n",
              "      <td>41.933824</td>\n",
              "      <td>0.0</td>\n",
              "    </tr>\n",
              "    <tr>\n",
              "      <th>14</th>\n",
              "      <td>2009-01-23</td>\n",
              "      <td>15.040000</td>\n",
              "      <td>16.020000</td>\n",
              "      <td>15.000000</td>\n",
              "      <td>11.716773</td>\n",
              "      <td>56556900</td>\n",
              "      <td>CSCO</td>\n",
              "      <td>4</td>\n",
              "      <td>-0.156398</td>\n",
              "      <td>-0.124220</td>\n",
              "      <td>-0.032178</td>\n",
              "      <td>11.789040</td>\n",
              "      <td>41.385024</td>\n",
              "      <td>-69.481393</td>\n",
              "      <td>21.023169</td>\n",
              "      <td>0.0</td>\n",
              "    </tr>\n",
              "    <tr>\n",
              "      <th>15</th>\n",
              "      <td>2009-01-26</td>\n",
              "      <td>15.850000</td>\n",
              "      <td>16.500000</td>\n",
              "      <td>15.780000</td>\n",
              "      <td>12.019092</td>\n",
              "      <td>44634800</td>\n",
              "      <td>CSCO</td>\n",
              "      <td>0</td>\n",
              "      <td>-0.123871</td>\n",
              "      <td>-0.124148</td>\n",
              "      <td>0.000277</td>\n",
              "      <td>11.823171</td>\n",
              "      <td>46.162507</td>\n",
              "      <td>-13.779244</td>\n",
              "      <td>2.928412</td>\n",
              "      <td>0.0</td>\n",
              "    </tr>\n",
              "    <tr>\n",
              "      <th>16</th>\n",
              "      <td>2009-01-27</td>\n",
              "      <td>16.430000</td>\n",
              "      <td>17.000000</td>\n",
              "      <td>16.290001</td>\n",
              "      <td>12.336163</td>\n",
              "      <td>50346800</td>\n",
              "      <td>CSCO</td>\n",
              "      <td>1</td>\n",
              "      <td>-0.077905</td>\n",
              "      <td>-0.114686</td>\n",
              "      <td>0.036781</td>\n",
              "      <td>11.898154</td>\n",
              "      <td>50.536614</td>\n",
              "      <td>34.724845</td>\n",
              "      <td>11.761965</td>\n",
              "      <td>0.0</td>\n",
              "    </tr>\n",
              "    <tr>\n",
              "      <th>17</th>\n",
              "      <td>2009-01-28</td>\n",
              "      <td>17.059999</td>\n",
              "      <td>17.190001</td>\n",
              "      <td>16.690001</td>\n",
              "      <td>12.446769</td>\n",
              "      <td>60146800</td>\n",
              "      <td>CSCO</td>\n",
              "      <td>2</td>\n",
              "      <td>-0.034773</td>\n",
              "      <td>-0.098411</td>\n",
              "      <td>0.063637</td>\n",
              "      <td>11.977327</td>\n",
              "      <td>51.945528</td>\n",
              "      <td>58.720523</td>\n",
              "      <td>16.597298</td>\n",
              "      <td>0.0</td>\n",
              "    </tr>\n",
              "    <tr>\n",
              "      <th>18</th>\n",
              "      <td>2009-01-29</td>\n",
              "      <td>16.700001</td>\n",
              "      <td>16.700001</td>\n",
              "      <td>15.800000</td>\n",
              "      <td>11.746267</td>\n",
              "      <td>53220800</td>\n",
              "      <td>CSCO</td>\n",
              "      <td>3</td>\n",
              "      <td>-0.046139</td>\n",
              "      <td>-0.087803</td>\n",
              "      <td>0.041664</td>\n",
              "      <td>11.944344</td>\n",
              "      <td>43.776116</td>\n",
              "      <td>-21.617365</td>\n",
              "      <td>8.507423</td>\n",
              "      <td>0.0</td>\n",
              "    </tr>\n",
              "    <tr>\n",
              "      <th>19</th>\n",
              "      <td>2009-01-30</td>\n",
              "      <td>15.910000</td>\n",
              "      <td>16.090000</td>\n",
              "      <td>14.910000</td>\n",
              "      <td>11.038396</td>\n",
              "      <td>75292400</td>\n",
              "      <td>CSCO</td>\n",
              "      <td>4</td>\n",
              "      <td>-0.100485</td>\n",
              "      <td>-0.090369</td>\n",
              "      <td>-0.010116</td>\n",
              "      <td>11.816228</td>\n",
              "      <td>37.595313</td>\n",
              "      <td>-101.644775</td>\n",
              "      <td>25.625490</td>\n",
              "      <td>0.0</td>\n",
              "    </tr>\n",
              "  </tbody>\n",
              "</table>\n",
              "</div>"
            ],
            "text/plain": [
              "          date       open       high  ...      cci_30       dx_30  turbulence\n",
              "0   2009-01-02  16.410000  17.000000  ...   66.666667  100.000000         0.0\n",
              "1   2009-01-05  16.850000  17.299999  ...   66.666667  100.000000         0.0\n",
              "2   2009-01-06  17.330000  17.980000  ...  100.000000  100.000000         0.0\n",
              "3   2009-01-07  17.370001  17.580000  ...   31.474718   71.392334         0.0\n",
              "4   2009-01-08  17.230000  17.570000  ...   31.501498   54.111807         0.0\n",
              "5   2009-01-09  17.240000  17.260000  ...  -68.194434   11.504044         0.0\n",
              "6   2009-01-12  16.680000  16.780001  ... -128.252751   22.540919         0.0\n",
              "7   2009-01-13  16.290001  16.540001  ... -106.564599   22.540919         0.0\n",
              "8   2009-01-14  16.100000  16.219999  ... -144.146753   40.725394         0.0\n",
              "9   2009-01-15  15.620000  15.950000  ... -137.174421   50.676290         0.0\n",
              "10  2009-01-16  16.219999  16.330000  ...  -89.996065   29.188995         0.0\n",
              "11  2009-01-20  15.810000  15.930000  ... -127.502432   40.821575         0.0\n",
              "12  2009-01-21  15.320000  15.760000  ...  -99.757946   40.821575         0.0\n",
              "13  2009-01-22  15.380000  15.590000  ... -104.354732   41.933824         0.0\n",
              "14  2009-01-23  15.040000  16.020000  ...  -69.481393   21.023169         0.0\n",
              "15  2009-01-26  15.850000  16.500000  ...  -13.779244    2.928412         0.0\n",
              "16  2009-01-27  16.430000  17.000000  ...   34.724845   11.761965         0.0\n",
              "17  2009-01-28  17.059999  17.190001  ...   58.720523   16.597298         0.0\n",
              "18  2009-01-29  16.700001  16.700001  ...  -21.617365    8.507423         0.0\n",
              "19  2009-01-30  15.910000  16.090000  ... -101.644775   25.625490         0.0\n",
              "\n",
              "[20 rows x 16 columns]"
            ]
          },
          "metadata": {
            "tags": []
          },
          "execution_count": 24
        }
      ]
    },
    {
      "cell_type": "code",
      "metadata": {
        "id": "kFYzLgOz-wp0",
        "colab": {
          "base_uri": "https://localhost:8080/",
          "height": 308
        },
        "outputId": "005fb7c6-2e2a-41ee-a69f-0ef7d935240e"
      },
      "source": [
        "processed['log_volume'] = np.log(processed.volume*processed.close)\n",
        "processed['change'] = (processed.close-processed.open)/processed.close\n",
        "processed['daily_variance'] = (processed.high-processed.low)/processed.close\n",
        "processed.head()"
      ],
      "execution_count": null,
      "outputs": [
        {
          "output_type": "execute_result",
          "data": {
            "text/html": [
              "<div>\n",
              "<style scoped>\n",
              "    .dataframe tbody tr th:only-of-type {\n",
              "        vertical-align: middle;\n",
              "    }\n",
              "\n",
              "    .dataframe tbody tr th {\n",
              "        vertical-align: top;\n",
              "    }\n",
              "\n",
              "    .dataframe thead th {\n",
              "        text-align: right;\n",
              "    }\n",
              "</style>\n",
              "<table border=\"1\" class=\"dataframe\">\n",
              "  <thead>\n",
              "    <tr style=\"text-align: right;\">\n",
              "      <th></th>\n",
              "      <th>date</th>\n",
              "      <th>open</th>\n",
              "      <th>high</th>\n",
              "      <th>low</th>\n",
              "      <th>close</th>\n",
              "      <th>volume</th>\n",
              "      <th>tic</th>\n",
              "      <th>day</th>\n",
              "      <th>macd</th>\n",
              "      <th>rsi_30</th>\n",
              "      <th>cci_30</th>\n",
              "      <th>dx_30</th>\n",
              "      <th>turbulence</th>\n",
              "      <th>log_volume</th>\n",
              "      <th>change</th>\n",
              "      <th>daily_variance</th>\n",
              "    </tr>\n",
              "  </thead>\n",
              "  <tbody>\n",
              "    <tr>\n",
              "      <th>0</th>\n",
              "      <td>2009-01-02</td>\n",
              "      <td>3.067143</td>\n",
              "      <td>3.251429</td>\n",
              "      <td>3.041429</td>\n",
              "      <td>2.782837</td>\n",
              "      <td>746015200</td>\n",
              "      <td>AAPL</td>\n",
              "      <td>4</td>\n",
              "      <td>0.0</td>\n",
              "      <td>100.0</td>\n",
              "      <td>66.666667</td>\n",
              "      <td>100.0</td>\n",
              "      <td>0.0</td>\n",
              "      <td>21.453727</td>\n",
              "      <td>-0.102164</td>\n",
              "      <td>0.075463</td>\n",
              "    </tr>\n",
              "    <tr>\n",
              "      <th>1</th>\n",
              "      <td>2009-01-02</td>\n",
              "      <td>18.570000</td>\n",
              "      <td>19.520000</td>\n",
              "      <td>18.400000</td>\n",
              "      <td>15.657365</td>\n",
              "      <td>10955700</td>\n",
              "      <td>AXP</td>\n",
              "      <td>4</td>\n",
              "      <td>0.0</td>\n",
              "      <td>100.0</td>\n",
              "      <td>66.666667</td>\n",
              "      <td>100.0</td>\n",
              "      <td>0.0</td>\n",
              "      <td>18.960312</td>\n",
              "      <td>-0.186023</td>\n",
              "      <td>0.071532</td>\n",
              "    </tr>\n",
              "    <tr>\n",
              "      <th>2</th>\n",
              "      <td>2009-01-02</td>\n",
              "      <td>42.799999</td>\n",
              "      <td>45.560001</td>\n",
              "      <td>42.779999</td>\n",
              "      <td>33.941101</td>\n",
              "      <td>7010200</td>\n",
              "      <td>BA</td>\n",
              "      <td>4</td>\n",
              "      <td>0.0</td>\n",
              "      <td>100.0</td>\n",
              "      <td>66.666667</td>\n",
              "      <td>100.0</td>\n",
              "      <td>0.0</td>\n",
              "      <td>19.287503</td>\n",
              "      <td>-0.261008</td>\n",
              "      <td>0.081907</td>\n",
              "    </tr>\n",
              "    <tr>\n",
              "      <th>3</th>\n",
              "      <td>2009-01-02</td>\n",
              "      <td>44.910000</td>\n",
              "      <td>46.980000</td>\n",
              "      <td>44.709999</td>\n",
              "      <td>32.655109</td>\n",
              "      <td>7117200</td>\n",
              "      <td>CAT</td>\n",
              "      <td>4</td>\n",
              "      <td>0.0</td>\n",
              "      <td>100.0</td>\n",
              "      <td>66.666667</td>\n",
              "      <td>100.0</td>\n",
              "      <td>0.0</td>\n",
              "      <td>19.264026</td>\n",
              "      <td>-0.375282</td>\n",
              "      <td>0.069514</td>\n",
              "    </tr>\n",
              "    <tr>\n",
              "      <th>4</th>\n",
              "      <td>2009-01-02</td>\n",
              "      <td>16.410000</td>\n",
              "      <td>17.000000</td>\n",
              "      <td>16.250000</td>\n",
              "      <td>12.505757</td>\n",
              "      <td>40980600</td>\n",
              "      <td>CSCO</td>\n",
              "      <td>4</td>\n",
              "      <td>0.0</td>\n",
              "      <td>100.0</td>\n",
              "      <td>66.666667</td>\n",
              "      <td>100.0</td>\n",
              "      <td>0.0</td>\n",
              "      <td>20.054798</td>\n",
              "      <td>-0.312196</td>\n",
              "      <td>0.059972</td>\n",
              "    </tr>\n",
              "  </tbody>\n",
              "</table>\n",
              "</div>"
            ],
            "text/plain": [
              "         date       open       high  ...  log_volume    change  daily_variance\n",
              "0  2009-01-02   3.067143   3.251429  ...   21.453727 -0.102164        0.075463\n",
              "1  2009-01-02  18.570000  19.520000  ...   18.960312 -0.186023        0.071532\n",
              "2  2009-01-02  42.799999  45.560001  ...   19.287503 -0.261008        0.081907\n",
              "3  2009-01-02  44.910000  46.980000  ...   19.264026 -0.375282        0.069514\n",
              "4  2009-01-02  16.410000  17.000000  ...   20.054798 -0.312196        0.059972\n",
              "\n",
              "[5 rows x 16 columns]"
            ]
          },
          "metadata": {
            "tags": []
          },
          "execution_count": 0
        }
      ]
    },
    {
      "cell_type": "markdown",
      "metadata": {
        "id": "-QsYaY0Dh1iw"
      },
      "source": [
        "<a id='4'></a>\n",
        "# Part 5. Design Environment\n",
        "Considering the stochastic and interactive nature of the automated stock trading tasks, a financial task is modeled as a **Markov Decision Process (MDP)** problem. The training process involves observing stock price change, taking an action and reward's calculation to have the agent adjusting its strategy accordingly. By interacting with the environment, the trading agent will derive a trading strategy with the maximized rewards as time proceeds.\n",
        "\n",
        "Our trading environments, based on OpenAI Gym framework, simulate live stock markets with real market data according to the principle of time-driven simulation.\n",
        "\n",
        "The action space describes the allowed actions that the agent interacts with the environment. Normally, action a includes three actions: {-1, 0, 1}, where -1, 0, 1 represent selling, holding, and buying one share. Also, an action can be carried upon multiple shares. We use an action space {-k,…,-1, 0, 1, …, k}, where k denotes the number of shares to buy and -k denotes the number of shares to sell. For example, \"Buy 10 shares of AAPL\" or \"Sell 10 shares of AAPL\" are 10 or -10, respectively. The continuous action space needs to be normalized to [-1, 1], since the policy is defined on a Gaussian distribution, which needs to be normalized and symmetric."
      ]
    },
    {
      "cell_type": "markdown",
      "metadata": {
        "id": "5TOhcryx44bb"
      },
      "source": [
        "## Training data split: 2009-01-01 to 2018-12-31\n",
        "## Trade data split: 2019-01-01 to 2020-09-30"
      ]
    },
    {
      "cell_type": "code",
      "metadata": {
        "colab": {
          "base_uri": "https://localhost:8080/"
        },
        "id": "W0qaVGjLtgbI",
        "outputId": "cc8ec084-37bf-452c-ca44-e38828d3f65e"
      },
      "source": [
        "train = data_split(processed, '2009-01-01','2019-01-01')\n",
        "trade = data_split(processed, '2019-01-01','2021-01-01')\n",
        "print(len(train))\n",
        "print(len(trade))"
      ],
      "execution_count": 25,
      "outputs": [
        {
          "output_type": "stream",
          "text": [
            "2516\n",
            "505\n"
          ],
          "name": "stdout"
        }
      ]
    },
    {
      "cell_type": "code",
      "metadata": {
        "id": "RTAbShEV-wp1"
      },
      "source": [
        "import numpy as np\n",
        "import pandas as pd\n",
        "from gym.utils import seeding\n",
        "import gym\n",
        "from gym import spaces\n",
        "import matplotlib\n",
        "from copy import deepcopy\n",
        "\n",
        "matplotlib.use(\"Agg\")\n",
        "import matplotlib.pyplot as plt\n",
        "import pickle\n",
        "from stable_baselines3.common.vec_env import DummyVecEnv\n",
        "import numpy as np\n",
        "import pandas as pd\n",
        "from gym.utils import seeding\n",
        "import gym\n",
        "from gym import spaces\n",
        "import matplotlib\n",
        "import random\n",
        "\n",
        "matplotlib.use(\"Agg\")\n",
        "import matplotlib.pyplot as plt\n",
        "import pickle\n",
        "from stable_baselines3.common.vec_env import DummyVecEnv, SubprocVecEnv\n",
        "from stable_baselines3.common import logger\n",
        "import time\n",
        "\n",
        "\n",
        "class StockTradingEnvV2(gym.Env):\n",
        "\n",
        "    \"\"\"\n",
        "    A stock trading environment for OpenAI gym\n",
        "    Parameters:\n",
        "    state space: {start_cash, <owned_shares>, for s in stocks{<stock.values>}, }\n",
        "        df (pandas.DataFrame): Dataframe containing data\n",
        "        transaction_cost (float): cost for buying or selling shares\n",
        "        hmax (int): max number of share purchases allowed per asset\n",
        "        turbulence_threshold (float): Maximum turbulence allowed in market for purchases to occur. If exceeded, positions are liquidated\n",
        "        print_verbosity(int): When iterating (step), how often to print stats about state of env\n",
        "        reward_scaling (float): Scaling value to multiply reward by at each step.\n",
        "        initial_amount: (int, float): Amount of cash initially available\n",
        "        daily_information_columns (list(str)): Columns to use when building state space from the dataframe.\n",
        "        out_of_cash_penalty (int, float): Penalty to apply if the algorithm runs out of cash\n",
        "\n",
        "    action space: <share_dollar_purchases>\n",
        "\n",
        "    TODO:\n",
        "        make cash penalty proportional to total assets\n",
        "\n",
        "\n",
        "    tests:\n",
        "        after reset, static strategy should result in same metrics\n",
        "\n",
        "        buy zero should result in no costs, no assets purchased\n",
        "        given no change in prices, no change in asset values\n",
        "    \"\"\"\n",
        "\n",
        "    metadata = {\"render.modes\": [\"human\"]}\n",
        "\n",
        "    def __init__(\n",
        "        self,\n",
        "        df,\n",
        "        transaction_cost_pct=3e-3,\n",
        "        date_col_name=\"date\",\n",
        "        hmax=10,\n",
        "        turbulence_threshold=None,\n",
        "        print_verbosity=10,\n",
        "        reward_scaling=1e-4,\n",
        "        initial_amount=1e6,\n",
        "        daily_information_cols=[\"open\", \"close\", \"high\", \"low\", \"volume\"],\n",
        "        out_of_cash_penalty=None,\n",
        "        cache_indicator_data=True,\n",
        "        daily_reward=None,\n",
        "        cash_penalty_proportion=0.1,\n",
        "        random_start=True,\n",
        "    ):\n",
        "        self.df = df\n",
        "        self.stock_col = \"tic\"\n",
        "        self.assets = df[self.stock_col].unique()\n",
        "        self.dates = df[date_col_name].sort_values().unique()\n",
        "        self.random_start = random_start\n",
        "\n",
        "        self.df = self.df.set_index(date_col_name)\n",
        "        self.hmax = hmax\n",
        "        self.initial_amount = initial_amount\n",
        "        if out_of_cash_penalty is None:\n",
        "            out_of_cash_penalty = -initial_amount * 0.5\n",
        "        self.out_of_cash_penalty = out_of_cash_penalty\n",
        "        self.print_verbosity = print_verbosity\n",
        "        self.transaction_cost_pct = transaction_cost_pct\n",
        "        self.reward_scaling = reward_scaling\n",
        "        self.daily_information_cols = daily_information_cols\n",
        "        self.state_space = (\n",
        "            1 + len(self.assets) + len(self.assets) * len(self.daily_information_cols)\n",
        "        )\n",
        "        self.action_space = spaces.Box(low=-1, high=1, shape=(len(self.assets),))\n",
        "        self.observation_space = spaces.Box(\n",
        "            low=-np.inf, high=np.inf, shape=(self.state_space,)\n",
        "        )\n",
        "        self.episode = -1  # initialize so we can call reset\n",
        "        self.episode_history = []\n",
        "        self.printed_header = False\n",
        "        self.daily_reward = daily_reward\n",
        "        self.cache_indicator_data = cache_indicator_data\n",
        "        self.cached_data = None\n",
        "        self.cash_penalty_proportion = cash_penalty_proportion\n",
        "        if self.cache_indicator_data:\n",
        "            print(\"caching data\")\n",
        "            self.cached_data = [\n",
        "                self.get_date_vector(i) for i, _ in enumerate(self.dates)\n",
        "            ]\n",
        "            print(\"data cached!\")\n",
        "\n",
        "    def seed(self, seed=None):\n",
        "        if seed is None:\n",
        "            seed = int(round(time.time() * 1000))\n",
        "        random.seed(seed)\n",
        "\n",
        "    @property\n",
        "    def current_step(self):\n",
        "        return self.date_index - self.starting_point\n",
        "\n",
        "    def reset(self):\n",
        "        self.seed()\n",
        "        self.sum_trades = 0\n",
        "        if self.random_start:\n",
        "            starting_point = random.choice(range(int(len(self.dates) * 0.5)))\n",
        "            self.starting_point = starting_point\n",
        "        else:\n",
        "            self.starting_point = 0\n",
        "        self.date_index = self.starting_point\n",
        "        self.episode += 1\n",
        "        self.actions_memory = []\n",
        "        self.transaction_memory = []\n",
        "        self.state_memory = []\n",
        "        self.account_information = {\n",
        "            \"cash\": [],\n",
        "            \"asset_value\": [],\n",
        "            \"total_assets\": [],\n",
        "            \"reward\": [],\n",
        "        }\n",
        "        init_state = np.array(\n",
        "            [self.initial_amount]\n",
        "            + [0] * len(self.assets)\n",
        "            + self.get_date_vector(self.date_index)\n",
        "        )\n",
        "        self.state_memory.append(init_state)\n",
        "        return init_state\n",
        "\n",
        "    def get_date_vector(self, date, cols=None):\n",
        "        if (cols is None) and (self.cached_data is not None):\n",
        "            return self.cached_data[date]\n",
        "        else:\n",
        "            date = self.dates[date]\n",
        "            if cols is None:\n",
        "                cols = self.daily_information_cols\n",
        "            trunc_df = self.df.loc[[date]]\n",
        "            v = []\n",
        "            for a in self.assets:\n",
        "                subset = trunc_df[trunc_df[self.stock_col] == a]\n",
        "                v += subset.loc[date, cols].tolist()\n",
        "            assert len(v) == len(self.assets) * len(cols)\n",
        "            return v\n",
        "            \n",
        "\n",
        "    def return_terminal(self, reason=\"Last Date\", reward=0):\n",
        "\n",
        "        state = self.state_memory[-1]\n",
        "        self.log_step(reason=reason, terminal_reward=reward)\n",
        "        reward = reward * self.reward_scaling\n",
        "        # Add outputs to logger interface\n",
        "        reward_pct = self.account_information[\"total_assets\"][-1] / self.initial_amount\n",
        "        # logger.record(\"environment/total_reward_pct\", (reward_pct - 1) * 100)\n",
        "        # logger.record(\n",
        "        #     \"environment/daily_trades\",\n",
        "        #     self.sum_trades / (self.current_step) / len(self.assets),\n",
        "        # )\n",
        "        # logger.record(\"environment/completed_steps\", self.current_step)\n",
        "        # logger.record(\n",
        "        #     \"environment/sum_rewards\", np.sum(self.account_information[\"reward\"])\n",
        "        # )\n",
        "        # logger.record(\n",
        "        #     \"environment/cash_proportion\",\n",
        "        #     self.account_information[\"cash\"][-1]\n",
        "        #     / self.account_information[\"total_assets\"][-1],\n",
        "        # )\n",
        "        return state, reward, True, {}\n",
        "\n",
        "    def log_step(self, reason, terminal_reward=None):\n",
        "        if terminal_reward is None:\n",
        "            terminal_reward = self.account_information[\"reward\"][-1]\n",
        "        cash_pct = (\n",
        "            self.account_information[\"cash\"][-1]\n",
        "            / self.account_information[\"total_assets\"][-1]\n",
        "        )\n",
        "        rec = [\n",
        "            self.episode,\n",
        "            self.date_index - self.starting_point,\n",
        "            reason,\n",
        "            f\"${int(self.account_information['total_assets'][-1])}\",\n",
        "            f\"{terminal_reward*100:0.5f}%\",\n",
        "            f\"{cash_pct*100:0.2f}%\",\n",
        "        ]\n",
        "\n",
        "        self.episode_history.append(rec)\n",
        "        print(self.template.format(*rec))\n",
        "\n",
        "    def log_header(self):\n",
        "        self.template = \"{0:4}|{1:4}|{2:15}|{3:10}|{4:10}|{5:10}\"  # column widths: 8, 10, 15, 7, 10\n",
        "        print(\n",
        "            self.template.format(\n",
        "                \"EPISODE\",\n",
        "                \"STEPS\",\n",
        "                \"TERMINAL_REASON\",\n",
        "                \"TOT_ASSETS\",\n",
        "                \"TERMINAL_REWARD_unsc\",\n",
        "                \"CASH_PCT\",\n",
        "            )\n",
        "        )\n",
        "        self.printed_header = True\n",
        "        \n",
        "    def get_reward(self):\n",
        "        if self.current_step==0:\n",
        "            return 0\n",
        "        else:\n",
        "            assets = self.account_information['total_assets'][-1]\n",
        "            cash = self.account_information['cash'][-1]\n",
        "            cash_penalty = max(0, (assets*self.cash_penalty_proportion-cash))\n",
        "            assets -= cash_penalty\n",
        "            reward = (assets/self.initial_amount)-1\n",
        "            reward/=self.current_step\n",
        "            return reward\n",
        "\n",
        "    def step(self, actions):\n",
        "        # let's just log what we're doing in terms of max actions at each step.\n",
        "        self.sum_trades += np.sum(np.abs(actions))\n",
        "\n",
        "        # print header only first time\n",
        "        if self.printed_header is False:\n",
        "            self.log_header()\n",
        "\n",
        "        # print if it's time.\n",
        "        if (self.current_step + 1) % self.print_verbosity == 0:\n",
        "            self.log_step(reason=\"update\")\n",
        "\n",
        "        # if we're at the end\n",
        "        if self.date_index == len(self.dates) - 1:\n",
        "            # if we hit the end, set reward to total gains (or losses)\n",
        "            return self.return_terminal(reward=self.get_reward())\n",
        "        else:\n",
        "            # compute value of cash + assets\n",
        "            begin_cash = self.state_memory[-1][0]\n",
        "            holdings = self.state_memory[-1][1 : len(self.assets) + 1]\n",
        "            assert min(holdings) >= 0\n",
        "            closings = np.array(self.get_date_vector(self.date_index, cols=[\"close\"]))\n",
        "            asset_value = np.dot(holdings, closings)\n",
        "\n",
        "            # reward is (cash + assets) - (cash_last_step + assets_last_step)\n",
        "            reward = self.get_reward()\n",
        "\n",
        "            # log the values of cash, assets, and total assets\n",
        "            self.account_information[\"cash\"].append(begin_cash)\n",
        "            self.account_information[\"asset_value\"].append(asset_value)\n",
        "            self.account_information[\"total_assets\"].append(begin_cash + asset_value)\n",
        "            self.account_information[\"reward\"].append(reward)\n",
        "\n",
        "            # multiply action values by our scalar multiplier and save\n",
        "            actions = actions * self.hmax\n",
        "            self.actions_memory.append(actions)\n",
        "\n",
        "            # scale cash purchases to asset # changes\n",
        "            actions = actions / closings\n",
        "            self.transaction_memory.append(actions)\n",
        "\n",
        "            # clip actions so we can't sell more assets than we hold\n",
        "            actions = np.maximum(actions, -np.array(holdings))\n",
        "\n",
        "            # compute our proceeds from sales, and add to cash\n",
        "            sells = -np.clip(actions, -np.inf, 0)\n",
        "            proceeds = np.dot(sells, closings)\n",
        "            costs = proceeds * self.transaction_cost_pct\n",
        "            coh = begin_cash + proceeds\n",
        "\n",
        "            # compute the cost of our buys\n",
        "            buys = np.clip(actions, 0, np.inf)\n",
        "            spend = np.dot(buys, closings)\n",
        "            costs += spend * self.transaction_cost_pct\n",
        "\n",
        "            # if we run out of cash, end the cycle and penalize\n",
        "            if (spend + costs) > coh:\n",
        "                return self.return_terminal(\n",
        "                    reason=\"CASH SHORTAGE\",\n",
        "                    reward=self.get_reward()\n",
        "                )\n",
        "\n",
        "            # verify we didn't do anything impossible here\n",
        "            assert (spend + costs) <= coh\n",
        "\n",
        "            # update our holdings\n",
        "            coh = coh - spend - costs\n",
        "            holdings_updated = holdings + actions\n",
        "            self.date_index += 1\n",
        "            state = (\n",
        "                [coh] + list(holdings_updated) + self.get_date_vector(self.date_index)\n",
        "            )\n",
        "            self.state_memory.append(state)\n",
        "            reward = reward * self.reward_scaling\n",
        "            return state, reward, False, {}\n",
        "\n",
        "    def get_sb_env(self):\n",
        "        def get_self():\n",
        "            return deepcopy(self)\n",
        "\n",
        "        e = DummyVecEnv([get_self])\n",
        "        obs = e.reset()\n",
        "        return e, obs\n",
        "\n",
        "    def get_multiproc_env(self, n=10):\n",
        "        def get_self():\n",
        "            return deepcopy(self)\n",
        "\n",
        "        e = SubprocVecEnv([get_self for _ in range(n)], start_method=\"fork\")\n",
        "        obs = e.reset()\n",
        "        return e, obs\n",
        "\n",
        "    def save_asset_memory(self):\n",
        "        if self.current_step == 0:\n",
        "            return None\n",
        "        else:\n",
        "            self.account_information[\"date\"] = self.dates[\n",
        "                -len(self.account_information[\"cash\"]) :\n",
        "            ]\n",
        "            return pd.DataFrame(self.account_information)\n",
        "\n",
        "    def save_action_memory(self):\n",
        "        if self.current_step == 0:\n",
        "            return None\n",
        "        else:\n",
        "            return pd.DataFrame(\n",
        "                {\n",
        "                    \"date\": self.dates[-len(self.account_information[\"cash\"]) :],\n",
        "                    \"actions\": self.actions_memory,\n",
        "                    \"transactions\": self.transaction_memory,\n",
        "                }\n",
        "            )\n"
      ],
      "execution_count": 33,
      "outputs": []
    },
    {
      "cell_type": "code",
      "metadata": {
        "id": "n-bMsJ9I-wp2",
        "colab": {
          "base_uri": "https://localhost:8080/"
        },
        "outputId": "6f5c183e-ae44-4180-c876-d18bea032c56"
      },
      "source": [
        "print(StockTradingEnvV2.__doc__)"
      ],
      "execution_count": null,
      "outputs": [
        {
          "output_type": "stream",
          "text": [
            "\n",
            "    A stock trading environment for OpenAI gym\n",
            "    Parameters:\n",
            "    state space: {start_cash, <owned_shares>, for s in stocks{<stock.values>}, }\n",
            "        df (pandas.DataFrame): Dataframe containing data\n",
            "        transaction_cost (float): cost for buying or selling shares\n",
            "        hmax (int): max number of share purchases allowed per asset\n",
            "        turbulence_threshold (float): Maximum turbulence allowed in market for purchases to occur. If exceeded, positions are liquidated\n",
            "        print_verbosity(int): When iterating (step), how often to print stats about state of env\n",
            "        reward_scaling (float): Scaling value to multiply reward by at each step.\n",
            "        initial_amount: (int, float): Amount of cash initially available\n",
            "        daily_information_columns (list(str)): Columns to use when building state space from the dataframe.\n",
            "        out_of_cash_penalty (int, float): Penalty to apply if the algorithm runs out of cash\n",
            "\n",
            "    action space: <share_dollar_purchases>\n",
            "\n",
            "    TODO:\n",
            "        make cash penalty proportional to total assets\n",
            "\n",
            "\n",
            "    tests:\n",
            "        after reset, static strategy should result in same metrics\n",
            "\n",
            "        buy zero should result in no costs, no assets purchased\n",
            "        given no change in prices, no change in asset values\n",
            "    \n"
          ],
          "name": "stdout"
        }
      ]
    },
    {
      "cell_type": "markdown",
      "metadata": {
        "id": "Q2zqII8rMIqn",
        "outputId": "8a2c943b-1be4-4b8d-b64f-666e0852b7e6"
      },
      "source": [
        "#### state space\n",
        "The state space of the observation is as follows \n",
        "\n",
        "`start_cash, <owned_shares_of_n_assets>, <<indicator_i_for_asset_j> for j in assets>`\n",
        "\n",
        "indicators are any daily measurement you can achieve. Common ones are 'volume', 'open' 'close' 'high', 'low'.\n",
        "However, you can add these as needed, \n",
        "The feature engineer adds indicators, and you can add your own as well. \n"
      ]
    },
    {
      "cell_type": "code",
      "metadata": {
        "id": "oZF9k52r-wp2",
        "colab": {
          "base_uri": "https://localhost:8080/",
          "height": 204
        },
        "outputId": "ec32fbda-fb92-4a37-ce4c-d56c8aa5b6b8"
      },
      "source": [
        "processed.head()"
      ],
      "execution_count": 31,
      "outputs": [
        {
          "output_type": "execute_result",
          "data": {
            "text/html": [
              "<div>\n",
              "<style scoped>\n",
              "    .dataframe tbody tr th:only-of-type {\n",
              "        vertical-align: middle;\n",
              "    }\n",
              "\n",
              "    .dataframe tbody tr th {\n",
              "        vertical-align: top;\n",
              "    }\n",
              "\n",
              "    .dataframe thead th {\n",
              "        text-align: right;\n",
              "    }\n",
              "</style>\n",
              "<table border=\"1\" class=\"dataframe\">\n",
              "  <thead>\n",
              "    <tr style=\"text-align: right;\">\n",
              "      <th></th>\n",
              "      <th>date</th>\n",
              "      <th>open</th>\n",
              "      <th>high</th>\n",
              "      <th>low</th>\n",
              "      <th>close</th>\n",
              "      <th>volume</th>\n",
              "      <th>tic</th>\n",
              "      <th>day</th>\n",
              "      <th>macd</th>\n",
              "      <th>macds</th>\n",
              "      <th>macdh</th>\n",
              "      <th>close_14_ema</th>\n",
              "      <th>rsi_30</th>\n",
              "      <th>cci_30</th>\n",
              "      <th>dx_30</th>\n",
              "      <th>turbulence</th>\n",
              "    </tr>\n",
              "  </thead>\n",
              "  <tbody>\n",
              "    <tr>\n",
              "      <th>0</th>\n",
              "      <td>2009-01-02</td>\n",
              "      <td>16.410000</td>\n",
              "      <td>17.000000</td>\n",
              "      <td>16.250000</td>\n",
              "      <td>12.505757</td>\n",
              "      <td>40980600</td>\n",
              "      <td>CSCO</td>\n",
              "      <td>4</td>\n",
              "      <td>0.000000</td>\n",
              "      <td>0.000000</td>\n",
              "      <td>0.000000</td>\n",
              "      <td>12.505757</td>\n",
              "      <td>100.000000</td>\n",
              "      <td>66.666667</td>\n",
              "      <td>100.000000</td>\n",
              "      <td>0.0</td>\n",
              "    </tr>\n",
              "    <tr>\n",
              "      <th>1</th>\n",
              "      <td>2009-01-05</td>\n",
              "      <td>16.850000</td>\n",
              "      <td>17.299999</td>\n",
              "      <td>16.750000</td>\n",
              "      <td>12.616367</td>\n",
              "      <td>45480200</td>\n",
              "      <td>CSCO</td>\n",
              "      <td>0</td>\n",
              "      <td>0.002482</td>\n",
              "      <td>0.001379</td>\n",
              "      <td>0.001103</td>\n",
              "      <td>12.565013</td>\n",
              "      <td>100.000000</td>\n",
              "      <td>66.666667</td>\n",
              "      <td>100.000000</td>\n",
              "      <td>0.0</td>\n",
              "    </tr>\n",
              "    <tr>\n",
              "      <th>2</th>\n",
              "      <td>2009-01-06</td>\n",
              "      <td>17.330000</td>\n",
              "      <td>17.980000</td>\n",
              "      <td>17.260000</td>\n",
              "      <td>13.117774</td>\n",
              "      <td>58256600</td>\n",
              "      <td>CSCO</td>\n",
              "      <td>1</td>\n",
              "      <td>0.018711</td>\n",
              "      <td>0.008482</td>\n",
              "      <td>0.010229</td>\n",
              "      <td>12.776169</td>\n",
              "      <td>100.000000</td>\n",
              "      <td>100.000000</td>\n",
              "      <td>100.000000</td>\n",
              "      <td>0.0</td>\n",
              "    </tr>\n",
              "    <tr>\n",
              "      <th>3</th>\n",
              "      <td>2009-01-07</td>\n",
              "      <td>17.370001</td>\n",
              "      <td>17.580000</td>\n",
              "      <td>17.110001</td>\n",
              "      <td>12.771208</td>\n",
              "      <td>50246600</td>\n",
              "      <td>CSCO</td>\n",
              "      <td>2</td>\n",
              "      <td>0.013121</td>\n",
              "      <td>0.010053</td>\n",
              "      <td>0.003067</td>\n",
              "      <td>12.774652</td>\n",
              "      <td>62.918955</td>\n",
              "      <td>31.474718</td>\n",
              "      <td>71.392334</td>\n",
              "      <td>0.0</td>\n",
              "    </tr>\n",
              "    <tr>\n",
              "      <th>4</th>\n",
              "      <td>2009-01-08</td>\n",
              "      <td>17.230000</td>\n",
              "      <td>17.570000</td>\n",
              "      <td>17.000000</td>\n",
              "      <td>12.933430</td>\n",
              "      <td>46484600</td>\n",
              "      <td>CSCO</td>\n",
              "      <td>3</td>\n",
              "      <td>0.016262</td>\n",
              "      <td>0.011900</td>\n",
              "      <td>0.004362</td>\n",
              "      <td>12.816076</td>\n",
              "      <td>68.563542</td>\n",
              "      <td>31.501498</td>\n",
              "      <td>54.111807</td>\n",
              "      <td>0.0</td>\n",
              "    </tr>\n",
              "  </tbody>\n",
              "</table>\n",
              "</div>"
            ],
            "text/plain": [
              "         date       open       high  ...      cci_30       dx_30  turbulence\n",
              "0  2009-01-02  16.410000  17.000000  ...   66.666667  100.000000         0.0\n",
              "1  2009-01-05  16.850000  17.299999  ...   66.666667  100.000000         0.0\n",
              "2  2009-01-06  17.330000  17.980000  ...  100.000000  100.000000         0.0\n",
              "3  2009-01-07  17.370001  17.580000  ...   31.474718   71.392334         0.0\n",
              "4  2009-01-08  17.230000  17.570000  ...   31.501498   54.111807         0.0\n",
              "\n",
              "[5 rows x 16 columns]"
            ]
          },
          "metadata": {
            "tags": []
          },
          "execution_count": 31
        }
      ]
    },
    {
      "cell_type": "code",
      "metadata": {
        "id": "AWyp84Ltto19",
        "colab": {
          "base_uri": "https://localhost:8080/"
        },
        "outputId": "d2264839-5a55-45a8-9c59-68c1a86653f6"
      },
      "source": [
        "# information_cols = ['daily_variance', 'change', 'log_volume', 'close','day', \n",
        "#                     'macd', 'rsi_30', 'cci_30', 'dx_30', 'turbulence']\n",
        "\n",
        "# information_cols = ['open', 'high', 'low', 'close', 'log_volume']\n",
        "\n",
        "information_cols = ['close', 'macdh']\n",
        "\n",
        "\n",
        "e_train_gym = StockTradingEnvV2(df = train,initial_amount = 1e6,hmax = 5000, \n",
        "                                out_of_cash_penalty = 0, \n",
        "                                cache_indicator_data=True,\n",
        "                                cash_penalty_proportion=0.2, \n",
        "                                reward_scaling=1,\n",
        "                                daily_information_cols = information_cols, \n",
        "                                print_verbosity = 500, random_start = True)\n",
        "\n",
        "\n",
        "trade = data_split(processed, '2019-01-01','2021-01-01')\n",
        "\n",
        "\n",
        "e_trade_gym = StockTradingEnvV2(df = trade,initial_amount = 1e6,hmax = 5000, \n",
        "                                out_of_cash_penalty = 0, \n",
        "                                cash_penalty_proportion=0.2,\n",
        "                                reward_scaling = 1, \n",
        "                                cache_indicator_data=True,\n",
        "                                daily_information_cols = information_cols, \n",
        "                                print_verbosity = 500, random_start = False)\n",
        "\n"
      ],
      "execution_count": 34,
      "outputs": [
        {
          "output_type": "stream",
          "text": [
            "caching data\n",
            "data cached!\n",
            "caching data\n",
            "data cached!\n"
          ],
          "name": "stdout"
        }
      ]
    },
    {
      "cell_type": "markdown",
      "metadata": {
        "id": "64EoqOrQjiVf"
      },
      "source": [
        "## Environment for Training\n",
        "There are two available environments. The multiprocessing and the single processing env. \n",
        "Some models won't work with multiprocessing. \n",
        "\n",
        "```python\n",
        "# single processing\n",
        "env_train, _ = e_train_gym.get_sb_env()\n",
        "\n",
        "\n",
        "#multiprocessing\n",
        "env_train, _ = e_train_gym.get_multiproc_env(n = <n_cores>)\n",
        "```\n"
      ]
    },
    {
      "cell_type": "code",
      "metadata": {
        "colab": {
          "base_uri": "https://localhost:8080/"
        },
        "collapsed": true,
        "id": "xwSvvPjutpqS",
        "jupyter": {
          "outputs_hidden": true
        },
        "outputId": "b7112e4f-b816-47c7-99e7-9067803fb8a7"
      },
      "source": [
        "# for this example, let's do multiprocessing with n_cores-2\n",
        "\n",
        "import multiprocessing\n",
        "\n",
        "n_cores = multiprocessing.cpu_count() - 2\n",
        "n_cores = 24\n",
        "print(f\"using {n_cores} cores\")\n",
        "\n",
        "#this is our training env. It allows multiprocessing\n",
        "env_train, _ = e_train_gym.get_multiproc_env(n = n_cores)\n",
        "# env_train, _ = e_train_gym.get_sb_env()\n",
        "\n",
        "\n",
        "#this is our observation environment. It allows full diagnostics\n",
        "env_trade, _ = e_trade_gym.get_sb_env()\n"
      ],
      "execution_count": 12,
      "outputs": [
        {
          "output_type": "stream",
          "text": [
            "using 24 cores\n"
          ],
          "name": "stdout"
        }
      ]
    },
    {
      "cell_type": "markdown",
      "metadata": {
        "id": "HMNR5nHjh1iz"
      },
      "source": [
        "<a id='5'></a>\n",
        "# Part 6: Implement DRL Algorithms\n",
        "* The implementation of the DRL algorithms are based on **OpenAI Baselines** and **Stable Baselines**. Stable Baselines is a fork of OpenAI Baselines, with a major structural refactoring, and code cleanups.\n",
        "* FinRL library includes fine-tuned standard DRL algorithms, such as DQN, DDPG,\n",
        "Multi-Agent DDPG, PPO, SAC, A2C and TD3. We also allow users to\n",
        "design their own DRL algorithms by adapting these DRL algorithms."
      ]
    },
    {
      "cell_type": "code",
      "metadata": {
        "id": "364PsqckttcQ"
      },
      "source": [
        "agent = DRLAgent(env = env_train)"
      ],
      "execution_count": 35,
      "outputs": []
    },
    {
      "cell_type": "markdown",
      "metadata": {
        "id": "uijiWgkuh1jB"
      },
      "source": [
        "### Model PPO\n"
      ]
    },
    {
      "cell_type": "code",
      "metadata": {
        "id": "g9fVobNw-wp3",
        "colab": {
          "base_uri": "https://localhost:8080/"
        },
        "outputId": "f2efb3b9-b61a-4a02-9b44-d210f39992bd"
      },
      "source": [
        "# from torch.nn import Softsign, ReLU\n",
        "ppo_params ={'n_steps': 256, \n",
        "             'ent_coef': 0.01, \n",
        "             'learning_rate': 0.00009, \n",
        "             'batch_size': 1024, \n",
        "            'gamma': 0.99}\n",
        "\n",
        "policy_kwargs = {\n",
        "#     \"activation_fn\": ReLU,\n",
        "    \"net_arch\": [1024, 1024,1024, 1024,  1024], \n",
        "#     \"squash_output\": True\n",
        "}\n",
        "\n",
        "model = agent.get_model(\"ppo\",  \n",
        "                        model_kwargs = ppo_params, \n",
        "                        policy_kwargs = policy_kwargs, verbose = 0)\n",
        "\n",
        "# model = model.load(\"scaling_reward.model\", env = env_train)"
      ],
      "execution_count": 36,
      "outputs": [
        {
          "output_type": "stream",
          "text": [
            "{'n_steps': 256, 'ent_coef': 0.01, 'learning_rate': 9e-05, 'batch_size': 1024, 'gamma': 0.99}\n"
          ],
          "name": "stdout"
        }
      ]
    },
    {
      "cell_type": "code",
      "metadata": {
        "jupyter": {
          "outputs_hidden": true
        },
        "id": "DqP8j_gx-wp3",
        "colab": {
          "base_uri": "https://localhost:8080/",
          "height": 994
        },
        "outputId": "d129440d-1875-47da-fc61-9ab24b38ce7d"
      },
      "source": [
        "model.learn(total_timesteps = 50000, \n",
        "            eval_env = env_trade, \n",
        "            eval_freq = 250,\n",
        "            log_interval = 1, \n",
        "            tb_log_name = 'short50_run',\n",
        "            n_eval_episodes = 1)"
      ],
      "execution_count": 37,
      "outputs": [
        {
          "output_type": "stream",
          "text": [
            "/usr/local/lib/python3.7/dist-packages/stable_baselines3/common/callbacks.py:337: UserWarning: Training and eval env are not of the same type<stable_baselines3.common.vec_env.subproc_vec_env.SubprocVecEnv object at 0x7ff991df2d90> != <stable_baselines3.common.vec_env.dummy_vec_env.DummyVecEnv object at 0x7ff991df2890>\n",
            "  warnings.warn(\"Training and eval env are not of the same type\" f\"{self.training_env} != {self.eval_env}\")\n",
            "/usr/local/lib/python3.7/dist-packages/stable_baselines3/common/evaluation.py:69: UserWarning: Evaluation environment is not wrapped with a ``Monitor`` wrapper. This may result in reporting modified episode lengths and rewards, if other wrappers happen to modify these. Consider wrapping environment first with ``Monitor`` wrapper.\n",
            "  UserWarning,\n"
          ],
          "name": "stderr"
        },
        {
          "output_type": "stream",
          "text": [
            "  19| 499|update         |$1000662  |0.00014%  |99.39%    \n",
            "  19| 504|Last Date      |$1000797  |0.00016%  |99.37%    \n",
            "Eval num_timesteps=6000, episode_reward=0.00 +/- 0.00\n",
            "Episode length: 505.00 +/- 0.00\n",
            "New best mean reward!\n",
            "  21| 499|update         |$1003665  |0.00093%  |74.64%    \n",
            "  21| 504|Last Date      |$1003785  |0.00075%  |74.38%    \n",
            "Eval num_timesteps=12000, episode_reward=-0.00 +/- 0.00\n",
            "Episode length: 505.00 +/- 0.00\n",
            "  23| 499|update         |$997460   |-0.00026% |70.50%    \n",
            "  23| 504|Last Date      |$996058   |-0.00078% |70.30%    \n",
            "Eval num_timesteps=18000, episode_reward=-0.01 +/- 0.00\n",
            "Episode length: 505.00 +/- 0.00\n",
            "  25| 499|update         |$996001   |-0.00041% |53.91%    \n",
            "  25| 504|Last Date      |$993814   |-0.00123% |53.56%    \n",
            "Eval num_timesteps=24000, episode_reward=-0.01 +/- 0.00\n",
            "Episode length: 505.00 +/- 0.00\n",
            "  27| 499|update         |$1006052  |0.00160%  |50.21%    \n",
            "  27| 504|Last Date      |$1006053  |0.00120%  |49.75%    \n",
            "Eval num_timesteps=30000, episode_reward=-0.01 +/- 0.00\n",
            "Episode length: 505.00 +/- 0.00\n",
            "  29| 499|update         |$1035971  |0.00754%  |46.94%    \n",
            "  29| 504|Last Date      |$1042525  |0.00844%  |46.16%    \n",
            "Eval num_timesteps=36000, episode_reward=0.01 +/- 0.00\n",
            "Episode length: 505.00 +/- 0.00\n",
            "New best mean reward!\n",
            "  31| 499|update         |$1050558  |0.01052%  |34.26%    \n",
            "  31| 504|Last Date      |$1060158  |0.01194%  |33.35%    \n",
            "Eval num_timesteps=42000, episode_reward=0.01 +/- 0.00\n",
            "Episode length: 505.00 +/- 0.00\n",
            "New best mean reward!\n"
          ],
          "name": "stdout"
        },
        {
          "output_type": "error",
          "ename": "KeyboardInterrupt",
          "evalue": "ignored",
          "traceback": [
            "\u001b[0;31m---------------------------------------------------------------------------\u001b[0m",
            "\u001b[0;31mKeyboardInterrupt\u001b[0m                         Traceback (most recent call last)",
            "\u001b[0;32m<ipython-input-37-28b92c28af8e>\u001b[0m in \u001b[0;36m<module>\u001b[0;34m()\u001b[0m\n\u001b[1;32m      4\u001b[0m             \u001b[0mlog_interval\u001b[0m \u001b[0;34m=\u001b[0m \u001b[0;36m1\u001b[0m\u001b[0;34m,\u001b[0m\u001b[0;34m\u001b[0m\u001b[0;34m\u001b[0m\u001b[0m\n\u001b[1;32m      5\u001b[0m             \u001b[0mtb_log_name\u001b[0m \u001b[0;34m=\u001b[0m \u001b[0;34m'short50_run'\u001b[0m\u001b[0;34m,\u001b[0m\u001b[0;34m\u001b[0m\u001b[0;34m\u001b[0m\u001b[0m\n\u001b[0;32m----> 6\u001b[0;31m             n_eval_episodes = 1)\n\u001b[0m",
            "\u001b[0;32m/usr/local/lib/python3.7/dist-packages/stable_baselines3/ppo/ppo.py\u001b[0m in \u001b[0;36mlearn\u001b[0;34m(self, total_timesteps, callback, log_interval, eval_env, eval_freq, n_eval_episodes, tb_log_name, eval_log_path, reset_num_timesteps)\u001b[0m\n\u001b[1;32m    306\u001b[0m             \u001b[0mtb_log_name\u001b[0m\u001b[0;34m=\u001b[0m\u001b[0mtb_log_name\u001b[0m\u001b[0;34m,\u001b[0m\u001b[0;34m\u001b[0m\u001b[0;34m\u001b[0m\u001b[0m\n\u001b[1;32m    307\u001b[0m             \u001b[0meval_log_path\u001b[0m\u001b[0;34m=\u001b[0m\u001b[0meval_log_path\u001b[0m\u001b[0;34m,\u001b[0m\u001b[0;34m\u001b[0m\u001b[0;34m\u001b[0m\u001b[0m\n\u001b[0;32m--> 308\u001b[0;31m             \u001b[0mreset_num_timesteps\u001b[0m\u001b[0;34m=\u001b[0m\u001b[0mreset_num_timesteps\u001b[0m\u001b[0;34m,\u001b[0m\u001b[0;34m\u001b[0m\u001b[0;34m\u001b[0m\u001b[0m\n\u001b[0m\u001b[1;32m    309\u001b[0m         )\n",
            "\u001b[0;32m/usr/local/lib/python3.7/dist-packages/stable_baselines3/common/on_policy_algorithm.py\u001b[0m in \u001b[0;36mlearn\u001b[0;34m(self, total_timesteps, callback, log_interval, eval_env, eval_freq, n_eval_episodes, tb_log_name, eval_log_path, reset_num_timesteps)\u001b[0m\n\u001b[1;32m    232\u001b[0m         \u001b[0;32mwhile\u001b[0m \u001b[0mself\u001b[0m\u001b[0;34m.\u001b[0m\u001b[0mnum_timesteps\u001b[0m \u001b[0;34m<\u001b[0m \u001b[0mtotal_timesteps\u001b[0m\u001b[0;34m:\u001b[0m\u001b[0;34m\u001b[0m\u001b[0;34m\u001b[0m\u001b[0m\n\u001b[1;32m    233\u001b[0m \u001b[0;34m\u001b[0m\u001b[0m\n\u001b[0;32m--> 234\u001b[0;31m             \u001b[0mcontinue_training\u001b[0m \u001b[0;34m=\u001b[0m \u001b[0mself\u001b[0m\u001b[0;34m.\u001b[0m\u001b[0mcollect_rollouts\u001b[0m\u001b[0;34m(\u001b[0m\u001b[0mself\u001b[0m\u001b[0;34m.\u001b[0m\u001b[0menv\u001b[0m\u001b[0;34m,\u001b[0m \u001b[0mcallback\u001b[0m\u001b[0;34m,\u001b[0m \u001b[0mself\u001b[0m\u001b[0;34m.\u001b[0m\u001b[0mrollout_buffer\u001b[0m\u001b[0;34m,\u001b[0m \u001b[0mn_rollout_steps\u001b[0m\u001b[0;34m=\u001b[0m\u001b[0mself\u001b[0m\u001b[0;34m.\u001b[0m\u001b[0mn_steps\u001b[0m\u001b[0;34m)\u001b[0m\u001b[0;34m\u001b[0m\u001b[0;34m\u001b[0m\u001b[0m\n\u001b[0m\u001b[1;32m    235\u001b[0m \u001b[0;34m\u001b[0m\u001b[0m\n\u001b[1;32m    236\u001b[0m             \u001b[0;32mif\u001b[0m \u001b[0mcontinue_training\u001b[0m \u001b[0;32mis\u001b[0m \u001b[0;32mFalse\u001b[0m\u001b[0;34m:\u001b[0m\u001b[0;34m\u001b[0m\u001b[0;34m\u001b[0m\u001b[0m\n",
            "\u001b[0;32m/usr/local/lib/python3.7/dist-packages/stable_baselines3/common/on_policy_algorithm.py\u001b[0m in \u001b[0;36mcollect_rollouts\u001b[0;34m(self, env, callback, rollout_buffer, n_rollout_steps)\u001b[0m\n\u001b[1;32m    173\u001b[0m                 \u001b[0mclipped_actions\u001b[0m \u001b[0;34m=\u001b[0m \u001b[0mnp\u001b[0m\u001b[0;34m.\u001b[0m\u001b[0mclip\u001b[0m\u001b[0;34m(\u001b[0m\u001b[0mactions\u001b[0m\u001b[0;34m,\u001b[0m \u001b[0mself\u001b[0m\u001b[0;34m.\u001b[0m\u001b[0maction_space\u001b[0m\u001b[0;34m.\u001b[0m\u001b[0mlow\u001b[0m\u001b[0;34m,\u001b[0m \u001b[0mself\u001b[0m\u001b[0;34m.\u001b[0m\u001b[0maction_space\u001b[0m\u001b[0;34m.\u001b[0m\u001b[0mhigh\u001b[0m\u001b[0;34m)\u001b[0m\u001b[0;34m\u001b[0m\u001b[0;34m\u001b[0m\u001b[0m\n\u001b[1;32m    174\u001b[0m \u001b[0;34m\u001b[0m\u001b[0m\n\u001b[0;32m--> 175\u001b[0;31m             \u001b[0mnew_obs\u001b[0m\u001b[0;34m,\u001b[0m \u001b[0mrewards\u001b[0m\u001b[0;34m,\u001b[0m \u001b[0mdones\u001b[0m\u001b[0;34m,\u001b[0m \u001b[0minfos\u001b[0m \u001b[0;34m=\u001b[0m \u001b[0menv\u001b[0m\u001b[0;34m.\u001b[0m\u001b[0mstep\u001b[0m\u001b[0;34m(\u001b[0m\u001b[0mclipped_actions\u001b[0m\u001b[0;34m)\u001b[0m\u001b[0;34m\u001b[0m\u001b[0;34m\u001b[0m\u001b[0m\n\u001b[0m\u001b[1;32m    176\u001b[0m \u001b[0;34m\u001b[0m\u001b[0m\n\u001b[1;32m    177\u001b[0m             \u001b[0mself\u001b[0m\u001b[0;34m.\u001b[0m\u001b[0mnum_timesteps\u001b[0m \u001b[0;34m+=\u001b[0m \u001b[0menv\u001b[0m\u001b[0;34m.\u001b[0m\u001b[0mnum_envs\u001b[0m\u001b[0;34m\u001b[0m\u001b[0;34m\u001b[0m\u001b[0m\n",
            "\u001b[0;32m/usr/local/lib/python3.7/dist-packages/stable_baselines3/common/vec_env/base_vec_env.py\u001b[0m in \u001b[0;36mstep\u001b[0;34m(self, actions)\u001b[0m\n\u001b[1;32m    160\u001b[0m         \"\"\"\n\u001b[1;32m    161\u001b[0m         \u001b[0mself\u001b[0m\u001b[0;34m.\u001b[0m\u001b[0mstep_async\u001b[0m\u001b[0;34m(\u001b[0m\u001b[0mactions\u001b[0m\u001b[0;34m)\u001b[0m\u001b[0;34m\u001b[0m\u001b[0;34m\u001b[0m\u001b[0m\n\u001b[0;32m--> 162\u001b[0;31m         \u001b[0;32mreturn\u001b[0m \u001b[0mself\u001b[0m\u001b[0;34m.\u001b[0m\u001b[0mstep_wait\u001b[0m\u001b[0;34m(\u001b[0m\u001b[0;34m)\u001b[0m\u001b[0;34m\u001b[0m\u001b[0;34m\u001b[0m\u001b[0m\n\u001b[0m\u001b[1;32m    163\u001b[0m \u001b[0;34m\u001b[0m\u001b[0m\n\u001b[1;32m    164\u001b[0m     \u001b[0;32mdef\u001b[0m \u001b[0mget_images\u001b[0m\u001b[0;34m(\u001b[0m\u001b[0mself\u001b[0m\u001b[0;34m)\u001b[0m \u001b[0;34m->\u001b[0m \u001b[0mSequence\u001b[0m\u001b[0;34m[\u001b[0m\u001b[0mnp\u001b[0m\u001b[0;34m.\u001b[0m\u001b[0mndarray\u001b[0m\u001b[0;34m]\u001b[0m\u001b[0;34m:\u001b[0m\u001b[0;34m\u001b[0m\u001b[0;34m\u001b[0m\u001b[0m\n",
            "\u001b[0;32m/usr/local/lib/python3.7/dist-packages/stable_baselines3/common/vec_env/subproc_vec_env.py\u001b[0m in \u001b[0;36mstep_wait\u001b[0;34m(self)\u001b[0m\n\u001b[1;32m    118\u001b[0m \u001b[0;34m\u001b[0m\u001b[0m\n\u001b[1;32m    119\u001b[0m     \u001b[0;32mdef\u001b[0m \u001b[0mstep_wait\u001b[0m\u001b[0;34m(\u001b[0m\u001b[0mself\u001b[0m\u001b[0;34m)\u001b[0m \u001b[0;34m->\u001b[0m \u001b[0mVecEnvStepReturn\u001b[0m\u001b[0;34m:\u001b[0m\u001b[0;34m\u001b[0m\u001b[0;34m\u001b[0m\u001b[0m\n\u001b[0;32m--> 120\u001b[0;31m         \u001b[0mresults\u001b[0m \u001b[0;34m=\u001b[0m \u001b[0;34m[\u001b[0m\u001b[0mremote\u001b[0m\u001b[0;34m.\u001b[0m\u001b[0mrecv\u001b[0m\u001b[0;34m(\u001b[0m\u001b[0;34m)\u001b[0m \u001b[0;32mfor\u001b[0m \u001b[0mremote\u001b[0m \u001b[0;32min\u001b[0m \u001b[0mself\u001b[0m\u001b[0;34m.\u001b[0m\u001b[0mremotes\u001b[0m\u001b[0;34m]\u001b[0m\u001b[0;34m\u001b[0m\u001b[0;34m\u001b[0m\u001b[0m\n\u001b[0m\u001b[1;32m    121\u001b[0m         \u001b[0mself\u001b[0m\u001b[0;34m.\u001b[0m\u001b[0mwaiting\u001b[0m \u001b[0;34m=\u001b[0m \u001b[0;32mFalse\u001b[0m\u001b[0;34m\u001b[0m\u001b[0;34m\u001b[0m\u001b[0m\n\u001b[1;32m    122\u001b[0m         \u001b[0mobs\u001b[0m\u001b[0;34m,\u001b[0m \u001b[0mrews\u001b[0m\u001b[0;34m,\u001b[0m \u001b[0mdones\u001b[0m\u001b[0;34m,\u001b[0m \u001b[0minfos\u001b[0m \u001b[0;34m=\u001b[0m \u001b[0mzip\u001b[0m\u001b[0;34m(\u001b[0m\u001b[0;34m*\u001b[0m\u001b[0mresults\u001b[0m\u001b[0;34m)\u001b[0m\u001b[0;34m\u001b[0m\u001b[0;34m\u001b[0m\u001b[0m\n",
            "\u001b[0;32m/usr/local/lib/python3.7/dist-packages/stable_baselines3/common/vec_env/subproc_vec_env.py\u001b[0m in \u001b[0;36m<listcomp>\u001b[0;34m(.0)\u001b[0m\n\u001b[1;32m    118\u001b[0m \u001b[0;34m\u001b[0m\u001b[0m\n\u001b[1;32m    119\u001b[0m     \u001b[0;32mdef\u001b[0m \u001b[0mstep_wait\u001b[0m\u001b[0;34m(\u001b[0m\u001b[0mself\u001b[0m\u001b[0;34m)\u001b[0m \u001b[0;34m->\u001b[0m \u001b[0mVecEnvStepReturn\u001b[0m\u001b[0;34m:\u001b[0m\u001b[0;34m\u001b[0m\u001b[0;34m\u001b[0m\u001b[0m\n\u001b[0;32m--> 120\u001b[0;31m         \u001b[0mresults\u001b[0m \u001b[0;34m=\u001b[0m \u001b[0;34m[\u001b[0m\u001b[0mremote\u001b[0m\u001b[0;34m.\u001b[0m\u001b[0mrecv\u001b[0m\u001b[0;34m(\u001b[0m\u001b[0;34m)\u001b[0m \u001b[0;32mfor\u001b[0m \u001b[0mremote\u001b[0m \u001b[0;32min\u001b[0m \u001b[0mself\u001b[0m\u001b[0;34m.\u001b[0m\u001b[0mremotes\u001b[0m\u001b[0;34m]\u001b[0m\u001b[0;34m\u001b[0m\u001b[0;34m\u001b[0m\u001b[0m\n\u001b[0m\u001b[1;32m    121\u001b[0m         \u001b[0mself\u001b[0m\u001b[0;34m.\u001b[0m\u001b[0mwaiting\u001b[0m \u001b[0;34m=\u001b[0m \u001b[0;32mFalse\u001b[0m\u001b[0;34m\u001b[0m\u001b[0;34m\u001b[0m\u001b[0m\n\u001b[1;32m    122\u001b[0m         \u001b[0mobs\u001b[0m\u001b[0;34m,\u001b[0m \u001b[0mrews\u001b[0m\u001b[0;34m,\u001b[0m \u001b[0mdones\u001b[0m\u001b[0;34m,\u001b[0m \u001b[0minfos\u001b[0m \u001b[0;34m=\u001b[0m \u001b[0mzip\u001b[0m\u001b[0;34m(\u001b[0m\u001b[0;34m*\u001b[0m\u001b[0mresults\u001b[0m\u001b[0;34m)\u001b[0m\u001b[0;34m\u001b[0m\u001b[0;34m\u001b[0m\u001b[0m\n",
            "\u001b[0;32m/usr/lib/python3.7/multiprocessing/connection.py\u001b[0m in \u001b[0;36mrecv\u001b[0;34m(self)\u001b[0m\n\u001b[1;32m    248\u001b[0m         \u001b[0mself\u001b[0m\u001b[0;34m.\u001b[0m\u001b[0m_check_closed\u001b[0m\u001b[0;34m(\u001b[0m\u001b[0;34m)\u001b[0m\u001b[0;34m\u001b[0m\u001b[0;34m\u001b[0m\u001b[0m\n\u001b[1;32m    249\u001b[0m         \u001b[0mself\u001b[0m\u001b[0;34m.\u001b[0m\u001b[0m_check_readable\u001b[0m\u001b[0;34m(\u001b[0m\u001b[0;34m)\u001b[0m\u001b[0;34m\u001b[0m\u001b[0;34m\u001b[0m\u001b[0m\n\u001b[0;32m--> 250\u001b[0;31m         \u001b[0mbuf\u001b[0m \u001b[0;34m=\u001b[0m \u001b[0mself\u001b[0m\u001b[0;34m.\u001b[0m\u001b[0m_recv_bytes\u001b[0m\u001b[0;34m(\u001b[0m\u001b[0;34m)\u001b[0m\u001b[0;34m\u001b[0m\u001b[0;34m\u001b[0m\u001b[0m\n\u001b[0m\u001b[1;32m    251\u001b[0m         \u001b[0;32mreturn\u001b[0m \u001b[0m_ForkingPickler\u001b[0m\u001b[0;34m.\u001b[0m\u001b[0mloads\u001b[0m\u001b[0;34m(\u001b[0m\u001b[0mbuf\u001b[0m\u001b[0;34m.\u001b[0m\u001b[0mgetbuffer\u001b[0m\u001b[0;34m(\u001b[0m\u001b[0;34m)\u001b[0m\u001b[0;34m)\u001b[0m\u001b[0;34m\u001b[0m\u001b[0;34m\u001b[0m\u001b[0m\n\u001b[1;32m    252\u001b[0m \u001b[0;34m\u001b[0m\u001b[0m\n",
            "\u001b[0;32m/usr/lib/python3.7/multiprocessing/connection.py\u001b[0m in \u001b[0;36m_recv_bytes\u001b[0;34m(self, maxsize)\u001b[0m\n\u001b[1;32m    405\u001b[0m \u001b[0;34m\u001b[0m\u001b[0m\n\u001b[1;32m    406\u001b[0m     \u001b[0;32mdef\u001b[0m \u001b[0m_recv_bytes\u001b[0m\u001b[0;34m(\u001b[0m\u001b[0mself\u001b[0m\u001b[0;34m,\u001b[0m \u001b[0mmaxsize\u001b[0m\u001b[0;34m=\u001b[0m\u001b[0;32mNone\u001b[0m\u001b[0;34m)\u001b[0m\u001b[0;34m:\u001b[0m\u001b[0;34m\u001b[0m\u001b[0;34m\u001b[0m\u001b[0m\n\u001b[0;32m--> 407\u001b[0;31m         \u001b[0mbuf\u001b[0m \u001b[0;34m=\u001b[0m \u001b[0mself\u001b[0m\u001b[0;34m.\u001b[0m\u001b[0m_recv\u001b[0m\u001b[0;34m(\u001b[0m\u001b[0;36m4\u001b[0m\u001b[0;34m)\u001b[0m\u001b[0;34m\u001b[0m\u001b[0;34m\u001b[0m\u001b[0m\n\u001b[0m\u001b[1;32m    408\u001b[0m         \u001b[0msize\u001b[0m\u001b[0;34m,\u001b[0m \u001b[0;34m=\u001b[0m \u001b[0mstruct\u001b[0m\u001b[0;34m.\u001b[0m\u001b[0munpack\u001b[0m\u001b[0;34m(\u001b[0m\u001b[0;34m\"!i\"\u001b[0m\u001b[0;34m,\u001b[0m \u001b[0mbuf\u001b[0m\u001b[0;34m.\u001b[0m\u001b[0mgetvalue\u001b[0m\u001b[0;34m(\u001b[0m\u001b[0;34m)\u001b[0m\u001b[0;34m)\u001b[0m\u001b[0;34m\u001b[0m\u001b[0;34m\u001b[0m\u001b[0m\n\u001b[1;32m    409\u001b[0m         \u001b[0;32mif\u001b[0m \u001b[0mmaxsize\u001b[0m \u001b[0;32mis\u001b[0m \u001b[0;32mnot\u001b[0m \u001b[0;32mNone\u001b[0m \u001b[0;32mand\u001b[0m \u001b[0msize\u001b[0m \u001b[0;34m>\u001b[0m \u001b[0mmaxsize\u001b[0m\u001b[0;34m:\u001b[0m\u001b[0;34m\u001b[0m\u001b[0;34m\u001b[0m\u001b[0m\n",
            "\u001b[0;32m/usr/lib/python3.7/multiprocessing/connection.py\u001b[0m in \u001b[0;36m_recv\u001b[0;34m(self, size, read)\u001b[0m\n\u001b[1;32m    377\u001b[0m         \u001b[0mremaining\u001b[0m \u001b[0;34m=\u001b[0m \u001b[0msize\u001b[0m\u001b[0;34m\u001b[0m\u001b[0;34m\u001b[0m\u001b[0m\n\u001b[1;32m    378\u001b[0m         \u001b[0;32mwhile\u001b[0m \u001b[0mremaining\u001b[0m \u001b[0;34m>\u001b[0m \u001b[0;36m0\u001b[0m\u001b[0;34m:\u001b[0m\u001b[0;34m\u001b[0m\u001b[0;34m\u001b[0m\u001b[0m\n\u001b[0;32m--> 379\u001b[0;31m             \u001b[0mchunk\u001b[0m \u001b[0;34m=\u001b[0m \u001b[0mread\u001b[0m\u001b[0;34m(\u001b[0m\u001b[0mhandle\u001b[0m\u001b[0;34m,\u001b[0m \u001b[0mremaining\u001b[0m\u001b[0;34m)\u001b[0m\u001b[0;34m\u001b[0m\u001b[0;34m\u001b[0m\u001b[0m\n\u001b[0m\u001b[1;32m    380\u001b[0m             \u001b[0mn\u001b[0m \u001b[0;34m=\u001b[0m \u001b[0mlen\u001b[0m\u001b[0;34m(\u001b[0m\u001b[0mchunk\u001b[0m\u001b[0;34m)\u001b[0m\u001b[0;34m\u001b[0m\u001b[0;34m\u001b[0m\u001b[0m\n\u001b[1;32m    381\u001b[0m             \u001b[0;32mif\u001b[0m \u001b[0mn\u001b[0m \u001b[0;34m==\u001b[0m \u001b[0;36m0\u001b[0m\u001b[0;34m:\u001b[0m\u001b[0;34m\u001b[0m\u001b[0;34m\u001b[0m\u001b[0m\n",
            "\u001b[0;31mKeyboardInterrupt\u001b[0m: "
          ]
        }
      ]
    },
    {
      "cell_type": "code",
      "metadata": {
        "id": "x3gJfj1p-wp4"
      },
      "source": [
        "model.save(\"different.model\")"
      ],
      "execution_count": null,
      "outputs": []
    },
    {
      "cell_type": "code",
      "metadata": {
        "id": "efwBi84ch1jE"
      },
      "source": [
        "data_turbulence = processed[(processed.date<'2019-01-01') & (processed.date>='2009-01-01')]\n",
        "insample_turbulence = data_turbulence.drop_duplicates(subset=['date'])"
      ],
      "execution_count": 16,
      "outputs": []
    },
    {
      "cell_type": "code",
      "metadata": {
        "colab": {
          "base_uri": "https://localhost:8080/"
        },
        "id": "VHZMBpSqh1jG",
        "outputId": "f82c76a3-e84d-429b-d002-97ec27fc3e00"
      },
      "source": [
        "insample_turbulence.turbulence.describe()"
      ],
      "execution_count": 17,
      "outputs": [
        {
          "output_type": "execute_result",
          "data": {
            "text/plain": [
              "count    2516.000000\n",
              "mean        3.045820\n",
              "std         8.267865\n",
              "min         0.000000\n",
              "25%         0.389617\n",
              "50%         1.190446\n",
              "75%         2.810145\n",
              "max       158.821393\n",
              "Name: turbulence, dtype: float64"
            ]
          },
          "metadata": {
            "tags": []
          },
          "execution_count": 17
        }
      ]
    },
    {
      "cell_type": "code",
      "metadata": {
        "id": "yuwDPkV9h1jL"
      },
      "source": [
        "turbulence_threshold = np.quantile(insample_turbulence.turbulence.values,1)"
      ],
      "execution_count": 18,
      "outputs": []
    },
    {
      "cell_type": "code",
      "metadata": {
        "colab": {
          "base_uri": "https://localhost:8080/"
        },
        "id": "wwoz_7VSh1jO",
        "outputId": "435a3072-82a8-47f8-da68-7e4bddbc18ff"
      },
      "source": [
        "turbulence_threshold"
      ],
      "execution_count": 19,
      "outputs": [
        {
          "output_type": "execute_result",
          "data": {
            "text/plain": [
              "158.82139323537854"
            ]
          },
          "metadata": {
            "tags": []
          },
          "execution_count": 19
        }
      ]
    },
    {
      "cell_type": "markdown",
      "metadata": {
        "id": "U5mmgQF_h1jQ"
      },
      "source": [
        "### Trade\n",
        "\n",
        "DRL model needs to update periodically in order to take full advantage of the data, ideally we need to retrain our model yearly, quarterly, or monthly. We also need to tune the parameters along the way, in this notebook I only use the in-sample data from 2009-01 to 2018-12 to tune the parameters once, so there is some alpha decay here as the length of trade date extends. \n",
        "\n",
        "Numerous hyperparameters – e.g. the learning rate, the total number of samples to train on – influence the learning process and are usually determined by testing some variations."
      ]
    },
    {
      "cell_type": "code",
      "metadata": {
        "id": "wsz7d5cP-wp4",
        "colab": {
          "base_uri": "https://localhost:8080/",
          "height": 358
        },
        "outputId": "e8114917-3098-43f5-8037-68c2fef672d2"
      },
      "source": [
        "trade.head(10)"
      ],
      "execution_count": 21,
      "outputs": [
        {
          "output_type": "execute_result",
          "data": {
            "text/html": [
              "<div>\n",
              "<style scoped>\n",
              "    .dataframe tbody tr th:only-of-type {\n",
              "        vertical-align: middle;\n",
              "    }\n",
              "\n",
              "    .dataframe tbody tr th {\n",
              "        vertical-align: top;\n",
              "    }\n",
              "\n",
              "    .dataframe thead th {\n",
              "        text-align: right;\n",
              "    }\n",
              "</style>\n",
              "<table border=\"1\" class=\"dataframe\">\n",
              "  <thead>\n",
              "    <tr style=\"text-align: right;\">\n",
              "      <th></th>\n",
              "      <th>date</th>\n",
              "      <th>open</th>\n",
              "      <th>high</th>\n",
              "      <th>low</th>\n",
              "      <th>close</th>\n",
              "      <th>volume</th>\n",
              "      <th>tic</th>\n",
              "      <th>day</th>\n",
              "      <th>macd</th>\n",
              "      <th>macds</th>\n",
              "      <th>macdh</th>\n",
              "      <th>close_14_ema</th>\n",
              "      <th>rsi_30</th>\n",
              "      <th>cci_30</th>\n",
              "      <th>dx_30</th>\n",
              "      <th>turbulence</th>\n",
              "    </tr>\n",
              "  </thead>\n",
              "  <tbody>\n",
              "    <tr>\n",
              "      <th>0</th>\n",
              "      <td>2019-01-02</td>\n",
              "      <td>42.279999</td>\n",
              "      <td>43.200001</td>\n",
              "      <td>42.209999</td>\n",
              "      <td>39.496738</td>\n",
              "      <td>23833500</td>\n",
              "      <td>CSCO</td>\n",
              "      <td>2</td>\n",
              "      <td>-0.939011</td>\n",
              "      <td>-0.795484</td>\n",
              "      <td>-0.143527</td>\n",
              "      <td>40.074813</td>\n",
              "      <td>44.872565</td>\n",
              "      <td>-87.556999</td>\n",
              "      <td>29.529377</td>\n",
              "      <td>3.208729</td>\n",
              "    </tr>\n",
              "    <tr>\n",
              "      <th>0</th>\n",
              "      <td>2019-01-02</td>\n",
              "      <td>112.010002</td>\n",
              "      <td>115.980003</td>\n",
              "      <td>111.690002</td>\n",
              "      <td>100.782135</td>\n",
              "      <td>4239900</td>\n",
              "      <td>IBM</td>\n",
              "      <td>2</td>\n",
              "      <td>-2.239115</td>\n",
              "      <td>-2.264692</td>\n",
              "      <td>0.025577</td>\n",
              "      <td>100.528203</td>\n",
              "      <td>42.655677</td>\n",
              "      <td>-75.985288</td>\n",
              "      <td>19.746436</td>\n",
              "      <td>3.208729</td>\n",
              "    </tr>\n",
              "    <tr>\n",
              "      <th>0</th>\n",
              "      <td>2019-01-02</td>\n",
              "      <td>128.130005</td>\n",
              "      <td>128.380005</td>\n",
              "      <td>126.279999</td>\n",
              "      <td>119.464256</td>\n",
              "      <td>7631700</td>\n",
              "      <td>JNJ</td>\n",
              "      <td>2</td>\n",
              "      <td>-3.988228</td>\n",
              "      <td>-3.365367</td>\n",
              "      <td>-0.622862</td>\n",
              "      <td>122.477685</td>\n",
              "      <td>40.136256</td>\n",
              "      <td>-90.896149</td>\n",
              "      <td>41.067317</td>\n",
              "      <td>3.208729</td>\n",
              "    </tr>\n",
              "    <tr>\n",
              "      <th>1</th>\n",
              "      <td>2019-01-03</td>\n",
              "      <td>42.299999</td>\n",
              "      <td>42.410000</td>\n",
              "      <td>40.959999</td>\n",
              "      <td>38.060322</td>\n",
              "      <td>29606700</td>\n",
              "      <td>CSCO</td>\n",
              "      <td>3</td>\n",
              "      <td>-1.016141</td>\n",
              "      <td>-0.839616</td>\n",
              "      <td>-0.176526</td>\n",
              "      <td>39.806214</td>\n",
              "      <td>41.861397</td>\n",
              "      <td>-119.073431</td>\n",
              "      <td>37.886570</td>\n",
              "      <td>4.971465</td>\n",
              "    </tr>\n",
              "    <tr>\n",
              "      <th>1</th>\n",
              "      <td>2019-01-03</td>\n",
              "      <td>114.529999</td>\n",
              "      <td>114.879997</td>\n",
              "      <td>112.690002</td>\n",
              "      <td>98.770157</td>\n",
              "      <td>4346700</td>\n",
              "      <td>IBM</td>\n",
              "      <td>3</td>\n",
              "      <td>-2.187017</td>\n",
              "      <td>-2.249157</td>\n",
              "      <td>0.062140</td>\n",
              "      <td>100.293797</td>\n",
              "      <td>40.845553</td>\n",
              "      <td>-83.284008</td>\n",
              "      <td>19.746436</td>\n",
              "      <td>4.971465</td>\n",
              "    </tr>\n",
              "    <tr>\n",
              "      <th>1</th>\n",
              "      <td>2019-01-03</td>\n",
              "      <td>128.139999</td>\n",
              "      <td>128.270004</td>\n",
              "      <td>125.360001</td>\n",
              "      <td>117.565910</td>\n",
              "      <td>8654500</td>\n",
              "      <td>JNJ</td>\n",
              "      <td>3</td>\n",
              "      <td>-4.024823</td>\n",
              "      <td>-3.497258</td>\n",
              "      <td>-0.527565</td>\n",
              "      <td>121.822782</td>\n",
              "      <td>38.438069</td>\n",
              "      <td>-91.018582</td>\n",
              "      <td>43.015719</td>\n",
              "      <td>4.971465</td>\n",
              "    </tr>\n",
              "    <tr>\n",
              "      <th>2</th>\n",
              "      <td>2019-01-04</td>\n",
              "      <td>41.849998</td>\n",
              "      <td>43.000000</td>\n",
              "      <td>41.529999</td>\n",
              "      <td>39.774750</td>\n",
              "      <td>27515000</td>\n",
              "      <td>CSCO</td>\n",
              "      <td>4</td>\n",
              "      <td>-0.928228</td>\n",
              "      <td>-0.857338</td>\n",
              "      <td>-0.070890</td>\n",
              "      <td>39.802019</td>\n",
              "      <td>46.309866</td>\n",
              "      <td>-79.661539</td>\n",
              "      <td>30.101873</td>\n",
              "      <td>8.633852</td>\n",
              "    </tr>\n",
              "    <tr>\n",
              "      <th>2</th>\n",
              "      <td>2019-01-04</td>\n",
              "      <td>114.910004</td>\n",
              "      <td>117.489998</td>\n",
              "      <td>114.440002</td>\n",
              "      <td>102.627876</td>\n",
              "      <td>4477800</td>\n",
              "      <td>IBM</td>\n",
              "      <td>4</td>\n",
              "      <td>-1.813538</td>\n",
              "      <td>-2.162033</td>\n",
              "      <td>0.348495</td>\n",
              "      <td>100.605007</td>\n",
              "      <td>45.438081</td>\n",
              "      <td>-27.603393</td>\n",
              "      <td>6.563225</td>\n",
              "      <td>8.633852</td>\n",
              "    </tr>\n",
              "    <tr>\n",
              "      <th>2</th>\n",
              "      <td>2019-01-04</td>\n",
              "      <td>127.120003</td>\n",
              "      <td>128.649994</td>\n",
              "      <td>126.730003</td>\n",
              "      <td>119.539070</td>\n",
              "      <td>8831700</td>\n",
              "      <td>JNJ</td>\n",
              "      <td>4</td>\n",
              "      <td>-3.850225</td>\n",
              "      <td>-3.567851</td>\n",
              "      <td>-0.282373</td>\n",
              "      <td>121.518287</td>\n",
              "      <td>41.116925</td>\n",
              "      <td>-75.113367</td>\n",
              "      <td>40.958119</td>\n",
              "      <td>8.633852</td>\n",
              "    </tr>\n",
              "    <tr>\n",
              "      <th>3</th>\n",
              "      <td>2019-01-07</td>\n",
              "      <td>42.860001</td>\n",
              "      <td>43.650002</td>\n",
              "      <td>42.759998</td>\n",
              "      <td>40.043495</td>\n",
              "      <td>19488100</td>\n",
              "      <td>CSCO</td>\n",
              "      <td>0</td>\n",
              "      <td>-0.827333</td>\n",
              "      <td>-0.851337</td>\n",
              "      <td>0.024004</td>\n",
              "      <td>39.834216</td>\n",
              "      <td>46.967873</td>\n",
              "      <td>-52.577659</td>\n",
              "      <td>21.990898</td>\n",
              "      <td>0.850546</td>\n",
              "    </tr>\n",
              "  </tbody>\n",
              "</table>\n",
              "</div>"
            ],
            "text/plain": [
              "         date        open        high  ...      cci_30      dx_30  turbulence\n",
              "0  2019-01-02   42.279999   43.200001  ...  -87.556999  29.529377    3.208729\n",
              "0  2019-01-02  112.010002  115.980003  ...  -75.985288  19.746436    3.208729\n",
              "0  2019-01-02  128.130005  128.380005  ...  -90.896149  41.067317    3.208729\n",
              "1  2019-01-03   42.299999   42.410000  ... -119.073431  37.886570    4.971465\n",
              "1  2019-01-03  114.529999  114.879997  ...  -83.284008  19.746436    4.971465\n",
              "1  2019-01-03  128.139999  128.270004  ...  -91.018582  43.015719    4.971465\n",
              "2  2019-01-04   41.849998   43.000000  ...  -79.661539  30.101873    8.633852\n",
              "2  2019-01-04  114.910004  117.489998  ...  -27.603393   6.563225    8.633852\n",
              "2  2019-01-04  127.120003  128.649994  ...  -75.113367  40.958119    8.633852\n",
              "3  2019-01-07   42.860001   43.650002  ...  -52.577659  21.990898    0.850546\n",
              "\n",
              "[10 rows x 16 columns]"
            ]
          },
          "metadata": {
            "tags": []
          },
          "execution_count": 21
        }
      ]
    },
    {
      "cell_type": "code",
      "metadata": {
        "id": "eLOnL5eYh1jR"
      },
      "source": [
        "\n",
        "e_trade_gym.hmax = 2500\n",
        "\n",
        "\n",
        "\n"
      ],
      "execution_count": null,
      "outputs": []
    },
    {
      "cell_type": "code",
      "metadata": {
        "id": "UynXV1tk-wp4",
        "colab": {
          "base_uri": "https://localhost:8080/"
        },
        "outputId": "dc485e36-9005-4c24-b485-67100af5df8d"
      },
      "source": [
        "print(len(e_trade_gym.dates))"
      ],
      "execution_count": null,
      "outputs": [
        {
          "output_type": "stream",
          "text": [
            "505\n"
          ],
          "name": "stdout"
        }
      ]
    },
    {
      "cell_type": "code",
      "metadata": {
        "id": "Uy1J617U-wp5",
        "colab": {
          "base_uri": "https://localhost:8080/",
          "height": 186
        },
        "outputId": "dc09ef64-ee42-49f3-a207-2db4e2012970"
      },
      "source": [
        "df_account_value, df_actions = DRLAgent.DRL_prediction(model=model,environment = e_trade_gym)"
      ],
      "execution_count": null,
      "outputs": [
        {
          "output_type": "error",
          "ename": "NameError",
          "evalue": "ignored",
          "traceback": [
            "\u001b[0;31m---------------------------------------------------------------------------\u001b[0m",
            "\u001b[0;31mNameError\u001b[0m                                 Traceback (most recent call last)",
            "\u001b[0;32m<ipython-input-2-86e321e5d478>\u001b[0m in \u001b[0;36m<module>\u001b[0;34m()\u001b[0m\n\u001b[0;32m----> 1\u001b[0;31m \u001b[0mdf_account_value\u001b[0m\u001b[0;34m,\u001b[0m \u001b[0mdf_actions\u001b[0m \u001b[0;34m=\u001b[0m \u001b[0mDRLAgent\u001b[0m\u001b[0;34m.\u001b[0m\u001b[0mDRL_prediction\u001b[0m\u001b[0;34m(\u001b[0m\u001b[0mmodel\u001b[0m\u001b[0;34m=\u001b[0m\u001b[0mmodel\u001b[0m\u001b[0;34m,\u001b[0m\u001b[0menvironment\u001b[0m \u001b[0;34m=\u001b[0m \u001b[0me_trade_gym\u001b[0m\u001b[0;34m)\u001b[0m\u001b[0;34m\u001b[0m\u001b[0;34m\u001b[0m\u001b[0m\n\u001b[0m",
            "\u001b[0;31mNameError\u001b[0m: name 'DRLAgent' is not defined"
          ]
        }
      ]
    },
    {
      "cell_type": "code",
      "metadata": {
        "colab": {
          "base_uri": "https://localhost:8080/",
          "height": 168
        },
        "id": "ERxw3KqLkcP4",
        "outputId": "8aafac92-5dcc-4dae-924e-953ae8551b5a"
      },
      "source": [
        "df_account_value.shape"
      ],
      "execution_count": null,
      "outputs": [
        {
          "output_type": "error",
          "ename": "NameError",
          "evalue": "ignored",
          "traceback": [
            "\u001b[0;31m---------------------------------------------------------------------------\u001b[0m",
            "\u001b[0;31mNameError\u001b[0m                                 Traceback (most recent call last)",
            "\u001b[0;32m<ipython-input-1-8a5b2375c4fd>\u001b[0m in \u001b[0;36m<module>\u001b[0;34m()\u001b[0m\n\u001b[0;32m----> 1\u001b[0;31m \u001b[0mdf_account_value\u001b[0m\u001b[0;34m.\u001b[0m\u001b[0mshape\u001b[0m\u001b[0;34m\u001b[0m\u001b[0;34m\u001b[0m\u001b[0m\n\u001b[0m",
            "\u001b[0;31mNameError\u001b[0m: name 'df_account_value' is not defined"
          ]
        }
      ]
    },
    {
      "cell_type": "code",
      "metadata": {
        "id": "2yRkNguY5yvp"
      },
      "source": [
        "df_account_value.head(50)"
      ],
      "execution_count": null,
      "outputs": []
    },
    {
      "cell_type": "markdown",
      "metadata": {
        "id": "W6vvNSC6h1jZ"
      },
      "source": [
        "<a id='6'></a>\n",
        "# Part 7: Backtest Our Strategy\n",
        "Backtesting plays a key role in evaluating the performance of a trading strategy. Automated backtesting tool is preferred because it reduces the human error. We usually use the Quantopian pyfolio package to backtest our trading strategies. It is easy to use and consists of various individual plots that provide a comprehensive image of the performance of a trading strategy."
      ]
    },
    {
      "cell_type": "markdown",
      "metadata": {
        "id": "Lr2zX7ZxNyFQ"
      },
      "source": [
        "<a id='6.1'></a>\n",
        "## 7.1 BackTestStats\n",
        "pass in df_account_value, this information is stored in env class\n"
      ]
    },
    {
      "cell_type": "code",
      "metadata": {
        "id": "Nzkr9yv-AdV_"
      },
      "source": [
        "print(\"==============Get Backtest Results===========\")\n",
        "perf_stats_all = backtest_stats(account_value=df_account_value, value_col_name = 'total_assets')"
      ],
      "execution_count": null,
      "outputs": []
    },
    {
      "cell_type": "markdown",
      "metadata": {
        "id": "9U6Suru3h1jc"
      },
      "source": [
        "<a id='6.2'></a>\n",
        "## 7.2 BackTestPlot"
      ]
    },
    {
      "cell_type": "code",
      "metadata": {
        "id": "lKRGftSS7pNM"
      },
      "source": [
        "print(\"==============Compare to DJIA===========\")\n",
        "%matplotlib inline\n",
        "# S&P 500: ^GSPC\n",
        "# Dow Jones Index: ^DJI\n",
        "# NASDAQ 100: ^NDX\n",
        "backtest_plot(df_account_value, \n",
        "             baseline_ticker = '^DJI', \n",
        "             baseline_start = '2019-01-01',\n",
        "             baseline_end = '2021-01-01', value_col_name = 'total_assets')"
      ],
      "execution_count": null,
      "outputs": []
    },
    {
      "cell_type": "code",
      "metadata": {
        "id": "btv3b3q1-wp6"
      },
      "source": [
        ""
      ],
      "execution_count": null,
      "outputs": []
    }
  ]
}