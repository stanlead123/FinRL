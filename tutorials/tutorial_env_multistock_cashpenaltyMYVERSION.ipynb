{
  "nbformat": 4,
  "nbformat_minor": 0,
  "metadata": {
    "colab": {
      "name": "tutorial_env_multistock_cashpenalty.ipynb",
      "provenance": [],
      "collapsed_sections": [
        "uijiWgkuh1jB"
      ]
    },
    "kernelspec": {
      "display_name": "Python 3",
      "language": "python",
      "name": "python3"
    },
    "language_info": {
      "codemirror_mode": {
        "name": "ipython",
        "version": 3
      },
      "file_extension": ".py",
      "mimetype": "text/x-python",
      "name": "python",
      "nbconvert_exporter": "python",
      "pygments_lexer": "ipython3",
      "version": "3.6.12"
    },
    "pycharm": {
      "stem_cell": {
        "cell_type": "raw",
        "metadata": {
          "collapsed": false
        },
        "source": []
      }
    },
    "accelerator": "GPU"
  },
  "cells": [
    {
      "cell_type": "code",
      "metadata": {
        "id": "qmY71e44TPCs",
        "outputId": "72b18b55-147c-4ac0-acf0-4a0d4042a966",
        "colab": {
          "base_uri": "https://localhost:8080/"
        }
      },
      "source": [
        "!pip install git+https://github.com/AI4Finance-LLC/FinRL-Library.git"
      ],
      "execution_count": 1,
      "outputs": [
        {
          "output_type": "stream",
          "text": [
            "Collecting git+https://github.com/AI4Finance-LLC/FinRL-Library.git\n",
            "  Cloning https://github.com/AI4Finance-LLC/FinRL-Library.git to /tmp/pip-req-build-_rb_mbwi\n",
            "  Running command git clone -q https://github.com/AI4Finance-LLC/FinRL-Library.git /tmp/pip-req-build-_rb_mbwi\n",
            "Collecting pyfolio@ git+https://github.com/quantopian/pyfolio.git#egg=pyfolio-0.9.2\n",
            "  Cloning https://github.com/quantopian/pyfolio.git to /tmp/pip-install-wtksrkl8/pyfolio_bb463ef6e2df44a9865569edec3f0fa9\n",
            "  Running command git clone -q https://github.com/quantopian/pyfolio.git /tmp/pip-install-wtksrkl8/pyfolio_bb463ef6e2df44a9865569edec3f0fa9\n",
            "Requirement already satisfied: numpy>=1.17.3 in /usr/local/lib/python3.7/dist-packages (from finrl==0.3.0) (1.19.5)\n",
            "Requirement already satisfied: pandas>=1.1.5 in /usr/local/lib/python3.7/dist-packages (from finrl==0.3.0) (1.1.5)\n",
            "Requirement already satisfied: stockstats in /usr/local/lib/python3.7/dist-packages (from finrl==0.3.0) (0.3.2)\n",
            "Requirement already satisfied: yfinance in /usr/local/lib/python3.7/dist-packages (from finrl==0.3.0) (0.1.63)\n",
            "Requirement already satisfied: matplotlib in /usr/local/lib/python3.7/dist-packages (from finrl==0.3.0) (3.2.2)\n",
            "Requirement already satisfied: scikit-learn>=0.21.0 in /usr/local/lib/python3.7/dist-packages (from finrl==0.3.0) (0.22.2.post1)\n",
            "Requirement already satisfied: gym>=0.17 in /usr/local/lib/python3.7/dist-packages (from finrl==0.3.0) (0.17.3)\n",
            "Requirement already satisfied: stable-baselines3[extra] in /usr/local/lib/python3.7/dist-packages (from finrl==0.3.0) (1.1.0)\n",
            "Requirement already satisfied: pytest in /usr/local/lib/python3.7/dist-packages (from finrl==0.3.0) (3.6.4)\n",
            "Requirement already satisfied: setuptools>=41.4.0 in /usr/local/lib/python3.7/dist-packages (from finrl==0.3.0) (57.2.0)\n",
            "Requirement already satisfied: wheel>=0.33.6 in /usr/local/lib/python3.7/dist-packages (from finrl==0.3.0) (0.36.2)\n",
            "Requirement already satisfied: ipython>=3.2.3 in /usr/local/lib/python3.7/dist-packages (from pyfolio@ git+https://github.com/quantopian/pyfolio.git#egg=pyfolio-0.9.2->finrl==0.3.0) (5.5.0)\n",
            "Requirement already satisfied: pytz>=2014.10 in /usr/local/lib/python3.7/dist-packages (from pyfolio@ git+https://github.com/quantopian/pyfolio.git#egg=pyfolio-0.9.2->finrl==0.3.0) (2018.9)\n",
            "Requirement already satisfied: scipy>=0.14.0 in /usr/local/lib/python3.7/dist-packages (from pyfolio@ git+https://github.com/quantopian/pyfolio.git#egg=pyfolio-0.9.2->finrl==0.3.0) (1.4.1)\n",
            "Requirement already satisfied: seaborn>=0.7.1 in /usr/local/lib/python3.7/dist-packages (from pyfolio@ git+https://github.com/quantopian/pyfolio.git#egg=pyfolio-0.9.2->finrl==0.3.0) (0.11.1)\n",
            "Requirement already satisfied: empyrical>=0.5.0 in /usr/local/lib/python3.7/dist-packages (from pyfolio@ git+https://github.com/quantopian/pyfolio.git#egg=pyfolio-0.9.2->finrl==0.3.0) (0.5.5)\n",
            "Requirement already satisfied: pandas-datareader>=0.2 in /usr/local/lib/python3.7/dist-packages (from empyrical>=0.5.0->pyfolio@ git+https://github.com/quantopian/pyfolio.git#egg=pyfolio-0.9.2->finrl==0.3.0) (0.9.0)\n",
            "Requirement already satisfied: cloudpickle<1.7.0,>=1.2.0 in /usr/local/lib/python3.7/dist-packages (from gym>=0.17->finrl==0.3.0) (1.3.0)\n",
            "Requirement already satisfied: pyglet<=1.5.0,>=1.4.0 in /usr/local/lib/python3.7/dist-packages (from gym>=0.17->finrl==0.3.0) (1.5.0)\n",
            "Requirement already satisfied: prompt-toolkit<2.0.0,>=1.0.4 in /usr/local/lib/python3.7/dist-packages (from ipython>=3.2.3->pyfolio@ git+https://github.com/quantopian/pyfolio.git#egg=pyfolio-0.9.2->finrl==0.3.0) (1.0.18)\n",
            "Requirement already satisfied: pygments in /usr/local/lib/python3.7/dist-packages (from ipython>=3.2.3->pyfolio@ git+https://github.com/quantopian/pyfolio.git#egg=pyfolio-0.9.2->finrl==0.3.0) (2.6.1)\n",
            "Requirement already satisfied: pexpect in /usr/local/lib/python3.7/dist-packages (from ipython>=3.2.3->pyfolio@ git+https://github.com/quantopian/pyfolio.git#egg=pyfolio-0.9.2->finrl==0.3.0) (4.8.0)\n",
            "Requirement already satisfied: simplegeneric>0.8 in /usr/local/lib/python3.7/dist-packages (from ipython>=3.2.3->pyfolio@ git+https://github.com/quantopian/pyfolio.git#egg=pyfolio-0.9.2->finrl==0.3.0) (0.8.1)\n",
            "Requirement already satisfied: traitlets>=4.2 in /usr/local/lib/python3.7/dist-packages (from ipython>=3.2.3->pyfolio@ git+https://github.com/quantopian/pyfolio.git#egg=pyfolio-0.9.2->finrl==0.3.0) (5.0.5)\n",
            "Requirement already satisfied: decorator in /usr/local/lib/python3.7/dist-packages (from ipython>=3.2.3->pyfolio@ git+https://github.com/quantopian/pyfolio.git#egg=pyfolio-0.9.2->finrl==0.3.0) (4.4.2)\n",
            "Requirement already satisfied: pickleshare in /usr/local/lib/python3.7/dist-packages (from ipython>=3.2.3->pyfolio@ git+https://github.com/quantopian/pyfolio.git#egg=pyfolio-0.9.2->finrl==0.3.0) (0.7.5)\n",
            "Requirement already satisfied: python-dateutil>=2.1 in /usr/local/lib/python3.7/dist-packages (from matplotlib->finrl==0.3.0) (2.8.1)\n",
            "Requirement already satisfied: kiwisolver>=1.0.1 in /usr/local/lib/python3.7/dist-packages (from matplotlib->finrl==0.3.0) (1.3.1)\n",
            "Requirement already satisfied: cycler>=0.10 in /usr/local/lib/python3.7/dist-packages (from matplotlib->finrl==0.3.0) (0.10.0)\n",
            "Requirement already satisfied: pyparsing!=2.0.4,!=2.1.2,!=2.1.6,>=2.0.1 in /usr/local/lib/python3.7/dist-packages (from matplotlib->finrl==0.3.0) (2.4.7)\n",
            "Requirement already satisfied: six in /usr/local/lib/python3.7/dist-packages (from cycler>=0.10->matplotlib->finrl==0.3.0) (1.15.0)\n",
            "Requirement already satisfied: requests>=2.19.0 in /usr/local/lib/python3.7/dist-packages (from pandas-datareader>=0.2->empyrical>=0.5.0->pyfolio@ git+https://github.com/quantopian/pyfolio.git#egg=pyfolio-0.9.2->finrl==0.3.0) (2.23.0)\n",
            "Requirement already satisfied: lxml in /usr/local/lib/python3.7/dist-packages (from pandas-datareader>=0.2->empyrical>=0.5.0->pyfolio@ git+https://github.com/quantopian/pyfolio.git#egg=pyfolio-0.9.2->finrl==0.3.0) (4.6.3)\n",
            "Requirement already satisfied: wcwidth in /usr/local/lib/python3.7/dist-packages (from prompt-toolkit<2.0.0,>=1.0.4->ipython>=3.2.3->pyfolio@ git+https://github.com/quantopian/pyfolio.git#egg=pyfolio-0.9.2->finrl==0.3.0) (0.2.5)\n",
            "Requirement already satisfied: future in /usr/local/lib/python3.7/dist-packages (from pyglet<=1.5.0,>=1.4.0->gym>=0.17->finrl==0.3.0) (0.16.0)\n",
            "Requirement already satisfied: urllib3!=1.25.0,!=1.25.1,<1.26,>=1.21.1 in /usr/local/lib/python3.7/dist-packages (from requests>=2.19.0->pandas-datareader>=0.2->empyrical>=0.5.0->pyfolio@ git+https://github.com/quantopian/pyfolio.git#egg=pyfolio-0.9.2->finrl==0.3.0) (1.24.3)\n",
            "Requirement already satisfied: chardet<4,>=3.0.2 in /usr/local/lib/python3.7/dist-packages (from requests>=2.19.0->pandas-datareader>=0.2->empyrical>=0.5.0->pyfolio@ git+https://github.com/quantopian/pyfolio.git#egg=pyfolio-0.9.2->finrl==0.3.0) (3.0.4)\n",
            "Requirement already satisfied: idna<3,>=2.5 in /usr/local/lib/python3.7/dist-packages (from requests>=2.19.0->pandas-datareader>=0.2->empyrical>=0.5.0->pyfolio@ git+https://github.com/quantopian/pyfolio.git#egg=pyfolio-0.9.2->finrl==0.3.0) (2.10)\n",
            "Requirement already satisfied: certifi>=2017.4.17 in /usr/local/lib/python3.7/dist-packages (from requests>=2.19.0->pandas-datareader>=0.2->empyrical>=0.5.0->pyfolio@ git+https://github.com/quantopian/pyfolio.git#egg=pyfolio-0.9.2->finrl==0.3.0) (2021.5.30)\n",
            "Requirement already satisfied: joblib>=0.11 in /usr/local/lib/python3.7/dist-packages (from scikit-learn>=0.21.0->finrl==0.3.0) (1.0.1)\n",
            "Requirement already satisfied: ipython-genutils in /usr/local/lib/python3.7/dist-packages (from traitlets>=4.2->ipython>=3.2.3->pyfolio@ git+https://github.com/quantopian/pyfolio.git#egg=pyfolio-0.9.2->finrl==0.3.0) (0.2.0)\n",
            "Requirement already satisfied: ptyprocess>=0.5 in /usr/local/lib/python3.7/dist-packages (from pexpect->ipython>=3.2.3->pyfolio@ git+https://github.com/quantopian/pyfolio.git#egg=pyfolio-0.9.2->finrl==0.3.0) (0.7.0)\n",
            "Requirement already satisfied: py>=1.5.0 in /usr/local/lib/python3.7/dist-packages (from pytest->finrl==0.3.0) (1.10.0)\n",
            "Requirement already satisfied: attrs>=17.4.0 in /usr/local/lib/python3.7/dist-packages (from pytest->finrl==0.3.0) (21.2.0)\n",
            "Requirement already satisfied: pluggy<0.8,>=0.5 in /usr/local/lib/python3.7/dist-packages (from pytest->finrl==0.3.0) (0.7.1)\n",
            "Requirement already satisfied: more-itertools>=4.0.0 in /usr/local/lib/python3.7/dist-packages (from pytest->finrl==0.3.0) (8.8.0)\n",
            "Requirement already satisfied: atomicwrites>=1.0 in /usr/local/lib/python3.7/dist-packages (from pytest->finrl==0.3.0) (1.4.0)\n",
            "Requirement already satisfied: torch>=1.4.0 in /usr/local/lib/python3.7/dist-packages (from stable-baselines3[extra]->finrl==0.3.0) (1.9.0+cu102)\n",
            "Requirement already satisfied: atari-py~=0.2.0 in /usr/local/lib/python3.7/dist-packages (from stable-baselines3[extra]->finrl==0.3.0) (0.2.9)\n",
            "Requirement already satisfied: psutil in /usr/local/lib/python3.7/dist-packages (from stable-baselines3[extra]->finrl==0.3.0) (5.4.8)\n",
            "Requirement already satisfied: pillow in /usr/local/lib/python3.7/dist-packages (from stable-baselines3[extra]->finrl==0.3.0) (7.1.2)\n",
            "Requirement already satisfied: opencv-python in /usr/local/lib/python3.7/dist-packages (from stable-baselines3[extra]->finrl==0.3.0) (4.1.2.30)\n",
            "Requirement already satisfied: tensorboard>=2.2.0 in /usr/local/lib/python3.7/dist-packages (from stable-baselines3[extra]->finrl==0.3.0) (2.5.0)\n",
            "Requirement already satisfied: google-auth<2,>=1.6.3 in /usr/local/lib/python3.7/dist-packages (from tensorboard>=2.2.0->stable-baselines3[extra]->finrl==0.3.0) (1.32.1)\n",
            "Requirement already satisfied: werkzeug>=0.11.15 in /usr/local/lib/python3.7/dist-packages (from tensorboard>=2.2.0->stable-baselines3[extra]->finrl==0.3.0) (1.0.1)\n",
            "Requirement already satisfied: protobuf>=3.6.0 in /usr/local/lib/python3.7/dist-packages (from tensorboard>=2.2.0->stable-baselines3[extra]->finrl==0.3.0) (3.17.3)\n",
            "Requirement already satisfied: absl-py>=0.4 in /usr/local/lib/python3.7/dist-packages (from tensorboard>=2.2.0->stable-baselines3[extra]->finrl==0.3.0) (0.12.0)\n",
            "Requirement already satisfied: markdown>=2.6.8 in /usr/local/lib/python3.7/dist-packages (from tensorboard>=2.2.0->stable-baselines3[extra]->finrl==0.3.0) (3.3.4)\n",
            "Requirement already satisfied: tensorboard-plugin-wit>=1.6.0 in /usr/local/lib/python3.7/dist-packages (from tensorboard>=2.2.0->stable-baselines3[extra]->finrl==0.3.0) (1.8.0)\n",
            "Requirement already satisfied: google-auth-oauthlib<0.5,>=0.4.1 in /usr/local/lib/python3.7/dist-packages (from tensorboard>=2.2.0->stable-baselines3[extra]->finrl==0.3.0) (0.4.4)\n",
            "Requirement already satisfied: grpcio>=1.24.3 in /usr/local/lib/python3.7/dist-packages (from tensorboard>=2.2.0->stable-baselines3[extra]->finrl==0.3.0) (1.34.1)\n",
            "Requirement already satisfied: tensorboard-data-server<0.7.0,>=0.6.0 in /usr/local/lib/python3.7/dist-packages (from tensorboard>=2.2.0->stable-baselines3[extra]->finrl==0.3.0) (0.6.1)\n",
            "Requirement already satisfied: rsa<5,>=3.1.4 in /usr/local/lib/python3.7/dist-packages (from google-auth<2,>=1.6.3->tensorboard>=2.2.0->stable-baselines3[extra]->finrl==0.3.0) (4.7.2)\n",
            "Requirement already satisfied: cachetools<5.0,>=2.0.0 in /usr/local/lib/python3.7/dist-packages (from google-auth<2,>=1.6.3->tensorboard>=2.2.0->stable-baselines3[extra]->finrl==0.3.0) (4.2.2)\n",
            "Requirement already satisfied: pyasn1-modules>=0.2.1 in /usr/local/lib/python3.7/dist-packages (from google-auth<2,>=1.6.3->tensorboard>=2.2.0->stable-baselines3[extra]->finrl==0.3.0) (0.2.8)\n",
            "Requirement already satisfied: requests-oauthlib>=0.7.0 in /usr/local/lib/python3.7/dist-packages (from google-auth-oauthlib<0.5,>=0.4.1->tensorboard>=2.2.0->stable-baselines3[extra]->finrl==0.3.0) (1.3.0)\n",
            "Requirement already satisfied: importlib-metadata in /usr/local/lib/python3.7/dist-packages (from markdown>=2.6.8->tensorboard>=2.2.0->stable-baselines3[extra]->finrl==0.3.0) (4.6.1)\n",
            "Requirement already satisfied: pyasn1<0.5.0,>=0.4.6 in /usr/local/lib/python3.7/dist-packages (from pyasn1-modules>=0.2.1->google-auth<2,>=1.6.3->tensorboard>=2.2.0->stable-baselines3[extra]->finrl==0.3.0) (0.4.8)\n",
            "Requirement already satisfied: oauthlib>=3.0.0 in /usr/local/lib/python3.7/dist-packages (from requests-oauthlib>=0.7.0->google-auth-oauthlib<0.5,>=0.4.1->tensorboard>=2.2.0->stable-baselines3[extra]->finrl==0.3.0) (3.1.1)\n",
            "Requirement already satisfied: typing-extensions in /usr/local/lib/python3.7/dist-packages (from torch>=1.4.0->stable-baselines3[extra]->finrl==0.3.0) (3.7.4.3)\n",
            "Requirement already satisfied: zipp>=0.5 in /usr/local/lib/python3.7/dist-packages (from importlib-metadata->markdown>=2.6.8->tensorboard>=2.2.0->stable-baselines3[extra]->finrl==0.3.0) (3.5.0)\n",
            "Requirement already satisfied: int-date>=0.1.7 in /usr/local/lib/python3.7/dist-packages (from stockstats->finrl==0.3.0) (0.1.8)\n",
            "Requirement already satisfied: multitasking>=0.0.7 in /usr/local/lib/python3.7/dist-packages (from yfinance->finrl==0.3.0) (0.0.9)\n"
          ],
          "name": "stdout"
        }
      ]
    },
    {
      "cell_type": "markdown",
      "metadata": {
        "id": "gXaoZs2lh1hi"
      },
      "source": [
        "# Deep Reinforcement Learning for Stock Trading from Scratch: Multiple Stock Trading\n",
        "\n",
        "Tutorials to use OpenAI DRL to trade multiple stocks in one Jupyter Notebook | Presented at NeurIPS 2020: Deep RL Workshop\n",
        "\n",
        "* This blog is based on our paper: FinRL: A Deep Reinforcement Learning Library for Automated Stock Trading in Quantitative Finance, presented at NeurIPS 2020: Deep RL Workshop.\n",
        "* Check out medium blog for detailed explanations: https://towardsdatascience.com/finrl-for-quantitative-finance-tutorial-for-multiple-stock-trading-7b00763b7530\n",
        "* Please report any issues to our Github: https://github.com/AI4Finance-LLC/FinRL-Library/issues\n",
        "* **Pytorch Version** \n",
        "\n"
      ]
    },
    {
      "cell_type": "markdown",
      "metadata": {
        "id": "lGunVt8oLCVS"
      },
      "source": [
        "# Content"
      ]
    },
    {
      "cell_type": "markdown",
      "metadata": {
        "id": "HOzAKQ-SLGX6"
      },
      "source": [
        "* [1. Problem Definition](#0)\n",
        "* [2. Getting Started - Load Python packages](#1)\n",
        "    * [2.1. Install Packages](#1.1)    \n",
        "    * [2.2. Check Additional Packages](#1.2)\n",
        "    * [2.3. Import Packages](#1.3)\n",
        "    * [2.4. Create Folders](#1.4)\n",
        "* [3. Download Data](#2)\n",
        "* [4. Preprocess Data](#3)        \n",
        "    * [4.1. Technical Indicators](#3.1)\n",
        "    * [4.2. Perform Feature Engineering](#3.2)\n",
        "* [5.Build Environment](#4)  \n",
        "    * [5.1. Training & Trade Data Split](#4.1)\n",
        "    * [5.2. User-defined Environment](#4.2)   \n",
        "    * [5.3. Initialize Environment](#4.3)    \n",
        "* [6.Implement DRL Algorithms](#5)  \n",
        "* [7.Backtesting Performance](#6)  \n",
        "    * [7.1. BackTestStats](#6.1)\n",
        "    * [7.2. BackTestPlot](#6.2)   \n",
        "    * [7.3. Baseline Stats](#6.3)   \n",
        "    * [7.3. Compare to Stock Market Index](#6.4)             "
      ]
    },
    {
      "cell_type": "markdown",
      "metadata": {
        "id": "sApkDlD9LIZv"
      },
      "source": [
        "<a id='0'></a>\n",
        "# Part 1. Problem Definition"
      ]
    },
    {
      "cell_type": "markdown",
      "metadata": {
        "id": "HjLD2TZSLKZ-"
      },
      "source": [
        "This problem is to design an automated trading solution for single stock trading. We model the stock trading process as a Markov Decision Process (MDP). We then formulate our trading goal as a maximization problem.\n",
        "\n",
        "The algorithm is trained using Deep Reinforcement Learning (DRL) algorithms and the components of the reinforcement learning environment are:\n",
        "\n",
        "\n",
        "* Action: The action space describes the allowed actions that the agent interacts with the\n",
        "environment. Normally, a ∈ A includes three actions: a ∈ {−1, 0, 1}, where −1, 0, 1 represent\n",
        "selling, holding, and buying one stock. Also, an action can be carried upon multiple shares. We use\n",
        "an action space {−k, ..., −1, 0, 1, ..., k}, where k denotes the number of shares. For example, \"Buy\n",
        "10 shares of AAPL\" or \"Sell 10 shares of AAPL\" are 10 or −10, respectively\n",
        "\n",
        "* Reward function: r(s, a, s′) is the incentive mechanism for an agent to learn a better action. The change of the portfolio value when action a is taken at state s and arriving at new state s',  i.e., r(s, a, s′) = v′ − v, where v′ and v represent the portfolio\n",
        "values at state s′ and s, respectively\n",
        "\n",
        "* State: The state space describes the observations that the agent receives from the environment. Just as a human trader needs to analyze various information before executing a trade, so\n",
        "our trading agent observes many different features to better learn in an interactive environment.\n",
        "\n",
        "* Environment: Dow 30 consituents\n",
        "\n",
        "\n",
        "The data of the single stock that we will be using for this case study is obtained from Yahoo Finance API. The data contains Open-High-Low-Close price and volume.\n"
      ]
    },
    {
      "cell_type": "markdown",
      "metadata": {
        "id": "Ffsre789LY08"
      },
      "source": [
        "<a id='1'></a>\n",
        "# Part 2. Getting Started- ASSUMES USING DOCKER, see readme for instructions"
      ]
    },
    {
      "cell_type": "markdown",
      "metadata": {
        "id": "Uy5_PTmOh1hj"
      },
      "source": [
        "<a id='1.1'></a>\n",
        "## 2.1. Add FinRL to your path. You can of course install it as a pipy package, but this is for development purposes.\n"
      ]
    },
    {
      "cell_type": "code",
      "metadata": {
        "id": "mPT0ipYE28wL"
      },
      "source": [
        "import sys\n",
        "\n",
        "sys.path.append(\"..\")"
      ],
      "execution_count": 2,
      "outputs": []
    },
    {
      "cell_type": "code",
      "metadata": {
        "id": "0J6czZ7R3fEV",
        "outputId": "27149e9f-2698-4c1c-b616-ed8b5124b5ab",
        "colab": {
          "base_uri": "https://localhost:8080/"
        }
      },
      "source": [
        "import pandas as pd\n",
        "print(pd.__version__)"
      ],
      "execution_count": 3,
      "outputs": [
        {
          "output_type": "stream",
          "text": [
            "1.1.5\n"
          ],
          "name": "stdout"
        }
      ]
    },
    {
      "cell_type": "markdown",
      "metadata": {
        "id": "osBHhVysOEzi"
      },
      "source": [
        "\n",
        "<a id='1.2'></a>\n",
        "## 2.2. Check if the additional packages needed are present, if not install them. \n",
        "* Yahoo Finance API\n",
        "* pandas\n",
        "* numpy\n",
        "* matplotlib\n",
        "* stockstats\n",
        "* OpenAI gym\n",
        "* stable-baselines\n",
        "* tensorflow\n",
        "* pyfolio"
      ]
    },
    {
      "cell_type": "markdown",
      "metadata": {
        "id": "nGv01K8Sh1hn"
      },
      "source": [
        "<a id='1.3'></a>\n",
        "## 2.3. Import Packages"
      ]
    },
    {
      "cell_type": "code",
      "metadata": {
        "id": "lPqeTTwoh1hn",
        "outputId": "faf9ffd8-48ae-47f0-b470-aff4edc1fdb2",
        "colab": {
          "base_uri": "https://localhost:8080/"
        }
      },
      "source": [
        "import pandas as pd\n",
        "import numpy as np\n",
        "import matplotlib\n",
        "import matplotlib.pyplot as plt\n",
        "matplotlib.use('Agg')\n",
        "%matplotlib inline\n",
        "import datetime\n",
        "\n",
        "from finrl.apps import config\n",
        "from finrl.neo_finrl.preprocessor.yahoodownloader import YahooDownloader\n",
        "from finrl.neo_finrl.preprocessor.preprocessors import FeatureEngineer, data_split\n",
        "from finrl.neo_finrl.env_stock_trading.env_stocktrading_cashpenalty import StockTradingEnvCashpenalty\n",
        "from finrl.drl_agents.stablebaselines3.models import DRLAgent\n",
        "from finrl.plot import backtest_stats, backtest_plot, get_daily_return, get_baseline,convert_daily_return_to_pyfolio_ts\n",
        "\n",
        "\n",
        "import sys\n",
        "sys.path.append(\"../FinRL-Library\")"
      ],
      "execution_count": 4,
      "outputs": [
        {
          "output_type": "stream",
          "text": [
            "/usr/local/lib/python3.7/dist-packages/pyfolio/pos.py:27: UserWarning: Module \"zipline.assets\" not found; multipliers will not be applied to position notionals.\n",
            "  'Module \"zipline.assets\" not found; multipliers will not be applied'\n"
          ],
          "name": "stderr"
        }
      ]
    },
    {
      "cell_type": "markdown",
      "metadata": {
        "id": "T2owTj985RW4"
      },
      "source": [
        "<a id='1.4'></a>\n",
        "## 2.4. Create Folders"
      ]
    },
    {
      "cell_type": "code",
      "metadata": {
        "id": "w9A8CN5R5PuZ"
      },
      "source": [
        "import os\n",
        "if not os.path.exists(\"./\" + config.DATA_SAVE_DIR):\n",
        "    os.makedirs(\"./\" + config.DATA_SAVE_DIR)\n",
        "if not os.path.exists(\"./\" + config.TRAINED_MODEL_DIR):\n",
        "    os.makedirs(\"./\" + config.TRAINED_MODEL_DIR)\n",
        "if not os.path.exists(\"./\" + config.TENSORBOARD_LOG_DIR):\n",
        "    os.makedirs(\"./\" + config.TENSORBOARD_LOG_DIR)\n",
        "if not os.path.exists(\"./\" + config.RESULTS_DIR):\n",
        "    os.makedirs(\"./\" + config.RESULTS_DIR)"
      ],
      "execution_count": 5,
      "outputs": []
    },
    {
      "cell_type": "markdown",
      "metadata": {
        "id": "A289rQWMh1hq"
      },
      "source": [
        "<a id='2'></a>\n",
        "# Part 3. Download Data\n",
        "Yahoo Finance is a website that provides stock data, financial news, financial reports, etc. All the data provided by Yahoo Finance is free.\n",
        "* FinRL uses a class **YahooDownloader** to fetch data from Yahoo Finance API\n",
        "* Call Limit: Using the Public API (without authentication), you are limited to 2,000 requests per hour per IP (or up to a total of 48,000 requests a day).\n"
      ]
    },
    {
      "cell_type": "markdown",
      "metadata": {
        "id": "NPeQ7iS-LoMm"
      },
      "source": [
        "\n",
        "\n",
        "-----\n",
        "class YahooDownloader:\n",
        "    Provides methods for retrieving daily stock data from\n",
        "    Yahoo Finance API\n",
        "\n",
        "    Attributes\n",
        "    ----------\n",
        "        start_date : str\n",
        "            start date of the data (modified from config.py)\n",
        "        end_date : str\n",
        "            end date of the data (modified from config.py)\n",
        "        ticker_list : list\n",
        "            a list of stock tickers (modified from config.py)\n",
        "\n",
        "    Methods\n",
        "    -------\n",
        "    fetch_data()\n",
        "        Fetches data from yahoo API\n"
      ]
    },
    {
      "cell_type": "code",
      "metadata": {
        "colab": {
          "base_uri": "https://localhost:8080/",
          "height": 36
        },
        "id": "h3XJnvrbLp-C",
        "outputId": "ab1fb357-76ee-4341-8c25-a6bb7d0c3c07"
      },
      "source": [
        "# from config.py start_date is a string\n",
        "config.START_DATE"
      ],
      "execution_count": 6,
      "outputs": [
        {
          "output_type": "execute_result",
          "data": {
            "application/vnd.google.colaboratory.intrinsic+json": {
              "type": "string"
            },
            "text/plain": [
              "'2009-01-01'"
            ]
          },
          "metadata": {
            "tags": []
          },
          "execution_count": 6
        }
      ]
    },
    {
      "cell_type": "code",
      "metadata": {
        "colab": {
          "base_uri": "https://localhost:8080/",
          "height": 36
        },
        "id": "FUnY8WEfLq3C",
        "outputId": "854d7599-46ae-400d-a4dd-6c0b198d0fc8"
      },
      "source": [
        "# from config.py end_date is a string\n",
        "config.END_DATE"
      ],
      "execution_count": 7,
      "outputs": [
        {
          "output_type": "execute_result",
          "data": {
            "application/vnd.google.colaboratory.intrinsic+json": {
              "type": "string"
            },
            "text/plain": [
              "'2021-01-01'"
            ]
          },
          "metadata": {
            "tags": []
          },
          "execution_count": 7
        }
      ]
    },
    {
      "cell_type": "code",
      "metadata": {
        "colab": {
          "base_uri": "https://localhost:8080/"
        },
        "id": "JzqRRTOX6aFu",
        "outputId": "e083fb69-9da5-41de-866c-5e46ea81f9d2"
      },
      "source": [
        "print(config.DOW_30_TICKER)"
      ],
      "execution_count": 8,
      "outputs": [
        {
          "output_type": "stream",
          "text": [
            "['AAPL', 'MSFT', 'JPM', 'V', 'RTX', 'PG', 'GS', 'NKE', 'DIS', 'AXP', 'HD', 'INTC', 'WMT', 'IBM', 'MRK', 'UNH', 'KO', 'CAT', 'TRV', 'JNJ', 'CVX', 'MCD', 'VZ', 'CSCO', 'XOM', 'BA', 'MMM', 'PFE', 'WBA', 'DD']\n"
          ],
          "name": "stdout"
        }
      ]
    },
    {
      "cell_type": "code",
      "metadata": {
        "colab": {
          "base_uri": "https://localhost:8080/"
        },
        "id": "yCKm4om-s9kE",
        "outputId": "9bf98490-0f6b-4ae9-c716-cc9481834c85"
      },
      "source": [
        "tickers = ['IBM', 'JNJ', 'CSCO']\n",
        "\n",
        "df = YahooDownloader(start_date = '2009-01-01',\n",
        "                     end_date = '2021-01-01',\n",
        "                     ticker_list = tickers).fetch_data()"
      ],
      "execution_count": 9,
      "outputs": [
        {
          "output_type": "stream",
          "text": [
            "[*********************100%***********************]  1 of 1 completed\n",
            "[*********************100%***********************]  1 of 1 completed\n",
            "[*********************100%***********************]  1 of 1 completed\n",
            "Shape of DataFrame:  (9063, 8)\n"
          ],
          "name": "stdout"
        }
      ]
    },
    {
      "cell_type": "markdown",
      "metadata": {
        "id": "uqC6c40Zh1iH"
      },
      "source": [
        "# Part 4: Preprocess Data\n",
        "Data preprocessing is a crucial step for training a high quality machine learning model. We need to check for missing data and do feature engineering in order to convert the data into a model-ready state.\n",
        "* Add technical indicators. In practical trading, various information needs to be taken into account, for example the historical stock prices, current holding shares, technical indicators, etc. In this article, we demonstrate two trend-following technical indicators: MACD and RSI.\n",
        "* Add turbulence index. Risk-aversion reflects whether an investor will choose to preserve the capital. It also influences one's trading strategy when facing different market volatility level. To control the risk in a worst-case scenario, such as financial crisis of 2007–2008, FinRL employs the financial turbulence index that measures extreme asset price fluctuation."
      ]
    },
    {
      "cell_type": "code",
      "metadata": {
        "jupyter": {
          "outputs_hidden": false
        },
        "pycharm": {
          "name": "#%%\n"
        },
        "id": "xzijKkDF3fEY",
        "outputId": "96805b00-7a09-4a36-c1b8-7353fe14552f",
        "colab": {
          "base_uri": "https://localhost:8080/"
        }
      },
      "source": [
        "fe = FeatureEngineer(\n",
        "                    use_technical_indicator=True,\n",
        "                    tech_indicator_list = config.TECHNICAL_INDICATORS_LIST,\n",
        "                    use_turbulence=False,\n",
        "                    user_defined_feature = False)\n",
        "\n",
        "processed = fe.preprocess_data(df)"
      ],
      "execution_count": 10,
      "outputs": [
        {
          "output_type": "stream",
          "text": [
            "Successfully added technical indicators\n"
          ],
          "name": "stdout"
        }
      ]
    },
    {
      "cell_type": "code",
      "metadata": {
        "id": "BbYbbrZA3fEY",
        "outputId": "36796d0f-2848-415e-f584-b488a4b3fa50",
        "colab": {
          "base_uri": "https://localhost:8080/",
          "height": 204
        }
      },
      "source": [
        "processed['log_volume'] = np.log(processed.volume*processed.close)\n",
        "processed['change'] = (processed.close-processed.open)/processed.close\n",
        "processed['daily_variance'] = (processed.high-processed.low)/processed.close\n",
        "processed = processed.sort_values(['date','tic'],ignore_index=True)\n",
        "\n",
        "processed.head()"
      ],
      "execution_count": 11,
      "outputs": [
        {
          "output_type": "execute_result",
          "data": {
            "text/html": [
              "<div>\n",
              "<style scoped>\n",
              "    .dataframe tbody tr th:only-of-type {\n",
              "        vertical-align: middle;\n",
              "    }\n",
              "\n",
              "    .dataframe tbody tr th {\n",
              "        vertical-align: top;\n",
              "    }\n",
              "\n",
              "    .dataframe thead th {\n",
              "        text-align: right;\n",
              "    }\n",
              "</style>\n",
              "<table border=\"1\" class=\"dataframe\">\n",
              "  <thead>\n",
              "    <tr style=\"text-align: right;\">\n",
              "      <th></th>\n",
              "      <th>date</th>\n",
              "      <th>open</th>\n",
              "      <th>high</th>\n",
              "      <th>low</th>\n",
              "      <th>close</th>\n",
              "      <th>volume</th>\n",
              "      <th>tic</th>\n",
              "      <th>day</th>\n",
              "      <th>macd</th>\n",
              "      <th>rsi_30</th>\n",
              "      <th>cci_30</th>\n",
              "      <th>dx_30</th>\n",
              "      <th>log_volume</th>\n",
              "      <th>change</th>\n",
              "      <th>daily_variance</th>\n",
              "    </tr>\n",
              "  </thead>\n",
              "  <tbody>\n",
              "    <tr>\n",
              "      <th>0</th>\n",
              "      <td>2009-01-02</td>\n",
              "      <td>16.410000</td>\n",
              "      <td>17.000000</td>\n",
              "      <td>16.250000</td>\n",
              "      <td>12.505757</td>\n",
              "      <td>40980600</td>\n",
              "      <td>CSCO</td>\n",
              "      <td>4</td>\n",
              "      <td>0.000000</td>\n",
              "      <td>100.0</td>\n",
              "      <td>66.666667</td>\n",
              "      <td>100.0</td>\n",
              "      <td>20.054798</td>\n",
              "      <td>-0.312196</td>\n",
              "      <td>0.059972</td>\n",
              "    </tr>\n",
              "    <tr>\n",
              "      <th>1</th>\n",
              "      <td>2009-01-02</td>\n",
              "      <td>83.889999</td>\n",
              "      <td>87.589996</td>\n",
              "      <td>83.889999</td>\n",
              "      <td>59.180256</td>\n",
              "      <td>7558200</td>\n",
              "      <td>IBM</td>\n",
              "      <td>4</td>\n",
              "      <td>0.000000</td>\n",
              "      <td>100.0</td>\n",
              "      <td>66.666667</td>\n",
              "      <td>100.0</td>\n",
              "      <td>19.918732</td>\n",
              "      <td>-0.417534</td>\n",
              "      <td>0.062521</td>\n",
              "    </tr>\n",
              "    <tr>\n",
              "      <th>2</th>\n",
              "      <td>2009-01-02</td>\n",
              "      <td>60.130001</td>\n",
              "      <td>61.000000</td>\n",
              "      <td>59.040001</td>\n",
              "      <td>41.743183</td>\n",
              "      <td>11638900</td>\n",
              "      <td>JNJ</td>\n",
              "      <td>4</td>\n",
              "      <td>0.000000</td>\n",
              "      <td>100.0</td>\n",
              "      <td>66.666667</td>\n",
              "      <td>100.0</td>\n",
              "      <td>20.001400</td>\n",
              "      <td>-0.440475</td>\n",
              "      <td>0.046954</td>\n",
              "    </tr>\n",
              "    <tr>\n",
              "      <th>3</th>\n",
              "      <td>2009-01-05</td>\n",
              "      <td>16.850000</td>\n",
              "      <td>17.299999</td>\n",
              "      <td>16.750000</td>\n",
              "      <td>12.616367</td>\n",
              "      <td>45480200</td>\n",
              "      <td>CSCO</td>\n",
              "      <td>0</td>\n",
              "      <td>0.002482</td>\n",
              "      <td>100.0</td>\n",
              "      <td>66.666667</td>\n",
              "      <td>100.0</td>\n",
              "      <td>20.167783</td>\n",
              "      <td>-0.335567</td>\n",
              "      <td>0.043594</td>\n",
              "    </tr>\n",
              "    <tr>\n",
              "      <th>4</th>\n",
              "      <td>2009-01-05</td>\n",
              "      <td>86.419998</td>\n",
              "      <td>87.669998</td>\n",
              "      <td>86.180000</td>\n",
              "      <td>58.807713</td>\n",
              "      <td>8315700</td>\n",
              "      <td>IBM</td>\n",
              "      <td>0</td>\n",
              "      <td>-0.008358</td>\n",
              "      <td>0.0</td>\n",
              "      <td>66.666667</td>\n",
              "      <td>100.0</td>\n",
              "      <td>20.007929</td>\n",
              "      <td>-0.469535</td>\n",
              "      <td>0.025337</td>\n",
              "    </tr>\n",
              "  </tbody>\n",
              "</table>\n",
              "</div>"
            ],
            "text/plain": [
              "         date       open       high  ...  log_volume    change  daily_variance\n",
              "0  2009-01-02  16.410000  17.000000  ...   20.054798 -0.312196        0.059972\n",
              "1  2009-01-02  83.889999  87.589996  ...   19.918732 -0.417534        0.062521\n",
              "2  2009-01-02  60.130001  61.000000  ...   20.001400 -0.440475        0.046954\n",
              "3  2009-01-05  16.850000  17.299999  ...   20.167783 -0.335567        0.043594\n",
              "4  2009-01-05  86.419998  87.669998  ...   20.007929 -0.469535        0.025337\n",
              "\n",
              "[5 rows x 15 columns]"
            ]
          },
          "metadata": {
            "tags": []
          },
          "execution_count": 11
        }
      ]
    },
    {
      "cell_type": "code",
      "metadata": {
        "id": "6Sgw_v3SUqCw",
        "outputId": "592ad59d-2cd0-45b2-a866-9cb4c4c41681",
        "colab": {
          "base_uri": "https://localhost:8080/",
          "height": 204
        }
      },
      "source": [
        "processed.tail()"
      ],
      "execution_count": 12,
      "outputs": [
        {
          "output_type": "execute_result",
          "data": {
            "text/html": [
              "<div>\n",
              "<style scoped>\n",
              "    .dataframe tbody tr th:only-of-type {\n",
              "        vertical-align: middle;\n",
              "    }\n",
              "\n",
              "    .dataframe tbody tr th {\n",
              "        vertical-align: top;\n",
              "    }\n",
              "\n",
              "    .dataframe thead th {\n",
              "        text-align: right;\n",
              "    }\n",
              "</style>\n",
              "<table border=\"1\" class=\"dataframe\">\n",
              "  <thead>\n",
              "    <tr style=\"text-align: right;\">\n",
              "      <th></th>\n",
              "      <th>date</th>\n",
              "      <th>open</th>\n",
              "      <th>high</th>\n",
              "      <th>low</th>\n",
              "      <th>close</th>\n",
              "      <th>volume</th>\n",
              "      <th>tic</th>\n",
              "      <th>day</th>\n",
              "      <th>macd</th>\n",
              "      <th>rsi_30</th>\n",
              "      <th>cci_30</th>\n",
              "      <th>dx_30</th>\n",
              "      <th>log_volume</th>\n",
              "      <th>change</th>\n",
              "      <th>daily_variance</th>\n",
              "    </tr>\n",
              "  </thead>\n",
              "  <tbody>\n",
              "    <tr>\n",
              "      <th>9058</th>\n",
              "      <td>2020-12-30</td>\n",
              "      <td>123.800003</td>\n",
              "      <td>124.849998</td>\n",
              "      <td>123.629997</td>\n",
              "      <td>121.344566</td>\n",
              "      <td>3380300</td>\n",
              "      <td>IBM</td>\n",
              "      <td>2</td>\n",
              "      <td>0.942977</td>\n",
              "      <td>53.526733</td>\n",
              "      <td>25.698264</td>\n",
              "      <td>8.631853</td>\n",
              "      <td>19.832109</td>\n",
              "      <td>-0.020235</td>\n",
              "      <td>0.010054</td>\n",
              "    </tr>\n",
              "    <tr>\n",
              "      <th>9059</th>\n",
              "      <td>2020-12-30</td>\n",
              "      <td>154.740005</td>\n",
              "      <td>156.380005</td>\n",
              "      <td>154.600006</td>\n",
              "      <td>154.121399</td>\n",
              "      <td>5412800</td>\n",
              "      <td>JNJ</td>\n",
              "      <td>2</td>\n",
              "      <td>1.989442</td>\n",
              "      <td>60.110872</td>\n",
              "      <td>138.167413</td>\n",
              "      <td>36.390216</td>\n",
              "      <td>20.542018</td>\n",
              "      <td>-0.004014</td>\n",
              "      <td>0.011549</td>\n",
              "    </tr>\n",
              "    <tr>\n",
              "      <th>9060</th>\n",
              "      <td>2020-12-31</td>\n",
              "      <td>44.380001</td>\n",
              "      <td>44.840000</td>\n",
              "      <td>44.160000</td>\n",
              "      <td>43.768875</td>\n",
              "      <td>15105500</td>\n",
              "      <td>CSCO</td>\n",
              "      <td>3</td>\n",
              "      <td>0.729098</td>\n",
              "      <td>60.122488</td>\n",
              "      <td>52.041086</td>\n",
              "      <td>26.466234</td>\n",
              "      <td>20.309492</td>\n",
              "      <td>-0.013963</td>\n",
              "      <td>0.015536</td>\n",
              "    </tr>\n",
              "    <tr>\n",
              "      <th>9061</th>\n",
              "      <td>2020-12-31</td>\n",
              "      <td>124.220001</td>\n",
              "      <td>126.029999</td>\n",
              "      <td>123.989998</td>\n",
              "      <td>122.847458</td>\n",
              "      <td>3574400</td>\n",
              "      <td>IBM</td>\n",
              "      <td>3</td>\n",
              "      <td>0.990787</td>\n",
              "      <td>55.298767</td>\n",
              "      <td>59.217370</td>\n",
              "      <td>15.707054</td>\n",
              "      <td>19.900251</td>\n",
              "      <td>-0.011173</td>\n",
              "      <td>0.016606</td>\n",
              "    </tr>\n",
              "    <tr>\n",
              "      <th>9062</th>\n",
              "      <td>2020-12-31</td>\n",
              "      <td>156.529999</td>\n",
              "      <td>157.660004</td>\n",
              "      <td>155.110001</td>\n",
              "      <td>155.434952</td>\n",
              "      <td>5099900</td>\n",
              "      <td>JNJ</td>\n",
              "      <td>3</td>\n",
              "      <td>2.197554</td>\n",
              "      <td>61.476412</td>\n",
              "      <td>147.739389</td>\n",
              "      <td>41.330979</td>\n",
              "      <td>20.490959</td>\n",
              "      <td>-0.007045</td>\n",
              "      <td>0.016406</td>\n",
              "    </tr>\n",
              "  </tbody>\n",
              "</table>\n",
              "</div>"
            ],
            "text/plain": [
              "            date        open        high  ...  log_volume    change  daily_variance\n",
              "9058  2020-12-30  123.800003  124.849998  ...   19.832109 -0.020235        0.010054\n",
              "9059  2020-12-30  154.740005  156.380005  ...   20.542018 -0.004014        0.011549\n",
              "9060  2020-12-31   44.380001   44.840000  ...   20.309492 -0.013963        0.015536\n",
              "9061  2020-12-31  124.220001  126.029999  ...   19.900251 -0.011173        0.016606\n",
              "9062  2020-12-31  156.529999  157.660004  ...   20.490959 -0.007045        0.016406\n",
              "\n",
              "[5 rows x 15 columns]"
            ]
          },
          "metadata": {
            "tags": []
          },
          "execution_count": 12
        }
      ]
    },
    {
      "cell_type": "markdown",
      "metadata": {
        "id": "-QsYaY0Dh1iw"
      },
      "source": [
        "<a id='4'></a>\n",
        "# Part 5. Design Environment\n",
        "Considering the stochastic and interactive nature of the automated stock trading tasks, a financial task is modeled as a **Markov Decision Process (MDP)** problem. The training process involves observing stock price change, taking an action and reward's calculation to have the agent adjusting its strategy accordingly. By interacting with the environment, the trading agent will derive a trading strategy with the maximized rewards as time proceeds.\n",
        "\n",
        "Our trading environments, based on OpenAI Gym framework, simulate live stock markets with real market data according to the principle of time-driven simulation.\n",
        "\n",
        "The action space describes the allowed actions that the agent interacts with the environment. Normally, action a includes three actions: {-1, 0, 1}, where -1, 0, 1 represent selling, holding, and buying one share. Also, an action can be carried upon multiple shares. We use an action space {-k,…,-1, 0, 1, …, k}, where k denotes the number of shares to buy and -k denotes the number of shares to sell. For example, \"Buy 10 shares of AAPL\" or \"Sell 10 shares of AAPL\" are 10 or -10, respectively. The continuous action space needs to be normalized to [-1, 1], since the policy is defined on a Gaussian distribution, which needs to be normalized and symmetric."
      ]
    },
    {
      "cell_type": "markdown",
      "metadata": {
        "id": "5TOhcryx44bb"
      },
      "source": [
        "## Training data split: 2009-01-01 to 2016-01-01\n",
        "## Trade data split: 2016-01-01 to 2021-01-01\n",
        "\n",
        "DRL model needs to update periodically in order to take full advantage of the data, ideally we need to retrain our model yearly, quarterly, or monthly. We also need to tune the parameters along the way, in this notebook I only use the in-sample data from 2009-01 to 2016-01 to tune the parameters once, so there is some alpha decay here as the length of trade date extends. \n",
        "\n",
        "Numerous hyperparameters – e.g. the learning rate, the total number of samples to train on – influence the learning process and are usually determined by testing some variations."
      ]
    },
    {
      "cell_type": "code",
      "metadata": {
        "colab": {
          "base_uri": "https://localhost:8080/"
        },
        "id": "W0qaVGjLtgbI",
        "outputId": "e64fc24d-6b15-440f-8957-b1ae09a69259"
      },
      "source": [
        "train = data_split(processed, '2009-01-01','2019-01-01')\n",
        "trade = data_split(processed, '2019-01-01','2021-01-01')\n",
        "print(len(train))\n",
        "print(len(trade))"
      ],
      "execution_count": 13,
      "outputs": [
        {
          "output_type": "stream",
          "text": [
            "7548\n",
            "1515\n"
          ],
          "name": "stdout"
        }
      ]
    },
    {
      "cell_type": "markdown",
      "metadata": {
        "id": "8ckaw35dW5eF"
      },
      "source": [
        "## Create the stock trading environment"
      ]
    },
    {
      "cell_type": "code",
      "metadata": {
        "id": "k2XdqNUdW909"
      },
      "source": [
        "\n",
        "import numpy as np\n",
        "import pandas as pd\n",
        "from gym.utils import seeding\n",
        "import gym\n",
        "from gym import spaces\n",
        "import matplotlib\n",
        "from copy import deepcopy\n",
        "\n",
        "matplotlib.use(\"Agg\")\n",
        "import matplotlib.pyplot as plt\n",
        "import pickle\n",
        "from stable_baselines3.common.vec_env import DummyVecEnv\n",
        "import numpy as np\n",
        "import pandas as pd\n",
        "from gym.utils import seeding\n",
        "import gym\n",
        "from gym import spaces\n",
        "import matplotlib\n",
        "import random\n",
        "\n",
        "matplotlib.use(\"Agg\")\n",
        "import matplotlib.pyplot as plt\n",
        "import pickle\n",
        "from stable_baselines3.common.vec_env import DummyVecEnv, SubprocVecEnv\n",
        "#from stable_baselines3.common import logger\n",
        "import time\n",
        "\n",
        "class MyStockTradingEnvCashpenalty(gym.Env):\n",
        "    \"\"\"\n",
        "    A stock trading environment for OpenAI gym\n",
        "    This environment penalizes the model for not maintaining a reserve of cash.\n",
        "    This enables the model to manage cash reserves in addition to performing trading procedures.\n",
        "    Reward at any step is given as follows\n",
        "        r_i = (sum(cash, asset_value) - initial_cash - max(0, sum(cash, asset_value)*cash_penalty_proportion-cash))/(days_elapsed)\n",
        "        This reward function takes into account a liquidity requirement, as well as long-term accrued rewards.\n",
        "    Parameters:\n",
        "        df (pandas.DataFrame): Dataframe containing data\n",
        "        buy_cost_pct (float): cost for buying shares\n",
        "        sell_cost_pct (float): cost for selling shares\n",
        "        hmax (int, array): maximum cash to be traded in each trade per asset. If an array is provided, then each index correspond to each asset\n",
        "        discrete_actions (bool): option to choose whether perform dicretization on actions space or not\n",
        "        shares_increment (int): multiples number of shares can be bought in each trade. Only applicable if discrete_actions=True\n",
        "        turbulence_threshold (float): Maximum turbulence allowed in market for purchases to occur. If exceeded, positions are liquidated\n",
        "        print_verbosity(int): When iterating (step), how often to print stats about state of env\n",
        "        initial_amount: (int, float): Amount of cash initially available\n",
        "        daily_information_columns (list(str)): Columns to use when building state space from the dataframe. It could be OHLC columns or any other variables such as technical indicators and turbulence index\n",
        "        cash_penalty_proportion (int, float): Penalty to apply if the algorithm runs out of cash\n",
        "        patient (bool): option to choose whether end the cycle when we're running out of cash or just don't buy anything until we got additional cash\n",
        "    RL Inputs and Outputs\n",
        "        action space: [<n_assets>,] in range {-1, 1}\n",
        "        state space: {start_cash, [shares_i for in in assets], [[indicator_j for j in indicators] for i in assets]]}\n",
        "    TODO:\n",
        "        Organize functions\n",
        "        Write README\n",
        "        Document tests\n",
        "    \"\"\"\n",
        "\n",
        "    metadata = {\"render.modes\": [\"human\"]}\n",
        "\n",
        "    def __init__(\n",
        "        self,\n",
        "        df,\n",
        "        buy_cost_pct=3e-3,\n",
        "        sell_cost_pct=3e-3,\n",
        "        date_col_name=\"date\",\n",
        "        hmax=10,\n",
        "        discrete_actions=False,\n",
        "        shares_increment=1,\n",
        "        turbulence_threshold=None,\n",
        "        print_verbosity=10,\n",
        "        initial_amount=1e6,\n",
        "        daily_information_cols=['open', 'high', 'low', 'close', 'volume'],\n",
        "        cache_indicator_data=True,\n",
        "        cash_penalty_proportion=0.1,\n",
        "        random_start=True,\n",
        "        patient=False,\n",
        "        currency=\"$\",\n",
        "    ):\n",
        "        self.df = df\n",
        "        self.stock_col = \"tic\"\n",
        "        self.assets = df[self.stock_col].unique()\n",
        "        self.dates = df[date_col_name].sort_values().unique()\n",
        "        self.random_start = random_start\n",
        "        self.discrete_actions = discrete_actions\n",
        "        self.patient = patient\n",
        "        self.currency = currency\n",
        "        self.df = self.df.set_index(date_col_name)\n",
        "        self.shares_increment = shares_increment\n",
        "        self.hmax = hmax\n",
        "        self.initial_amount = initial_amount\n",
        "        self.print_verbosity = print_verbosity\n",
        "        self.buy_cost_pct = buy_cost_pct\n",
        "        self.sell_cost_pct = sell_cost_pct\n",
        "        self.turbulence_threshold = turbulence_threshold\n",
        "        self.daily_information_cols = daily_information_cols\n",
        "        self.state_space = (\n",
        "            1 + len(self.assets) + len(self.assets) * len(self.daily_information_cols)\n",
        "        )\n",
        "        self.action_space = spaces.Box(low=-1, high=1, shape=(len(self.assets),))\n",
        "        self.observation_space = spaces.Box(\n",
        "            low=-np.inf, high=np.inf, shape=(self.state_space,)\n",
        "        )\n",
        "        self.turbulence = 0\n",
        "        self.episode = -1  # initialize so we can call reset\n",
        "        self.episode_history = []\n",
        "        self.printed_header = False\n",
        "        self.cache_indicator_data = cache_indicator_data\n",
        "        self.cached_data = None\n",
        "        self.cash_penalty_proportion = cash_penalty_proportion\n",
        "        if self.cache_indicator_data:\n",
        "            print(\"caching data\")\n",
        "            self.cached_data = [\n",
        "                self.get_date_vector(i) for i, _ in enumerate(self.dates)\n",
        "            ]\n",
        "            print(\"data cached!\")\n",
        "\n",
        "    def seed(self, seed=None):\n",
        "        if seed is None:\n",
        "            seed = int(round(time.time() * 1000))\n",
        "        random.seed(seed)\n",
        "\n",
        "    @property\n",
        "    def current_step(self):\n",
        "        return self.date_index - self.starting_point\n",
        "\n",
        "    @property\n",
        "    def cash_on_hand(self):\n",
        "        # amount of cash held at current timestep\n",
        "        return self.state_memory[-1][0]\n",
        "\n",
        "    @property\n",
        "    def holdings(self):\n",
        "        # Quantity of shares held at current timestep\n",
        "        return self.state_memory[-1][1 : len(self.assets) + 1]\n",
        "\n",
        "    @property\n",
        "    def closings(self):\n",
        "        return np.array(self.get_date_vector(self.date_index, cols=[\"close\"]))\n",
        "\n",
        "    def reset(self):\n",
        "        self.seed()\n",
        "        self.sum_trades = 0\n",
        "        if self.random_start:\n",
        "            starting_point = random.choice(range(int(len(self.dates) * 0.5)))\n",
        "            self.starting_point = starting_point\n",
        "        else:\n",
        "            self.starting_point = 0\n",
        "        self.date_index = self.starting_point\n",
        "        self.turbulence = 0\n",
        "        self.episode += 1\n",
        "        self.actions_memory = []\n",
        "        self.transaction_memory = []\n",
        "        self.state_memory = []\n",
        "        self.account_information = {\n",
        "            \"cash\": [],\n",
        "            \"asset_value\": [],\n",
        "            \"total_assets\": [],\n",
        "            \"reward\": [],\n",
        "        }\n",
        "        init_state = np.array(\n",
        "            [self.initial_amount]\n",
        "            + [0] * len(self.assets)\n",
        "            + self.get_date_vector(self.date_index)\n",
        "        )\n",
        "        self.state_memory.append(init_state)\n",
        "        return init_state\n",
        "\n",
        "    def get_date_vector(self, date, cols=None):\n",
        "        if (cols is None) and (self.cached_data is not None):\n",
        "            return self.cached_data[date]\n",
        "        else:\n",
        "            date = self.dates[date]\n",
        "            if cols is None:\n",
        "                cols = self.daily_information_cols\n",
        "            trunc_df = self.df.loc[[date]]\n",
        "            v = []\n",
        "            for a in self.assets:\n",
        "                subset = trunc_df[trunc_df[self.stock_col] == a]\n",
        "                v += subset.loc[date, cols].tolist()\n",
        "            assert len(v) == len(self.assets) * len(cols)\n",
        "            return v\n",
        "\n",
        "    def return_terminal(self, reason=\"Last Date\", reward=0):\n",
        "        state = self.state_memory[-1]\n",
        "        self.log_step(reason=reason, terminal_reward=reward)\n",
        "        # Add outputs to logger interface\n",
        "        gl_pct = self.account_information[\"total_assets\"][-1] / self.initial_amount\n",
        "        # logger.record(\"environment/GainLoss_pct\", (gl_pct - 1) * 100)\n",
        "        # logger.record(\n",
        "        #     \"environment/total_assets\",\n",
        "        #     int(self.account_information[\"total_assets\"][-1]),\n",
        "        # )\n",
        "        reward_pct = self.account_information[\"total_assets\"][-1] / self.initial_amount\n",
        "        # logger.record(\"environment/total_reward_pct\", (reward_pct - 1) * 100)\n",
        "        # logger.record(\"environment/total_trades\", self.sum_trades)\n",
        "        # logger.record(\n",
        "        #     \"environment/avg_daily_trades\",\n",
        "        #     self.sum_trades / (self.current_step),\n",
        "        # )\n",
        "        # logger.record(\n",
        "        #     \"environment/avg_daily_trades_per_asset\",\n",
        "        #     self.sum_trades / (self.current_step) / len(self.assets),\n",
        "        # )\n",
        "        # logger.record(\"environment/completed_steps\", self.current_step)\n",
        "        # logger.record(\n",
        "        #     \"environment/sum_rewards\", np.sum(self.account_information[\"reward\"])\n",
        "        # )\n",
        "        # logger.record(\n",
        "        #     \"environment/cash_proportion\",\n",
        "        #     self.account_information[\"cash\"][-1]\n",
        "        #     / self.account_information[\"total_assets\"][-1],\n",
        "        # )\n",
        "        return state, reward, True, {}\n",
        "\n",
        "    def log_step(self, reason, terminal_reward=None):\n",
        "\n",
        "        if terminal_reward is None:\n",
        "            terminal_reward = self.account_information[\"reward\"][-1]\n",
        "        cash_pct = (\n",
        "            self.account_information[\"cash\"][-1]\n",
        "            / self.account_information[\"total_assets\"][-1]\n",
        "        )\n",
        "        gl_pct = self.account_information[\"total_assets\"][-1] / self.initial_amount\n",
        "        rec = [\n",
        "            self.episode,\n",
        "            self.date_index - self.starting_point,\n",
        "            reason,\n",
        "            f\"{self.currency}{'{:0,.0f}'.format(float(self.account_information['cash'][-1]))}\",\n",
        "            f\"{self.currency}{'{:0,.0f}'.format(float(self.account_information['total_assets'][-1]))}\",\n",
        "            f\"{terminal_reward*100:0.5f}%\",\n",
        "            f\"{(gl_pct - 1)*100:0.5f}%\",\n",
        "            f\"{cash_pct*100:0.2f}%\",\n",
        "        ]\n",
        "        self.episode_history.append(rec)\n",
        "        print(self.template.format(*rec))\n",
        "\n",
        "    def log_header(self):\n",
        "        if self.printed_header is False:\n",
        "            self.template = \"{0:4}|{1:4}|{2:15}|{3:15}|{4:15}|{5:10}|{6:10}|{7:10}\"  # column widths: 8, 10, 15, 7, 10\n",
        "            print(\n",
        "                self.template.format(\n",
        "                    \"EPISODE\",\n",
        "                    \"STEPS\",\n",
        "                    \"TERMINAL_REASON\",\n",
        "                    \"CASH\",\n",
        "                    \"TOT_ASSETS\",\n",
        "                    \"TERMINAL_REWARD_unsc\",\n",
        "                    \"GAINLOSS_PCT\",\n",
        "                    \"CASH_PROPORTION\",\n",
        "                )\n",
        "            )\n",
        "            self.printed_header = True\n",
        "\n",
        "    def get_reward(self):\n",
        "        if self.current_step == 0:\n",
        "            return 0\n",
        "        else:\n",
        "            assets = self.account_information[\"total_assets\"][-1]\n",
        "            cash = self.account_information[\"cash\"][-1]\n",
        "            cash_penalty = max(0, (assets * self.cash_penalty_proportion - cash))\n",
        "            assets -= cash_penalty\n",
        "            reward = (assets / self.initial_amount) - 1\n",
        "            reward /= self.current_step\n",
        "            return reward\n",
        "\n",
        "    def get_transactions(self, actions):\n",
        "        \"\"\"\n",
        "        This function takes in a raw 'action' from the model and makes it into realistic transactions\n",
        "        This function includes logic for discretizing\n",
        "        It also includes turbulence logic.\n",
        "        \"\"\"\n",
        "        # record actions of the model\n",
        "        self.actions_memory.append(actions)\n",
        "\n",
        "        # multiply actions by the hmax value\n",
        "        actions = actions * self.hmax\n",
        "\n",
        "        # Do nothing for shares with zero value\n",
        "        actions = np.where(self.closings > 0, actions, 0)\n",
        "\n",
        "        # discretize optionally\n",
        "        if self.discrete_actions:\n",
        "            # convert into integer because we can't buy fraction of shares\n",
        "            actions = actions // self.closings\n",
        "            actions = actions.astype(int)\n",
        "            # round down actions to the nearest multiplies of shares_increment\n",
        "            actions = np.where(\n",
        "                actions >= 0,\n",
        "                (actions // self.shares_increment) * self.shares_increment,\n",
        "                ((actions + self.shares_increment) // self.shares_increment)\n",
        "                * self.shares_increment,\n",
        "            )\n",
        "        else:\n",
        "            actions = actions / self.closings\n",
        "\n",
        "        # can't sell more than we have\n",
        "        actions = np.maximum(actions, -np.array(self.holdings))\n",
        "\n",
        "        # deal with turbulence\n",
        "        if self.turbulence_threshold is not None:\n",
        "            # if turbulence goes over threshold, just clear out all positions\n",
        "            if self.turbulence >= self.turbulence_threshold:\n",
        "                actions = -(np.array(self.holdings))\n",
        "                self.log_step(reason=\"TURBULENCE\")\n",
        "\n",
        "        return actions\n",
        "\n",
        "    def step(self, actions):\n",
        "        # let's just log what we're doing in terms of max actions at each step.\n",
        "        self.sum_trades += np.sum(np.abs(actions))\n",
        "        self.log_header()\n",
        "        # print if it's time.\n",
        "        if (self.current_step + 1) % self.print_verbosity == 0:\n",
        "            self.log_step(reason=\"update\")\n",
        "        # if we're at the end\n",
        "        if self.date_index == len(self.dates) - 1:\n",
        "            # if we hit the end, set reward to total gains (or losses)\n",
        "            return self.return_terminal(reward=self.get_reward())\n",
        "        else:\n",
        "            \"\"\"\n",
        "            First, we need to compute values of holdings, save these, and log everything.\n",
        "            Then we can reward our model for its earnings.\n",
        "            \"\"\"\n",
        "            # compute value of cash + assets\n",
        "            begin_cash = self.cash_on_hand\n",
        "            assert min(self.holdings) >= 0\n",
        "            asset_value = np.dot(self.holdings, self.closings)\n",
        "            # log the values of cash, assets, and total assets\n",
        "            self.account_information[\"cash\"].append(begin_cash)\n",
        "            self.account_information[\"asset_value\"].append(asset_value)\n",
        "            self.account_information[\"total_assets\"].append(begin_cash + asset_value)\n",
        "\n",
        "            # compute reward once we've computed the value of things!\n",
        "            reward = self.get_reward()\n",
        "            self.account_information[\"reward\"].append(reward)\n",
        "\n",
        "            \"\"\"\n",
        "            Now, let's get down to business at hand. \n",
        "            \"\"\"\n",
        "            transactions = self.get_transactions(actions)\n",
        "\n",
        "            # compute our proceeds from sells, and add to cash\n",
        "            sells = -np.clip(transactions, -np.inf, 0)\n",
        "            proceeds = np.dot(sells, self.closings)\n",
        "            costs = proceeds * self.sell_cost_pct\n",
        "            coh = begin_cash + proceeds\n",
        "            # compute the cost of our buys\n",
        "            buys = np.clip(transactions, 0, np.inf)\n",
        "            spend = np.dot(buys, self.closings)\n",
        "            costs += spend * self.buy_cost_pct\n",
        "            # if we run out of cash...\n",
        "            if (spend + costs) > coh:\n",
        "                if self.patient:\n",
        "                    # ... just don't buy anything until we got additional cash\n",
        "                    self.log_step(reason=\"CASH SHORTAGE\")\n",
        "                    transactions = np.where(transactions > 0, 0, transactions)\n",
        "                    spend = 0\n",
        "                    costs = 0\n",
        "                else:\n",
        "                    # ... end the cycle and penalize\n",
        "                    return self.return_terminal(\n",
        "                        reason=\"CASH SHORTAGE\", reward=self.get_reward()\n",
        "                    )\n",
        "            self.transaction_memory.append(\n",
        "                transactions\n",
        "            )  # capture what the model's could do\n",
        "            # verify we didn't do anything impossible here\n",
        "            assert (spend + costs) <= coh\n",
        "            # update our holdings\n",
        "            coh = coh - spend - costs\n",
        "            holdings_updated = self.holdings + transactions\n",
        "            self.date_index += 1\n",
        "            if self.turbulence_threshold is not None:\n",
        "                self.turbulence = self.get_date_vector(\n",
        "                    self.date_index, cols=[\"turbulence\"]\n",
        "                )[0]\n",
        "            # Update State\n",
        "            state = (\n",
        "                [coh] + list(holdings_updated) + self.get_date_vector(self.date_index)\n",
        "            )\n",
        "            self.state_memory.append(state)\n",
        "            return state, reward, False, {}\n",
        "\n",
        "    def get_sb_env(self):\n",
        "        def get_self():\n",
        "            return deepcopy(self)\n",
        "\n",
        "        e = DummyVecEnv([get_self])\n",
        "        obs = e.reset()\n",
        "        return e, obs\n",
        "\n",
        "    def get_multiproc_env(self, n=10):\n",
        "        def get_self():\n",
        "            return deepcopy(self)\n",
        "\n",
        "        e = SubprocVecEnv([get_self for _ in range(n)], start_method=\"fork\")\n",
        "        obs = e.reset()\n",
        "        return e, obs\n",
        "\n",
        "    def save_asset_memory(self):\n",
        "        if self.current_step == 0:\n",
        "            return None\n",
        "        else:\n",
        "            self.account_information[\"date\"] = self.dates[\n",
        "                -len(self.account_information[\"cash\"]) :\n",
        "            ]\n",
        "            return pd.DataFrame(self.account_information)\n",
        "\n",
        "    def save_action_memory(self):\n",
        "        if self.current_step == 0:\n",
        "            return None\n",
        "        else:\n",
        "            return pd.DataFrame(\n",
        "                {\n",
        "                    \"date\": self.dates[-len(self.account_information[\"cash\"]) :],\n",
        "                    \"actions\": self.actions_memory,\n",
        "                    \"transactions\": self.transaction_memory,\n",
        "                }\n",
        "            )"
      ],
      "execution_count": 14,
      "outputs": []
    },
    {
      "cell_type": "markdown",
      "metadata": {
        "id": "iyuPzwP7XAdS"
      },
      "source": [
        " "
      ]
    },
    {
      "cell_type": "code",
      "metadata": {
        "id": "FCqTEpfh3fEZ",
        "outputId": "4321d51b-998b-44cd-de95-23e16e6da5a8",
        "colab": {
          "base_uri": "https://localhost:8080/"
        }
      },
      "source": [
        "print(MyStockTradingEnvCashpenalty.__doc__)"
      ],
      "execution_count": 15,
      "outputs": [
        {
          "output_type": "stream",
          "text": [
            "\n",
            "    A stock trading environment for OpenAI gym\n",
            "    This environment penalizes the model for not maintaining a reserve of cash.\n",
            "    This enables the model to manage cash reserves in addition to performing trading procedures.\n",
            "    Reward at any step is given as follows\n",
            "        r_i = (sum(cash, asset_value) - initial_cash - max(0, sum(cash, asset_value)*cash_penalty_proportion-cash))/(days_elapsed)\n",
            "        This reward function takes into account a liquidity requirement, as well as long-term accrued rewards.\n",
            "    Parameters:\n",
            "        df (pandas.DataFrame): Dataframe containing data\n",
            "        buy_cost_pct (float): cost for buying shares\n",
            "        sell_cost_pct (float): cost for selling shares\n",
            "        hmax (int, array): maximum cash to be traded in each trade per asset. If an array is provided, then each index correspond to each asset\n",
            "        discrete_actions (bool): option to choose whether perform dicretization on actions space or not\n",
            "        shares_increment (int): multiples number of shares can be bought in each trade. Only applicable if discrete_actions=True\n",
            "        turbulence_threshold (float): Maximum turbulence allowed in market for purchases to occur. If exceeded, positions are liquidated\n",
            "        print_verbosity(int): When iterating (step), how often to print stats about state of env\n",
            "        initial_amount: (int, float): Amount of cash initially available\n",
            "        daily_information_columns (list(str)): Columns to use when building state space from the dataframe. It could be OHLC columns or any other variables such as technical indicators and turbulence index\n",
            "        cash_penalty_proportion (int, float): Penalty to apply if the algorithm runs out of cash\n",
            "        patient (bool): option to choose whether end the cycle when we're running out of cash or just don't buy anything until we got additional cash\n",
            "    RL Inputs and Outputs\n",
            "        action space: [<n_assets>,] in range {-1, 1}\n",
            "        state space: {start_cash, [shares_i for in in assets], [[indicator_j for j in indicators] for i in assets]]}\n",
            "    TODO:\n",
            "        Organize functions\n",
            "        Write README\n",
            "        Document tests\n",
            "    \n"
          ],
          "name": "stdout"
        }
      ]
    },
    {
      "cell_type": "markdown",
      "metadata": {
        "id": "Q2zqII8rMIqn",
        "outputId": "8a2c943b-1be4-4b8d-b64f-666e0852b7e6"
      },
      "source": [
        "#### state space\n",
        "The state space of the observation is as follows \n",
        "\n",
        "`start_cash, <owned_shares_of_n_assets>, <<indicator_i_for_asset_j> for j in assets>`\n",
        "\n",
        "indicators are any daily measurement you can achieve. Common ones are 'volume', 'open' 'close' 'high', 'low'.\n",
        "However, you can add these as needed, \n",
        "The feature engineer adds indicators, and you can add your own as well. \n"
      ]
    },
    {
      "cell_type": "code",
      "metadata": {
        "id": "Ac5vErdj3fEa",
        "outputId": "c8578ca8-6636-4969-dbe4-8fd049fd4017",
        "colab": {
          "base_uri": "https://localhost:8080/",
          "height": 204
        }
      },
      "source": [
        "processed.head()"
      ],
      "execution_count": 16,
      "outputs": [
        {
          "output_type": "execute_result",
          "data": {
            "text/html": [
              "<div>\n",
              "<style scoped>\n",
              "    .dataframe tbody tr th:only-of-type {\n",
              "        vertical-align: middle;\n",
              "    }\n",
              "\n",
              "    .dataframe tbody tr th {\n",
              "        vertical-align: top;\n",
              "    }\n",
              "\n",
              "    .dataframe thead th {\n",
              "        text-align: right;\n",
              "    }\n",
              "</style>\n",
              "<table border=\"1\" class=\"dataframe\">\n",
              "  <thead>\n",
              "    <tr style=\"text-align: right;\">\n",
              "      <th></th>\n",
              "      <th>date</th>\n",
              "      <th>open</th>\n",
              "      <th>high</th>\n",
              "      <th>low</th>\n",
              "      <th>close</th>\n",
              "      <th>volume</th>\n",
              "      <th>tic</th>\n",
              "      <th>day</th>\n",
              "      <th>macd</th>\n",
              "      <th>rsi_30</th>\n",
              "      <th>cci_30</th>\n",
              "      <th>dx_30</th>\n",
              "      <th>log_volume</th>\n",
              "      <th>change</th>\n",
              "      <th>daily_variance</th>\n",
              "    </tr>\n",
              "  </thead>\n",
              "  <tbody>\n",
              "    <tr>\n",
              "      <th>0</th>\n",
              "      <td>2009-01-02</td>\n",
              "      <td>16.410000</td>\n",
              "      <td>17.000000</td>\n",
              "      <td>16.250000</td>\n",
              "      <td>12.505757</td>\n",
              "      <td>40980600</td>\n",
              "      <td>CSCO</td>\n",
              "      <td>4</td>\n",
              "      <td>0.000000</td>\n",
              "      <td>100.0</td>\n",
              "      <td>66.666667</td>\n",
              "      <td>100.0</td>\n",
              "      <td>20.054798</td>\n",
              "      <td>-0.312196</td>\n",
              "      <td>0.059972</td>\n",
              "    </tr>\n",
              "    <tr>\n",
              "      <th>1</th>\n",
              "      <td>2009-01-02</td>\n",
              "      <td>83.889999</td>\n",
              "      <td>87.589996</td>\n",
              "      <td>83.889999</td>\n",
              "      <td>59.180256</td>\n",
              "      <td>7558200</td>\n",
              "      <td>IBM</td>\n",
              "      <td>4</td>\n",
              "      <td>0.000000</td>\n",
              "      <td>100.0</td>\n",
              "      <td>66.666667</td>\n",
              "      <td>100.0</td>\n",
              "      <td>19.918732</td>\n",
              "      <td>-0.417534</td>\n",
              "      <td>0.062521</td>\n",
              "    </tr>\n",
              "    <tr>\n",
              "      <th>2</th>\n",
              "      <td>2009-01-02</td>\n",
              "      <td>60.130001</td>\n",
              "      <td>61.000000</td>\n",
              "      <td>59.040001</td>\n",
              "      <td>41.743183</td>\n",
              "      <td>11638900</td>\n",
              "      <td>JNJ</td>\n",
              "      <td>4</td>\n",
              "      <td>0.000000</td>\n",
              "      <td>100.0</td>\n",
              "      <td>66.666667</td>\n",
              "      <td>100.0</td>\n",
              "      <td>20.001400</td>\n",
              "      <td>-0.440475</td>\n",
              "      <td>0.046954</td>\n",
              "    </tr>\n",
              "    <tr>\n",
              "      <th>3</th>\n",
              "      <td>2009-01-05</td>\n",
              "      <td>16.850000</td>\n",
              "      <td>17.299999</td>\n",
              "      <td>16.750000</td>\n",
              "      <td>12.616367</td>\n",
              "      <td>45480200</td>\n",
              "      <td>CSCO</td>\n",
              "      <td>0</td>\n",
              "      <td>0.002482</td>\n",
              "      <td>100.0</td>\n",
              "      <td>66.666667</td>\n",
              "      <td>100.0</td>\n",
              "      <td>20.167783</td>\n",
              "      <td>-0.335567</td>\n",
              "      <td>0.043594</td>\n",
              "    </tr>\n",
              "    <tr>\n",
              "      <th>4</th>\n",
              "      <td>2009-01-05</td>\n",
              "      <td>86.419998</td>\n",
              "      <td>87.669998</td>\n",
              "      <td>86.180000</td>\n",
              "      <td>58.807713</td>\n",
              "      <td>8315700</td>\n",
              "      <td>IBM</td>\n",
              "      <td>0</td>\n",
              "      <td>-0.008358</td>\n",
              "      <td>0.0</td>\n",
              "      <td>66.666667</td>\n",
              "      <td>100.0</td>\n",
              "      <td>20.007929</td>\n",
              "      <td>-0.469535</td>\n",
              "      <td>0.025337</td>\n",
              "    </tr>\n",
              "  </tbody>\n",
              "</table>\n",
              "</div>"
            ],
            "text/plain": [
              "         date       open       high  ...  log_volume    change  daily_variance\n",
              "0  2009-01-02  16.410000  17.000000  ...   20.054798 -0.312196        0.059972\n",
              "1  2009-01-02  83.889999  87.589996  ...   19.918732 -0.417534        0.062521\n",
              "2  2009-01-02  60.130001  61.000000  ...   20.001400 -0.440475        0.046954\n",
              "3  2009-01-05  16.850000  17.299999  ...   20.167783 -0.335567        0.043594\n",
              "4  2009-01-05  86.419998  87.669998  ...   20.007929 -0.469535        0.025337\n",
              "\n",
              "[5 rows x 15 columns]"
            ]
          },
          "metadata": {
            "tags": []
          },
          "execution_count": 16
        }
      ]
    },
    {
      "cell_type": "code",
      "metadata": {
        "id": "AWyp84Ltto19",
        "outputId": "4c8ca824-3d8a-422b-9414-50b16838fef2",
        "colab": {
          "base_uri": "https://localhost:8080/"
        }
      },
      "source": [
        "information_cols = ['daily_variance', 'change', 'log_volume', 'close','day', \n",
        "                    'macd', 'rsi_30', 'cci_30', 'dx_30']\n",
        "\n",
        "e_train_gym = MyStockTradingEnvCashpenalty(df = train,initial_amount = 1e6,hmax = 5000, \n",
        "                                turbulence_threshold = None, \n",
        "                                currency='$',\n",
        "                                buy_cost_pct=3e-3,\n",
        "                                sell_cost_pct=3e-3,\n",
        "                                cash_penalty_proportion=0.1,\n",
        "                                cache_indicator_data=True,\n",
        "                                daily_information_cols = information_cols, \n",
        "                                print_verbosity = 500, \n",
        "                                random_start = True)\n",
        "\n",
        "e_trade_gym = MyStockTradingEnvCashpenalty(df = trade,initial_amount = 1e6,hmax = 5000, \n",
        "                                turbulence_threshold = None, \n",
        "                                currency='$',\n",
        "                                buy_cost_pct=3e-3,\n",
        "                                sell_cost_pct=3e-3,\n",
        "                                cash_penalty_proportion=0.1,\n",
        "                                cache_indicator_data=True,\n",
        "                                daily_information_cols = information_cols, \n",
        "                                print_verbosity = 500, \n",
        "                                random_start = False)"
      ],
      "execution_count": 17,
      "outputs": [
        {
          "output_type": "stream",
          "text": [
            "caching data\n",
            "data cached!\n",
            "caching data\n",
            "data cached!\n"
          ],
          "name": "stdout"
        }
      ]
    },
    {
      "cell_type": "markdown",
      "metadata": {
        "id": "64EoqOrQjiVf"
      },
      "source": [
        "## Environment for Training\n",
        "There are two available environments. The multiprocessing and the single processing env. \n",
        "Some models won't work with multiprocessing. \n",
        "\n",
        "```python\n",
        "# single processing\n",
        "env_train, _ = e_train_gym.get_sb_env()\n",
        "\n",
        "\n",
        "#multiprocessing\n",
        "env_train, _ = e_train_gym.get_multiproc_env(n = <n_cores>)\n",
        "```\n"
      ]
    },
    {
      "cell_type": "code",
      "metadata": {
        "colab": {
          "base_uri": "https://localhost:8080/"
        },
        "id": "xwSvvPjutpqS",
        "outputId": "f8a58ab6-bdd8-4658-cb2d-9adf524373cb"
      },
      "source": [
        "# for this example, let's do multiprocessing with n_cores-2\n",
        "import multiprocessing\n",
        "\n",
        "n_cores = multiprocessing.cpu_count() - 2\n",
        "n_cores = 24\n",
        "print(f\"using {n_cores} cores\")\n",
        "\n",
        "#this is our training env. It allows multiprocessing\n",
        "env_train, _ = e_train_gym.get_multiproc_env(n = n_cores)\n",
        "# env_train, _ = e_train_gym.get_sb_env()\n",
        "\n",
        "#this is our observation environment. It allows full diagnostics\n",
        "env_trade, _ = e_trade_gym.get_sb_env()"
      ],
      "execution_count": 18,
      "outputs": [
        {
          "output_type": "stream",
          "text": [
            "using 24 cores\n"
          ],
          "name": "stdout"
        }
      ]
    },
    {
      "cell_type": "markdown",
      "metadata": {
        "id": "HMNR5nHjh1iz"
      },
      "source": [
        "<a id='5'></a>\n",
        "# Part 6: Implement DRL Algorithms\n",
        "* The implementation of the DRL algorithms are based on **OpenAI Baselines** and **Stable Baselines**. Stable Baselines is a fork of OpenAI Baselines, with a major structural refactoring, and code cleanups.\n",
        "* FinRL library includes fine-tuned standard DRL algorithms, such as DQN, DDPG,\n",
        "Multi-Agent DDPG, PPO, SAC, A2C and TD3. We also allow users to\n",
        "design their own DRL algorithms by adapting these DRL algorithms."
      ]
    },
    {
      "cell_type": "code",
      "metadata": {
        "id": "364PsqckttcQ"
      },
      "source": [
        "agent = DRLAgent(env = env_train)"
      ],
      "execution_count": 19,
      "outputs": []
    },
    {
      "cell_type": "markdown",
      "metadata": {
        "id": "uijiWgkuh1jB"
      },
      "source": [
        "### Model PPO\n"
      ]
    },
    {
      "cell_type": "code",
      "metadata": {
        "id": "Lc7V2tWp3fEb",
        "outputId": "e035bbdc-f1d7-4ec1-86be-bebec0d89f29",
        "colab": {
          "base_uri": "https://localhost:8080/"
        }
      },
      "source": [
        "# from torch.nn import Softsign, ReLU\n",
        "ppo_params ={'n_steps': 256, \n",
        "             'ent_coef': 0.0, \n",
        "             'learning_rate': 0.000005, \n",
        "             'batch_size': 1024, \n",
        "            'gamma': 0.99}\n",
        "\n",
        "policy_kwargs = {\n",
        "#     \"activation_fn\": ReLU,\n",
        "    \"net_arch\": [1024 for _ in range(10)], \n",
        "#     \"squash_output\": True\n",
        "}\n",
        "\n",
        "model = agent.get_model(\"ppo\",  \n",
        "                        model_kwargs = ppo_params, \n",
        "                        policy_kwargs = policy_kwargs, verbose = 0)\n",
        "\n",
        "# model = model.load(\"scaling_reward.model\", env = env_train)"
      ],
      "execution_count": 20,
      "outputs": [
        {
          "output_type": "stream",
          "text": [
            "{'n_steps': 256, 'ent_coef': 0.0, 'learning_rate': 5e-06, 'batch_size': 1024, 'gamma': 0.99}\n"
          ],
          "name": "stdout"
        }
      ]
    },
    {
      "cell_type": "code",
      "metadata": {
        "id": "zTwet1oZ3fEb",
        "outputId": "d8a244d7-e0c2-4ed3-a23f-9eb08b17e8fe",
        "colab": {
          "base_uri": "https://localhost:8080/"
        }
      },
      "source": [
        "model.learn(total_timesteps = 20000, \n",
        "            eval_env = env_trade, \n",
        "            eval_freq = 500,\n",
        "            log_interval = 1, \n",
        "            tb_log_name = 'env_cashpenalty_highlr',\n",
        "            n_eval_episodes = 1)"
      ],
      "execution_count": 21,
      "outputs": [
        {
          "output_type": "stream",
          "text": [
            "/usr/local/lib/python3.7/dist-packages/stable_baselines3/common/callbacks.py:337: UserWarning: Training and eval env are not of the same type<stable_baselines3.common.vec_env.subproc_vec_env.SubprocVecEnv object at 0x7fb2d6f656d0> != <stable_baselines3.common.vec_env.dummy_vec_env.DummyVecEnv object at 0x7fb2d6f65b90>\n",
            "  warnings.warn(\"Training and eval env are not of the same type\" f\"{self.training_env} != {self.eval_env}\")\n",
            "/usr/local/lib/python3.7/dist-packages/stable_baselines3/common/evaluation.py:69: UserWarning: Evaluation environment is not wrapped with a ``Monitor`` wrapper. This may result in reporting modified episode lengths and rewards, if other wrappers happen to modify these. Consider wrapping environment first with ``Monitor`` wrapper.\n",
            "  UserWarning,\n"
          ],
          "name": "stderr"
        },
        {
          "output_type": "stream",
          "text": [
            "EPISODE|STEPS|TERMINAL_REASON|CASH           |TOT_ASSETS     |TERMINAL_REWARD_unsc|GAINLOSS_PCT|CASH_PROPORTION\n",
            "   1| 499|update         |$1,000,000     |$1,000,000     |0.00000%  |0.00000%  |100.00%   \n",
            "   1| 504|Last Date      |$1,000,000     |$1,000,000     |0.00000%  |0.00000%  |100.00%   \n",
            "Eval num_timesteps=12000, episode_reward=0.00 +/- 0.00\n",
            "Episode length: 505.00 +/- 0.00\n",
            "New best mean reward!\n",
            "   3| 499|update         |$679,637       |$999,035       |-0.00019% |-0.09647% |68.03%    \n",
            "   3| 504|Last Date      |$676,420       |$1,000,917     |0.00018%  |0.09165%  |67.58%    \n",
            "Eval num_timesteps=24000, episode_reward=0.00 +/- 0.00\n",
            "Episode length: 505.00 +/- 0.00\n",
            "New best mean reward!\n"
          ],
          "name": "stdout"
        },
        {
          "output_type": "execute_result",
          "data": {
            "text/plain": [
              "<stable_baselines3.ppo.ppo.PPO at 0x7fb2d6a4d190>"
            ]
          },
          "metadata": {
            "tags": []
          },
          "execution_count": 21
        }
      ]
    },
    {
      "cell_type": "code",
      "metadata": {
        "id": "9Jbf8TQq3fEc"
      },
      "source": [
        "model.save(\"different1_24.model\")"
      ],
      "execution_count": 22,
      "outputs": []
    },
    {
      "cell_type": "markdown",
      "metadata": {
        "id": "U5mmgQF_h1jQ"
      },
      "source": [
        "### Trade\n",
        "\n",
        "DRL model needs to update periodically in order to take full advantage of the data, ideally we need to retrain our model yearly, quarterly, or monthly. We also need to tune the parameters along the way, in this notebook I only use the in-sample data from 2009-01 to 2018-12 to tune the parameters once, so there is some alpha decay here as the length of trade date extends. \n",
        "\n",
        "Numerous hyperparameters – e.g. the learning rate, the total number of samples to train on – influence the learning process and are usually determined by testing some variations."
      ]
    },
    {
      "cell_type": "code",
      "metadata": {
        "id": "gABFy6u03fEc",
        "outputId": "5ed807e3-bf58-43f9-8c9c-9122d76816bd",
        "colab": {
          "base_uri": "https://localhost:8080/",
          "height": 204
        }
      },
      "source": [
        "trade.head()"
      ],
      "execution_count": 23,
      "outputs": [
        {
          "output_type": "execute_result",
          "data": {
            "text/html": [
              "<div>\n",
              "<style scoped>\n",
              "    .dataframe tbody tr th:only-of-type {\n",
              "        vertical-align: middle;\n",
              "    }\n",
              "\n",
              "    .dataframe tbody tr th {\n",
              "        vertical-align: top;\n",
              "    }\n",
              "\n",
              "    .dataframe thead th {\n",
              "        text-align: right;\n",
              "    }\n",
              "</style>\n",
              "<table border=\"1\" class=\"dataframe\">\n",
              "  <thead>\n",
              "    <tr style=\"text-align: right;\">\n",
              "      <th></th>\n",
              "      <th>date</th>\n",
              "      <th>open</th>\n",
              "      <th>high</th>\n",
              "      <th>low</th>\n",
              "      <th>close</th>\n",
              "      <th>volume</th>\n",
              "      <th>tic</th>\n",
              "      <th>day</th>\n",
              "      <th>macd</th>\n",
              "      <th>rsi_30</th>\n",
              "      <th>cci_30</th>\n",
              "      <th>dx_30</th>\n",
              "      <th>log_volume</th>\n",
              "      <th>change</th>\n",
              "      <th>daily_variance</th>\n",
              "    </tr>\n",
              "  </thead>\n",
              "  <tbody>\n",
              "    <tr>\n",
              "      <th>0</th>\n",
              "      <td>2019-01-02</td>\n",
              "      <td>42.279999</td>\n",
              "      <td>43.200001</td>\n",
              "      <td>42.209999</td>\n",
              "      <td>39.496738</td>\n",
              "      <td>23833500</td>\n",
              "      <td>CSCO</td>\n",
              "      <td>2</td>\n",
              "      <td>-0.939011</td>\n",
              "      <td>44.872565</td>\n",
              "      <td>-87.556999</td>\n",
              "      <td>29.529377</td>\n",
              "      <td>20.662821</td>\n",
              "      <td>-0.070468</td>\n",
              "      <td>0.025065</td>\n",
              "    </tr>\n",
              "    <tr>\n",
              "      <th>0</th>\n",
              "      <td>2019-01-02</td>\n",
              "      <td>112.010002</td>\n",
              "      <td>115.980003</td>\n",
              "      <td>111.690002</td>\n",
              "      <td>101.942413</td>\n",
              "      <td>4239900</td>\n",
              "      <td>IBM</td>\n",
              "      <td>2</td>\n",
              "      <td>-2.264893</td>\n",
              "      <td>42.655674</td>\n",
              "      <td>-75.909284</td>\n",
              "      <td>19.746436</td>\n",
              "      <td>19.884458</td>\n",
              "      <td>-0.098758</td>\n",
              "      <td>0.042083</td>\n",
              "    </tr>\n",
              "    <tr>\n",
              "      <th>0</th>\n",
              "      <td>2019-01-02</td>\n",
              "      <td>128.130005</td>\n",
              "      <td>128.380005</td>\n",
              "      <td>126.279999</td>\n",
              "      <td>119.464256</td>\n",
              "      <td>7631700</td>\n",
              "      <td>JNJ</td>\n",
              "      <td>2</td>\n",
              "      <td>-3.988228</td>\n",
              "      <td>40.136256</td>\n",
              "      <td>-90.896149</td>\n",
              "      <td>41.067317</td>\n",
              "      <td>20.630838</td>\n",
              "      <td>-0.072538</td>\n",
              "      <td>0.017579</td>\n",
              "    </tr>\n",
              "    <tr>\n",
              "      <th>1</th>\n",
              "      <td>2019-01-03</td>\n",
              "      <td>42.299999</td>\n",
              "      <td>42.410000</td>\n",
              "      <td>40.959999</td>\n",
              "      <td>38.060322</td>\n",
              "      <td>29606700</td>\n",
              "      <td>CSCO</td>\n",
              "      <td>3</td>\n",
              "      <td>-1.016141</td>\n",
              "      <td>41.861397</td>\n",
              "      <td>-119.073431</td>\n",
              "      <td>37.886570</td>\n",
              "      <td>20.842684</td>\n",
              "      <td>-0.111394</td>\n",
              "      <td>0.038097</td>\n",
              "    </tr>\n",
              "    <tr>\n",
              "      <th>1</th>\n",
              "      <td>2019-01-03</td>\n",
              "      <td>114.529999</td>\n",
              "      <td>114.879997</td>\n",
              "      <td>112.690002</td>\n",
              "      <td>99.907280</td>\n",
              "      <td>4346700</td>\n",
              "      <td>IBM</td>\n",
              "      <td>3</td>\n",
              "      <td>-2.212195</td>\n",
              "      <td>40.845558</td>\n",
              "      <td>-83.308115</td>\n",
              "      <td>19.746436</td>\n",
              "      <td>19.889170</td>\n",
              "      <td>-0.146363</td>\n",
              "      <td>0.021920</td>\n",
              "    </tr>\n",
              "  </tbody>\n",
              "</table>\n",
              "</div>"
            ],
            "text/plain": [
              "         date        open        high  ...  log_volume    change  daily_variance\n",
              "0  2019-01-02   42.279999   43.200001  ...   20.662821 -0.070468        0.025065\n",
              "0  2019-01-02  112.010002  115.980003  ...   19.884458 -0.098758        0.042083\n",
              "0  2019-01-02  128.130005  128.380005  ...   20.630838 -0.072538        0.017579\n",
              "1  2019-01-03   42.299999   42.410000  ...   20.842684 -0.111394        0.038097\n",
              "1  2019-01-03  114.529999  114.879997  ...   19.889170 -0.146363        0.021920\n",
              "\n",
              "[5 rows x 15 columns]"
            ]
          },
          "metadata": {
            "tags": []
          },
          "execution_count": 23
        }
      ]
    },
    {
      "cell_type": "code",
      "metadata": {
        "id": "eLOnL5eYh1jR"
      },
      "source": [
        "e_trade_gym.hmax = 5000"
      ],
      "execution_count": 24,
      "outputs": []
    },
    {
      "cell_type": "code",
      "metadata": {
        "id": "Bq9BaTCQ3fEc",
        "outputId": "f3f9ea04-9a36-467d-a80f-96bdb6335d14",
        "colab": {
          "base_uri": "https://localhost:8080/"
        }
      },
      "source": [
        "print(len(e_trade_gym.dates))"
      ],
      "execution_count": 25,
      "outputs": [
        {
          "output_type": "stream",
          "text": [
            "505\n"
          ],
          "name": "stdout"
        }
      ]
    },
    {
      "cell_type": "code",
      "metadata": {
        "id": "WlDYBI9e3fEd",
        "outputId": "1f190d5d-ff2d-4e1a-fe3d-d78f37a0ee0e",
        "colab": {
          "base_uri": "https://localhost:8080/"
        }
      },
      "source": [
        "df_account_value, df_actions = DRLAgent.DRL_prediction(model=model,environment = e_trade_gym)"
      ],
      "execution_count": 26,
      "outputs": [
        {
          "output_type": "stream",
          "text": [
            "EPISODE|STEPS|TERMINAL_REASON|CASH           |TOT_ASSETS     |TERMINAL_REWARD_unsc|GAINLOSS_PCT|CASH_PROPORTION\n",
            "   1| 499|update         |$569,720       |$1,002,208     |0.00044%  |0.22082%  |56.85%    \n",
            "   1| 504|Last Date      |$572,993       |$1,004,444     |0.00088%  |0.44440%  |57.05%    \n",
            "hit end!\n"
          ],
          "name": "stdout"
        }
      ]
    },
    {
      "cell_type": "code",
      "metadata": {
        "id": "PzEigeLB3fEd",
        "outputId": "61d2f08c-4e8a-4cf4-8fa4-15df5be15992",
        "colab": {
          "base_uri": "https://localhost:8080/",
          "height": 204
        }
      },
      "source": [
        "df_actions.head()"
      ],
      "execution_count": 27,
      "outputs": [
        {
          "output_type": "execute_result",
          "data": {
            "text/html": [
              "<div>\n",
              "<style scoped>\n",
              "    .dataframe tbody tr th:only-of-type {\n",
              "        vertical-align: middle;\n",
              "    }\n",
              "\n",
              "    .dataframe tbody tr th {\n",
              "        vertical-align: top;\n",
              "    }\n",
              "\n",
              "    .dataframe thead th {\n",
              "        text-align: right;\n",
              "    }\n",
              "</style>\n",
              "<table border=\"1\" class=\"dataframe\">\n",
              "  <thead>\n",
              "    <tr style=\"text-align: right;\">\n",
              "      <th></th>\n",
              "      <th>date</th>\n",
              "      <th>actions</th>\n",
              "      <th>transactions</th>\n",
              "    </tr>\n",
              "  </thead>\n",
              "  <tbody>\n",
              "    <tr>\n",
              "      <th>0</th>\n",
              "      <td>2019-01-03</td>\n",
              "      <td>[0.9945836, -0.8749739, -0.05623682]</td>\n",
              "      <td>[125.90705374521687, -0.0, -0.0]</td>\n",
              "    </tr>\n",
              "    <tr>\n",
              "      <th>1</th>\n",
              "      <td>2019-01-04</td>\n",
              "      <td>[0.7556748, -1.0, -0.045799278]</td>\n",
              "      <td>[99.27330090300117, -0.0, -0.0]</td>\n",
              "    </tr>\n",
              "    <tr>\n",
              "      <th>2</th>\n",
              "      <td>2019-01-07</td>\n",
              "      <td>[-1.0, 0.58669007, -0.028368175]</td>\n",
              "      <td>[-125.7078933416402, 28.258039774646058, -0.0]</td>\n",
              "    </tr>\n",
              "    <tr>\n",
              "      <th>3</th>\n",
              "      <td>2019-01-08</td>\n",
              "      <td>[-0.1722001, -1.0, -1.0]</td>\n",
              "      <td>[-21.501631774378637, -28.258039774646058, -0.0]</td>\n",
              "    </tr>\n",
              "    <tr>\n",
              "      <th>4</th>\n",
              "      <td>2019-01-09</td>\n",
              "      <td>[-1.0, 1.0, -0.32578418]</td>\n",
              "      <td>[-77.9708295321992, 47.156306216946206, -0.0]</td>\n",
              "    </tr>\n",
              "  </tbody>\n",
              "</table>\n",
              "</div>"
            ],
            "text/plain": [
              "         date  ...                                      transactions\n",
              "0  2019-01-03  ...                  [125.90705374521687, -0.0, -0.0]\n",
              "1  2019-01-04  ...                   [99.27330090300117, -0.0, -0.0]\n",
              "2  2019-01-07  ...    [-125.7078933416402, 28.258039774646058, -0.0]\n",
              "3  2019-01-08  ...  [-21.501631774378637, -28.258039774646058, -0.0]\n",
              "4  2019-01-09  ...     [-77.9708295321992, 47.156306216946206, -0.0]\n",
              "\n",
              "[5 rows x 3 columns]"
            ]
          },
          "metadata": {
            "tags": []
          },
          "execution_count": 27
        }
      ]
    },
    {
      "cell_type": "code",
      "metadata": {
        "colab": {
          "base_uri": "https://localhost:8080/"
        },
        "id": "ERxw3KqLkcP4",
        "outputId": "05af24b9-1e82-4532-f767-493280846931"
      },
      "source": [
        "df_account_value.shape"
      ],
      "execution_count": 28,
      "outputs": [
        {
          "output_type": "execute_result",
          "data": {
            "text/plain": [
              "(504, 5)"
            ]
          },
          "metadata": {
            "tags": []
          },
          "execution_count": 28
        }
      ]
    },
    {
      "cell_type": "code",
      "metadata": {
        "colab": {
          "base_uri": "https://localhost:8080/",
          "height": 1000
        },
        "id": "2yRkNguY5yvp",
        "outputId": "f5952c50-50de-4114-fd03-be5366120723"
      },
      "source": [
        "df_account_value.head(50)"
      ],
      "execution_count": 29,
      "outputs": [
        {
          "output_type": "execute_result",
          "data": {
            "text/html": [
              "<div>\n",
              "<style scoped>\n",
              "    .dataframe tbody tr th:only-of-type {\n",
              "        vertical-align: middle;\n",
              "    }\n",
              "\n",
              "    .dataframe tbody tr th {\n",
              "        vertical-align: top;\n",
              "    }\n",
              "\n",
              "    .dataframe thead th {\n",
              "        text-align: right;\n",
              "    }\n",
              "</style>\n",
              "<table border=\"1\" class=\"dataframe\">\n",
              "  <thead>\n",
              "    <tr style=\"text-align: right;\">\n",
              "      <th></th>\n",
              "      <th>cash</th>\n",
              "      <th>asset_value</th>\n",
              "      <th>total_assets</th>\n",
              "      <th>reward</th>\n",
              "      <th>date</th>\n",
              "    </tr>\n",
              "  </thead>\n",
              "  <tbody>\n",
              "    <tr>\n",
              "      <th>0</th>\n",
              "      <td>1000000.000000</td>\n",
              "      <td>0.000000</td>\n",
              "      <td>1.000000e+06</td>\n",
              "      <td>0.000000</td>\n",
              "      <td>2019-01-03</td>\n",
              "    </tr>\n",
              "    <tr>\n",
              "      <th>1</th>\n",
              "      <td>995012.163277</td>\n",
              "      <td>4792.062983</td>\n",
              "      <td>9.998042e+05</td>\n",
              "      <td>-0.000196</td>\n",
              "      <td>2019-01-04</td>\n",
              "    </tr>\n",
              "    <tr>\n",
              "      <th>2</th>\n",
              "      <td>991222.454377</td>\n",
              "      <td>8956.492256</td>\n",
              "      <td>1.000179e+06</td>\n",
              "      <td>0.000089</td>\n",
              "      <td>2019-01-07</td>\n",
              "    </tr>\n",
              "    <tr>\n",
              "      <th>3</th>\n",
              "      <td>993265.203586</td>\n",
              "      <td>6937.428756</td>\n",
              "      <td>1.000203e+06</td>\n",
              "      <td>0.000068</td>\n",
              "      <td>2019-01-08</td>\n",
              "    </tr>\n",
              "    <tr>\n",
              "      <th>4</th>\n",
              "      <td>997068.962193</td>\n",
              "      <td>3147.514849</td>\n",
              "      <td>1.000216e+06</td>\n",
              "      <td>0.000054</td>\n",
              "      <td>2019-01-09</td>\n",
              "    </tr>\n",
              "    <tr>\n",
              "      <th>5</th>\n",
              "      <td>995192.034497</td>\n",
              "      <td>5035.884585</td>\n",
              "      <td>1.000228e+06</td>\n",
              "      <td>0.000046</td>\n",
              "      <td>2019-01-10</td>\n",
              "    </tr>\n",
              "    <tr>\n",
              "      <th>6</th>\n",
              "      <td>985162.034497</td>\n",
              "      <td>15157.603736</td>\n",
              "      <td>1.000320e+06</td>\n",
              "      <td>0.000053</td>\n",
              "      <td>2019-01-11</td>\n",
              "    </tr>\n",
              "    <tr>\n",
              "      <th>7</th>\n",
              "      <td>988925.707673</td>\n",
              "      <td>11360.149523</td>\n",
              "      <td>1.000286e+06</td>\n",
              "      <td>0.000041</td>\n",
              "      <td>2019-01-14</td>\n",
              "    </tr>\n",
              "    <tr>\n",
              "      <th>8</th>\n",
              "      <td>985783.906259</td>\n",
              "      <td>14361.230449</td>\n",
              "      <td>1.000145e+06</td>\n",
              "      <td>0.000018</td>\n",
              "      <td>2019-01-15</td>\n",
              "    </tr>\n",
              "    <tr>\n",
              "      <th>9</th>\n",
              "      <td>983667.894633</td>\n",
              "      <td>16654.359297</td>\n",
              "      <td>1.000322e+06</td>\n",
              "      <td>0.000036</td>\n",
              "      <td>2019-01-16</td>\n",
              "    </tr>\n",
              "    <tr>\n",
              "      <th>10</th>\n",
              "      <td>981014.282518</td>\n",
              "      <td>19268.437854</td>\n",
              "      <td>1.000283e+06</td>\n",
              "      <td>0.000028</td>\n",
              "      <td>2019-01-17</td>\n",
              "    </tr>\n",
              "    <tr>\n",
              "      <th>11</th>\n",
              "      <td>977670.724350</td>\n",
              "      <td>22709.037980</td>\n",
              "      <td>1.000380e+06</td>\n",
              "      <td>0.000035</td>\n",
              "      <td>2019-01-18</td>\n",
              "    </tr>\n",
              "    <tr>\n",
              "      <th>12</th>\n",
              "      <td>975351.976303</td>\n",
              "      <td>25344.700300</td>\n",
              "      <td>1.000697e+06</td>\n",
              "      <td>0.000058</td>\n",
              "      <td>2019-01-22</td>\n",
              "    </tr>\n",
              "    <tr>\n",
              "      <th>13</th>\n",
              "      <td>975978.759654</td>\n",
              "      <td>24436.646896</td>\n",
              "      <td>1.000415e+06</td>\n",
              "      <td>0.000032</td>\n",
              "      <td>2019-01-23</td>\n",
              "    </tr>\n",
              "    <tr>\n",
              "      <th>14</th>\n",
              "      <td>980891.545796</td>\n",
              "      <td>21118.363266</td>\n",
              "      <td>1.002010e+06</td>\n",
              "      <td>0.000144</td>\n",
              "      <td>2019-01-24</td>\n",
              "    </tr>\n",
              "    <tr>\n",
              "      <th>15</th>\n",
              "      <td>972954.690236</td>\n",
              "      <td>28946.397159</td>\n",
              "      <td>1.001901e+06</td>\n",
              "      <td>0.000127</td>\n",
              "      <td>2019-01-25</td>\n",
              "    </tr>\n",
              "    <tr>\n",
              "      <th>16</th>\n",
              "      <td>978841.964344</td>\n",
              "      <td>23291.765279</td>\n",
              "      <td>1.002134e+06</td>\n",
              "      <td>0.000133</td>\n",
              "      <td>2019-01-28</td>\n",
              "    </tr>\n",
              "    <tr>\n",
              "      <th>17</th>\n",
              "      <td>983191.496412</td>\n",
              "      <td>18970.863264</td>\n",
              "      <td>1.002162e+06</td>\n",
              "      <td>0.000127</td>\n",
              "      <td>2019-01-29</td>\n",
              "    </tr>\n",
              "    <tr>\n",
              "      <th>18</th>\n",
              "      <td>980994.128524</td>\n",
              "      <td>21178.451149</td>\n",
              "      <td>1.002173e+06</td>\n",
              "      <td>0.000121</td>\n",
              "      <td>2019-01-30</td>\n",
              "    </tr>\n",
              "    <tr>\n",
              "      <th>19</th>\n",
              "      <td>970964.128524</td>\n",
              "      <td>31319.696120</td>\n",
              "      <td>1.002284e+06</td>\n",
              "      <td>0.000120</td>\n",
              "      <td>2019-01-31</td>\n",
              "    </tr>\n",
              "    <tr>\n",
              "      <th>20</th>\n",
              "      <td>969923.017713</td>\n",
              "      <td>32492.871184</td>\n",
              "      <td>1.002416e+06</td>\n",
              "      <td>0.000121</td>\n",
              "      <td>2019-02-01</td>\n",
              "    </tr>\n",
              "    <tr>\n",
              "      <th>21</th>\n",
              "      <td>964076.332503</td>\n",
              "      <td>38281.975673</td>\n",
              "      <td>1.002358e+06</td>\n",
              "      <td>0.000112</td>\n",
              "      <td>2019-02-04</td>\n",
              "    </tr>\n",
              "    <tr>\n",
              "      <th>22</th>\n",
              "      <td>964944.186628</td>\n",
              "      <td>37625.815727</td>\n",
              "      <td>1.002570e+06</td>\n",
              "      <td>0.000117</td>\n",
              "      <td>2019-02-05</td>\n",
              "    </tr>\n",
              "    <tr>\n",
              "      <th>23</th>\n",
              "      <td>960723.576886</td>\n",
              "      <td>41864.019956</td>\n",
              "      <td>1.002588e+06</td>\n",
              "      <td>0.000113</td>\n",
              "      <td>2019-02-06</td>\n",
              "    </tr>\n",
              "    <tr>\n",
              "      <th>24</th>\n",
              "      <td>966761.682054</td>\n",
              "      <td>35993.676063</td>\n",
              "      <td>1.002755e+06</td>\n",
              "      <td>0.000115</td>\n",
              "      <td>2019-02-07</td>\n",
              "    </tr>\n",
              "    <tr>\n",
              "      <th>25</th>\n",
              "      <td>959950.950744</td>\n",
              "      <td>42215.399347</td>\n",
              "      <td>1.002166e+06</td>\n",
              "      <td>0.000087</td>\n",
              "      <td>2019-02-08</td>\n",
              "    </tr>\n",
              "    <tr>\n",
              "      <th>26</th>\n",
              "      <td>962782.996108</td>\n",
              "      <td>39580.277945</td>\n",
              "      <td>1.002363e+06</td>\n",
              "      <td>0.000091</td>\n",
              "      <td>2019-02-11</td>\n",
              "    </tr>\n",
              "    <tr>\n",
              "      <th>27</th>\n",
              "      <td>953039.532100</td>\n",
              "      <td>49471.727787</td>\n",
              "      <td>1.002511e+06</td>\n",
              "      <td>0.000093</td>\n",
              "      <td>2019-02-12</td>\n",
              "    </tr>\n",
              "    <tr>\n",
              "      <th>28</th>\n",
              "      <td>949435.969406</td>\n",
              "      <td>53779.466332</td>\n",
              "      <td>1.003215e+06</td>\n",
              "      <td>0.000115</td>\n",
              "      <td>2019-02-13</td>\n",
              "    </tr>\n",
              "    <tr>\n",
              "      <th>29</th>\n",
              "      <td>950769.318997</td>\n",
              "      <td>52790.758039</td>\n",
              "      <td>1.003560e+06</td>\n",
              "      <td>0.000123</td>\n",
              "      <td>2019-02-14</td>\n",
              "    </tr>\n",
              "    <tr>\n",
              "      <th>30</th>\n",
              "      <td>940252.669078</td>\n",
              "      <td>63153.381079</td>\n",
              "      <td>1.003406e+06</td>\n",
              "      <td>0.000114</td>\n",
              "      <td>2019-02-15</td>\n",
              "    </tr>\n",
              "    <tr>\n",
              "      <th>31</th>\n",
              "      <td>942177.863519</td>\n",
              "      <td>61987.657692</td>\n",
              "      <td>1.004166e+06</td>\n",
              "      <td>0.000134</td>\n",
              "      <td>2019-02-19</td>\n",
              "    </tr>\n",
              "    <tr>\n",
              "      <th>32</th>\n",
              "      <td>950322.565120</td>\n",
              "      <td>54064.787712</td>\n",
              "      <td>1.004387e+06</td>\n",
              "      <td>0.000137</td>\n",
              "      <td>2019-02-20</td>\n",
              "    </tr>\n",
              "    <tr>\n",
              "      <th>33</th>\n",
              "      <td>949485.387268</td>\n",
              "      <td>54643.938786</td>\n",
              "      <td>1.004129e+06</td>\n",
              "      <td>0.000125</td>\n",
              "      <td>2019-02-21</td>\n",
              "    </tr>\n",
              "    <tr>\n",
              "      <th>34</th>\n",
              "      <td>956615.145790</td>\n",
              "      <td>47423.776268</td>\n",
              "      <td>1.004039e+06</td>\n",
              "      <td>0.000119</td>\n",
              "      <td>2019-02-22</td>\n",
              "    </tr>\n",
              "    <tr>\n",
              "      <th>35</th>\n",
              "      <td>957370.385863</td>\n",
              "      <td>47153.601867</td>\n",
              "      <td>1.004524e+06</td>\n",
              "      <td>0.000129</td>\n",
              "      <td>2019-02-25</td>\n",
              "    </tr>\n",
              "    <tr>\n",
              "      <th>36</th>\n",
              "      <td>964822.047301</td>\n",
              "      <td>39762.732349</td>\n",
              "      <td>1.004585e+06</td>\n",
              "      <td>0.000127</td>\n",
              "      <td>2019-02-26</td>\n",
              "    </tr>\n",
              "    <tr>\n",
              "      <th>37</th>\n",
              "      <td>968940.471526</td>\n",
              "      <td>35713.452732</td>\n",
              "      <td>1.004654e+06</td>\n",
              "      <td>0.000126</td>\n",
              "      <td>2019-02-27</td>\n",
              "    </tr>\n",
              "    <tr>\n",
              "      <th>38</th>\n",
              "      <td>966684.778802</td>\n",
              "      <td>37878.904213</td>\n",
              "      <td>1.004564e+06</td>\n",
              "      <td>0.000120</td>\n",
              "      <td>2019-02-28</td>\n",
              "    </tr>\n",
              "    <tr>\n",
              "      <th>39</th>\n",
              "      <td>951788.671409</td>\n",
              "      <td>52516.455360</td>\n",
              "      <td>1.004305e+06</td>\n",
              "      <td>0.000110</td>\n",
              "      <td>2019-03-01</td>\n",
              "    </tr>\n",
              "    <tr>\n",
              "      <th>40</th>\n",
              "      <td>955890.746804</td>\n",
              "      <td>48551.932976</td>\n",
              "      <td>1.004443e+06</td>\n",
              "      <td>0.000111</td>\n",
              "      <td>2019-03-04</td>\n",
              "    </tr>\n",
              "    <tr>\n",
              "      <th>41</th>\n",
              "      <td>941203.545015</td>\n",
              "      <td>62900.284138</td>\n",
              "      <td>1.004104e+06</td>\n",
              "      <td>0.000100</td>\n",
              "      <td>2019-03-05</td>\n",
              "    </tr>\n",
              "    <tr>\n",
              "      <th>42</th>\n",
              "      <td>946158.545015</td>\n",
              "      <td>57841.124467</td>\n",
              "      <td>1.004000e+06</td>\n",
              "      <td>0.000095</td>\n",
              "      <td>2019-03-06</td>\n",
              "    </tr>\n",
              "    <tr>\n",
              "      <th>43</th>\n",
              "      <td>947589.773019</td>\n",
              "      <td>56271.486067</td>\n",
              "      <td>1.003861e+06</td>\n",
              "      <td>0.000090</td>\n",
              "      <td>2019-03-07</td>\n",
              "    </tr>\n",
              "    <tr>\n",
              "      <th>44</th>\n",
              "      <td>944641.133136</td>\n",
              "      <td>58588.113688</td>\n",
              "      <td>1.003229e+06</td>\n",
              "      <td>0.000073</td>\n",
              "      <td>2019-03-08</td>\n",
              "    </tr>\n",
              "    <tr>\n",
              "      <th>45</th>\n",
              "      <td>947892.784419</td>\n",
              "      <td>55167.226907</td>\n",
              "      <td>1.003060e+06</td>\n",
              "      <td>0.000068</td>\n",
              "      <td>2019-03-11</td>\n",
              "    </tr>\n",
              "    <tr>\n",
              "      <th>46</th>\n",
              "      <td>948311.814419</td>\n",
              "      <td>55773.983666</td>\n",
              "      <td>1.004086e+06</td>\n",
              "      <td>0.000089</td>\n",
              "      <td>2019-03-12</td>\n",
              "    </tr>\n",
              "    <tr>\n",
              "      <th>47</th>\n",
              "      <td>948729.826647</td>\n",
              "      <td>55571.782477</td>\n",
              "      <td>1.004302e+06</td>\n",
              "      <td>0.000092</td>\n",
              "      <td>2019-03-13</td>\n",
              "    </tr>\n",
              "    <tr>\n",
              "      <th>48</th>\n",
              "      <td>939433.836053</td>\n",
              "      <td>65079.398621</td>\n",
              "      <td>1.004513e+06</td>\n",
              "      <td>0.000094</td>\n",
              "      <td>2019-03-14</td>\n",
              "    </tr>\n",
              "    <tr>\n",
              "      <th>49</th>\n",
              "      <td>943662.488783</td>\n",
              "      <td>60944.348405</td>\n",
              "      <td>1.004607e+06</td>\n",
              "      <td>0.000094</td>\n",
              "      <td>2019-03-15</td>\n",
              "    </tr>\n",
              "  </tbody>\n",
              "</table>\n",
              "</div>"
            ],
            "text/plain": [
              "              cash   asset_value  total_assets    reward        date\n",
              "0   1000000.000000      0.000000  1.000000e+06  0.000000  2019-01-03\n",
              "1    995012.163277   4792.062983  9.998042e+05 -0.000196  2019-01-04\n",
              "2    991222.454377   8956.492256  1.000179e+06  0.000089  2019-01-07\n",
              "3    993265.203586   6937.428756  1.000203e+06  0.000068  2019-01-08\n",
              "4    997068.962193   3147.514849  1.000216e+06  0.000054  2019-01-09\n",
              "5    995192.034497   5035.884585  1.000228e+06  0.000046  2019-01-10\n",
              "6    985162.034497  15157.603736  1.000320e+06  0.000053  2019-01-11\n",
              "7    988925.707673  11360.149523  1.000286e+06  0.000041  2019-01-14\n",
              "8    985783.906259  14361.230449  1.000145e+06  0.000018  2019-01-15\n",
              "9    983667.894633  16654.359297  1.000322e+06  0.000036  2019-01-16\n",
              "10   981014.282518  19268.437854  1.000283e+06  0.000028  2019-01-17\n",
              "11   977670.724350  22709.037980  1.000380e+06  0.000035  2019-01-18\n",
              "12   975351.976303  25344.700300  1.000697e+06  0.000058  2019-01-22\n",
              "13   975978.759654  24436.646896  1.000415e+06  0.000032  2019-01-23\n",
              "14   980891.545796  21118.363266  1.002010e+06  0.000144  2019-01-24\n",
              "15   972954.690236  28946.397159  1.001901e+06  0.000127  2019-01-25\n",
              "16   978841.964344  23291.765279  1.002134e+06  0.000133  2019-01-28\n",
              "17   983191.496412  18970.863264  1.002162e+06  0.000127  2019-01-29\n",
              "18   980994.128524  21178.451149  1.002173e+06  0.000121  2019-01-30\n",
              "19   970964.128524  31319.696120  1.002284e+06  0.000120  2019-01-31\n",
              "20   969923.017713  32492.871184  1.002416e+06  0.000121  2019-02-01\n",
              "21   964076.332503  38281.975673  1.002358e+06  0.000112  2019-02-04\n",
              "22   964944.186628  37625.815727  1.002570e+06  0.000117  2019-02-05\n",
              "23   960723.576886  41864.019956  1.002588e+06  0.000113  2019-02-06\n",
              "24   966761.682054  35993.676063  1.002755e+06  0.000115  2019-02-07\n",
              "25   959950.950744  42215.399347  1.002166e+06  0.000087  2019-02-08\n",
              "26   962782.996108  39580.277945  1.002363e+06  0.000091  2019-02-11\n",
              "27   953039.532100  49471.727787  1.002511e+06  0.000093  2019-02-12\n",
              "28   949435.969406  53779.466332  1.003215e+06  0.000115  2019-02-13\n",
              "29   950769.318997  52790.758039  1.003560e+06  0.000123  2019-02-14\n",
              "30   940252.669078  63153.381079  1.003406e+06  0.000114  2019-02-15\n",
              "31   942177.863519  61987.657692  1.004166e+06  0.000134  2019-02-19\n",
              "32   950322.565120  54064.787712  1.004387e+06  0.000137  2019-02-20\n",
              "33   949485.387268  54643.938786  1.004129e+06  0.000125  2019-02-21\n",
              "34   956615.145790  47423.776268  1.004039e+06  0.000119  2019-02-22\n",
              "35   957370.385863  47153.601867  1.004524e+06  0.000129  2019-02-25\n",
              "36   964822.047301  39762.732349  1.004585e+06  0.000127  2019-02-26\n",
              "37   968940.471526  35713.452732  1.004654e+06  0.000126  2019-02-27\n",
              "38   966684.778802  37878.904213  1.004564e+06  0.000120  2019-02-28\n",
              "39   951788.671409  52516.455360  1.004305e+06  0.000110  2019-03-01\n",
              "40   955890.746804  48551.932976  1.004443e+06  0.000111  2019-03-04\n",
              "41   941203.545015  62900.284138  1.004104e+06  0.000100  2019-03-05\n",
              "42   946158.545015  57841.124467  1.004000e+06  0.000095  2019-03-06\n",
              "43   947589.773019  56271.486067  1.003861e+06  0.000090  2019-03-07\n",
              "44   944641.133136  58588.113688  1.003229e+06  0.000073  2019-03-08\n",
              "45   947892.784419  55167.226907  1.003060e+06  0.000068  2019-03-11\n",
              "46   948311.814419  55773.983666  1.004086e+06  0.000089  2019-03-12\n",
              "47   948729.826647  55571.782477  1.004302e+06  0.000092  2019-03-13\n",
              "48   939433.836053  65079.398621  1.004513e+06  0.000094  2019-03-14\n",
              "49   943662.488783  60944.348405  1.004607e+06  0.000094  2019-03-15"
            ]
          },
          "metadata": {
            "tags": []
          },
          "execution_count": 29
        }
      ]
    },
    {
      "cell_type": "markdown",
      "metadata": {
        "id": "W6vvNSC6h1jZ"
      },
      "source": [
        "<a id='6'></a>\n",
        "# Part 7: Backtest Our Strategy\n",
        "Backtesting plays a key role in evaluating the performance of a trading strategy. Automated backtesting tool is preferred because it reduces the human error. We usually use the Quantopian pyfolio package to backtest our trading strategies. It is easy to use and consists of various individual plots that provide a comprehensive image of the performance of a trading strategy."
      ]
    },
    {
      "cell_type": "markdown",
      "metadata": {
        "id": "Lr2zX7ZxNyFQ"
      },
      "source": [
        "<a id='6.1'></a>\n",
        "## 7.1 BackTestStats\n",
        "pass in df_account_value, this information is stored in env class\n"
      ]
    },
    {
      "cell_type": "code",
      "metadata": {
        "colab": {
          "base_uri": "https://localhost:8080/"
        },
        "id": "Nzkr9yv-AdV_",
        "outputId": "1cdf2f87-3fe9-49cf-8554-7fdc06615c0d"
      },
      "source": [
        "print(\"==============Get Backtest Results===========\")\n",
        "perf_stats_all = backtest_stats(account_value=df_account_value, value_col_name = 'total_assets')"
      ],
      "execution_count": 30,
      "outputs": [
        {
          "output_type": "stream",
          "text": [
            "==============Get Backtest Results===========\n",
            "Annual return          0.002220\n",
            "Cumulative returns     0.004444\n",
            "Annual volatility      0.079585\n",
            "Sharpe ratio           0.067677\n",
            "Calmar ratio           0.019899\n",
            "Stability              0.136744\n",
            "Max drawdown          -0.111540\n",
            "Omega ratio            1.013944\n",
            "Sortino ratio          0.094052\n",
            "Skew                        NaN\n",
            "Kurtosis                    NaN\n",
            "Tail ratio             1.023687\n",
            "Daily value at risk   -0.010005\n",
            "dtype: float64\n"
          ],
          "name": "stdout"
        }
      ]
    },
    {
      "cell_type": "markdown",
      "metadata": {
        "id": "9U6Suru3h1jc"
      },
      "source": [
        "<a id='6.2'></a>\n",
        "## 7.2 BackTestPlot"
      ]
    },
    {
      "cell_type": "code",
      "metadata": {
        "colab": {
          "base_uri": "https://localhost:8080/",
          "height": 1000
        },
        "id": "lKRGftSS7pNM",
        "outputId": "030530f8-139b-4545-9098-172f6b8379f6"
      },
      "source": [
        "print(\"==============Compare to DJIA===========\")\n",
        "%matplotlib inline\n",
        "# S&P 500: ^GSPC\n",
        "# Dow Jones Index: ^DJI\n",
        "# NASDAQ 100: ^NDX\n",
        "backtest_plot(df_account_value, \n",
        "             baseline_ticker = '^DJI', \n",
        "             baseline_start = '2019-01-01',\n",
        "             baseline_end = '2021-01-01', value_col_name = 'total_assets')"
      ],
      "execution_count": 32,
      "outputs": [
        {
          "output_type": "stream",
          "text": [
            "==============Compare to DJIA===========\n",
            "\r[*********************100%***********************]  1 of 1 completed\n",
            "Shape of DataFrame:  (505, 8)\n"
          ],
          "name": "stdout"
        },
        {
          "output_type": "display_data",
          "data": {
            "text/html": [
              "<table border=\"1\" class=\"dataframe\">\n",
              "  <thead>\n",
              "    <tr style=\"text-align: right;\"><th>Start date</th><td colspan=2>2019-01-03</td></tr>\n",
              "    <tr style=\"text-align: right;\"><th>End date</th><td colspan=2>2020-12-31</td></tr>\n",
              "    <tr style=\"text-align: right;\"><th>Total months</th><td colspan=2>24</td></tr>\n",
              "    <tr style=\"text-align: right;\">\n",
              "      <th></th>\n",
              "      <th>Backtest</th>\n",
              "    </tr>\n",
              "  </thead>\n",
              "  <tbody>\n",
              "    <tr>\n",
              "      <th>Annual return</th>\n",
              "      <td>0.222%</td>\n",
              "    </tr>\n",
              "    <tr>\n",
              "      <th>Cumulative returns</th>\n",
              "      <td>0.444%</td>\n",
              "    </tr>\n",
              "    <tr>\n",
              "      <th>Annual volatility</th>\n",
              "      <td>7.959%</td>\n",
              "    </tr>\n",
              "    <tr>\n",
              "      <th>Sharpe ratio</th>\n",
              "      <td>0.07</td>\n",
              "    </tr>\n",
              "    <tr>\n",
              "      <th>Calmar ratio</th>\n",
              "      <td>0.02</td>\n",
              "    </tr>\n",
              "    <tr>\n",
              "      <th>Stability</th>\n",
              "      <td>0.14</td>\n",
              "    </tr>\n",
              "    <tr>\n",
              "      <th>Max drawdown</th>\n",
              "      <td>-11.154%</td>\n",
              "    </tr>\n",
              "    <tr>\n",
              "      <th>Omega ratio</th>\n",
              "      <td>1.01</td>\n",
              "    </tr>\n",
              "    <tr>\n",
              "      <th>Sortino ratio</th>\n",
              "      <td>0.09</td>\n",
              "    </tr>\n",
              "    <tr>\n",
              "      <th>Skew</th>\n",
              "      <td>NaN</td>\n",
              "    </tr>\n",
              "    <tr>\n",
              "      <th>Kurtosis</th>\n",
              "      <td>NaN</td>\n",
              "    </tr>\n",
              "    <tr>\n",
              "      <th>Tail ratio</th>\n",
              "      <td>1.02</td>\n",
              "    </tr>\n",
              "    <tr>\n",
              "      <th>Daily value at risk</th>\n",
              "      <td>-1.001%</td>\n",
              "    </tr>\n",
              "    <tr>\n",
              "      <th>Alpha</th>\n",
              "      <td>0.02</td>\n",
              "    </tr>\n",
              "    <tr>\n",
              "      <th>Beta</th>\n",
              "      <td>-0.06</td>\n",
              "    </tr>\n",
              "  </tbody>\n",
              "</table>"
            ],
            "text/plain": [
              "<IPython.core.display.HTML object>"
            ]
          },
          "metadata": {
            "tags": []
          }
        },
        {
          "output_type": "display_data",
          "data": {
            "text/html": [
              "<table border=\"1\" class=\"dataframe\">\n",
              "  <thead>\n",
              "    <tr style=\"text-align: right;\">\n",
              "      <th>Worst drawdown periods</th>\n",
              "      <th>Net drawdown in %</th>\n",
              "      <th>Peak date</th>\n",
              "      <th>Valley date</th>\n",
              "      <th>Recovery date</th>\n",
              "      <th>Duration</th>\n",
              "    </tr>\n",
              "  </thead>\n",
              "  <tbody>\n",
              "    <tr>\n",
              "      <th>0</th>\n",
              "      <td>11.15</td>\n",
              "      <td>2020-02-13</td>\n",
              "      <td>2020-03-24</td>\n",
              "      <td>NaT</td>\n",
              "      <td>NaN</td>\n",
              "    </tr>\n",
              "    <tr>\n",
              "      <th>1</th>\n",
              "      <td>3.04</td>\n",
              "      <td>2019-07-29</td>\n",
              "      <td>2019-08-26</td>\n",
              "      <td>2020-02-04</td>\n",
              "      <td>137</td>\n",
              "    </tr>\n",
              "    <tr>\n",
              "      <th>2</th>\n",
              "      <td>1.45</td>\n",
              "      <td>2019-04-17</td>\n",
              "      <td>2019-06-03</td>\n",
              "      <td>2019-07-05</td>\n",
              "      <td>58</td>\n",
              "    </tr>\n",
              "    <tr>\n",
              "      <th>3</th>\n",
              "      <td>0.33</td>\n",
              "      <td>2020-02-07</td>\n",
              "      <td>2020-02-10</td>\n",
              "      <td>2020-02-13</td>\n",
              "      <td>5</td>\n",
              "    </tr>\n",
              "    <tr>\n",
              "      <th>4</th>\n",
              "      <td>0.24</td>\n",
              "      <td>2019-07-05</td>\n",
              "      <td>2019-07-10</td>\n",
              "      <td>2019-07-15</td>\n",
              "      <td>7</td>\n",
              "    </tr>\n",
              "  </tbody>\n",
              "</table>"
            ],
            "text/plain": [
              "<IPython.core.display.HTML object>"
            ]
          },
          "metadata": {
            "tags": []
          }
        },
        {
          "output_type": "stream",
          "text": [
            "/usr/local/lib/python3.7/dist-packages/pyfolio/tears.py:907: UserWarning: Passed returns do not overlap with anyinteresting times.\n",
            "  'interesting times.', UserWarning)\n"
          ],
          "name": "stderr"
        },
        {
          "output_type": "display_data",
          "data": {
            "image/png": "[encoded data removed]",
            "text/plain": [
              "<Figure size 1008x5184 with 13 Axes>"
            ]
          },
          "metadata": {
            "tags": [],
            "needs_background": "light"
          }
        }
      ]
    },
    {
      "cell_type": "code",
      "metadata": {
        "id": "-AXVQiMZ3fEe"
      },
      "source": [
        ""
      ],
      "execution_count": 31,
      "outputs": []
    }
  ]
}