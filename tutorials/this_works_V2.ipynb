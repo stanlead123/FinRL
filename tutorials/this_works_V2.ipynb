{
  "nbformat": 4,
  "nbformat_minor": 0,
  "metadata": {
    "colab": {
      "name": "tutorial_this_works_1_18.ipynb",
      "provenance": [],
      "collapsed_sections": [
        "uijiWgkuh1jB"
      ]
    },
    "kernelspec": {
      "display_name": "Python 3",
      "language": "python",
      "name": "python3"
    },
    "language_info": {
      "codemirror_mode": {
        "name": "ipython",
        "version": 3
      },
      "file_extension": ".py",
      "mimetype": "text/x-python",
      "name": "python",
      "nbconvert_exporter": "python",
      "pygments_lexer": "ipython3",
      "version": "3.6.12"
    },
    "pycharm": {
      "stem_cell": {
        "cell_type": "raw",
        "metadata": {
          "collapsed": false
        },
        "source": []
      }
    },
    "accelerator": "GPU"
  },
  "cells": [
    {
      "cell_type": "code",
      "metadata": {
        "id": "4kowM1tg-YUC",
        "outputId": "959fac56-98ef-4dfb-c377-95fdde8d3a81",
        "colab": {
          "base_uri": "https://localhost:8080/"
        }
      },
      "source": [
        "!pip install git+https://github.com/AI4Finance-LLC/FinRL-Library.git"
      ],
      "execution_count": 3,
      "outputs": [
        {
          "output_type": "stream",
          "text": [
            "Collecting git+https://github.com/AI4Finance-LLC/FinRL-Library.git\n",
            "  Cloning https://github.com/AI4Finance-LLC/FinRL-Library.git to /tmp/pip-req-build-__hqczju\n",
            "  Running command git clone -q https://github.com/AI4Finance-LLC/FinRL-Library.git /tmp/pip-req-build-__hqczju\n",
            "Collecting pyfolio@ git+https://github.com/quantopian/pyfolio.git#egg=pyfolio-0.9.2\n",
            "  Cloning https://github.com/quantopian/pyfolio.git to /tmp/pip-install-9976z83j/pyfolio_4ec3926ccbc444c4afff40fe47715363\n",
            "  Running command git clone -q https://github.com/quantopian/pyfolio.git /tmp/pip-install-9976z83j/pyfolio_4ec3926ccbc444c4afff40fe47715363\n",
            "Requirement already satisfied: numpy>=1.17.3 in /usr/local/lib/python3.7/dist-packages (from finrl==0.3.0) (1.19.5)\n",
            "Requirement already satisfied: pandas>=1.1.5 in /usr/local/lib/python3.7/dist-packages (from finrl==0.3.0) (1.1.5)\n",
            "Collecting stockstats\n",
            "  Downloading stockstats-0.3.2-py2.py3-none-any.whl (13 kB)\n",
            "Collecting yfinance\n",
            "  Downloading yfinance-0.1.63.tar.gz (26 kB)\n",
            "Requirement already satisfied: matplotlib in /usr/local/lib/python3.7/dist-packages (from finrl==0.3.0) (3.2.2)\n",
            "Requirement already satisfied: scikit-learn>=0.21.0 in /usr/local/lib/python3.7/dist-packages (from finrl==0.3.0) (0.22.2.post1)\n",
            "Requirement already satisfied: gym>=0.17 in /usr/local/lib/python3.7/dist-packages (from finrl==0.3.0) (0.17.3)\n",
            "Collecting stable-baselines3[extra]\n",
            "  Downloading stable_baselines3-1.1.0-py3-none-any.whl (172 kB)\n",
            "\u001b[K     |████████████████████████████████| 172 kB 13.5 MB/s \n",
            "\u001b[?25hRequirement already satisfied: pytest in /usr/local/lib/python3.7/dist-packages (from finrl==0.3.0) (3.6.4)\n",
            "Requirement already satisfied: setuptools>=41.4.0 in /usr/local/lib/python3.7/dist-packages (from finrl==0.3.0) (57.2.0)\n",
            "Requirement already satisfied: wheel>=0.33.6 in /usr/local/lib/python3.7/dist-packages (from finrl==0.3.0) (0.36.2)\n",
            "Requirement already satisfied: ipython>=3.2.3 in /usr/local/lib/python3.7/dist-packages (from pyfolio@ git+https://github.com/quantopian/pyfolio.git#egg=pyfolio-0.9.2->finrl==0.3.0) (5.5.0)\n",
            "Requirement already satisfied: pytz>=2014.10 in /usr/local/lib/python3.7/dist-packages (from pyfolio@ git+https://github.com/quantopian/pyfolio.git#egg=pyfolio-0.9.2->finrl==0.3.0) (2018.9)\n",
            "Requirement already satisfied: scipy>=0.14.0 in /usr/local/lib/python3.7/dist-packages (from pyfolio@ git+https://github.com/quantopian/pyfolio.git#egg=pyfolio-0.9.2->finrl==0.3.0) (1.4.1)\n",
            "Requirement already satisfied: seaborn>=0.7.1 in /usr/local/lib/python3.7/dist-packages (from pyfolio@ git+https://github.com/quantopian/pyfolio.git#egg=pyfolio-0.9.2->finrl==0.3.0) (0.11.1)\n",
            "Collecting empyrical>=0.5.0\n",
            "  Downloading empyrical-0.5.5.tar.gz (52 kB)\n",
            "\u001b[K     |████████████████████████████████| 52 kB 1.9 MB/s \n",
            "\u001b[?25hRequirement already satisfied: pandas-datareader>=0.2 in /usr/local/lib/python3.7/dist-packages (from empyrical>=0.5.0->pyfolio@ git+https://github.com/quantopian/pyfolio.git#egg=pyfolio-0.9.2->finrl==0.3.0) (0.9.0)\n",
            "Requirement already satisfied: cloudpickle<1.7.0,>=1.2.0 in /usr/local/lib/python3.7/dist-packages (from gym>=0.17->finrl==0.3.0) (1.3.0)\n",
            "Requirement already satisfied: pyglet<=1.5.0,>=1.4.0 in /usr/local/lib/python3.7/dist-packages (from gym>=0.17->finrl==0.3.0) (1.5.0)\n",
            "Requirement already satisfied: pickleshare in /usr/local/lib/python3.7/dist-packages (from ipython>=3.2.3->pyfolio@ git+https://github.com/quantopian/pyfolio.git#egg=pyfolio-0.9.2->finrl==0.3.0) (0.7.5)\n",
            "Requirement already satisfied: pexpect in /usr/local/lib/python3.7/dist-packages (from ipython>=3.2.3->pyfolio@ git+https://github.com/quantopian/pyfolio.git#egg=pyfolio-0.9.2->finrl==0.3.0) (4.8.0)\n",
            "Requirement already satisfied: simplegeneric>0.8 in /usr/local/lib/python3.7/dist-packages (from ipython>=3.2.3->pyfolio@ git+https://github.com/quantopian/pyfolio.git#egg=pyfolio-0.9.2->finrl==0.3.0) (0.8.1)\n",
            "Requirement already satisfied: pygments in /usr/local/lib/python3.7/dist-packages (from ipython>=3.2.3->pyfolio@ git+https://github.com/quantopian/pyfolio.git#egg=pyfolio-0.9.2->finrl==0.3.0) (2.6.1)\n",
            "Requirement already satisfied: prompt-toolkit<2.0.0,>=1.0.4 in /usr/local/lib/python3.7/dist-packages (from ipython>=3.2.3->pyfolio@ git+https://github.com/quantopian/pyfolio.git#egg=pyfolio-0.9.2->finrl==0.3.0) (1.0.18)\n",
            "Requirement already satisfied: traitlets>=4.2 in /usr/local/lib/python3.7/dist-packages (from ipython>=3.2.3->pyfolio@ git+https://github.com/quantopian/pyfolio.git#egg=pyfolio-0.9.2->finrl==0.3.0) (5.0.5)\n",
            "Requirement already satisfied: decorator in /usr/local/lib/python3.7/dist-packages (from ipython>=3.2.3->pyfolio@ git+https://github.com/quantopian/pyfolio.git#egg=pyfolio-0.9.2->finrl==0.3.0) (4.4.2)\n",
            "Requirement already satisfied: cycler>=0.10 in /usr/local/lib/python3.7/dist-packages (from matplotlib->finrl==0.3.0) (0.10.0)\n",
            "Requirement already satisfied: pyparsing!=2.0.4,!=2.1.2,!=2.1.6,>=2.0.1 in /usr/local/lib/python3.7/dist-packages (from matplotlib->finrl==0.3.0) (2.4.7)\n",
            "Requirement already satisfied: kiwisolver>=1.0.1 in /usr/local/lib/python3.7/dist-packages (from matplotlib->finrl==0.3.0) (1.3.1)\n",
            "Requirement already satisfied: python-dateutil>=2.1 in /usr/local/lib/python3.7/dist-packages (from matplotlib->finrl==0.3.0) (2.8.1)\n",
            "Requirement already satisfied: six in /usr/local/lib/python3.7/dist-packages (from cycler>=0.10->matplotlib->finrl==0.3.0) (1.15.0)\n",
            "Requirement already satisfied: lxml in /usr/local/lib/python3.7/dist-packages (from pandas-datareader>=0.2->empyrical>=0.5.0->pyfolio@ git+https://github.com/quantopian/pyfolio.git#egg=pyfolio-0.9.2->finrl==0.3.0) (4.2.6)\n",
            "Requirement already satisfied: requests>=2.19.0 in /usr/local/lib/python3.7/dist-packages (from pandas-datareader>=0.2->empyrical>=0.5.0->pyfolio@ git+https://github.com/quantopian/pyfolio.git#egg=pyfolio-0.9.2->finrl==0.3.0) (2.23.0)\n",
            "Requirement already satisfied: wcwidth in /usr/local/lib/python3.7/dist-packages (from prompt-toolkit<2.0.0,>=1.0.4->ipython>=3.2.3->pyfolio@ git+https://github.com/quantopian/pyfolio.git#egg=pyfolio-0.9.2->finrl==0.3.0) (0.2.5)\n",
            "Requirement already satisfied: future in /usr/local/lib/python3.7/dist-packages (from pyglet<=1.5.0,>=1.4.0->gym>=0.17->finrl==0.3.0) (0.16.0)\n",
            "Requirement already satisfied: idna<3,>=2.5 in /usr/local/lib/python3.7/dist-packages (from requests>=2.19.0->pandas-datareader>=0.2->empyrical>=0.5.0->pyfolio@ git+https://github.com/quantopian/pyfolio.git#egg=pyfolio-0.9.2->finrl==0.3.0) (2.10)\n",
            "Requirement already satisfied: urllib3!=1.25.0,!=1.25.1,<1.26,>=1.21.1 in /usr/local/lib/python3.7/dist-packages (from requests>=2.19.0->pandas-datareader>=0.2->empyrical>=0.5.0->pyfolio@ git+https://github.com/quantopian/pyfolio.git#egg=pyfolio-0.9.2->finrl==0.3.0) (1.24.3)\n",
            "Requirement already satisfied: chardet<4,>=3.0.2 in /usr/local/lib/python3.7/dist-packages (from requests>=2.19.0->pandas-datareader>=0.2->empyrical>=0.5.0->pyfolio@ git+https://github.com/quantopian/pyfolio.git#egg=pyfolio-0.9.2->finrl==0.3.0) (3.0.4)\n",
            "Requirement already satisfied: certifi>=2017.4.17 in /usr/local/lib/python3.7/dist-packages (from requests>=2.19.0->pandas-datareader>=0.2->empyrical>=0.5.0->pyfolio@ git+https://github.com/quantopian/pyfolio.git#egg=pyfolio-0.9.2->finrl==0.3.0) (2021.5.30)\n",
            "Requirement already satisfied: joblib>=0.11 in /usr/local/lib/python3.7/dist-packages (from scikit-learn>=0.21.0->finrl==0.3.0) (1.0.1)\n",
            "Requirement already satisfied: ipython-genutils in /usr/local/lib/python3.7/dist-packages (from traitlets>=4.2->ipython>=3.2.3->pyfolio@ git+https://github.com/quantopian/pyfolio.git#egg=pyfolio-0.9.2->finrl==0.3.0) (0.2.0)\n",
            "Requirement already satisfied: ptyprocess>=0.5 in /usr/local/lib/python3.7/dist-packages (from pexpect->ipython>=3.2.3->pyfolio@ git+https://github.com/quantopian/pyfolio.git#egg=pyfolio-0.9.2->finrl==0.3.0) (0.7.0)\n",
            "Requirement already satisfied: attrs>=17.4.0 in /usr/local/lib/python3.7/dist-packages (from pytest->finrl==0.3.0) (21.2.0)\n",
            "Requirement already satisfied: atomicwrites>=1.0 in /usr/local/lib/python3.7/dist-packages (from pytest->finrl==0.3.0) (1.4.0)\n",
            "Requirement already satisfied: py>=1.5.0 in /usr/local/lib/python3.7/dist-packages (from pytest->finrl==0.3.0) (1.10.0)\n",
            "Requirement already satisfied: more-itertools>=4.0.0 in /usr/local/lib/python3.7/dist-packages (from pytest->finrl==0.3.0) (8.8.0)\n",
            "Requirement already satisfied: pluggy<0.8,>=0.5 in /usr/local/lib/python3.7/dist-packages (from pytest->finrl==0.3.0) (0.7.1)\n",
            "Requirement already satisfied: torch>=1.4.0 in /usr/local/lib/python3.7/dist-packages (from stable-baselines3[extra]->finrl==0.3.0) (1.9.0+cu102)\n",
            "Requirement already satisfied: opencv-python in /usr/local/lib/python3.7/dist-packages (from stable-baselines3[extra]->finrl==0.3.0) (4.1.2.30)\n",
            "Requirement already satisfied: atari-py~=0.2.0 in /usr/local/lib/python3.7/dist-packages (from stable-baselines3[extra]->finrl==0.3.0) (0.2.9)\n",
            "Requirement already satisfied: pillow in /usr/local/lib/python3.7/dist-packages (from stable-baselines3[extra]->finrl==0.3.0) (7.1.2)\n",
            "Requirement already satisfied: psutil in /usr/local/lib/python3.7/dist-packages (from stable-baselines3[extra]->finrl==0.3.0) (5.4.8)\n",
            "Requirement already satisfied: tensorboard>=2.2.0 in /usr/local/lib/python3.7/dist-packages (from stable-baselines3[extra]->finrl==0.3.0) (2.5.0)\n",
            "Requirement already satisfied: tensorboard-plugin-wit>=1.6.0 in /usr/local/lib/python3.7/dist-packages (from tensorboard>=2.2.0->stable-baselines3[extra]->finrl==0.3.0) (1.8.0)\n",
            "Requirement already satisfied: markdown>=2.6.8 in /usr/local/lib/python3.7/dist-packages (from tensorboard>=2.2.0->stable-baselines3[extra]->finrl==0.3.0) (3.3.4)\n",
            "Requirement already satisfied: google-auth-oauthlib<0.5,>=0.4.1 in /usr/local/lib/python3.7/dist-packages (from tensorboard>=2.2.0->stable-baselines3[extra]->finrl==0.3.0) (0.4.4)\n",
            "Requirement already satisfied: protobuf>=3.6.0 in /usr/local/lib/python3.7/dist-packages (from tensorboard>=2.2.0->stable-baselines3[extra]->finrl==0.3.0) (3.17.3)\n",
            "Requirement already satisfied: tensorboard-data-server<0.7.0,>=0.6.0 in /usr/local/lib/python3.7/dist-packages (from tensorboard>=2.2.0->stable-baselines3[extra]->finrl==0.3.0) (0.6.1)\n",
            "Requirement already satisfied: grpcio>=1.24.3 in /usr/local/lib/python3.7/dist-packages (from tensorboard>=2.2.0->stable-baselines3[extra]->finrl==0.3.0) (1.34.1)\n",
            "Requirement already satisfied: google-auth<2,>=1.6.3 in /usr/local/lib/python3.7/dist-packages (from tensorboard>=2.2.0->stable-baselines3[extra]->finrl==0.3.0) (1.32.1)\n",
            "Requirement already satisfied: absl-py>=0.4 in /usr/local/lib/python3.7/dist-packages (from tensorboard>=2.2.0->stable-baselines3[extra]->finrl==0.3.0) (0.12.0)\n",
            "Requirement already satisfied: werkzeug>=0.11.15 in /usr/local/lib/python3.7/dist-packages (from tensorboard>=2.2.0->stable-baselines3[extra]->finrl==0.3.0) (1.0.1)\n",
            "Requirement already satisfied: pyasn1-modules>=0.2.1 in /usr/local/lib/python3.7/dist-packages (from google-auth<2,>=1.6.3->tensorboard>=2.2.0->stable-baselines3[extra]->finrl==0.3.0) (0.2.8)\n",
            "Requirement already satisfied: cachetools<5.0,>=2.0.0 in /usr/local/lib/python3.7/dist-packages (from google-auth<2,>=1.6.3->tensorboard>=2.2.0->stable-baselines3[extra]->finrl==0.3.0) (4.2.2)\n",
            "Requirement already satisfied: rsa<5,>=3.1.4 in /usr/local/lib/python3.7/dist-packages (from google-auth<2,>=1.6.3->tensorboard>=2.2.0->stable-baselines3[extra]->finrl==0.3.0) (4.7.2)\n",
            "Requirement already satisfied: requests-oauthlib>=0.7.0 in /usr/local/lib/python3.7/dist-packages (from google-auth-oauthlib<0.5,>=0.4.1->tensorboard>=2.2.0->stable-baselines3[extra]->finrl==0.3.0) (1.3.0)\n",
            "Requirement already satisfied: importlib-metadata in /usr/local/lib/python3.7/dist-packages (from markdown>=2.6.8->tensorboard>=2.2.0->stable-baselines3[extra]->finrl==0.3.0) (4.6.1)\n",
            "Requirement already satisfied: pyasn1<0.5.0,>=0.4.6 in /usr/local/lib/python3.7/dist-packages (from pyasn1-modules>=0.2.1->google-auth<2,>=1.6.3->tensorboard>=2.2.0->stable-baselines3[extra]->finrl==0.3.0) (0.4.8)\n",
            "Requirement already satisfied: oauthlib>=3.0.0 in /usr/local/lib/python3.7/dist-packages (from requests-oauthlib>=0.7.0->google-auth-oauthlib<0.5,>=0.4.1->tensorboard>=2.2.0->stable-baselines3[extra]->finrl==0.3.0) (3.1.1)\n",
            "Requirement already satisfied: typing-extensions in /usr/local/lib/python3.7/dist-packages (from torch>=1.4.0->stable-baselines3[extra]->finrl==0.3.0) (3.7.4.3)\n",
            "Requirement already satisfied: zipp>=0.5 in /usr/local/lib/python3.7/dist-packages (from importlib-metadata->markdown>=2.6.8->tensorboard>=2.2.0->stable-baselines3[extra]->finrl==0.3.0) (3.5.0)\n",
            "Collecting int-date>=0.1.7\n",
            "  Downloading int_date-0.1.8-py2.py3-none-any.whl (5.0 kB)\n",
            "Requirement already satisfied: multitasking>=0.0.7 in /usr/local/lib/python3.7/dist-packages (from yfinance->finrl==0.3.0) (0.0.9)\n",
            "Collecting lxml\n",
            "  Downloading lxml-4.6.3-cp37-cp37m-manylinux2014_x86_64.whl (6.3 MB)\n",
            "\u001b[K     |████████████████████████████████| 6.3 MB 23.6 MB/s \n",
            "\u001b[?25hBuilding wheels for collected packages: finrl, pyfolio, empyrical, yfinance\n",
            "  Building wheel for finrl (setup.py) ... \u001b[?25l\u001b[?25hdone\n",
            "  Created wheel for finrl: filename=finrl-0.3.0-py3-none-any.whl size=62457 sha256=109c261cb532524ef74b0eb36645d22b8faf0daa7815176736f645a58e15fd18\n",
            "  Stored in directory: /tmp/pip-ephem-wheel-cache-de5ioywd/wheels/17/ff/bd/1bc602a0352762b0b24041b88536d803ae343ed0a711fcf55e\n",
            "  Building wheel for pyfolio (setup.py) ... \u001b[?25l\u001b[?25hdone\n",
            "  Created wheel for pyfolio: filename=pyfolio-0.9.2+75.g4b901f6-py3-none-any.whl size=75773 sha256=ee150eec4354f876e4dc6beceb126fc10b6c0b56bbb2561c44153c5676056b2c\n",
            "  Stored in directory: /tmp/pip-ephem-wheel-cache-de5ioywd/wheels/ef/09/e5/2c1bf37c050d22557c080deb1be986d06424627c04aeca19b9\n",
            "  Building wheel for empyrical (setup.py) ... \u001b[?25l\u001b[?25hdone\n",
            "  Created wheel for empyrical: filename=empyrical-0.5.5-py3-none-any.whl size=39779 sha256=59c149a64929e194ff31dacc46c9a80d85e6ca9b2d52ba6f590177e429fbc4ad\n",
            "  Stored in directory: /root/.cache/pip/wheels/d9/91/4b/654fcff57477efcf149eaca236da2fce991526cbab431bf312\n",
            "  Building wheel for yfinance (setup.py) ... \u001b[?25l\u001b[?25hdone\n",
            "  Created wheel for yfinance: filename=yfinance-0.1.63-py2.py3-none-any.whl size=23919 sha256=e38e7ffa949f07fb7ff8db86467daa42d1c6117b8ef7dd2da8f8cc8a36f24da8\n",
            "  Stored in directory: /root/.cache/pip/wheels/fe/87/8b/7ec24486e001d3926537f5f7801f57a74d181be25b11157983\n",
            "Successfully built finrl pyfolio empyrical yfinance\n",
            "Installing collected packages: lxml, stable-baselines3, int-date, empyrical, yfinance, stockstats, pyfolio, finrl\n",
            "  Attempting uninstall: lxml\n",
            "    Found existing installation: lxml 4.2.6\n",
            "    Uninstalling lxml-4.2.6:\n",
            "      Successfully uninstalled lxml-4.2.6\n",
            "Successfully installed empyrical-0.5.5 finrl-0.3.0 int-date-0.1.8 lxml-4.6.3 pyfolio-0.9.2+75.g4b901f6 stable-baselines3-1.1.0 stockstats-0.3.2 yfinance-0.1.63\n"
          ],
          "name": "stdout"
        }
      ]
    },
    {
      "cell_type": "markdown",
      "metadata": {
        "id": "gXaoZs2lh1hi"
      },
      "source": [
        "# Deep Reinforcement Learning for Stock Trading from Scratch: Multiple Stock Trading\n",
        "\n",
        "Tutorials to use OpenAI DRL to trade multiple stocks in one Jupyter Notebook | Presented at NeurIPS 2020: Deep RL Workshop\n",
        "\n",
        "* This blog is based on our paper: FinRL: A Deep Reinforcement Learning Library for Automated Stock Trading in Quantitative Finance, presented at NeurIPS 2020: Deep RL Workshop.\n",
        "* Check out medium blog for detailed explanations: https://towardsdatascience.com/finrl-for-quantitative-finance-tutorial-for-multiple-stock-trading-7b00763b7530\n",
        "* Please report any issues to our Github: https://github.com/AI4Finance-LLC/FinRL-Library/issues\n",
        "* **Pytorch Version** \n",
        "\n"
      ]
    },
    {
      "cell_type": "markdown",
      "metadata": {
        "id": "lGunVt8oLCVS"
      },
      "source": [
        "# Content"
      ]
    },
    {
      "cell_type": "markdown",
      "metadata": {
        "id": "HOzAKQ-SLGX6"
      },
      "source": [
        "* [1. Problem Definition](#0)\n",
        "* [2. Getting Started - Load Python packages](#1)\n",
        "    * [2.1. Install Packages](#1.1)    \n",
        "    * [2.2. Check Additional Packages](#1.2)\n",
        "    * [2.3. Import Packages](#1.3)\n",
        "    * [2.4. Create Folders](#1.4)\n",
        "* [3. Download Data](#2)\n",
        "* [4. Preprocess Data](#3)        \n",
        "    * [4.1. Technical Indicators](#3.1)\n",
        "    * [4.2. Perform Feature Engineering](#3.2)\n",
        "* [5.Build Environment](#4)  \n",
        "    * [5.1. Training & Trade Data Split](#4.1)\n",
        "    * [5.2. User-defined Environment](#4.2)   \n",
        "    * [5.3. Initialize Environment](#4.3)    \n",
        "* [6.Implement DRL Algorithms](#5)  \n",
        "* [7.Backtesting Performance](#6)  \n",
        "    * [7.1. BackTestStats](#6.1)\n",
        "    * [7.2. BackTestPlot](#6.2)   \n",
        "    * [7.3. Baseline Stats](#6.3)   \n",
        "    * [7.3. Compare to Stock Market Index](#6.4)             "
      ]
    },
    {
      "cell_type": "markdown",
      "metadata": {
        "id": "sApkDlD9LIZv"
      },
      "source": [
        "<a id='0'></a>\n",
        "# Part 1. Problem Definition"
      ]
    },
    {
      "cell_type": "markdown",
      "metadata": {
        "id": "HjLD2TZSLKZ-"
      },
      "source": [
        "This problem is to design an automated trading solution for single stock trading. We model the stock trading process as a Markov Decision Process (MDP). We then formulate our trading goal as a maximization problem.\n",
        "\n",
        "The algorithm is trained using Deep Reinforcement Learning (DRL) algorithms and the components of the reinforcement learning environment are:\n",
        "\n",
        "\n",
        "* Action: The action space describes the allowed actions that the agent interacts with the\n",
        "environment. Normally, a ∈ A includes three actions: a ∈ {−1, 0, 1}, where −1, 0, 1 represent\n",
        "selling, holding, and buying one stock. Also, an action can be carried upon multiple shares. We use\n",
        "an action space {−k, ..., −1, 0, 1, ..., k}, where k denotes the number of shares. For example, \"Buy\n",
        "10 shares of AAPL\" or \"Sell 10 shares of AAPL\" are 10 or −10, respectively\n",
        "\n",
        "* Reward function: r(s, a, s′) is the incentive mechanism for an agent to learn a better action. The change of the portfolio value when action a is taken at state s and arriving at new state s',  i.e., r(s, a, s′) = v′ − v, where v′ and v represent the portfolio\n",
        "values at state s′ and s, respectively\n",
        "\n",
        "* State: The state space describes the observations that the agent receives from the environment. Just as a human trader needs to analyze various information before executing a trade, so\n",
        "our trading agent observes many different features to better learn in an interactive environment.\n",
        "\n",
        "* Environment: Dow 30 consituents\n",
        "\n",
        "\n",
        "The data of the single stock that we will be using for this case study is obtained from Yahoo Finance API. The data contains Open-High-Low-Close price and volume.\n"
      ]
    },
    {
      "cell_type": "markdown",
      "metadata": {
        "id": "Ffsre789LY08"
      },
      "source": [
        "<a id='1'></a>\n",
        "# Part 2. Getting Started- ASSUMES USING DOCKER, see readme for instructions"
      ]
    },
    {
      "cell_type": "markdown",
      "metadata": {
        "id": "Uy5_PTmOh1hj"
      },
      "source": [
        "<a id='1.1'></a>\n",
        "## 2.1. Add FinRL to your path. You can of course install it as a pipy package, but this is for development purposes.\n"
      ]
    },
    {
      "cell_type": "code",
      "metadata": {
        "id": "mPT0ipYE28wL"
      },
      "source": [
        "import sys\n",
        "\n",
        "sys.path.append(\"..\")"
      ],
      "execution_count": 2,
      "outputs": []
    },
    {
      "cell_type": "code",
      "metadata": {
        "id": "6jkbrjod-wpw",
        "outputId": "af1a2670-ba5d-419e-ccf0-b05a0671273e",
        "colab": {
          "base_uri": "https://localhost:8080/"
        }
      },
      "source": [
        "import pandas as pd\n",
        "print(pd.__version__)"
      ],
      "execution_count": 3,
      "outputs": [
        {
          "output_type": "stream",
          "text": [
            "1.1.5\n"
          ],
          "name": "stdout"
        }
      ]
    },
    {
      "cell_type": "markdown",
      "metadata": {
        "id": "osBHhVysOEzi"
      },
      "source": [
        "\n",
        "<a id='1.2'></a>\n",
        "## 2.2. Check if the additional packages needed are present, if not install them. \n",
        "* Yahoo Finance API\n",
        "* pandas\n",
        "* numpy\n",
        "* matplotlib\n",
        "* stockstats\n",
        "* OpenAI gym\n",
        "* stable-baselines\n",
        "* tensorflow\n",
        "* pyfolio"
      ]
    },
    {
      "cell_type": "markdown",
      "metadata": {
        "id": "nGv01K8Sh1hn"
      },
      "source": [
        "<a id='1.3'></a>\n",
        "## 2.3. Import Packages"
      ]
    },
    {
      "cell_type": "code",
      "metadata": {
        "colab": {
          "base_uri": "https://localhost:8080/"
        },
        "id": "lPqeTTwoh1hn",
        "outputId": "6f78381d-e4ea-4e90-dfd0-1aad7dd60f46"
      },
      "source": [
        "import pandas as pd\n",
        "import numpy as np\n",
        "import matplotlib\n",
        "import matplotlib.pyplot as plt\n",
        "# matplotlib.use('Agg')\n",
        "import datetime\n",
        "\n",
        "%matplotlib inline\n",
        "from finrl.apps import config\n",
        "from finrl.neo_finrl.preprocessor.yahoodownloader import YahooDownloader\n",
        "from finrl.neo_finrl.preprocessor.preprocessors import FeatureEngineer, data_split\n",
        "from finrl.neo_finrl.env_stock_trading.env_stocktrading import StockTradingEnv\n",
        "from finrl.drl_agents.stablebaselines3.models import DRLAgent\n",
        "from finrl.plot import backtest_stats, backtest_plot, get_daily_return, get_baseline\n",
        "\n",
        "from pprint import pprint\n",
        "\n",
        "import sys\n",
        "sys.path.append(\"../FinRL-Library\")\n",
        "\n",
        "import itertools"
      ],
      "execution_count": 4,
      "outputs": [
        {
          "output_type": "stream",
          "text": [
            "/usr/local/lib/python3.7/dist-packages/pyfolio/pos.py:27: UserWarning: Module \"zipline.assets\" not found; multipliers will not be applied to position notionals.\n",
            "  'Module \"zipline.assets\" not found; multipliers will not be applied'\n"
          ],
          "name": "stderr"
        }
      ]
    },
    {
      "cell_type": "markdown",
      "metadata": {
        "id": "T2owTj985RW4"
      },
      "source": [
        "<a id='1.4'></a>\n",
        "## 2.4. Create Folders"
      ]
    },
    {
      "cell_type": "code",
      "metadata": {
        "id": "w9A8CN5R5PuZ"
      },
      "source": [
        "import os\n",
        "if not os.path.exists(\"./\" + config.DATA_SAVE_DIR):\n",
        "    os.makedirs(\"./\" + config.DATA_SAVE_DIR)\n",
        "if not os.path.exists(\"./\" + config.TRAINED_MODEL_DIR):\n",
        "    os.makedirs(\"./\" + config.TRAINED_MODEL_DIR)\n",
        "if not os.path.exists(\"./\" + config.TENSORBOARD_LOG_DIR):\n",
        "    os.makedirs(\"./\" + config.TENSORBOARD_LOG_DIR)\n",
        "if not os.path.exists(\"./\" + config.RESULTS_DIR):\n",
        "    os.makedirs(\"./\" + config.RESULTS_DIR)"
      ],
      "execution_count": 5,
      "outputs": []
    },
    {
      "cell_type": "markdown",
      "metadata": {
        "id": "A289rQWMh1hq"
      },
      "source": [
        "<a id='2'></a>\n",
        "# Part 3. Download Data\n",
        "Yahoo Finance is a website that provides stock data, financial news, financial reports, etc. All the data provided by Yahoo Finance is free.\n",
        "* FinRL uses a class **YahooDownloader** to fetch data from Yahoo Finance API\n",
        "* Call Limit: Using the Public API (without authentication), you are limited to 2,000 requests per hour per IP (or up to a total of 48,000 requests a day).\n"
      ]
    },
    {
      "cell_type": "markdown",
      "metadata": {
        "id": "NPeQ7iS-LoMm"
      },
      "source": [
        "\n",
        "\n",
        "-----\n",
        "class YahooDownloader:\n",
        "    Provides methods for retrieving daily stock data from\n",
        "    Yahoo Finance API\n",
        "\n",
        "    Attributes\n",
        "    ----------\n",
        "        start_date : str\n",
        "            start date of the data (modified from config.py)\n",
        "        end_date : str\n",
        "            end date of the data (modified from config.py)\n",
        "        ticker_list : list\n",
        "            a list of stock tickers (modified from config.py)\n",
        "\n",
        "    Methods\n",
        "    -------\n",
        "    fetch_data()\n",
        "        Fetches data from yahoo API\n"
      ]
    },
    {
      "cell_type": "code",
      "metadata": {
        "colab": {
          "base_uri": "https://localhost:8080/",
          "height": 36
        },
        "id": "h3XJnvrbLp-C",
        "outputId": "fa680dd5-6b66-4ef3-ad4f-bbd3b90d430d"
      },
      "source": [
        "# from config.py start_date is a string\n",
        "config.START_DATE"
      ],
      "execution_count": 6,
      "outputs": [
        {
          "output_type": "execute_result",
          "data": {
            "application/vnd.google.colaboratory.intrinsic+json": {
              "type": "string"
            },
            "text/plain": [
              "'2009-01-01'"
            ]
          },
          "metadata": {
            "tags": []
          },
          "execution_count": 6
        }
      ]
    },
    {
      "cell_type": "code",
      "metadata": {
        "colab": {
          "base_uri": "https://localhost:8080/",
          "height": 36
        },
        "id": "FUnY8WEfLq3C",
        "outputId": "6eb069d8-2502-48bf-c818-38a793b995e5"
      },
      "source": [
        "# from config.py end_date is a string\n",
        "config.END_DATE"
      ],
      "execution_count": 7,
      "outputs": [
        {
          "output_type": "execute_result",
          "data": {
            "application/vnd.google.colaboratory.intrinsic+json": {
              "type": "string"
            },
            "text/plain": [
              "'2021-01-01'"
            ]
          },
          "metadata": {
            "tags": []
          },
          "execution_count": 7
        }
      ]
    },
    {
      "cell_type": "code",
      "metadata": {
        "colab": {
          "base_uri": "https://localhost:8080/"
        },
        "id": "JzqRRTOX6aFu",
        "outputId": "cb46d4a6-2878-4ea9-81bb-11420c59b2c3"
      },
      "source": [
        "print(config.DOW_30_TICKER)\n",
        "\n",
        "#tickers = ['AAPL', 'MSFT', 'JPM']"
      ],
      "execution_count": 8,
      "outputs": [
        {
          "output_type": "stream",
          "text": [
            "['AAPL', 'MSFT', 'JPM', 'V', 'RTX', 'PG', 'GS', 'NKE', 'DIS', 'AXP', 'HD', 'INTC', 'WMT', 'IBM', 'MRK', 'UNH', 'KO', 'CAT', 'TRV', 'JNJ', 'CVX', 'MCD', 'VZ', 'CSCO', 'XOM', 'BA', 'MMM', 'PFE', 'WBA', 'DD']\n"
          ],
          "name": "stdout"
        }
      ]
    },
    {
      "cell_type": "code",
      "metadata": {
        "colab": {
          "base_uri": "https://localhost:8080/"
        },
        "id": "yCKm4om-s9kE",
        "outputId": "590e28ca-5508-4a85-bfa3-597c4355c66b"
      },
      "source": [
        "df = YahooDownloader(start_date = '2009-01-01',\n",
        "                     end_date = '2021-01-01',\n",
        "                     ticker_list = config.DOW_30_TICKER).fetch_data()"
      ],
      "execution_count": 8,
      "outputs": [
        {
          "output_type": "stream",
          "text": [
            "[*********************100%***********************]  1 of 1 completed\n",
            "[*********************100%***********************]  1 of 1 completed\n",
            "[*********************100%***********************]  1 of 1 completed\n",
            "[*********************100%***********************]  1 of 1 completed\n",
            "[*********************100%***********************]  1 of 1 completed\n",
            "[*********************100%***********************]  1 of 1 completed\n",
            "[*********************100%***********************]  1 of 1 completed\n",
            "[*********************100%***********************]  1 of 1 completed\n",
            "[*********************100%***********************]  1 of 1 completed\n",
            "[*********************100%***********************]  1 of 1 completed\n",
            "[*********************100%***********************]  1 of 1 completed\n",
            "[*********************100%***********************]  1 of 1 completed\n",
            "[*********************100%***********************]  1 of 1 completed\n",
            "[*********************100%***********************]  1 of 1 completed\n",
            "[*********************100%***********************]  1 of 1 completed\n",
            "[*********************100%***********************]  1 of 1 completed\n",
            "[*********************100%***********************]  1 of 1 completed\n",
            "[*********************100%***********************]  1 of 1 completed\n",
            "[*********************100%***********************]  1 of 1 completed\n",
            "[*********************100%***********************]  1 of 1 completed\n",
            "[*********************100%***********************]  1 of 1 completed\n",
            "[*********************100%***********************]  1 of 1 completed\n",
            "[*********************100%***********************]  1 of 1 completed\n",
            "[*********************100%***********************]  1 of 1 completed\n",
            "[*********************100%***********************]  1 of 1 completed\n",
            "[*********************100%***********************]  1 of 1 completed\n",
            "[*********************100%***********************]  1 of 1 completed\n",
            "[*********************100%***********************]  1 of 1 completed\n",
            "[*********************100%***********************]  1 of 1 completed\n",
            "[*********************100%***********************]  1 of 1 completed\n",
            "Shape of DataFrame:  (90630, 8)\n"
          ],
          "name": "stdout"
        }
      ]
    },
    {
      "cell_type": "markdown",
      "metadata": {
        "id": "uqC6c40Zh1iH"
      },
      "source": [
        "# Part 4: Preprocess Data\n",
        "Data preprocessing is a crucial step for training a high quality machine learning model. We need to check for missing data and do feature engineering in order to convert the data into a model-ready state.\n",
        "* Add technical indicators. In practical trading, various information needs to be taken into account, for example the historical stock prices, current holding shares, technical indicators, etc. In this article, we demonstrate two trend-following technical indicators: MACD and RSI.\n",
        "* Add turbulence index. Risk-aversion reflects whether an investor will choose to preserve the capital. It also influences one's trading strategy when facing different market volatility level. To control the risk in a worst-case scenario, such as financial crisis of 2007–2008, FinRL employs the financial turbulence index that measures extreme asset price fluctuation."
      ]
    },
    {
      "cell_type": "code",
      "metadata": {
        "jupyter": {
          "outputs_hidden": false
        },
        "pycharm": {
          "name": "#%%\n"
        },
        "id": "_kmPMUBs-wpz",
        "outputId": "34baa15a-da2c-44d3-899e-09c786c2df26",
        "colab": {
          "base_uri": "https://localhost:8080/"
        }
      },
      "source": [
        "fe = FeatureEngineer(\n",
        "                    use_technical_indicator=True,\n",
        "                    tech_indicator_list = config.TECHNICAL_INDICATORS_LIST,\n",
        "                    use_turbulence=True,\n",
        "                    user_defined_feature = False)\n",
        "\n",
        "processed = fe.preprocess_data(df)"
      ],
      "execution_count": 9,
      "outputs": [
        {
          "output_type": "stream",
          "text": [
            "Successfully added technical indicators\n",
            "Successfully added turbulence index\n"
          ],
          "name": "stdout"
        }
      ]
    },
    {
      "cell_type": "code",
      "metadata": {
        "id": "kFYzLgOz-wp0",
        "outputId": "005fb7c6-2e2a-41ee-a69f-0ef7d935240e",
        "colab": {
          "base_uri": "https://localhost:8080/",
          "height": 308
        }
      },
      "source": [
        "processed['log_volume'] = np.log(processed.volume*processed.close)\n",
        "processed['change'] = (processed.close-processed.open)/processed.close\n",
        "processed['daily_variance'] = (processed.high-processed.low)/processed.close\n",
        "processed.head()"
      ],
      "execution_count": 10,
      "outputs": [
        {
          "output_type": "execute_result",
          "data": {
            "text/html": [
              "<div>\n",
              "<style scoped>\n",
              "    .dataframe tbody tr th:only-of-type {\n",
              "        vertical-align: middle;\n",
              "    }\n",
              "\n",
              "    .dataframe tbody tr th {\n",
              "        vertical-align: top;\n",
              "    }\n",
              "\n",
              "    .dataframe thead th {\n",
              "        text-align: right;\n",
              "    }\n",
              "</style>\n",
              "<table border=\"1\" class=\"dataframe\">\n",
              "  <thead>\n",
              "    <tr style=\"text-align: right;\">\n",
              "      <th></th>\n",
              "      <th>date</th>\n",
              "      <th>open</th>\n",
              "      <th>high</th>\n",
              "      <th>low</th>\n",
              "      <th>close</th>\n",
              "      <th>volume</th>\n",
              "      <th>tic</th>\n",
              "      <th>day</th>\n",
              "      <th>macd</th>\n",
              "      <th>rsi_30</th>\n",
              "      <th>cci_30</th>\n",
              "      <th>dx_30</th>\n",
              "      <th>turbulence</th>\n",
              "      <th>log_volume</th>\n",
              "      <th>change</th>\n",
              "      <th>daily_variance</th>\n",
              "    </tr>\n",
              "  </thead>\n",
              "  <tbody>\n",
              "    <tr>\n",
              "      <th>0</th>\n",
              "      <td>2009-01-02</td>\n",
              "      <td>3.067143</td>\n",
              "      <td>3.251429</td>\n",
              "      <td>3.041429</td>\n",
              "      <td>2.782837</td>\n",
              "      <td>746015200</td>\n",
              "      <td>AAPL</td>\n",
              "      <td>4</td>\n",
              "      <td>0.0</td>\n",
              "      <td>100.0</td>\n",
              "      <td>66.666667</td>\n",
              "      <td>100.0</td>\n",
              "      <td>0.0</td>\n",
              "      <td>21.453727</td>\n",
              "      <td>-0.102164</td>\n",
              "      <td>0.075463</td>\n",
              "    </tr>\n",
              "    <tr>\n",
              "      <th>1</th>\n",
              "      <td>2009-01-02</td>\n",
              "      <td>18.570000</td>\n",
              "      <td>19.520000</td>\n",
              "      <td>18.400000</td>\n",
              "      <td>15.657365</td>\n",
              "      <td>10955700</td>\n",
              "      <td>AXP</td>\n",
              "      <td>4</td>\n",
              "      <td>0.0</td>\n",
              "      <td>100.0</td>\n",
              "      <td>66.666667</td>\n",
              "      <td>100.0</td>\n",
              "      <td>0.0</td>\n",
              "      <td>18.960312</td>\n",
              "      <td>-0.186023</td>\n",
              "      <td>0.071532</td>\n",
              "    </tr>\n",
              "    <tr>\n",
              "      <th>2</th>\n",
              "      <td>2009-01-02</td>\n",
              "      <td>42.799999</td>\n",
              "      <td>45.560001</td>\n",
              "      <td>42.779999</td>\n",
              "      <td>33.941101</td>\n",
              "      <td>7010200</td>\n",
              "      <td>BA</td>\n",
              "      <td>4</td>\n",
              "      <td>0.0</td>\n",
              "      <td>100.0</td>\n",
              "      <td>66.666667</td>\n",
              "      <td>100.0</td>\n",
              "      <td>0.0</td>\n",
              "      <td>19.287503</td>\n",
              "      <td>-0.261008</td>\n",
              "      <td>0.081907</td>\n",
              "    </tr>\n",
              "    <tr>\n",
              "      <th>3</th>\n",
              "      <td>2009-01-02</td>\n",
              "      <td>44.910000</td>\n",
              "      <td>46.980000</td>\n",
              "      <td>44.709999</td>\n",
              "      <td>32.655109</td>\n",
              "      <td>7117200</td>\n",
              "      <td>CAT</td>\n",
              "      <td>4</td>\n",
              "      <td>0.0</td>\n",
              "      <td>100.0</td>\n",
              "      <td>66.666667</td>\n",
              "      <td>100.0</td>\n",
              "      <td>0.0</td>\n",
              "      <td>19.264026</td>\n",
              "      <td>-0.375282</td>\n",
              "      <td>0.069514</td>\n",
              "    </tr>\n",
              "    <tr>\n",
              "      <th>4</th>\n",
              "      <td>2009-01-02</td>\n",
              "      <td>16.410000</td>\n",
              "      <td>17.000000</td>\n",
              "      <td>16.250000</td>\n",
              "      <td>12.505757</td>\n",
              "      <td>40980600</td>\n",
              "      <td>CSCO</td>\n",
              "      <td>4</td>\n",
              "      <td>0.0</td>\n",
              "      <td>100.0</td>\n",
              "      <td>66.666667</td>\n",
              "      <td>100.0</td>\n",
              "      <td>0.0</td>\n",
              "      <td>20.054798</td>\n",
              "      <td>-0.312196</td>\n",
              "      <td>0.059972</td>\n",
              "    </tr>\n",
              "  </tbody>\n",
              "</table>\n",
              "</div>"
            ],
            "text/plain": [
              "         date       open       high  ...  log_volume    change  daily_variance\n",
              "0  2009-01-02   3.067143   3.251429  ...   21.453727 -0.102164        0.075463\n",
              "1  2009-01-02  18.570000  19.520000  ...   18.960312 -0.186023        0.071532\n",
              "2  2009-01-02  42.799999  45.560001  ...   19.287503 -0.261008        0.081907\n",
              "3  2009-01-02  44.910000  46.980000  ...   19.264026 -0.375282        0.069514\n",
              "4  2009-01-02  16.410000  17.000000  ...   20.054798 -0.312196        0.059972\n",
              "\n",
              "[5 rows x 16 columns]"
            ]
          },
          "metadata": {
            "tags": []
          },
          "execution_count": 0
        }
      ]
    },
    {
      "cell_type": "markdown",
      "metadata": {
        "id": "-QsYaY0Dh1iw"
      },
      "source": [
        "<a id='4'></a>\n",
        "# Part 5. Design Environment\n",
        "Considering the stochastic and interactive nature of the automated stock trading tasks, a financial task is modeled as a **Markov Decision Process (MDP)** problem. The training process involves observing stock price change, taking an action and reward's calculation to have the agent adjusting its strategy accordingly. By interacting with the environment, the trading agent will derive a trading strategy with the maximized rewards as time proceeds.\n",
        "\n",
        "Our trading environments, based on OpenAI Gym framework, simulate live stock markets with real market data according to the principle of time-driven simulation.\n",
        "\n",
        "The action space describes the allowed actions that the agent interacts with the environment. Normally, action a includes three actions: {-1, 0, 1}, where -1, 0, 1 represent selling, holding, and buying one share. Also, an action can be carried upon multiple shares. We use an action space {-k,…,-1, 0, 1, …, k}, where k denotes the number of shares to buy and -k denotes the number of shares to sell. For example, \"Buy 10 shares of AAPL\" or \"Sell 10 shares of AAPL\" are 10 or -10, respectively. The continuous action space needs to be normalized to [-1, 1], since the policy is defined on a Gaussian distribution, which needs to be normalized and symmetric."
      ]
    },
    {
      "cell_type": "markdown",
      "metadata": {
        "id": "5TOhcryx44bb"
      },
      "source": [
        "## Training data split: 2009-01-01 to 2018-12-31\n",
        "## Trade data split: 2019-01-01 to 2020-09-30"
      ]
    },
    {
      "cell_type": "code",
      "metadata": {
        "colab": {
          "base_uri": "https://localhost:8080/"
        },
        "id": "W0qaVGjLtgbI",
        "outputId": "a46048fd-b473-4542-918a-611008fca977"
      },
      "source": [
        "train = data_split(processed, '2009-01-01','2019-01-01')\n",
        "trade = data_split(processed, '2019-01-01','2021-01-01')\n",
        "print(len(train))\n",
        "print(len(trade))"
      ],
      "execution_count": 12,
      "outputs": [
        {
          "output_type": "stream",
          "text": [
            "75480\n",
            "15150\n"
          ],
          "name": "stdout"
        }
      ]
    },
    {
      "cell_type": "code",
      "metadata": {
        "id": "RTAbShEV-wp1"
      },
      "source": [
        "import numpy as np\n",
        "import pandas as pd\n",
        "from gym.utils import seeding\n",
        "import gym\n",
        "from gym import spaces\n",
        "import matplotlib\n",
        "from copy import deepcopy\n",
        "\n",
        "matplotlib.use(\"Agg\")\n",
        "import matplotlib.pyplot as plt\n",
        "import pickle\n",
        "from stable_baselines3.common.vec_env import DummyVecEnv\n",
        "import numpy as np\n",
        "import pandas as pd\n",
        "from gym.utils import seeding\n",
        "import gym\n",
        "from gym import spaces\n",
        "import matplotlib\n",
        "import random\n",
        "\n",
        "matplotlib.use(\"Agg\")\n",
        "import matplotlib.pyplot as plt\n",
        "import pickle\n",
        "from stable_baselines3.common.vec_env import DummyVecEnv, SubprocVecEnv\n",
        "from stable_baselines3.common import logger\n",
        "import time\n",
        "\n",
        "\n",
        "class StockTradingEnvV2(gym.Env):\n",
        "\n",
        "    \"\"\"\n",
        "    A stock trading environment for OpenAI gym\n",
        "    Parameters:\n",
        "    state space: {start_cash, <owned_shares>, for s in stocks{<stock.values>}, }\n",
        "        df (pandas.DataFrame): Dataframe containing data\n",
        "        transaction_cost (float): cost for buying or selling shares\n",
        "        hmax (int): max number of share purchases allowed per asset\n",
        "        turbulence_threshold (float): Maximum turbulence allowed in market for purchases to occur. If exceeded, positions are liquidated\n",
        "        print_verbosity(int): When iterating (step), how often to print stats about state of env\n",
        "        reward_scaling (float): Scaling value to multiply reward by at each step.\n",
        "        initial_amount: (int, float): Amount of cash initially available\n",
        "        daily_information_columns (list(str)): Columns to use when building state space from the dataframe.\n",
        "        out_of_cash_penalty (int, float): Penalty to apply if the algorithm runs out of cash\n",
        "\n",
        "    action space: <share_dollar_purchases>\n",
        "\n",
        "    TODO:\n",
        "        make cash penalty proportional to total assets\n",
        "\n",
        "\n",
        "    tests:\n",
        "        after reset, static strategy should result in same metrics\n",
        "\n",
        "        buy zero should result in no costs, no assets purchased\n",
        "        given no change in prices, no change in asset values\n",
        "    \"\"\"\n",
        "\n",
        "    metadata = {\"render.modes\": [\"human\"]}\n",
        "\n",
        "    def __init__(\n",
        "        self,\n",
        "        df,\n",
        "        transaction_cost_pct=3e-3,\n",
        "        date_col_name=\"date\",\n",
        "        hmax=10,\n",
        "        turbulence_threshold=None,\n",
        "        print_verbosity=10,\n",
        "        reward_scaling=1e-4,\n",
        "        initial_amount=1e6,\n",
        "        daily_information_cols=[\"open\", \"close\", \"high\", \"low\", \"volume\"],\n",
        "        out_of_cash_penalty=None,\n",
        "        cache_indicator_data=True,\n",
        "        daily_reward=None,\n",
        "        cash_penalty_proportion=0.1,\n",
        "        random_start=True,\n",
        "    ):\n",
        "        self.df = df\n",
        "        self.stock_col = \"tic\"\n",
        "        self.assets = df[self.stock_col].unique()\n",
        "        self.dates = df[date_col_name].sort_values().unique()\n",
        "        self.random_start = random_start\n",
        "\n",
        "        self.df = self.df.set_index(date_col_name)\n",
        "        self.hmax = hmax\n",
        "        self.initial_amount = initial_amount\n",
        "        if out_of_cash_penalty is None:\n",
        "            out_of_cash_penalty = -initial_amount * 0.5\n",
        "        self.out_of_cash_penalty = out_of_cash_penalty\n",
        "        self.print_verbosity = print_verbosity\n",
        "        self.transaction_cost_pct = transaction_cost_pct\n",
        "        self.reward_scaling = reward_scaling\n",
        "        self.daily_information_cols = daily_information_cols\n",
        "        self.state_space = (\n",
        "            1 + len(self.assets) + len(self.assets) * len(self.daily_information_cols)\n",
        "        )\n",
        "        self.action_space = spaces.Box(low=-1, high=1, shape=(len(self.assets),))\n",
        "        self.observation_space = spaces.Box(\n",
        "            low=-np.inf, high=np.inf, shape=(self.state_space,)\n",
        "        )\n",
        "        self.episode = -1  # initialize so we can call reset\n",
        "        self.episode_history = []\n",
        "        self.printed_header = False\n",
        "        self.daily_reward = daily_reward\n",
        "        self.cache_indicator_data = cache_indicator_data\n",
        "        self.cached_data = None\n",
        "        self.cash_penalty_proportion = cash_penalty_proportion\n",
        "        if self.cache_indicator_data:\n",
        "            print(\"caching data\")\n",
        "            self.cached_data = [\n",
        "                self.get_date_vector(i) for i, _ in enumerate(self.dates)\n",
        "            ]\n",
        "            print(\"data cached!\")\n",
        "\n",
        "    def seed(self, seed=None):\n",
        "        if seed is None:\n",
        "            seed = int(round(time.time() * 1000))\n",
        "        random.seed(seed)\n",
        "\n",
        "    @property\n",
        "    def current_step(self):\n",
        "        return self.date_index - self.starting_point\n",
        "\n",
        "    def reset(self):\n",
        "        self.seed()\n",
        "        self.sum_trades = 0\n",
        "        if self.random_start:\n",
        "            starting_point = random.choice(range(int(len(self.dates) * 0.5)))\n",
        "            self.starting_point = starting_point\n",
        "        else:\n",
        "            self.starting_point = 0\n",
        "        self.date_index = self.starting_point\n",
        "        self.episode += 1\n",
        "        self.actions_memory = []\n",
        "        self.transaction_memory = []\n",
        "        self.state_memory = []\n",
        "        self.account_information = {\n",
        "            \"cash\": [],\n",
        "            \"asset_value\": [],\n",
        "            \"total_assets\": [],\n",
        "            \"reward\": [],\n",
        "        }\n",
        "        init_state = np.array(\n",
        "            [self.initial_amount]\n",
        "            + [0] * len(self.assets)\n",
        "            + self.get_date_vector(self.date_index)\n",
        "        )\n",
        "        self.state_memory.append(init_state)\n",
        "        return init_state\n",
        "\n",
        "    def get_date_vector(self, date, cols=None):\n",
        "        if (cols is None) and (self.cached_data is not None):\n",
        "            return self.cached_data[date]\n",
        "        else:\n",
        "            date = self.dates[date]\n",
        "            if cols is None:\n",
        "                cols = self.daily_information_cols\n",
        "            trunc_df = self.df.loc[date]\n",
        "            v = []\n",
        "            for a in self.assets:\n",
        "                subset = trunc_df[trunc_df[self.stock_col] == a]\n",
        "                v += subset.loc[date, cols].tolist()\n",
        "            assert len(v) == len(self.assets) * len(cols)\n",
        "            return v\n",
        "\n",
        "    def return_terminal(self, reason=\"Last Date\", reward=0):\n",
        "\n",
        "        state = self.state_memory[-1]\n",
        "        self.log_step(reason=reason, terminal_reward=reward)\n",
        "        reward = reward * self.reward_scaling\n",
        "        # Add outputs to logger interface\n",
        "        reward_pct = self.account_information[\"total_assets\"][-1] / self.initial_amount\n",
        "        # logger.record(\"environment/total_reward_pct\", (reward_pct - 1) * 100)\n",
        "        # logger.record(\n",
        "        #     \"environment/daily_trades\",\n",
        "        #     self.sum_trades / (self.current_step) / len(self.assets),\n",
        "        # )\n",
        "        # logger.record(\"environment/completed_steps\", self.current_step)\n",
        "        # logger.record(\n",
        "        #     \"environment/sum_rewards\", np.sum(self.account_information[\"reward\"])\n",
        "        # )\n",
        "        # logger.record(\n",
        "        #     \"environment/cash_proportion\",\n",
        "        #     self.account_information[\"cash\"][-1]\n",
        "        #     / self.account_information[\"total_assets\"][-1],\n",
        "        # )\n",
        "        return state, reward, True, {}\n",
        "\n",
        "    def log_step(self, reason, terminal_reward=None):\n",
        "        if terminal_reward is None:\n",
        "            terminal_reward = self.account_information[\"reward\"][-1]\n",
        "        cash_pct = (\n",
        "            self.account_information[\"cash\"][-1]\n",
        "            / self.account_information[\"total_assets\"][-1]\n",
        "        )\n",
        "        rec = [\n",
        "            self.episode,\n",
        "            self.date_index - self.starting_point,\n",
        "            reason,\n",
        "            f\"${int(self.account_information['total_assets'][-1])}\",\n",
        "            f\"{terminal_reward*100:0.5f}%\",\n",
        "            f\"{cash_pct*100:0.2f}%\",\n",
        "        ]\n",
        "\n",
        "        self.episode_history.append(rec)\n",
        "        print(self.template.format(*rec))\n",
        "\n",
        "    def log_header(self):\n",
        "        self.template = \"{0:4}|{1:4}|{2:15}|{3:10}|{4:10}|{5:10}\"  # column widths: 8, 10, 15, 7, 10\n",
        "        print(\n",
        "            self.template.format(\n",
        "                \"EPISODE\",\n",
        "                \"STEPS\",\n",
        "                \"TERMINAL_REASON\",\n",
        "                \"TOT_ASSETS\",\n",
        "                \"TERMINAL_REWARD_unsc\",\n",
        "                \"CASH_PCT\",\n",
        "            )\n",
        "        )\n",
        "        self.printed_header = True\n",
        "        \n",
        "    def get_reward(self):\n",
        "        if self.current_step==0:\n",
        "            return 0\n",
        "        else:\n",
        "            assets = self.account_information['total_assets'][-1]\n",
        "            cash = self.account_information['cash'][-1]\n",
        "            cash_penalty = max(0, (assets*self.cash_penalty_proportion-cash))\n",
        "            assets -= cash_penalty\n",
        "            reward = (assets/self.initial_amount)-1\n",
        "            reward/=self.current_step\n",
        "            return reward\n",
        "\n",
        "    def step(self, actions):\n",
        "        # let's just log what we're doing in terms of max actions at each step.\n",
        "        self.sum_trades += np.sum(np.abs(actions))\n",
        "\n",
        "        # print header only first time\n",
        "        if self.printed_header is False:\n",
        "            self.log_header()\n",
        "\n",
        "        # print if it's time.\n",
        "        if (self.current_step + 1) % self.print_verbosity == 0:\n",
        "            self.log_step(reason=\"update\")\n",
        "\n",
        "        # if we're at the end\n",
        "        if self.date_index == len(self.dates) - 1:\n",
        "            # if we hit the end, set reward to total gains (or losses)\n",
        "            return self.return_terminal(reward=self.get_reward())\n",
        "        else:\n",
        "            # compute value of cash + assets\n",
        "            begin_cash = self.state_memory[-1][0]\n",
        "            holdings = self.state_memory[-1][1 : len(self.assets) + 1]\n",
        "            assert min(holdings) >= 0\n",
        "            closings = np.array(self.get_date_vector(self.date_index, cols=[\"close\"]))\n",
        "            asset_value = np.dot(holdings, closings)\n",
        "\n",
        "            # reward is (cash + assets) - (cash_last_step + assets_last_step)\n",
        "            reward = self.get_reward()\n",
        "\n",
        "            # log the values of cash, assets, and total assets\n",
        "            self.account_information[\"cash\"].append(begin_cash)\n",
        "            self.account_information[\"asset_value\"].append(asset_value)\n",
        "            self.account_information[\"total_assets\"].append(begin_cash + asset_value)\n",
        "            self.account_information[\"reward\"].append(reward)\n",
        "\n",
        "            # multiply action values by our scalar multiplier and save\n",
        "            actions = actions * self.hmax\n",
        "            self.actions_memory.append(actions)\n",
        "\n",
        "            # scale cash purchases to asset # changes\n",
        "            actions = actions / closings\n",
        "            self.transaction_memory.append(actions)\n",
        "\n",
        "            # clip actions so we can't sell more assets than we hold\n",
        "            actions = np.maximum(actions, -np.array(holdings))\n",
        "\n",
        "            # compute our proceeds from sales, and add to cash\n",
        "            sells = -np.clip(actions, -np.inf, 0)\n",
        "            proceeds = np.dot(sells, closings)\n",
        "            costs = proceeds * self.transaction_cost_pct\n",
        "            coh = begin_cash + proceeds\n",
        "\n",
        "            # compute the cost of our buys\n",
        "            buys = np.clip(actions, 0, np.inf)\n",
        "            spend = np.dot(buys, closings)\n",
        "            costs += spend * self.transaction_cost_pct\n",
        "\n",
        "            # if we run out of cash, end the cycle and penalize\n",
        "            if (spend + costs) > coh:\n",
        "                return self.return_terminal(\n",
        "                    reason=\"CASH SHORTAGE\",\n",
        "                    reward=self.get_reward()\n",
        "                )\n",
        "\n",
        "            # verify we didn't do anything impossible here\n",
        "            assert (spend + costs) <= coh\n",
        "\n",
        "            # update our holdings\n",
        "            coh = coh - spend - costs\n",
        "            holdings_updated = holdings + actions\n",
        "            self.date_index += 1\n",
        "            state = (\n",
        "                [coh] + list(holdings_updated) + self.get_date_vector(self.date_index)\n",
        "            )\n",
        "            self.state_memory.append(state)\n",
        "            reward = reward * self.reward_scaling\n",
        "            return state, reward, False, {}\n",
        "\n",
        "    def get_sb_env(self):\n",
        "        def get_self():\n",
        "            return deepcopy(self)\n",
        "\n",
        "        e = DummyVecEnv([get_self])\n",
        "        obs = e.reset()\n",
        "        return e, obs\n",
        "\n",
        "    def get_multiproc_env(self, n=10):\n",
        "        def get_self():\n",
        "            return deepcopy(self)\n",
        "\n",
        "        e = SubprocVecEnv([get_self for _ in range(n)], start_method=\"fork\")\n",
        "        obs = e.reset()\n",
        "        return e, obs\n",
        "\n",
        "    def save_asset_memory(self):\n",
        "        if self.current_step == 0:\n",
        "            return None\n",
        "        else:\n",
        "            self.account_information[\"date\"] = self.dates[\n",
        "                -len(self.account_information[\"cash\"]) :\n",
        "            ]\n",
        "            return pd.DataFrame(self.account_information)\n",
        "\n",
        "    def save_action_memory(self):\n",
        "        if self.current_step == 0:\n",
        "            return None\n",
        "        else:\n",
        "            return pd.DataFrame(\n",
        "                {\n",
        "                    \"date\": self.dates[-len(self.account_information[\"cash\"]) :],\n",
        "                    \"actions\": self.actions_memory,\n",
        "                    \"transactions\": self.transaction_memory,\n",
        "                }\n",
        "            )\n"
      ],
      "execution_count": 13,
      "outputs": []
    },
    {
      "cell_type": "code",
      "metadata": {
        "id": "n-bMsJ9I-wp2",
        "outputId": "6f5c183e-ae44-4180-c876-d18bea032c56",
        "colab": {
          "base_uri": "https://localhost:8080/"
        }
      },
      "source": [
        "print(StockTradingEnvV2.__doc__)"
      ],
      "execution_count": 14,
      "outputs": [
        {
          "output_type": "stream",
          "text": [
            "\n",
            "    A stock trading environment for OpenAI gym\n",
            "    Parameters:\n",
            "    state space: {start_cash, <owned_shares>, for s in stocks{<stock.values>}, }\n",
            "        df (pandas.DataFrame): Dataframe containing data\n",
            "        transaction_cost (float): cost for buying or selling shares\n",
            "        hmax (int): max number of share purchases allowed per asset\n",
            "        turbulence_threshold (float): Maximum turbulence allowed in market for purchases to occur. If exceeded, positions are liquidated\n",
            "        print_verbosity(int): When iterating (step), how often to print stats about state of env\n",
            "        reward_scaling (float): Scaling value to multiply reward by at each step.\n",
            "        initial_amount: (int, float): Amount of cash initially available\n",
            "        daily_information_columns (list(str)): Columns to use when building state space from the dataframe.\n",
            "        out_of_cash_penalty (int, float): Penalty to apply if the algorithm runs out of cash\n",
            "\n",
            "    action space: <share_dollar_purchases>\n",
            "\n",
            "    TODO:\n",
            "        make cash penalty proportional to total assets\n",
            "\n",
            "\n",
            "    tests:\n",
            "        after reset, static strategy should result in same metrics\n",
            "\n",
            "        buy zero should result in no costs, no assets purchased\n",
            "        given no change in prices, no change in asset values\n",
            "    \n"
          ],
          "name": "stdout"
        }
      ]
    },
    {
      "cell_type": "markdown",
      "metadata": {
        "id": "Q2zqII8rMIqn",
        "outputId": "8a2c943b-1be4-4b8d-b64f-666e0852b7e6"
      },
      "source": [
        "#### state space\n",
        "The state space of the observation is as follows \n",
        "\n",
        "`start_cash, <owned_shares_of_n_assets>, <<indicator_i_for_asset_j> for j in assets>`\n",
        "\n",
        "indicators are any daily measurement you can achieve. Common ones are 'volume', 'open' 'close' 'high', 'low'.\n",
        "However, you can add these as needed, \n",
        "The feature engineer adds indicators, and you can add your own as well. \n"
      ]
    },
    {
      "cell_type": "code",
      "metadata": {
        "id": "oZF9k52r-wp2",
        "outputId": "92494e6f-7b44-4cb0-dd8c-e6655bd6a073",
        "colab": {
          "base_uri": "https://localhost:8080/",
          "height": 308
        }
      },
      "source": [
        "processed.head()"
      ],
      "execution_count": 15,
      "outputs": [
        {
          "output_type": "execute_result",
          "data": {
            "text/html": [
              "<div>\n",
              "<style scoped>\n",
              "    .dataframe tbody tr th:only-of-type {\n",
              "        vertical-align: middle;\n",
              "    }\n",
              "\n",
              "    .dataframe tbody tr th {\n",
              "        vertical-align: top;\n",
              "    }\n",
              "\n",
              "    .dataframe thead th {\n",
              "        text-align: right;\n",
              "    }\n",
              "</style>\n",
              "<table border=\"1\" class=\"dataframe\">\n",
              "  <thead>\n",
              "    <tr style=\"text-align: right;\">\n",
              "      <th></th>\n",
              "      <th>date</th>\n",
              "      <th>open</th>\n",
              "      <th>high</th>\n",
              "      <th>low</th>\n",
              "      <th>close</th>\n",
              "      <th>volume</th>\n",
              "      <th>tic</th>\n",
              "      <th>day</th>\n",
              "      <th>macd</th>\n",
              "      <th>rsi_30</th>\n",
              "      <th>cci_30</th>\n",
              "      <th>dx_30</th>\n",
              "      <th>turbulence</th>\n",
              "      <th>log_volume</th>\n",
              "      <th>change</th>\n",
              "      <th>daily_variance</th>\n",
              "    </tr>\n",
              "  </thead>\n",
              "  <tbody>\n",
              "    <tr>\n",
              "      <th>0</th>\n",
              "      <td>2009-01-02</td>\n",
              "      <td>3.067143</td>\n",
              "      <td>3.251429</td>\n",
              "      <td>3.041429</td>\n",
              "      <td>2.782837</td>\n",
              "      <td>746015200</td>\n",
              "      <td>AAPL</td>\n",
              "      <td>4</td>\n",
              "      <td>0.0</td>\n",
              "      <td>100.0</td>\n",
              "      <td>66.666667</td>\n",
              "      <td>100.0</td>\n",
              "      <td>0.0</td>\n",
              "      <td>21.453727</td>\n",
              "      <td>-0.102164</td>\n",
              "      <td>0.075463</td>\n",
              "    </tr>\n",
              "    <tr>\n",
              "      <th>1</th>\n",
              "      <td>2009-01-02</td>\n",
              "      <td>18.570000</td>\n",
              "      <td>19.520000</td>\n",
              "      <td>18.400000</td>\n",
              "      <td>15.657365</td>\n",
              "      <td>10955700</td>\n",
              "      <td>AXP</td>\n",
              "      <td>4</td>\n",
              "      <td>0.0</td>\n",
              "      <td>100.0</td>\n",
              "      <td>66.666667</td>\n",
              "      <td>100.0</td>\n",
              "      <td>0.0</td>\n",
              "      <td>18.960312</td>\n",
              "      <td>-0.186023</td>\n",
              "      <td>0.071532</td>\n",
              "    </tr>\n",
              "    <tr>\n",
              "      <th>2</th>\n",
              "      <td>2009-01-02</td>\n",
              "      <td>42.799999</td>\n",
              "      <td>45.560001</td>\n",
              "      <td>42.779999</td>\n",
              "      <td>33.941101</td>\n",
              "      <td>7010200</td>\n",
              "      <td>BA</td>\n",
              "      <td>4</td>\n",
              "      <td>0.0</td>\n",
              "      <td>100.0</td>\n",
              "      <td>66.666667</td>\n",
              "      <td>100.0</td>\n",
              "      <td>0.0</td>\n",
              "      <td>19.287503</td>\n",
              "      <td>-0.261008</td>\n",
              "      <td>0.081907</td>\n",
              "    </tr>\n",
              "    <tr>\n",
              "      <th>3</th>\n",
              "      <td>2009-01-02</td>\n",
              "      <td>44.910000</td>\n",
              "      <td>46.980000</td>\n",
              "      <td>44.709999</td>\n",
              "      <td>32.655109</td>\n",
              "      <td>7117200</td>\n",
              "      <td>CAT</td>\n",
              "      <td>4</td>\n",
              "      <td>0.0</td>\n",
              "      <td>100.0</td>\n",
              "      <td>66.666667</td>\n",
              "      <td>100.0</td>\n",
              "      <td>0.0</td>\n",
              "      <td>19.264026</td>\n",
              "      <td>-0.375282</td>\n",
              "      <td>0.069514</td>\n",
              "    </tr>\n",
              "    <tr>\n",
              "      <th>4</th>\n",
              "      <td>2009-01-02</td>\n",
              "      <td>16.410000</td>\n",
              "      <td>17.000000</td>\n",
              "      <td>16.250000</td>\n",
              "      <td>12.505757</td>\n",
              "      <td>40980600</td>\n",
              "      <td>CSCO</td>\n",
              "      <td>4</td>\n",
              "      <td>0.0</td>\n",
              "      <td>100.0</td>\n",
              "      <td>66.666667</td>\n",
              "      <td>100.0</td>\n",
              "      <td>0.0</td>\n",
              "      <td>20.054798</td>\n",
              "      <td>-0.312196</td>\n",
              "      <td>0.059972</td>\n",
              "    </tr>\n",
              "  </tbody>\n",
              "</table>\n",
              "</div>"
            ],
            "text/plain": [
              "         date       open       high  ...  log_volume    change  daily_variance\n",
              "0  2009-01-02   3.067143   3.251429  ...   21.453727 -0.102164        0.075463\n",
              "1  2009-01-02  18.570000  19.520000  ...   18.960312 -0.186023        0.071532\n",
              "2  2009-01-02  42.799999  45.560001  ...   19.287503 -0.261008        0.081907\n",
              "3  2009-01-02  44.910000  46.980000  ...   19.264026 -0.375282        0.069514\n",
              "4  2009-01-02  16.410000  17.000000  ...   20.054798 -0.312196        0.059972\n",
              "\n",
              "[5 rows x 16 columns]"
            ]
          },
          "metadata": {
            "tags": []
          },
          "execution_count": 15
        }
      ]
    },
    {
      "cell_type": "code",
      "metadata": {
        "id": "AWyp84Ltto19",
        "outputId": "49660161-bc46-483f-f314-af3c53287d26",
        "colab": {
          "base_uri": "https://localhost:8080/"
        }
      },
      "source": [
        "# information_cols = ['daily_variance', 'change', 'log_volume', 'close','day', \n",
        "#                     'macd', 'rsi_30', 'cci_30', 'dx_30', 'turbulence']\n",
        "\n",
        "information_cols = ['open', 'high', 'low', 'close', 'log_volume']\n",
        "\n",
        "e_train_gym = StockTradingEnvV2(df = train,initial_amount = 1e6,hmax = 5000, \n",
        "                                out_of_cash_penalty = 0, \n",
        "                                cache_indicator_data=True,\n",
        "                                cash_penalty_proportion=0.2, \n",
        "                                reward_scaling=1,\n",
        "                                daily_information_cols = information_cols, \n",
        "                                print_verbosity = 500, random_start = True)\n",
        "\n",
        "\n",
        "trade = data_split(processed, '2019-01-01','2021-01-01')\n",
        "\n",
        "\n",
        "e_trade_gym = StockTradingEnvV2(df = trade,initial_amount = 1e6,hmax = 5000, \n",
        "                                out_of_cash_penalty = 0, \n",
        "                                cash_penalty_proportion=0.2,\n",
        "                                reward_scaling = 1, \n",
        "                                cache_indicator_data=True,\n",
        "                                daily_information_cols = information_cols, \n",
        "                                print_verbosity = 500, random_start = False)\n",
        "\n"
      ],
      "execution_count": 16,
      "outputs": [
        {
          "output_type": "stream",
          "text": [
            "caching data\n",
            "data cached!\n",
            "caching data\n",
            "data cached!\n"
          ],
          "name": "stdout"
        }
      ]
    },
    {
      "cell_type": "markdown",
      "metadata": {
        "id": "64EoqOrQjiVf"
      },
      "source": [
        "## Environment for Training\n",
        "There are two available environments. The multiprocessing and the single processing env. \n",
        "Some models won't work with multiprocessing. \n",
        "\n",
        "```python\n",
        "# single processing\n",
        "env_train, _ = e_train_gym.get_sb_env()\n",
        "\n",
        "\n",
        "#multiprocessing\n",
        "env_train, _ = e_train_gym.get_multiproc_env(n = <n_cores>)\n",
        "```\n"
      ]
    },
    {
      "cell_type": "code",
      "metadata": {
        "colab": {
          "base_uri": "https://localhost:8080/"
        },
        "collapsed": true,
        "id": "xwSvvPjutpqS",
        "jupyter": {
          "outputs_hidden": true
        },
        "outputId": "d9fe26e4-4be4-4a6e-f979-f394d4a40589"
      },
      "source": [
        "# for this example, let's do multiprocessing with n_cores-2\n",
        "\n",
        "import multiprocessing\n",
        "\n",
        "n_cores = multiprocessing.cpu_count() - 2\n",
        "n_cores = 24\n",
        "print(f\"using {n_cores} cores\")\n",
        "\n",
        "#this is our training env. It allows multiprocessing\n",
        "env_train, _ = e_train_gym.get_multiproc_env(n = n_cores)\n",
        "# env_train, _ = e_train_gym.get_sb_env()\n",
        "\n",
        "\n",
        "#this is our observation environment. It allows full diagnostics\n",
        "env_trade, _ = e_trade_gym.get_sb_env()\n"
      ],
      "execution_count": 17,
      "outputs": [
        {
          "output_type": "stream",
          "text": [
            "using 24 cores\n"
          ],
          "name": "stdout"
        }
      ]
    },
    {
      "cell_type": "markdown",
      "metadata": {
        "id": "HMNR5nHjh1iz"
      },
      "source": [
        "<a id='5'></a>\n",
        "# Part 6: Implement DRL Algorithms\n",
        "* The implementation of the DRL algorithms are based on **OpenAI Baselines** and **Stable Baselines**. Stable Baselines is a fork of OpenAI Baselines, with a major structural refactoring, and code cleanups.\n",
        "* FinRL library includes fine-tuned standard DRL algorithms, such as DQN, DDPG,\n",
        "Multi-Agent DDPG, PPO, SAC, A2C and TD3. We also allow users to\n",
        "design their own DRL algorithms by adapting these DRL algorithms."
      ]
    },
    {
      "cell_type": "code",
      "metadata": {
        "id": "364PsqckttcQ"
      },
      "source": [
        "agent = DRLAgent(env = env_train)"
      ],
      "execution_count": 18,
      "outputs": []
    },
    {
      "cell_type": "markdown",
      "metadata": {
        "id": "uijiWgkuh1jB"
      },
      "source": [
        "### Model PPO\n"
      ]
    },
    {
      "cell_type": "code",
      "metadata": {
        "id": "g9fVobNw-wp3",
        "outputId": "e4613478-4f2f-46dc-e442-3d19f1277af1",
        "colab": {
          "base_uri": "https://localhost:8080/"
        }
      },
      "source": [
        "# from torch.nn import Softsign, ReLU\n",
        "ppo_params ={'n_steps': 256, \n",
        "             'ent_coef': 0.01, \n",
        "             'learning_rate': 0.00009, \n",
        "             'batch_size': 1024, \n",
        "            'gamma': 0.99}\n",
        "\n",
        "policy_kwargs = {\n",
        "#     \"activation_fn\": ReLU,\n",
        "    \"net_arch\": [1024, 1024,1024, 1024,  1024], \n",
        "#     \"squash_output\": True\n",
        "}\n",
        "\n",
        "model = agent.get_model(\"ppo\",  \n",
        "                        model_kwargs = ppo_params, \n",
        "                        policy_kwargs = policy_kwargs, verbose = 0)\n",
        "\n",
        "# model = model.load(\"scaling_reward.model\", env = env_train)"
      ],
      "execution_count": 19,
      "outputs": [
        {
          "output_type": "stream",
          "text": [
            "{'n_steps': 256, 'ent_coef': 0.01, 'learning_rate': 9e-05, 'batch_size': 1024, 'gamma': 0.99}\n"
          ],
          "name": "stdout"
        }
      ]
    },
    {
      "cell_type": "code",
      "metadata": {
        "jupyter": {
          "outputs_hidden": true
        },
        "id": "DqP8j_gx-wp3",
        "outputId": "5cc7550c-8f33-42a8-bb1b-c5d8a2363607",
        "colab": {
          "base_uri": "https://localhost:8080/"
        }
      },
      "source": [
        "model.learn(total_timesteps = 50000, \n",
        "            eval_env = env_trade, \n",
        "            eval_freq = 250,\n",
        "            log_interval = 1, \n",
        "            tb_log_name = 'short50_run',\n",
        "            n_eval_episodes = 1)"
      ],
      "execution_count": 20,
      "outputs": [
        {
          "output_type": "stream",
          "text": [
            "/usr/local/lib/python3.7/dist-packages/stable_baselines3/common/callbacks.py:337: UserWarning: Training and eval env are not of the same type<stable_baselines3.common.vec_env.subproc_vec_env.SubprocVecEnv object at 0x7fa402137490> != <stable_baselines3.common.vec_env.dummy_vec_env.DummyVecEnv object at 0x7fa40296efd0>\n",
            "  warnings.warn(\"Training and eval env are not of the same type\" f\"{self.training_env} != {self.eval_env}\")\n",
            "/usr/local/lib/python3.7/dist-packages/stable_baselines3/common/evaluation.py:69: UserWarning: Evaluation environment is not wrapped with a ``Monitor`` wrapper. This may result in reporting modified episode lengths and rewards, if other wrappers happen to modify these. Consider wrapping environment first with ``Monitor`` wrapper.\n",
            "  UserWarning,\n"
          ],
          "name": "stderr"
        },
        {
          "output_type": "stream",
          "text": [
            "EPISODE|STEPS|TERMINAL_REASON|TOT_ASSETS|TERMINAL_REWARD_unsc|CASH_PCT  \n",
            "   1| 499|update         |$1030559  |0.00638%  |81.92%    \n",
            "   1| 504|Last Date      |$1033766  |0.00670%  |81.52%    \n",
            "Eval num_timesteps=6000, episode_reward=0.01 +/- 0.00\n",
            "Episode length: 505.00 +/- 0.00\n",
            "New best mean reward!\n",
            "   3| 499|update         |$1244957  |0.03135%  |12.79%    \n",
            "   3| 504|Last Date      |$1257483  |0.03059%  |11.79%    \n",
            "Eval num_timesteps=12000, episode_reward=0.06 +/- 0.00\n",
            "Episode length: 505.00 +/- 0.00\n",
            "New best mean reward!\n",
            "   5| 316|CASH SHORTAGE  |$837236   |-0.10442% |0.03%     \n",
            "Eval num_timesteps=18000, episode_reward=0.02 +/- 0.00\n",
            "Episode length: 317.00 +/- 0.00\n",
            "   7| 201|CASH SHORTAGE  |$1056847  |-0.07675% |0.02%     \n",
            "Eval num_timesteps=24000, episode_reward=0.01 +/- 0.00\n",
            "Episode length: 202.00 +/- 0.00\n",
            "   9| 159|CASH SHORTAGE  |$1005720  |-0.12287% |0.01%     \n",
            "Eval num_timesteps=30000, episode_reward=0.00 +/- 0.00\n",
            "Episode length: 160.00 +/- 0.00\n",
            "  11| 127|CASH SHORTAGE  |$1059832  |-0.11885% |0.11%     \n",
            "Eval num_timesteps=36000, episode_reward=0.00 +/- 0.00\n",
            "Episode length: 128.00 +/- 0.00\n",
            "  13| 110|CASH SHORTAGE  |$1026363  |-0.16081% |0.20%     \n",
            "Eval num_timesteps=42000, episode_reward=0.00 +/- 0.00\n",
            "Episode length: 111.00 +/- 0.00\n",
            "  15| 117|CASH SHORTAGE  |$1055011  |-0.13322% |0.01%     \n",
            "Eval num_timesteps=48000, episode_reward=-0.01 +/- 0.00\n",
            "Episode length: 118.00 +/- 0.00\n",
            "  17| 124|CASH SHORTAGE  |$1061713  |-0.12136% |0.01%     \n",
            "Eval num_timesteps=54000, episode_reward=-0.02 +/- 0.00\n",
            "Episode length: 125.00 +/- 0.00\n"
          ],
          "name": "stdout"
        },
        {
          "output_type": "execute_result",
          "data": {
            "text/plain": [
              "<stable_baselines3.ppo.ppo.PPO at 0x7fa402137650>"
            ]
          },
          "metadata": {
            "tags": []
          },
          "execution_count": 20
        }
      ]
    },
    {
      "cell_type": "code",
      "metadata": {
        "id": "x3gJfj1p-wp4"
      },
      "source": [
        "model.save(\"different.model\")"
      ],
      "execution_count": 21,
      "outputs": []
    },
    {
      "cell_type": "code",
      "metadata": {
        "id": "efwBi84ch1jE"
      },
      "source": [
        "data_turbulence = processed[(processed.date<'2019-01-01') & (processed.date>='2009-01-01')]\n",
        "insample_turbulence = data_turbulence.drop_duplicates(subset=['date'])"
      ],
      "execution_count": 22,
      "outputs": []
    },
    {
      "cell_type": "code",
      "metadata": {
        "colab": {
          "base_uri": "https://localhost:8080/"
        },
        "id": "VHZMBpSqh1jG",
        "outputId": "3b4b4ecc-cb81-48d8-e5d4-0016f5976b83"
      },
      "source": [
        "insample_turbulence.turbulence.describe()"
      ],
      "execution_count": 23,
      "outputs": [
        {
          "output_type": "execute_result",
          "data": {
            "text/plain": [
              "count    2516.000000\n",
              "mean       33.278197\n",
              "std        33.999900\n",
              "min         0.000000\n",
              "25%        15.233724\n",
              "50%        25.167089\n",
              "75%        39.290041\n",
              "max       332.848895\n",
              "Name: turbulence, dtype: float64"
            ]
          },
          "metadata": {
            "tags": []
          },
          "execution_count": 23
        }
      ]
    },
    {
      "cell_type": "code",
      "metadata": {
        "id": "yuwDPkV9h1jL"
      },
      "source": [
        "turbulence_threshold = np.quantile(insample_turbulence.turbulence.values,1)"
      ],
      "execution_count": 24,
      "outputs": []
    },
    {
      "cell_type": "code",
      "metadata": {
        "colab": {
          "base_uri": "https://localhost:8080/"
        },
        "id": "wwoz_7VSh1jO",
        "outputId": "fcd60736-309f-4f19-bbb2-b01b05fc6f82"
      },
      "source": [
        "turbulence_threshold"
      ],
      "execution_count": 25,
      "outputs": [
        {
          "output_type": "execute_result",
          "data": {
            "text/plain": [
              "332.8488949485478"
            ]
          },
          "metadata": {
            "tags": []
          },
          "execution_count": 25
        }
      ]
    },
    {
      "cell_type": "markdown",
      "metadata": {
        "id": "U5mmgQF_h1jQ"
      },
      "source": [
        "### Trade\n",
        "\n",
        "DRL model needs to update periodically in order to take full advantage of the data, ideally we need to retrain our model yearly, quarterly, or monthly. We also need to tune the parameters along the way, in this notebook I only use the in-sample data from 2009-01 to 2018-12 to tune the parameters once, so there is some alpha decay here as the length of trade date extends. \n",
        "\n",
        "Numerous hyperparameters – e.g. the learning rate, the total number of samples to train on – influence the learning process and are usually determined by testing some variations."
      ]
    },
    {
      "cell_type": "code",
      "metadata": {
        "id": "wsz7d5cP-wp4",
        "outputId": "86ba4664-84cf-46dc-ef06-e28d9125022f",
        "colab": {
          "base_uri": "https://localhost:8080/",
          "height": 308
        }
      },
      "source": [
        "trade.head()"
      ],
      "execution_count": 26,
      "outputs": [
        {
          "output_type": "execute_result",
          "data": {
            "text/html": [
              "<div>\n",
              "<style scoped>\n",
              "    .dataframe tbody tr th:only-of-type {\n",
              "        vertical-align: middle;\n",
              "    }\n",
              "\n",
              "    .dataframe tbody tr th {\n",
              "        vertical-align: top;\n",
              "    }\n",
              "\n",
              "    .dataframe thead th {\n",
              "        text-align: right;\n",
              "    }\n",
              "</style>\n",
              "<table border=\"1\" class=\"dataframe\">\n",
              "  <thead>\n",
              "    <tr style=\"text-align: right;\">\n",
              "      <th></th>\n",
              "      <th>date</th>\n",
              "      <th>open</th>\n",
              "      <th>high</th>\n",
              "      <th>low</th>\n",
              "      <th>close</th>\n",
              "      <th>volume</th>\n",
              "      <th>tic</th>\n",
              "      <th>day</th>\n",
              "      <th>macd</th>\n",
              "      <th>rsi_30</th>\n",
              "      <th>cci_30</th>\n",
              "      <th>dx_30</th>\n",
              "      <th>turbulence</th>\n",
              "      <th>log_volume</th>\n",
              "      <th>change</th>\n",
              "      <th>daily_variance</th>\n",
              "    </tr>\n",
              "  </thead>\n",
              "  <tbody>\n",
              "    <tr>\n",
              "      <th>0</th>\n",
              "      <td>2019-01-02</td>\n",
              "      <td>38.722500</td>\n",
              "      <td>39.712502</td>\n",
              "      <td>38.557499</td>\n",
              "      <td>38.382229</td>\n",
              "      <td>148158800</td>\n",
              "      <td>AAPL</td>\n",
              "      <td>2</td>\n",
              "      <td>-2.010457</td>\n",
              "      <td>37.867363</td>\n",
              "      <td>-91.579434</td>\n",
              "      <td>42.250808</td>\n",
              "      <td>51.408896</td>\n",
              "      <td>22.461390</td>\n",
              "      <td>-0.008865</td>\n",
              "      <td>0.030092</td>\n",
              "    </tr>\n",
              "    <tr>\n",
              "      <th>0</th>\n",
              "      <td>2019-01-02</td>\n",
              "      <td>93.910004</td>\n",
              "      <td>96.269997</td>\n",
              "      <td>93.769997</td>\n",
              "      <td>91.803406</td>\n",
              "      <td>4175400</td>\n",
              "      <td>AXP</td>\n",
              "      <td>2</td>\n",
              "      <td>-3.394947</td>\n",
              "      <td>41.204996</td>\n",
              "      <td>-97.765841</td>\n",
              "      <td>26.709417</td>\n",
              "      <td>51.408896</td>\n",
              "      <td>19.764370</td>\n",
              "      <td>-0.022947</td>\n",
              "      <td>0.027232</td>\n",
              "    </tr>\n",
              "    <tr>\n",
              "      <th>0</th>\n",
              "      <td>2019-01-02</td>\n",
              "      <td>316.190002</td>\n",
              "      <td>323.950012</td>\n",
              "      <td>313.709991</td>\n",
              "      <td>314.645142</td>\n",
              "      <td>3292200</td>\n",
              "      <td>BA</td>\n",
              "      <td>2</td>\n",
              "      <td>-5.550592</td>\n",
              "      <td>47.010000</td>\n",
              "      <td>-21.712382</td>\n",
              "      <td>13.611972</td>\n",
              "      <td>51.408896</td>\n",
              "      <td>20.758512</td>\n",
              "      <td>-0.004910</td>\n",
              "      <td>0.032545</td>\n",
              "    </tr>\n",
              "    <tr>\n",
              "      <th>0</th>\n",
              "      <td>2019-01-02</td>\n",
              "      <td>124.029999</td>\n",
              "      <td>127.879997</td>\n",
              "      <td>123.000000</td>\n",
              "      <td>117.506577</td>\n",
              "      <td>4783200</td>\n",
              "      <td>CAT</td>\n",
              "      <td>2</td>\n",
              "      <td>-0.676421</td>\n",
              "      <td>48.229088</td>\n",
              "      <td>-5.177371</td>\n",
              "      <td>0.873482</td>\n",
              "      <td>51.408896</td>\n",
              "      <td>20.147115</td>\n",
              "      <td>-0.055515</td>\n",
              "      <td>0.041530</td>\n",
              "    </tr>\n",
              "    <tr>\n",
              "      <th>0</th>\n",
              "      <td>2019-01-02</td>\n",
              "      <td>42.279999</td>\n",
              "      <td>43.200001</td>\n",
              "      <td>42.209999</td>\n",
              "      <td>39.496738</td>\n",
              "      <td>23833500</td>\n",
              "      <td>CSCO</td>\n",
              "      <td>2</td>\n",
              "      <td>-0.939011</td>\n",
              "      <td>44.872565</td>\n",
              "      <td>-87.556999</td>\n",
              "      <td>29.529377</td>\n",
              "      <td>51.408896</td>\n",
              "      <td>20.662821</td>\n",
              "      <td>-0.070468</td>\n",
              "      <td>0.025065</td>\n",
              "    </tr>\n",
              "  </tbody>\n",
              "</table>\n",
              "</div>"
            ],
            "text/plain": [
              "         date        open        high  ...  log_volume    change  daily_variance\n",
              "0  2019-01-02   38.722500   39.712502  ...   22.461390 -0.008865        0.030092\n",
              "0  2019-01-02   93.910004   96.269997  ...   19.764370 -0.022947        0.027232\n",
              "0  2019-01-02  316.190002  323.950012  ...   20.758512 -0.004910        0.032545\n",
              "0  2019-01-02  124.029999  127.879997  ...   20.147115 -0.055515        0.041530\n",
              "0  2019-01-02   42.279999   43.200001  ...   20.662821 -0.070468        0.025065\n",
              "\n",
              "[5 rows x 16 columns]"
            ]
          },
          "metadata": {
            "tags": []
          },
          "execution_count": 26
        }
      ]
    },
    {
      "cell_type": "code",
      "metadata": {
        "id": "eLOnL5eYh1jR"
      },
      "source": [
        "\n",
        "e_trade_gym.hmax = 2500\n",
        "\n",
        "\n",
        "\n"
      ],
      "execution_count": 27,
      "outputs": []
    },
    {
      "cell_type": "code",
      "metadata": {
        "id": "UynXV1tk-wp4",
        "outputId": "dc485e36-9005-4c24-b485-67100af5df8d",
        "colab": {
          "base_uri": "https://localhost:8080/"
        }
      },
      "source": [
        "print(len(e_trade_gym.dates))"
      ],
      "execution_count": 28,
      "outputs": [
        {
          "output_type": "stream",
          "text": [
            "505\n"
          ],
          "name": "stdout"
        }
      ]
    },
    {
      "cell_type": "code",
      "metadata": {
        "id": "Uy1J617U-wp5",
        "outputId": "dc09ef64-ee42-49f3-a207-2db4e2012970",
        "colab": {
          "base_uri": "https://localhost:8080/",
          "height": 186
        }
      },
      "source": [
        "df_account_value, df_actions = DRLAgent.DRL_prediction(model=model,environment = e_trade_gym)"
      ],
      "execution_count": 2,
      "outputs": [
        {
          "output_type": "error",
          "ename": "NameError",
          "evalue": "ignored",
          "traceback": [
            "\u001b[0;31m---------------------------------------------------------------------------\u001b[0m",
            "\u001b[0;31mNameError\u001b[0m                                 Traceback (most recent call last)",
            "\u001b[0;32m<ipython-input-2-86e321e5d478>\u001b[0m in \u001b[0;36m<module>\u001b[0;34m()\u001b[0m\n\u001b[0;32m----> 1\u001b[0;31m \u001b[0mdf_account_value\u001b[0m\u001b[0;34m,\u001b[0m \u001b[0mdf_actions\u001b[0m \u001b[0;34m=\u001b[0m \u001b[0mDRLAgent\u001b[0m\u001b[0;34m.\u001b[0m\u001b[0mDRL_prediction\u001b[0m\u001b[0;34m(\u001b[0m\u001b[0mmodel\u001b[0m\u001b[0;34m=\u001b[0m\u001b[0mmodel\u001b[0m\u001b[0;34m,\u001b[0m\u001b[0menvironment\u001b[0m \u001b[0;34m=\u001b[0m \u001b[0me_trade_gym\u001b[0m\u001b[0;34m)\u001b[0m\u001b[0;34m\u001b[0m\u001b[0;34m\u001b[0m\u001b[0m\n\u001b[0m",
            "\u001b[0;31mNameError\u001b[0m: name 'DRLAgent' is not defined"
          ]
        }
      ]
    },
    {
      "cell_type": "code",
      "metadata": {
        "colab": {
          "base_uri": "https://localhost:8080/",
          "height": 168
        },
        "id": "ERxw3KqLkcP4",
        "outputId": "8aafac92-5dcc-4dae-924e-953ae8551b5a"
      },
      "source": [
        "df_account_value.shape"
      ],
      "execution_count": 1,
      "outputs": [
        {
          "output_type": "error",
          "ename": "NameError",
          "evalue": "ignored",
          "traceback": [
            "\u001b[0;31m---------------------------------------------------------------------------\u001b[0m",
            "\u001b[0;31mNameError\u001b[0m                                 Traceback (most recent call last)",
            "\u001b[0;32m<ipython-input-1-8a5b2375c4fd>\u001b[0m in \u001b[0;36m<module>\u001b[0;34m()\u001b[0m\n\u001b[0;32m----> 1\u001b[0;31m \u001b[0mdf_account_value\u001b[0m\u001b[0;34m.\u001b[0m\u001b[0mshape\u001b[0m\u001b[0;34m\u001b[0m\u001b[0;34m\u001b[0m\u001b[0m\n\u001b[0m",
            "\u001b[0;31mNameError\u001b[0m: name 'df_account_value' is not defined"
          ]
        }
      ]
    },
    {
      "cell_type": "code",
      "metadata": {
        "id": "2yRkNguY5yvp"
      },
      "source": [
        "df_account_value.head(50)"
      ],
      "execution_count": null,
      "outputs": []
    },
    {
      "cell_type": "markdown",
      "metadata": {
        "id": "W6vvNSC6h1jZ"
      },
      "source": [
        "<a id='6'></a>\n",
        "# Part 7: Backtest Our Strategy\n",
        "Backtesting plays a key role in evaluating the performance of a trading strategy. Automated backtesting tool is preferred because it reduces the human error. We usually use the Quantopian pyfolio package to backtest our trading strategies. It is easy to use and consists of various individual plots that provide a comprehensive image of the performance of a trading strategy."
      ]
    },
    {
      "cell_type": "markdown",
      "metadata": {
        "id": "Lr2zX7ZxNyFQ"
      },
      "source": [
        "<a id='6.1'></a>\n",
        "## 7.1 BackTestStats\n",
        "pass in df_account_value, this information is stored in env class\n"
      ]
    },
    {
      "cell_type": "code",
      "metadata": {
        "id": "Nzkr9yv-AdV_"
      },
      "source": [
        "print(\"==============Get Backtest Results===========\")\n",
        "perf_stats_all = backtest_stats(account_value=df_account_value, value_col_name = 'total_assets')"
      ],
      "execution_count": null,
      "outputs": []
    },
    {
      "cell_type": "markdown",
      "metadata": {
        "id": "9U6Suru3h1jc"
      },
      "source": [
        "<a id='6.2'></a>\n",
        "## 7.2 BackTestPlot"
      ]
    },
    {
      "cell_type": "code",
      "metadata": {
        "id": "lKRGftSS7pNM"
      },
      "source": [
        "print(\"==============Compare to DJIA===========\")\n",
        "%matplotlib inline\n",
        "# S&P 500: ^GSPC\n",
        "# Dow Jones Index: ^DJI\n",
        "# NASDAQ 100: ^NDX\n",
        "backtest_plot(df_account_value, \n",
        "             baseline_ticker = '^DJI', \n",
        "             baseline_start = '2019-01-01',\n",
        "             baseline_end = '2021-01-01', value_col_name = 'total_assets')"
      ],
      "execution_count": null,
      "outputs": []
    },
    {
      "cell_type": "code",
      "metadata": {
        "id": "btv3b3q1-wp6"
      },
      "source": [
        ""
      ],
      "execution_count": null,
      "outputs": []
    }
  ]
}