{
  "nbformat": 4,
  "nbformat_minor": 0,
  "metadata": {
    "colab": {
      "name": "tutorial_env_multistock_cashpenalty.ipynb",
      "provenance": [],
      "collapsed_sections": [
        "uijiWgkuh1jB"
      ]
    },
    "kernelspec": {
      "display_name": "Python 3",
      "language": "python",
      "name": "python3"
    },
    "language_info": {
      "codemirror_mode": {
        "name": "ipython",
        "version": 3
      },
      "file_extension": ".py",
      "mimetype": "text/x-python",
      "name": "python",
      "nbconvert_exporter": "python",
      "pygments_lexer": "ipython3",
      "version": "3.6.12"
    },
    "pycharm": {
      "stem_cell": {
        "cell_type": "raw",
        "metadata": {
          "collapsed": false
        },
        "source": []
      }
    },
    "accelerator": "GPU"
  },
  "cells": [
    {
      "cell_type": "code",
      "metadata": {
        "id": "qmY71e44TPCs",
        "colab": {
          "base_uri": "https://localhost:8080/"
        },
        "outputId": "f43418aa-5611-4354-c803-aef198e935a9"
      },
      "source": [
        "!pip install git+https://github.com/AI4Finance-LLC/FinRL-Library.git"
      ],
      "execution_count": 1,
      "outputs": [
        {
          "output_type": "stream",
          "text": [
            "Collecting git+https://github.com/AI4Finance-LLC/FinRL-Library.git\n",
            "  Cloning https://github.com/AI4Finance-LLC/FinRL-Library.git to /tmp/pip-req-build-cwxbxjrv\n",
            "  Running command git clone -q https://github.com/AI4Finance-LLC/FinRL-Library.git /tmp/pip-req-build-cwxbxjrv\n",
            "Collecting pyfolio@ git+https://github.com/quantopian/pyfolio.git#egg=pyfolio-0.9.2\n",
            "  Cloning https://github.com/quantopian/pyfolio.git to /tmp/pip-install-u3hbjo29/pyfolio_46ddeae1be264e85b92257bda3c40993\n",
            "  Running command git clone -q https://github.com/quantopian/pyfolio.git /tmp/pip-install-u3hbjo29/pyfolio_46ddeae1be264e85b92257bda3c40993\n",
            "Requirement already satisfied: numpy>=1.17.3 in /usr/local/lib/python3.7/dist-packages (from finrl==0.3.0) (1.19.5)\n",
            "Requirement already satisfied: pandas>=1.1.5 in /usr/local/lib/python3.7/dist-packages (from finrl==0.3.0) (1.1.5)\n",
            "Collecting stockstats\n",
            "  Downloading stockstats-0.3.2-py2.py3-none-any.whl (13 kB)\n",
            "Collecting yfinance\n",
            "  Downloading yfinance-0.1.63.tar.gz (26 kB)\n",
            "Requirement already satisfied: matplotlib in /usr/local/lib/python3.7/dist-packages (from finrl==0.3.0) (3.2.2)\n",
            "Requirement already satisfied: scikit-learn>=0.21.0 in /usr/local/lib/python3.7/dist-packages (from finrl==0.3.0) (0.22.2.post1)\n",
            "Requirement already satisfied: gym>=0.17 in /usr/local/lib/python3.7/dist-packages (from finrl==0.3.0) (0.17.3)\n",
            "Collecting stable-baselines3[extra]\n",
            "  Downloading stable_baselines3-1.1.0-py3-none-any.whl (172 kB)\n",
            "\u001b[K     |████████████████████████████████| 172 kB 8.0 MB/s \n",
            "\u001b[?25hRequirement already satisfied: pytest in /usr/local/lib/python3.7/dist-packages (from finrl==0.3.0) (3.6.4)\n",
            "Requirement already satisfied: setuptools>=41.4.0 in /usr/local/lib/python3.7/dist-packages (from finrl==0.3.0) (57.4.0)\n",
            "Requirement already satisfied: wheel>=0.33.6 in /usr/local/lib/python3.7/dist-packages (from finrl==0.3.0) (0.37.0)\n",
            "Requirement already satisfied: ipython>=3.2.3 in /usr/local/lib/python3.7/dist-packages (from pyfolio@ git+https://github.com/quantopian/pyfolio.git#egg=pyfolio-0.9.2->finrl==0.3.0) (5.5.0)\n",
            "Requirement already satisfied: pytz>=2014.10 in /usr/local/lib/python3.7/dist-packages (from pyfolio@ git+https://github.com/quantopian/pyfolio.git#egg=pyfolio-0.9.2->finrl==0.3.0) (2018.9)\n",
            "Requirement already satisfied: scipy>=0.14.0 in /usr/local/lib/python3.7/dist-packages (from pyfolio@ git+https://github.com/quantopian/pyfolio.git#egg=pyfolio-0.9.2->finrl==0.3.0) (1.4.1)\n",
            "Requirement already satisfied: seaborn>=0.7.1 in /usr/local/lib/python3.7/dist-packages (from pyfolio@ git+https://github.com/quantopian/pyfolio.git#egg=pyfolio-0.9.2->finrl==0.3.0) (0.11.1)\n",
            "Collecting empyrical>=0.5.0\n",
            "  Downloading empyrical-0.5.5.tar.gz (52 kB)\n",
            "\u001b[K     |████████████████████████████████| 52 kB 1.9 MB/s \n",
            "\u001b[?25hRequirement already satisfied: pandas-datareader>=0.2 in /usr/local/lib/python3.7/dist-packages (from empyrical>=0.5.0->pyfolio@ git+https://github.com/quantopian/pyfolio.git#egg=pyfolio-0.9.2->finrl==0.3.0) (0.9.0)\n",
            "Requirement already satisfied: pyglet<=1.5.0,>=1.4.0 in /usr/local/lib/python3.7/dist-packages (from gym>=0.17->finrl==0.3.0) (1.5.0)\n",
            "Requirement already satisfied: cloudpickle<1.7.0,>=1.2.0 in /usr/local/lib/python3.7/dist-packages (from gym>=0.17->finrl==0.3.0) (1.3.0)\n",
            "Requirement already satisfied: traitlets>=4.2 in /usr/local/lib/python3.7/dist-packages (from ipython>=3.2.3->pyfolio@ git+https://github.com/quantopian/pyfolio.git#egg=pyfolio-0.9.2->finrl==0.3.0) (5.0.5)\n",
            "Requirement already satisfied: decorator in /usr/local/lib/python3.7/dist-packages (from ipython>=3.2.3->pyfolio@ git+https://github.com/quantopian/pyfolio.git#egg=pyfolio-0.9.2->finrl==0.3.0) (4.4.2)\n",
            "Requirement already satisfied: pexpect in /usr/local/lib/python3.7/dist-packages (from ipython>=3.2.3->pyfolio@ git+https://github.com/quantopian/pyfolio.git#egg=pyfolio-0.9.2->finrl==0.3.0) (4.8.0)\n",
            "Requirement already satisfied: prompt-toolkit<2.0.0,>=1.0.4 in /usr/local/lib/python3.7/dist-packages (from ipython>=3.2.3->pyfolio@ git+https://github.com/quantopian/pyfolio.git#egg=pyfolio-0.9.2->finrl==0.3.0) (1.0.18)\n",
            "Requirement already satisfied: simplegeneric>0.8 in /usr/local/lib/python3.7/dist-packages (from ipython>=3.2.3->pyfolio@ git+https://github.com/quantopian/pyfolio.git#egg=pyfolio-0.9.2->finrl==0.3.0) (0.8.1)\n",
            "Requirement already satisfied: pygments in /usr/local/lib/python3.7/dist-packages (from ipython>=3.2.3->pyfolio@ git+https://github.com/quantopian/pyfolio.git#egg=pyfolio-0.9.2->finrl==0.3.0) (2.6.1)\n",
            "Requirement already satisfied: pickleshare in /usr/local/lib/python3.7/dist-packages (from ipython>=3.2.3->pyfolio@ git+https://github.com/quantopian/pyfolio.git#egg=pyfolio-0.9.2->finrl==0.3.0) (0.7.5)\n",
            "Requirement already satisfied: kiwisolver>=1.0.1 in /usr/local/lib/python3.7/dist-packages (from matplotlib->finrl==0.3.0) (1.3.1)\n",
            "Requirement already satisfied: python-dateutil>=2.1 in /usr/local/lib/python3.7/dist-packages (from matplotlib->finrl==0.3.0) (2.8.2)\n",
            "Requirement already satisfied: pyparsing!=2.0.4,!=2.1.2,!=2.1.6,>=2.0.1 in /usr/local/lib/python3.7/dist-packages (from matplotlib->finrl==0.3.0) (2.4.7)\n",
            "Requirement already satisfied: cycler>=0.10 in /usr/local/lib/python3.7/dist-packages (from matplotlib->finrl==0.3.0) (0.10.0)\n",
            "Requirement already satisfied: six in /usr/local/lib/python3.7/dist-packages (from cycler>=0.10->matplotlib->finrl==0.3.0) (1.15.0)\n",
            "Requirement already satisfied: lxml in /usr/local/lib/python3.7/dist-packages (from pandas-datareader>=0.2->empyrical>=0.5.0->pyfolio@ git+https://github.com/quantopian/pyfolio.git#egg=pyfolio-0.9.2->finrl==0.3.0) (4.2.6)\n",
            "Requirement already satisfied: requests>=2.19.0 in /usr/local/lib/python3.7/dist-packages (from pandas-datareader>=0.2->empyrical>=0.5.0->pyfolio@ git+https://github.com/quantopian/pyfolio.git#egg=pyfolio-0.9.2->finrl==0.3.0) (2.23.0)\n",
            "Requirement already satisfied: wcwidth in /usr/local/lib/python3.7/dist-packages (from prompt-toolkit<2.0.0,>=1.0.4->ipython>=3.2.3->pyfolio@ git+https://github.com/quantopian/pyfolio.git#egg=pyfolio-0.9.2->finrl==0.3.0) (0.2.5)\n",
            "Requirement already satisfied: future in /usr/local/lib/python3.7/dist-packages (from pyglet<=1.5.0,>=1.4.0->gym>=0.17->finrl==0.3.0) (0.16.0)\n",
            "Requirement already satisfied: certifi>=2017.4.17 in /usr/local/lib/python3.7/dist-packages (from requests>=2.19.0->pandas-datareader>=0.2->empyrical>=0.5.0->pyfolio@ git+https://github.com/quantopian/pyfolio.git#egg=pyfolio-0.9.2->finrl==0.3.0) (2021.5.30)\n",
            "Requirement already satisfied: urllib3!=1.25.0,!=1.25.1,<1.26,>=1.21.1 in /usr/local/lib/python3.7/dist-packages (from requests>=2.19.0->pandas-datareader>=0.2->empyrical>=0.5.0->pyfolio@ git+https://github.com/quantopian/pyfolio.git#egg=pyfolio-0.9.2->finrl==0.3.0) (1.24.3)\n",
            "Requirement already satisfied: chardet<4,>=3.0.2 in /usr/local/lib/python3.7/dist-packages (from requests>=2.19.0->pandas-datareader>=0.2->empyrical>=0.5.0->pyfolio@ git+https://github.com/quantopian/pyfolio.git#egg=pyfolio-0.9.2->finrl==0.3.0) (3.0.4)\n",
            "Requirement already satisfied: idna<3,>=2.5 in /usr/local/lib/python3.7/dist-packages (from requests>=2.19.0->pandas-datareader>=0.2->empyrical>=0.5.0->pyfolio@ git+https://github.com/quantopian/pyfolio.git#egg=pyfolio-0.9.2->finrl==0.3.0) (2.10)\n",
            "Requirement already satisfied: joblib>=0.11 in /usr/local/lib/python3.7/dist-packages (from scikit-learn>=0.21.0->finrl==0.3.0) (1.0.1)\n",
            "Requirement already satisfied: ipython-genutils in /usr/local/lib/python3.7/dist-packages (from traitlets>=4.2->ipython>=3.2.3->pyfolio@ git+https://github.com/quantopian/pyfolio.git#egg=pyfolio-0.9.2->finrl==0.3.0) (0.2.0)\n",
            "Requirement already satisfied: ptyprocess>=0.5 in /usr/local/lib/python3.7/dist-packages (from pexpect->ipython>=3.2.3->pyfolio@ git+https://github.com/quantopian/pyfolio.git#egg=pyfolio-0.9.2->finrl==0.3.0) (0.7.0)\n",
            "Requirement already satisfied: attrs>=17.4.0 in /usr/local/lib/python3.7/dist-packages (from pytest->finrl==0.3.0) (21.2.0)\n",
            "Requirement already satisfied: more-itertools>=4.0.0 in /usr/local/lib/python3.7/dist-packages (from pytest->finrl==0.3.0) (8.8.0)\n",
            "Requirement already satisfied: py>=1.5.0 in /usr/local/lib/python3.7/dist-packages (from pytest->finrl==0.3.0) (1.10.0)\n",
            "Requirement already satisfied: pluggy<0.8,>=0.5 in /usr/local/lib/python3.7/dist-packages (from pytest->finrl==0.3.0) (0.7.1)\n",
            "Requirement already satisfied: atomicwrites>=1.0 in /usr/local/lib/python3.7/dist-packages (from pytest->finrl==0.3.0) (1.4.0)\n",
            "Requirement already satisfied: torch>=1.4.0 in /usr/local/lib/python3.7/dist-packages (from stable-baselines3[extra]->finrl==0.3.0) (1.9.0+cu102)\n",
            "Requirement already satisfied: atari-py~=0.2.0 in /usr/local/lib/python3.7/dist-packages (from stable-baselines3[extra]->finrl==0.3.0) (0.2.9)\n",
            "Requirement already satisfied: psutil in /usr/local/lib/python3.7/dist-packages (from stable-baselines3[extra]->finrl==0.3.0) (5.4.8)\n",
            "Requirement already satisfied: tensorboard>=2.2.0 in /usr/local/lib/python3.7/dist-packages (from stable-baselines3[extra]->finrl==0.3.0) (2.6.0)\n",
            "Requirement already satisfied: opencv-python in /usr/local/lib/python3.7/dist-packages (from stable-baselines3[extra]->finrl==0.3.0) (4.1.2.30)\n",
            "Requirement already satisfied: pillow in /usr/local/lib/python3.7/dist-packages (from stable-baselines3[extra]->finrl==0.3.0) (7.1.2)\n",
            "Requirement already satisfied: grpcio>=1.24.3 in /usr/local/lib/python3.7/dist-packages (from tensorboard>=2.2.0->stable-baselines3[extra]->finrl==0.3.0) (1.39.0)\n",
            "Requirement already satisfied: protobuf>=3.6.0 in /usr/local/lib/python3.7/dist-packages (from tensorboard>=2.2.0->stable-baselines3[extra]->finrl==0.3.0) (3.17.3)\n",
            "Requirement already satisfied: absl-py>=0.4 in /usr/local/lib/python3.7/dist-packages (from tensorboard>=2.2.0->stable-baselines3[extra]->finrl==0.3.0) (0.12.0)\n",
            "Requirement already satisfied: tensorboard-plugin-wit>=1.6.0 in /usr/local/lib/python3.7/dist-packages (from tensorboard>=2.2.0->stable-baselines3[extra]->finrl==0.3.0) (1.8.0)\n",
            "Requirement already satisfied: google-auth-oauthlib<0.5,>=0.4.1 in /usr/local/lib/python3.7/dist-packages (from tensorboard>=2.2.0->stable-baselines3[extra]->finrl==0.3.0) (0.4.5)\n",
            "Requirement already satisfied: markdown>=2.6.8 in /usr/local/lib/python3.7/dist-packages (from tensorboard>=2.2.0->stable-baselines3[extra]->finrl==0.3.0) (3.3.4)\n",
            "Requirement already satisfied: werkzeug>=0.11.15 in /usr/local/lib/python3.7/dist-packages (from tensorboard>=2.2.0->stable-baselines3[extra]->finrl==0.3.0) (1.0.1)\n",
            "Requirement already satisfied: google-auth<2,>=1.6.3 in /usr/local/lib/python3.7/dist-packages (from tensorboard>=2.2.0->stable-baselines3[extra]->finrl==0.3.0) (1.34.0)\n",
            "Requirement already satisfied: tensorboard-data-server<0.7.0,>=0.6.0 in /usr/local/lib/python3.7/dist-packages (from tensorboard>=2.2.0->stable-baselines3[extra]->finrl==0.3.0) (0.6.1)\n",
            "Requirement already satisfied: pyasn1-modules>=0.2.1 in /usr/local/lib/python3.7/dist-packages (from google-auth<2,>=1.6.3->tensorboard>=2.2.0->stable-baselines3[extra]->finrl==0.3.0) (0.2.8)\n",
            "Requirement already satisfied: cachetools<5.0,>=2.0.0 in /usr/local/lib/python3.7/dist-packages (from google-auth<2,>=1.6.3->tensorboard>=2.2.0->stable-baselines3[extra]->finrl==0.3.0) (4.2.2)\n",
            "Requirement already satisfied: rsa<5,>=3.1.4 in /usr/local/lib/python3.7/dist-packages (from google-auth<2,>=1.6.3->tensorboard>=2.2.0->stable-baselines3[extra]->finrl==0.3.0) (4.7.2)\n",
            "Requirement already satisfied: requests-oauthlib>=0.7.0 in /usr/local/lib/python3.7/dist-packages (from google-auth-oauthlib<0.5,>=0.4.1->tensorboard>=2.2.0->stable-baselines3[extra]->finrl==0.3.0) (1.3.0)\n",
            "Requirement already satisfied: importlib-metadata in /usr/local/lib/python3.7/dist-packages (from markdown>=2.6.8->tensorboard>=2.2.0->stable-baselines3[extra]->finrl==0.3.0) (4.6.3)\n",
            "Requirement already satisfied: pyasn1<0.5.0,>=0.4.6 in /usr/local/lib/python3.7/dist-packages (from pyasn1-modules>=0.2.1->google-auth<2,>=1.6.3->tensorboard>=2.2.0->stable-baselines3[extra]->finrl==0.3.0) (0.4.8)\n",
            "Requirement already satisfied: oauthlib>=3.0.0 in /usr/local/lib/python3.7/dist-packages (from requests-oauthlib>=0.7.0->google-auth-oauthlib<0.5,>=0.4.1->tensorboard>=2.2.0->stable-baselines3[extra]->finrl==0.3.0) (3.1.1)\n",
            "Requirement already satisfied: typing-extensions in /usr/local/lib/python3.7/dist-packages (from torch>=1.4.0->stable-baselines3[extra]->finrl==0.3.0) (3.7.4.3)\n",
            "Requirement already satisfied: zipp>=0.5 in /usr/local/lib/python3.7/dist-packages (from importlib-metadata->markdown>=2.6.8->tensorboard>=2.2.0->stable-baselines3[extra]->finrl==0.3.0) (3.5.0)\n",
            "Collecting int-date>=0.1.7\n",
            "  Downloading int_date-0.1.8-py2.py3-none-any.whl (5.0 kB)\n",
            "Requirement already satisfied: multitasking>=0.0.7 in /usr/local/lib/python3.7/dist-packages (from yfinance->finrl==0.3.0) (0.0.9)\n",
            "Collecting lxml\n",
            "  Downloading lxml-4.6.3-cp37-cp37m-manylinux2014_x86_64.whl (6.3 MB)\n",
            "\u001b[K     |████████████████████████████████| 6.3 MB 37.3 MB/s \n",
            "\u001b[?25hBuilding wheels for collected packages: finrl, pyfolio, empyrical, yfinance\n",
            "  Building wheel for finrl (setup.py) ... \u001b[?25l\u001b[?25hdone\n",
            "  Created wheel for finrl: filename=finrl-0.3.0-py3-none-any.whl size=66435 sha256=215f5dad5c2f8eb052365745c9ccbd6f1ecb85f63d437078a79ccc0a2d5e7570\n",
            "  Stored in directory: /tmp/pip-ephem-wheel-cache-99oxn2iu/wheels/17/ff/bd/1bc602a0352762b0b24041b88536d803ae343ed0a711fcf55e\n",
            "  Building wheel for pyfolio (setup.py) ... \u001b[?25l\u001b[?25hdone\n",
            "  Created wheel for pyfolio: filename=pyfolio-0.9.2+75.g4b901f6-py3-none-any.whl size=75775 sha256=d293ced7149b244f7ffc169e7365f78da834dfcc7ad0e0251336fa41f0785656\n",
            "  Stored in directory: /tmp/pip-ephem-wheel-cache-99oxn2iu/wheels/ef/09/e5/2c1bf37c050d22557c080deb1be986d06424627c04aeca19b9\n",
            "  Building wheel for empyrical (setup.py) ... \u001b[?25l\u001b[?25hdone\n",
            "  Created wheel for empyrical: filename=empyrical-0.5.5-py3-none-any.whl size=39777 sha256=c8e1e8e84aab138a3490e53476b78104ccad1cfe390b72b910cdf5e903a82e6f\n",
            "  Stored in directory: /root/.cache/pip/wheels/d9/91/4b/654fcff57477efcf149eaca236da2fce991526cbab431bf312\n",
            "  Building wheel for yfinance (setup.py) ... \u001b[?25l\u001b[?25hdone\n",
            "  Created wheel for yfinance: filename=yfinance-0.1.63-py2.py3-none-any.whl size=23918 sha256=bee48bee4435088f2497cdb7bbce6f961a6d40489a78d7dbd61aaead36c2db50\n",
            "  Stored in directory: /root/.cache/pip/wheels/fe/87/8b/7ec24486e001d3926537f5f7801f57a74d181be25b11157983\n",
            "Successfully built finrl pyfolio empyrical yfinance\n",
            "Installing collected packages: lxml, stable-baselines3, int-date, empyrical, yfinance, stockstats, pyfolio, finrl\n",
            "  Attempting uninstall: lxml\n",
            "    Found existing installation: lxml 4.2.6\n",
            "    Uninstalling lxml-4.2.6:\n",
            "      Successfully uninstalled lxml-4.2.6\n",
            "Successfully installed empyrical-0.5.5 finrl-0.3.0 int-date-0.1.8 lxml-4.6.3 pyfolio-0.9.2+75.g4b901f6 stable-baselines3-1.1.0 stockstats-0.3.2 yfinance-0.1.63\n"
          ],
          "name": "stdout"
        }
      ]
    },
    {
      "cell_type": "markdown",
      "metadata": {
        "id": "gXaoZs2lh1hi"
      },
      "source": [
        "# Deep Reinforcement Learning for Stock Trading from Scratch: Multiple Stock Trading\n",
        "\n",
        "Tutorials to use OpenAI DRL to trade multiple stocks in one Jupyter Notebook | Presented at NeurIPS 2020: Deep RL Workshop\n",
        "\n",
        "* This blog is based on our paper: FinRL: A Deep Reinforcement Learning Library for Automated Stock Trading in Quantitative Finance, presented at NeurIPS 2020: Deep RL Workshop.\n",
        "* Check out medium blog for detailed explanations: https://towardsdatascience.com/finrl-for-quantitative-finance-tutorial-for-multiple-stock-trading-7b00763b7530\n",
        "* Please report any issues to our Github: https://github.com/AI4Finance-LLC/FinRL-Library/issues\n",
        "* **Pytorch Version** \n",
        "\n"
      ]
    },
    {
      "cell_type": "markdown",
      "metadata": {
        "id": "lGunVt8oLCVS"
      },
      "source": [
        "# Content"
      ]
    },
    {
      "cell_type": "markdown",
      "metadata": {
        "id": "HOzAKQ-SLGX6"
      },
      "source": [
        "* [1. Problem Definition](#0)\n",
        "* [2. Getting Started - Load Python packages](#1)\n",
        "    * [2.1. Install Packages](#1.1)    \n",
        "    * [2.2. Check Additional Packages](#1.2)\n",
        "    * [2.3. Import Packages](#1.3)\n",
        "    * [2.4. Create Folders](#1.4)\n",
        "* [3. Download Data](#2)\n",
        "* [4. Preprocess Data](#3)        \n",
        "    * [4.1. Technical Indicators](#3.1)\n",
        "    * [4.2. Perform Feature Engineering](#3.2)\n",
        "* [5.Build Environment](#4)  \n",
        "    * [5.1. Training & Trade Data Split](#4.1)\n",
        "    * [5.2. User-defined Environment](#4.2)   \n",
        "    * [5.3. Initialize Environment](#4.3)    \n",
        "* [6.Implement DRL Algorithms](#5)  \n",
        "* [7.Backtesting Performance](#6)  \n",
        "    * [7.1. BackTestStats](#6.1)\n",
        "    * [7.2. BackTestPlot](#6.2)   \n",
        "    * [7.3. Baseline Stats](#6.3)   \n",
        "    * [7.3. Compare to Stock Market Index](#6.4)             "
      ]
    },
    {
      "cell_type": "markdown",
      "metadata": {
        "id": "sApkDlD9LIZv"
      },
      "source": [
        "<a id='0'></a>\n",
        "# Part 1. Problem Definition"
      ]
    },
    {
      "cell_type": "markdown",
      "metadata": {
        "id": "HjLD2TZSLKZ-"
      },
      "source": [
        "This problem is to design an automated trading solution for single stock trading. We model the stock trading process as a Markov Decision Process (MDP). We then formulate our trading goal as a maximization problem.\n",
        "\n",
        "The algorithm is trained using Deep Reinforcement Learning (DRL) algorithms and the components of the reinforcement learning environment are:\n",
        "\n",
        "\n",
        "* Action: The action space describes the allowed actions that the agent interacts with the\n",
        "environment. Normally, a ∈ A includes three actions: a ∈ {−1, 0, 1}, where −1, 0, 1 represent\n",
        "selling, holding, and buying one stock. Also, an action can be carried upon multiple shares. We use\n",
        "an action space {−k, ..., −1, 0, 1, ..., k}, where k denotes the number of shares. For example, \"Buy\n",
        "10 shares of AAPL\" or \"Sell 10 shares of AAPL\" are 10 or −10, respectively\n",
        "\n",
        "* Reward function: r(s, a, s′) is the incentive mechanism for an agent to learn a better action. The change of the portfolio value when action a is taken at state s and arriving at new state s',  i.e., r(s, a, s′) = v′ − v, where v′ and v represent the portfolio\n",
        "values at state s′ and s, respectively\n",
        "\n",
        "* State: The state space describes the observations that the agent receives from the environment. Just as a human trader needs to analyze various information before executing a trade, so\n",
        "our trading agent observes many different features to better learn in an interactive environment.\n",
        "\n",
        "* Environment: Dow 30 consituents\n",
        "\n",
        "\n",
        "The data of the single stock that we will be using for this case study is obtained from Yahoo Finance API. The data contains Open-High-Low-Close price and volume.\n"
      ]
    },
    {
      "cell_type": "markdown",
      "metadata": {
        "id": "Ffsre789LY08"
      },
      "source": [
        "<a id='1'></a>\n",
        "# Part 2. Getting Started- ASSUMES USING DOCKER, see readme for instructions"
      ]
    },
    {
      "cell_type": "markdown",
      "metadata": {
        "id": "Uy5_PTmOh1hj"
      },
      "source": [
        "<a id='1.1'></a>\n",
        "## 2.1. Add FinRL to your path. You can of course install it as a pipy package, but this is for development purposes.\n"
      ]
    },
    {
      "cell_type": "code",
      "metadata": {
        "id": "mPT0ipYE28wL"
      },
      "source": [
        "import sys\n",
        "\n",
        "sys.path.append(\"..\")"
      ],
      "execution_count": 2,
      "outputs": []
    },
    {
      "cell_type": "code",
      "metadata": {
        "id": "0J6czZ7R3fEV",
        "colab": {
          "base_uri": "https://localhost:8080/"
        },
        "outputId": "54188ee8-d587-4f40-ae3a-4f33d8d90c7a"
      },
      "source": [
        "import pandas as pd\n",
        "print(pd.__version__)"
      ],
      "execution_count": 3,
      "outputs": [
        {
          "output_type": "stream",
          "text": [
            "1.1.5\n"
          ],
          "name": "stdout"
        }
      ]
    },
    {
      "cell_type": "markdown",
      "metadata": {
        "id": "osBHhVysOEzi"
      },
      "source": [
        "\n",
        "<a id='1.2'></a>\n",
        "## 2.2. Check if the additional packages needed are present, if not install them. \n",
        "* Yahoo Finance API\n",
        "* pandas\n",
        "* numpy\n",
        "* matplotlib\n",
        "* stockstats\n",
        "* OpenAI gym\n",
        "* stable-baselines\n",
        "* tensorflow\n",
        "* pyfolio"
      ]
    },
    {
      "cell_type": "markdown",
      "metadata": {
        "id": "nGv01K8Sh1hn"
      },
      "source": [
        "<a id='1.3'></a>\n",
        "## 2.3. Import Packages"
      ]
    },
    {
      "cell_type": "code",
      "metadata": {
        "id": "lPqeTTwoh1hn",
        "colab": {
          "base_uri": "https://localhost:8080/"
        },
        "outputId": "91d812fd-b82e-468d-b357-9e41964347b1"
      },
      "source": [
        "import pandas as pd\n",
        "import numpy as np\n",
        "import matplotlib\n",
        "import matplotlib.pyplot as plt\n",
        "matplotlib.use('Agg')\n",
        "%matplotlib inline\n",
        "import datetime\n",
        "\n",
        "from finrl.apps import config\n",
        "from finrl.neo_finrl.preprocessor.yahoodownloader import YahooDownloader\n",
        "from finrl.neo_finrl.preprocessor.preprocessors import FeatureEngineer, data_split\n",
        "from finrl.neo_finrl.env_stock_trading.env_stocktrading_cashpenalty import StockTradingEnvCashpenalty\n",
        "from finrl.drl_agents.stablebaselines3.models import DRLAgent\n",
        "from finrl.plot import backtest_stats, backtest_plot, get_daily_return, get_baseline,convert_daily_return_to_pyfolio_ts\n",
        "\n",
        "\n",
        "import sys\n",
        "sys.path.append(\"../FinRL-Library\")"
      ],
      "execution_count": 4,
      "outputs": [
        {
          "output_type": "stream",
          "text": [
            "/usr/local/lib/python3.7/dist-packages/pyfolio/pos.py:27: UserWarning: Module \"zipline.assets\" not found; multipliers will not be applied to position notionals.\n",
            "  'Module \"zipline.assets\" not found; multipliers will not be applied'\n"
          ],
          "name": "stderr"
        }
      ]
    },
    {
      "cell_type": "markdown",
      "metadata": {
        "id": "T2owTj985RW4"
      },
      "source": [
        "<a id='1.4'></a>\n",
        "## 2.4. Create Folders"
      ]
    },
    {
      "cell_type": "code",
      "metadata": {
        "id": "w9A8CN5R5PuZ"
      },
      "source": [
        "import os\n",
        "if not os.path.exists(\"./\" + config.DATA_SAVE_DIR):\n",
        "    os.makedirs(\"./\" + config.DATA_SAVE_DIR)\n",
        "if not os.path.exists(\"./\" + config.TRAINED_MODEL_DIR):\n",
        "    os.makedirs(\"./\" + config.TRAINED_MODEL_DIR)\n",
        "if not os.path.exists(\"./\" + config.TENSORBOARD_LOG_DIR):\n",
        "    os.makedirs(\"./\" + config.TENSORBOARD_LOG_DIR)\n",
        "if not os.path.exists(\"./\" + config.RESULTS_DIR):\n",
        "    os.makedirs(\"./\" + config.RESULTS_DIR)"
      ],
      "execution_count": 5,
      "outputs": []
    },
    {
      "cell_type": "markdown",
      "metadata": {
        "id": "A289rQWMh1hq"
      },
      "source": [
        "<a id='2'></a>\n",
        "# Part 3. Download Data\n",
        "Yahoo Finance is a website that provides stock data, financial news, financial reports, etc. All the data provided by Yahoo Finance is free.\n",
        "* FinRL uses a class **YahooDownloader** to fetch data from Yahoo Finance API\n",
        "* Call Limit: Using the Public API (without authentication), you are limited to 2,000 requests per hour per IP (or up to a total of 48,000 requests a day).\n"
      ]
    },
    {
      "cell_type": "markdown",
      "metadata": {
        "id": "NPeQ7iS-LoMm"
      },
      "source": [
        "\n",
        "\n",
        "-----\n",
        "class YahooDownloader:\n",
        "    Provides methods for retrieving daily stock data from\n",
        "    Yahoo Finance API\n",
        "\n",
        "    Attributes\n",
        "    ----------\n",
        "        start_date : str\n",
        "            start date of the data (modified from config.py)\n",
        "        end_date : str\n",
        "            end date of the data (modified from config.py)\n",
        "        ticker_list : list\n",
        "            a list of stock tickers (modified from config.py)\n",
        "\n",
        "    Methods\n",
        "    -------\n",
        "    fetch_data()\n",
        "        Fetches data from yahoo API\n"
      ]
    },
    {
      "cell_type": "code",
      "metadata": {
        "colab": {
          "base_uri": "https://localhost:8080/",
          "height": 34
        },
        "id": "h3XJnvrbLp-C",
        "outputId": "4468b4e2-c14e-4e89-981d-38c6f8bd0ee8"
      },
      "source": [
        "# from config.py start_date is a string\n",
        "config.START_DATE"
      ],
      "execution_count": 6,
      "outputs": [
        {
          "output_type": "execute_result",
          "data": {
            "application/vnd.google.colaboratory.intrinsic+json": {
              "type": "string"
            },
            "text/plain": [
              "'2009-01-01'"
            ]
          },
          "metadata": {
            "tags": []
          },
          "execution_count": 6
        }
      ]
    },
    {
      "cell_type": "code",
      "metadata": {
        "colab": {
          "base_uri": "https://localhost:8080/",
          "height": 34
        },
        "id": "FUnY8WEfLq3C",
        "outputId": "2950fd55-3dfb-4f69-d86e-2c75a501736e"
      },
      "source": [
        "# from config.py end_date is a string\n",
        "config.END_DATE"
      ],
      "execution_count": 7,
      "outputs": [
        {
          "output_type": "execute_result",
          "data": {
            "application/vnd.google.colaboratory.intrinsic+json": {
              "type": "string"
            },
            "text/plain": [
              "'2021-01-01'"
            ]
          },
          "metadata": {
            "tags": []
          },
          "execution_count": 7
        }
      ]
    },
    {
      "cell_type": "code",
      "metadata": {
        "colab": {
          "base_uri": "https://localhost:8080/"
        },
        "id": "JzqRRTOX6aFu",
        "outputId": "f286c49a-8667-425f-93eb-f461e5e1a8b2"
      },
      "source": [
        "print(config.DOW_30_TICKER)"
      ],
      "execution_count": 8,
      "outputs": [
        {
          "output_type": "stream",
          "text": [
            "['AAPL', 'MSFT', 'JPM', 'V', 'RTX', 'PG', 'GS', 'NKE', 'DIS', 'AXP', 'HD', 'INTC', 'WMT', 'IBM', 'MRK', 'UNH', 'KO', 'CAT', 'TRV', 'JNJ', 'CVX', 'MCD', 'VZ', 'CSCO', 'XOM', 'BA', 'MMM', 'PFE', 'WBA', 'DD']\n"
          ],
          "name": "stdout"
        }
      ]
    },
    {
      "cell_type": "code",
      "metadata": {
        "colab": {
          "base_uri": "https://localhost:8080/"
        },
        "id": "yCKm4om-s9kE",
        "outputId": "1250f26a-197d-4727-825e-0cc5fcc10071"
      },
      "source": [
        "tickers = ['IBM', 'JNJ', 'CSCO', 'NKE', 'MCD']\n",
        "\n",
        "df = YahooDownloader(start_date = '2009-01-01',\n",
        "                     end_date = '2021-01-01',\n",
        "                     ticker_list = tickers).fetch_data()"
      ],
      "execution_count": 9,
      "outputs": [
        {
          "output_type": "stream",
          "text": [
            "[*********************100%***********************]  1 of 1 completed\n",
            "[*********************100%***********************]  1 of 1 completed\n",
            "[*********************100%***********************]  1 of 1 completed\n",
            "[*********************100%***********************]  1 of 1 completed\n",
            "[*********************100%***********************]  1 of 1 completed\n",
            "Shape of DataFrame:  (15105, 8)\n"
          ],
          "name": "stdout"
        }
      ]
    },
    {
      "cell_type": "markdown",
      "metadata": {
        "id": "uqC6c40Zh1iH"
      },
      "source": [
        "# Part 4: Preprocess Data\n",
        "Data preprocessing is a crucial step for training a high quality machine learning model. We need to check for missing data and do feature engineering in order to convert the data into a model-ready state.\n",
        "* Add technical indicators. In practical trading, various information needs to be taken into account, for example the historical stock prices, current holding shares, technical indicators, etc. In this article, we demonstrate two trend-following technical indicators: MACD and RSI.\n",
        "* Add turbulence index. Risk-aversion reflects whether an investor will choose to preserve the capital. It also influences one's trading strategy when facing different market volatility level. To control the risk in a worst-case scenario, such as financial crisis of 2007–2008, FinRL employs the financial turbulence index that measures extreme asset price fluctuation."
      ]
    },
    {
      "cell_type": "code",
      "metadata": {
        "jupyter": {
          "outputs_hidden": false
        },
        "pycharm": {
          "name": "#%%\n"
        },
        "id": "xzijKkDF3fEY",
        "colab": {
          "base_uri": "https://localhost:8080/"
        },
        "outputId": "543bdd99-edd8-4d8d-ede2-7af3aa51fcf9"
      },
      "source": [
        "fe = FeatureEngineer(\n",
        "                    use_technical_indicator=True,\n",
        "                    tech_indicator_list = config.TECHNICAL_INDICATORS_LIST,\n",
        "                    use_turbulence=False,\n",
        "                    user_defined_feature = False)\n",
        "\n",
        "processed = fe.preprocess_data(df)"
      ],
      "execution_count": 10,
      "outputs": [
        {
          "output_type": "stream",
          "text": [
            "Successfully added technical indicators\n"
          ],
          "name": "stdout"
        }
      ]
    },
    {
      "cell_type": "code",
      "metadata": {
        "id": "BbYbbrZA3fEY",
        "colab": {
          "base_uri": "https://localhost:8080/",
          "height": 206
        },
        "outputId": "cac54cdb-72ff-43d9-8fe5-8e339a0c6e7c"
      },
      "source": [
        "processed['log_volume'] = np.log(processed.volume*processed.close)\n",
        "processed['change'] = (processed.close-processed.open)/processed.close\n",
        "processed['daily_variance'] = (processed.high-processed.low)/processed.close\n",
        "processed = processed.sort_values(['date','tic'],ignore_index=True)\n",
        "\n",
        "processed.head()"
      ],
      "execution_count": 11,
      "outputs": [
        {
          "output_type": "execute_result",
          "data": {
            "text/html": [
              "<div>\n",
              "<style scoped>\n",
              "    .dataframe tbody tr th:only-of-type {\n",
              "        vertical-align: middle;\n",
              "    }\n",
              "\n",
              "    .dataframe tbody tr th {\n",
              "        vertical-align: top;\n",
              "    }\n",
              "\n",
              "    .dataframe thead th {\n",
              "        text-align: right;\n",
              "    }\n",
              "</style>\n",
              "<table border=\"1\" class=\"dataframe\">\n",
              "  <thead>\n",
              "    <tr style=\"text-align: right;\">\n",
              "      <th></th>\n",
              "      <th>date</th>\n",
              "      <th>open</th>\n",
              "      <th>high</th>\n",
              "      <th>low</th>\n",
              "      <th>close</th>\n",
              "      <th>volume</th>\n",
              "      <th>tic</th>\n",
              "      <th>day</th>\n",
              "      <th>macd</th>\n",
              "      <th>rsi_30</th>\n",
              "      <th>cci_30</th>\n",
              "      <th>dx_30</th>\n",
              "      <th>log_volume</th>\n",
              "      <th>change</th>\n",
              "      <th>daily_variance</th>\n",
              "    </tr>\n",
              "  </thead>\n",
              "  <tbody>\n",
              "    <tr>\n",
              "      <th>0</th>\n",
              "      <td>2009-01-02</td>\n",
              "      <td>16.410000</td>\n",
              "      <td>17.000000</td>\n",
              "      <td>16.250000</td>\n",
              "      <td>12.505757</td>\n",
              "      <td>40980600</td>\n",
              "      <td>CSCO</td>\n",
              "      <td>4</td>\n",
              "      <td>0.0</td>\n",
              "      <td>100.0</td>\n",
              "      <td>66.666667</td>\n",
              "      <td>100.0</td>\n",
              "      <td>20.054798</td>\n",
              "      <td>-0.312196</td>\n",
              "      <td>0.059972</td>\n",
              "    </tr>\n",
              "    <tr>\n",
              "      <th>1</th>\n",
              "      <td>2009-01-02</td>\n",
              "      <td>83.889999</td>\n",
              "      <td>87.589996</td>\n",
              "      <td>83.889999</td>\n",
              "      <td>58.506676</td>\n",
              "      <td>7558200</td>\n",
              "      <td>IBM</td>\n",
              "      <td>4</td>\n",
              "      <td>0.0</td>\n",
              "      <td>100.0</td>\n",
              "      <td>66.666667</td>\n",
              "      <td>100.0</td>\n",
              "      <td>19.907284</td>\n",
              "      <td>-0.433853</td>\n",
              "      <td>0.063241</td>\n",
              "    </tr>\n",
              "    <tr>\n",
              "      <th>2</th>\n",
              "      <td>2009-01-02</td>\n",
              "      <td>60.130001</td>\n",
              "      <td>61.000000</td>\n",
              "      <td>59.040001</td>\n",
              "      <td>41.743183</td>\n",
              "      <td>11638900</td>\n",
              "      <td>JNJ</td>\n",
              "      <td>4</td>\n",
              "      <td>0.0</td>\n",
              "      <td>100.0</td>\n",
              "      <td>66.666667</td>\n",
              "      <td>100.0</td>\n",
              "      <td>20.001400</td>\n",
              "      <td>-0.440475</td>\n",
              "      <td>0.046954</td>\n",
              "    </tr>\n",
              "    <tr>\n",
              "      <th>3</th>\n",
              "      <td>2009-01-02</td>\n",
              "      <td>62.380001</td>\n",
              "      <td>64.129997</td>\n",
              "      <td>62.200001</td>\n",
              "      <td>44.068787</td>\n",
              "      <td>8652700</td>\n",
              "      <td>MCD</td>\n",
              "      <td>4</td>\n",
              "      <td>0.0</td>\n",
              "      <td>100.0</td>\n",
              "      <td>66.666667</td>\n",
              "      <td>100.0</td>\n",
              "      <td>19.759134</td>\n",
              "      <td>-0.415514</td>\n",
              "      <td>0.043795</td>\n",
              "    </tr>\n",
              "    <tr>\n",
              "      <th>4</th>\n",
              "      <td>2009-01-02</td>\n",
              "      <td>12.737500</td>\n",
              "      <td>13.400000</td>\n",
              "      <td>12.577500</td>\n",
              "      <td>11.302903</td>\n",
              "      <td>12028800</td>\n",
              "      <td>NKE</td>\n",
              "      <td>4</td>\n",
              "      <td>0.0</td>\n",
              "      <td>100.0</td>\n",
              "      <td>66.666667</td>\n",
              "      <td>100.0</td>\n",
              "      <td>18.727874</td>\n",
              "      <td>-0.126923</td>\n",
              "      <td>0.072769</td>\n",
              "    </tr>\n",
              "  </tbody>\n",
              "</table>\n",
              "</div>"
            ],
            "text/plain": [
              "         date       open       high  ...  log_volume    change  daily_variance\n",
              "0  2009-01-02  16.410000  17.000000  ...   20.054798 -0.312196        0.059972\n",
              "1  2009-01-02  83.889999  87.589996  ...   19.907284 -0.433853        0.063241\n",
              "2  2009-01-02  60.130001  61.000000  ...   20.001400 -0.440475        0.046954\n",
              "3  2009-01-02  62.380001  64.129997  ...   19.759134 -0.415514        0.043795\n",
              "4  2009-01-02  12.737500  13.400000  ...   18.727874 -0.126923        0.072769\n",
              "\n",
              "[5 rows x 15 columns]"
            ]
          },
          "metadata": {
            "tags": []
          },
          "execution_count": 11
        }
      ]
    },
    {
      "cell_type": "code",
      "metadata": {
        "id": "6Sgw_v3SUqCw",
        "colab": {
          "base_uri": "https://localhost:8080/",
          "height": 206
        },
        "outputId": "d2129a21-24b3-4764-fa88-46aa44f0879e"
      },
      "source": [
        "processed.tail()"
      ],
      "execution_count": 12,
      "outputs": [
        {
          "output_type": "execute_result",
          "data": {
            "text/html": [
              "<div>\n",
              "<style scoped>\n",
              "    .dataframe tbody tr th:only-of-type {\n",
              "        vertical-align: middle;\n",
              "    }\n",
              "\n",
              "    .dataframe tbody tr th {\n",
              "        vertical-align: top;\n",
              "    }\n",
              "\n",
              "    .dataframe thead th {\n",
              "        text-align: right;\n",
              "    }\n",
              "</style>\n",
              "<table border=\"1\" class=\"dataframe\">\n",
              "  <thead>\n",
              "    <tr style=\"text-align: right;\">\n",
              "      <th></th>\n",
              "      <th>date</th>\n",
              "      <th>open</th>\n",
              "      <th>high</th>\n",
              "      <th>low</th>\n",
              "      <th>close</th>\n",
              "      <th>volume</th>\n",
              "      <th>tic</th>\n",
              "      <th>day</th>\n",
              "      <th>macd</th>\n",
              "      <th>rsi_30</th>\n",
              "      <th>cci_30</th>\n",
              "      <th>dx_30</th>\n",
              "      <th>log_volume</th>\n",
              "      <th>change</th>\n",
              "      <th>daily_variance</th>\n",
              "    </tr>\n",
              "  </thead>\n",
              "  <tbody>\n",
              "    <tr>\n",
              "      <th>15100</th>\n",
              "      <td>2020-12-31</td>\n",
              "      <td>44.380001</td>\n",
              "      <td>44.840000</td>\n",
              "      <td>44.160000</td>\n",
              "      <td>43.768875</td>\n",
              "      <td>15105500</td>\n",
              "      <td>CSCO</td>\n",
              "      <td>3</td>\n",
              "      <td>0.729098</td>\n",
              "      <td>60.122488</td>\n",
              "      <td>52.041086</td>\n",
              "      <td>26.466234</td>\n",
              "      <td>20.309492</td>\n",
              "      <td>-0.013963</td>\n",
              "      <td>0.015536</td>\n",
              "    </tr>\n",
              "    <tr>\n",
              "      <th>15101</th>\n",
              "      <td>2020-12-31</td>\n",
              "      <td>124.220001</td>\n",
              "      <td>126.029999</td>\n",
              "      <td>123.989998</td>\n",
              "      <td>121.449242</td>\n",
              "      <td>3574400</td>\n",
              "      <td>IBM</td>\n",
              "      <td>3</td>\n",
              "      <td>0.979510</td>\n",
              "      <td>55.298772</td>\n",
              "      <td>59.115693</td>\n",
              "      <td>15.707054</td>\n",
              "      <td>19.888804</td>\n",
              "      <td>-0.022814</td>\n",
              "      <td>0.016797</td>\n",
              "    </tr>\n",
              "    <tr>\n",
              "      <th>15102</th>\n",
              "      <td>2020-12-31</td>\n",
              "      <td>156.529999</td>\n",
              "      <td>157.660004</td>\n",
              "      <td>155.110001</td>\n",
              "      <td>155.434952</td>\n",
              "      <td>5099900</td>\n",
              "      <td>JNJ</td>\n",
              "      <td>3</td>\n",
              "      <td>2.197554</td>\n",
              "      <td>61.476412</td>\n",
              "      <td>147.739389</td>\n",
              "      <td>41.330979</td>\n",
              "      <td>20.490959</td>\n",
              "      <td>-0.007045</td>\n",
              "      <td>0.016406</td>\n",
              "    </tr>\n",
              "    <tr>\n",
              "      <th>15103</th>\n",
              "      <td>2020-12-31</td>\n",
              "      <td>211.250000</td>\n",
              "      <td>214.929993</td>\n",
              "      <td>210.779999</td>\n",
              "      <td>212.096405</td>\n",
              "      <td>2610900</td>\n",
              "      <td>MCD</td>\n",
              "      <td>3</td>\n",
              "      <td>-0.289996</td>\n",
              "      <td>51.177319</td>\n",
              "      <td>5.880091</td>\n",
              "      <td>7.160122</td>\n",
              "      <td>20.132246</td>\n",
              "      <td>0.003991</td>\n",
              "      <td>0.019567</td>\n",
              "    </tr>\n",
              "    <tr>\n",
              "      <th>15104</th>\n",
              "      <td>2020-12-31</td>\n",
              "      <td>141.699997</td>\n",
              "      <td>141.789993</td>\n",
              "      <td>140.369995</td>\n",
              "      <td>140.898666</td>\n",
              "      <td>2949900</td>\n",
              "      <td>NKE</td>\n",
              "      <td>3</td>\n",
              "      <td>2.417466</td>\n",
              "      <td>61.685046</td>\n",
              "      <td>78.877983</td>\n",
              "      <td>31.671306</td>\n",
              "      <td>19.845323</td>\n",
              "      <td>-0.005687</td>\n",
              "      <td>0.010078</td>\n",
              "    </tr>\n",
              "  </tbody>\n",
              "</table>\n",
              "</div>"
            ],
            "text/plain": [
              "             date        open        high  ...  log_volume    change  daily_variance\n",
              "15100  2020-12-31   44.380001   44.840000  ...   20.309492 -0.013963        0.015536\n",
              "15101  2020-12-31  124.220001  126.029999  ...   19.888804 -0.022814        0.016797\n",
              "15102  2020-12-31  156.529999  157.660004  ...   20.490959 -0.007045        0.016406\n",
              "15103  2020-12-31  211.250000  214.929993  ...   20.132246  0.003991        0.019567\n",
              "15104  2020-12-31  141.699997  141.789993  ...   19.845323 -0.005687        0.010078\n",
              "\n",
              "[5 rows x 15 columns]"
            ]
          },
          "metadata": {
            "tags": []
          },
          "execution_count": 12
        }
      ]
    },
    {
      "cell_type": "markdown",
      "metadata": {
        "id": "-QsYaY0Dh1iw"
      },
      "source": [
        "<a id='4'></a>\n",
        "# Part 5. Design Environment\n",
        "Considering the stochastic and interactive nature of the automated stock trading tasks, a financial task is modeled as a **Markov Decision Process (MDP)** problem. The training process involves observing stock price change, taking an action and reward's calculation to have the agent adjusting its strategy accordingly. By interacting with the environment, the trading agent will derive a trading strategy with the maximized rewards as time proceeds.\n",
        "\n",
        "Our trading environments, based on OpenAI Gym framework, simulate live stock markets with real market data according to the principle of time-driven simulation.\n",
        "\n",
        "The action space describes the allowed actions that the agent interacts with the environment. Normally, action a includes three actions: {-1, 0, 1}, where -1, 0, 1 represent selling, holding, and buying one share. Also, an action can be carried upon multiple shares. We use an action space {-k,…,-1, 0, 1, …, k}, where k denotes the number of shares to buy and -k denotes the number of shares to sell. For example, \"Buy 10 shares of AAPL\" or \"Sell 10 shares of AAPL\" are 10 or -10, respectively. The continuous action space needs to be normalized to [-1, 1], since the policy is defined on a Gaussian distribution, which needs to be normalized and symmetric."
      ]
    },
    {
      "cell_type": "markdown",
      "metadata": {
        "id": "5TOhcryx44bb"
      },
      "source": [
        "## Training data split: 2009-01-01 to 2016-01-01\n",
        "## Trade data split: 2016-01-01 to 2021-01-01\n",
        "\n",
        "DRL model needs to update periodically in order to take full advantage of the data, ideally we need to retrain our model yearly, quarterly, or monthly. We also need to tune the parameters along the way, in this notebook I only use the in-sample data from 2009-01 to 2016-01 to tune the parameters once, so there is some alpha decay here as the length of trade date extends. \n",
        "\n",
        "Numerous hyperparameters – e.g. the learning rate, the total number of samples to train on – influence the learning process and are usually determined by testing some variations."
      ]
    },
    {
      "cell_type": "code",
      "metadata": {
        "colab": {
          "base_uri": "https://localhost:8080/"
        },
        "id": "W0qaVGjLtgbI",
        "outputId": "dba01e86-62a0-494f-b132-3bee3aa047a9"
      },
      "source": [
        "train = data_split(processed, '2009-01-01','2019-01-01')\n",
        "trade = data_split(processed, '2019-01-01','2021-01-01')\n",
        "print(len(train))\n",
        "print(len(trade))"
      ],
      "execution_count": 13,
      "outputs": [
        {
          "output_type": "stream",
          "text": [
            "12580\n",
            "2525\n"
          ],
          "name": "stdout"
        }
      ]
    },
    {
      "cell_type": "markdown",
      "metadata": {
        "id": "8ckaw35dW5eF"
      },
      "source": [
        "## Create the stock trading environment"
      ]
    },
    {
      "cell_type": "code",
      "metadata": {
        "id": "k2XdqNUdW909"
      },
      "source": [
        "\n",
        "import numpy as np\n",
        "import pandas as pd\n",
        "from gym.utils import seeding\n",
        "import gym\n",
        "from gym import spaces\n",
        "import matplotlib\n",
        "from copy import deepcopy\n",
        "\n",
        "matplotlib.use(\"Agg\")\n",
        "import matplotlib.pyplot as plt\n",
        "import pickle\n",
        "from stable_baselines3.common.vec_env import DummyVecEnv\n",
        "import numpy as np\n",
        "import pandas as pd\n",
        "from gym.utils import seeding\n",
        "import gym\n",
        "from gym import spaces\n",
        "import matplotlib\n",
        "import random\n",
        "\n",
        "matplotlib.use(\"Agg\")\n",
        "import matplotlib.pyplot as plt\n",
        "import pickle\n",
        "from stable_baselines3.common.vec_env import DummyVecEnv, SubprocVecEnv\n",
        "#from stable_baselines3.common import logger\n",
        "import time\n",
        "\n",
        "class MyStockTradingEnvCashpenalty(gym.Env):\n",
        "    \"\"\"\n",
        "    A stock trading environment for OpenAI gym\n",
        "    This environment penalizes the model for not maintaining a reserve of cash.\n",
        "    This enables the model to manage cash reserves in addition to performing trading procedures.\n",
        "    Reward at any step is given as follows\n",
        "        r_i = (sum(cash, asset_value) - initial_cash - max(0, sum(cash, asset_value)*cash_penalty_proportion-cash))/(days_elapsed)\n",
        "        This reward function takes into account a liquidity requirement, as well as long-term accrued rewards.\n",
        "    Parameters:\n",
        "        df (pandas.DataFrame): Dataframe containing data\n",
        "        buy_cost_pct (float): cost for buying shares\n",
        "        sell_cost_pct (float): cost for selling shares\n",
        "        hmax (int, array): maximum cash to be traded in each trade per asset. If an array is provided, then each index correspond to each asset\n",
        "        discrete_actions (bool): option to choose whether perform dicretization on actions space or not\n",
        "        shares_increment (int): multiples number of shares can be bought in each trade. Only applicable if discrete_actions=True\n",
        "        turbulence_threshold (float): Maximum turbulence allowed in market for purchases to occur. If exceeded, positions are liquidated\n",
        "        print_verbosity(int): When iterating (step), how often to print stats about state of env\n",
        "        initial_amount: (int, float): Amount of cash initially available\n",
        "        daily_information_columns (list(str)): Columns to use when building state space from the dataframe. It could be OHLC columns or any other variables such as technical indicators and turbulence index\n",
        "        cash_penalty_proportion (int, float): Penalty to apply if the algorithm runs out of cash\n",
        "        patient (bool): option to choose whether end the cycle when we're running out of cash or just don't buy anything until we got additional cash\n",
        "    RL Inputs and Outputs\n",
        "        action space: [<n_assets>,] in range {-1, 1}\n",
        "        state space: {start_cash, [shares_i for in in assets], [[indicator_j for j in indicators] for i in assets]]}\n",
        "    TODO:\n",
        "        Organize functions\n",
        "        Write README\n",
        "        Document tests\n",
        "    \"\"\"\n",
        "\n",
        "    metadata = {\"render.modes\": [\"human\"]}\n",
        "\n",
        "    def __init__(\n",
        "        self,\n",
        "        df,\n",
        "        buy_cost_pct=3e-3,\n",
        "        sell_cost_pct=3e-3,\n",
        "        date_col_name=\"date\",\n",
        "        hmax=10,\n",
        "        discrete_actions=False,\n",
        "        shares_increment=1,\n",
        "        turbulence_threshold=None,\n",
        "        print_verbosity=10,\n",
        "        initial_amount=1e6,\n",
        "        daily_information_cols=['open', 'high', 'low', 'close', 'volume'],\n",
        "        cache_indicator_data=True,\n",
        "        cash_penalty_proportion=0.1,\n",
        "        random_start=True,\n",
        "        patient=False,\n",
        "        currency=\"$\",\n",
        "    ):\n",
        "        self.df = df\n",
        "        self.stock_col = \"tic\"\n",
        "        self.assets = df[self.stock_col].unique()\n",
        "        self.dates = df[date_col_name].sort_values().unique()\n",
        "        self.random_start = random_start\n",
        "        self.discrete_actions = discrete_actions\n",
        "        self.patient = patient\n",
        "        self.currency = currency\n",
        "        self.df = self.df.set_index(date_col_name)\n",
        "        self.shares_increment = shares_increment\n",
        "        self.hmax = hmax\n",
        "        self.initial_amount = initial_amount\n",
        "        self.print_verbosity = print_verbosity\n",
        "        self.buy_cost_pct = buy_cost_pct\n",
        "        self.sell_cost_pct = sell_cost_pct\n",
        "        self.turbulence_threshold = turbulence_threshold\n",
        "        self.daily_information_cols = daily_information_cols\n",
        "        self.state_space = (\n",
        "            1 + len(self.assets) + len(self.assets) * len(self.daily_information_cols)\n",
        "        )\n",
        "        self.action_space = spaces.Box(low=-1, high=1, shape=(len(self.assets),))\n",
        "        self.observation_space = spaces.Box(\n",
        "            low=-np.inf, high=np.inf, shape=(self.state_space,)\n",
        "        )\n",
        "        self.turbulence = 0\n",
        "        self.episode = -1  # initialize so we can call reset\n",
        "        self.episode_history = []\n",
        "        self.printed_header = False\n",
        "        self.cache_indicator_data = cache_indicator_data\n",
        "        self.cached_data = None\n",
        "        self.cash_penalty_proportion = cash_penalty_proportion\n",
        "        if self.cache_indicator_data:\n",
        "            print(\"caching data\")\n",
        "            self.cached_data = [\n",
        "                self.get_date_vector(i) for i, _ in enumerate(self.dates)\n",
        "            ]\n",
        "            print(\"data cached!\")\n",
        "\n",
        "    def seed(self, seed=None):\n",
        "        if seed is None:\n",
        "            seed = int(round(time.time() * 1000))\n",
        "        random.seed(seed)\n",
        "\n",
        "    @property\n",
        "    def current_step(self):\n",
        "        return self.date_index - self.starting_point\n",
        "\n",
        "    @property\n",
        "    def cash_on_hand(self):\n",
        "        # amount of cash held at current timestep\n",
        "        return self.state_memory[-1][0]\n",
        "\n",
        "    @property\n",
        "    def holdings(self):\n",
        "        # Quantity of shares held at current timestep\n",
        "        return self.state_memory[-1][1 : len(self.assets) + 1]\n",
        "\n",
        "    @property\n",
        "    def closings(self):\n",
        "        return np.array(self.get_date_vector(self.date_index, cols=[\"close\"]))\n",
        "\n",
        "    def reset(self):\n",
        "        self.seed()\n",
        "        self.sum_trades = 0\n",
        "        if self.random_start:\n",
        "            starting_point = random.choice(range(int(len(self.dates) * 0.5)))\n",
        "            self.starting_point = starting_point\n",
        "        else:\n",
        "            self.starting_point = 0\n",
        "        self.date_index = self.starting_point\n",
        "        self.turbulence = 0\n",
        "        self.episode += 1\n",
        "        self.actions_memory = []\n",
        "        self.transaction_memory = []\n",
        "        self.state_memory = []\n",
        "        self.account_information = {\n",
        "            \"cash\": [],\n",
        "            \"asset_value\": [],\n",
        "            \"total_assets\": [],\n",
        "            \"reward\": [],\n",
        "        }\n",
        "        init_state = np.array(\n",
        "            [self.initial_amount]\n",
        "            + [0] * len(self.assets)\n",
        "            + self.get_date_vector(self.date_index)\n",
        "        )\n",
        "        self.state_memory.append(init_state)\n",
        "        return init_state\n",
        "\n",
        "    def get_date_vector(self, date, cols=None):\n",
        "        if (cols is None) and (self.cached_data is not None):\n",
        "            return self.cached_data[date]\n",
        "        else:\n",
        "            date = self.dates[date]\n",
        "            if cols is None:\n",
        "                cols = self.daily_information_cols\n",
        "            trunc_df = self.df.loc[[date]]\n",
        "            v = []\n",
        "            for a in self.assets:\n",
        "                subset = trunc_df[trunc_df[self.stock_col] == a]\n",
        "                v += subset.loc[date, cols].tolist()\n",
        "            assert len(v) == len(self.assets) * len(cols)\n",
        "            return v\n",
        "\n",
        "    def return_terminal(self, reason=\"Last Date\", reward=0):\n",
        "        state = self.state_memory[-1]\n",
        "        self.log_step(reason=reason, terminal_reward=reward)\n",
        "        # Add outputs to logger interface\n",
        "        gl_pct = self.account_information[\"total_assets\"][-1] / self.initial_amount\n",
        "        # logger.record(\"environment/GainLoss_pct\", (gl_pct - 1) * 100)\n",
        "        # logger.record(\n",
        "        #     \"environment/total_assets\",\n",
        "        #     int(self.account_information[\"total_assets\"][-1]),\n",
        "        # )\n",
        "        reward_pct = self.account_information[\"total_assets\"][-1] / self.initial_amount\n",
        "        # logger.record(\"environment/total_reward_pct\", (reward_pct - 1) * 100)\n",
        "        # logger.record(\"environment/total_trades\", self.sum_trades)\n",
        "        # logger.record(\n",
        "        #     \"environment/avg_daily_trades\",\n",
        "        #     self.sum_trades / (self.current_step),\n",
        "        # )\n",
        "        # logger.record(\n",
        "        #     \"environment/avg_daily_trades_per_asset\",\n",
        "        #     self.sum_trades / (self.current_step) / len(self.assets),\n",
        "        # )\n",
        "        # logger.record(\"environment/completed_steps\", self.current_step)\n",
        "        # logger.record(\n",
        "        #     \"environment/sum_rewards\", np.sum(self.account_information[\"reward\"])\n",
        "        # )\n",
        "        # logger.record(\n",
        "        #     \"environment/cash_proportion\",\n",
        "        #     self.account_information[\"cash\"][-1]\n",
        "        #     / self.account_information[\"total_assets\"][-1],\n",
        "        # )\n",
        "        return state, reward, True, {}\n",
        "\n",
        "    def log_step(self, reason, terminal_reward=None):\n",
        "\n",
        "        if terminal_reward is None:\n",
        "            terminal_reward = self.account_information[\"reward\"][-1]\n",
        "        cash_pct = (\n",
        "            self.account_information[\"cash\"][-1]\n",
        "            / self.account_information[\"total_assets\"][-1]\n",
        "        )\n",
        "        gl_pct = self.account_information[\"total_assets\"][-1] / self.initial_amount\n",
        "        rec = [\n",
        "            self.episode,\n",
        "            self.date_index - self.starting_point,\n",
        "            reason,\n",
        "            f\"{self.currency}{'{:0,.0f}'.format(float(self.account_information['cash'][-1]))}\",\n",
        "            f\"{self.currency}{'{:0,.0f}'.format(float(self.account_information['total_assets'][-1]))}\",\n",
        "            f\"{terminal_reward*100:0.5f}%\",\n",
        "            f\"{(gl_pct - 1)*100:0.5f}%\",\n",
        "            f\"{cash_pct*100:0.2f}%\",\n",
        "        ]\n",
        "        self.episode_history.append(rec)\n",
        "        print(self.template.format(*rec))\n",
        "\n",
        "    def log_header(self):\n",
        "        if self.printed_header is False:\n",
        "            self.template = \"{0:4}|{1:4}|{2:15}|{3:15}|{4:15}|{5:10}|{6:10}|{7:10}\"  # column widths: 8, 10, 15, 7, 10\n",
        "            print(\n",
        "                self.template.format(\n",
        "                    \"EPISODE\",\n",
        "                    \"STEPS\",\n",
        "                    \"TERMINAL_REASON\",\n",
        "                    \"CASH\",\n",
        "                    \"TOT_ASSETS\",\n",
        "                    \"TERMINAL_REWARD_unsc\",\n",
        "                    \"GAINLOSS_PCT\",\n",
        "                    \"CASH_PROPORTION\",\n",
        "                )\n",
        "            )\n",
        "            self.printed_header = True\n",
        "\n",
        "    def get_reward(self):\n",
        "        if self.current_step == 0:\n",
        "            return 0\n",
        "        else:\n",
        "            assets = self.account_information[\"total_assets\"][-1]\n",
        "            cash = self.account_information[\"cash\"][-1]\n",
        "            cash_penalty = max(0, (assets * self.cash_penalty_proportion - cash))\n",
        "            assets -= cash_penalty\n",
        "            reward = (assets / self.initial_amount) - 1\n",
        "            reward /= self.current_step\n",
        "            return reward\n",
        "\n",
        "    def get_transactions(self, actions):\n",
        "        \"\"\"\n",
        "        This function takes in a raw 'action' from the model and makes it into realistic transactions\n",
        "        This function includes logic for discretizing\n",
        "        It also includes turbulence logic.\n",
        "        \"\"\"\n",
        "        # record actions of the model\n",
        "        self.actions_memory.append(actions)\n",
        "\n",
        "        # multiply actions by the hmax value\n",
        "        actions = actions * self.hmax\n",
        "\n",
        "        # Do nothing for shares with zero value\n",
        "        actions = np.where(self.closings > 0, actions, 0)\n",
        "\n",
        "        # discretize optionally\n",
        "        if self.discrete_actions:\n",
        "            # convert into integer because we can't buy fraction of shares\n",
        "            actions = actions // self.closings\n",
        "            actions = actions.astype(int)\n",
        "            # round down actions to the nearest multiplies of shares_increment\n",
        "            actions = np.where(\n",
        "                actions >= 0,\n",
        "                (actions // self.shares_increment) * self.shares_increment,\n",
        "                ((actions + self.shares_increment) // self.shares_increment)\n",
        "                * self.shares_increment,\n",
        "            )\n",
        "        else:\n",
        "            actions = actions / self.closings\n",
        "\n",
        "        # can't sell more than we have\n",
        "        actions = np.maximum(actions, -np.array(self.holdings))\n",
        "\n",
        "        # deal with turbulence\n",
        "        if self.turbulence_threshold is not None:\n",
        "            # if turbulence goes over threshold, just clear out all positions\n",
        "            if self.turbulence >= self.turbulence_threshold:\n",
        "                actions = -(np.array(self.holdings))\n",
        "                self.log_step(reason=\"TURBULENCE\")\n",
        "\n",
        "        return actions\n",
        "\n",
        "    def step(self, actions):\n",
        "        # let's just log what we're doing in terms of max actions at each step.\n",
        "        self.sum_trades += np.sum(np.abs(actions))\n",
        "        self.log_header()\n",
        "        # print if it's time.\n",
        "        if (self.current_step + 1) % self.print_verbosity == 0:\n",
        "            self.log_step(reason=\"update\")\n",
        "        # if we're at the end\n",
        "        if self.date_index == len(self.dates) - 1:\n",
        "            # if we hit the end, set reward to total gains (or losses)\n",
        "            return self.return_terminal(reward=self.get_reward())\n",
        "        else:\n",
        "            \"\"\"\n",
        "            First, we need to compute values of holdings, save these, and log everything.\n",
        "            Then we can reward our model for its earnings.\n",
        "            \"\"\"\n",
        "            # compute value of cash + assets\n",
        "            begin_cash = self.cash_on_hand\n",
        "            assert min(self.holdings) >= 0\n",
        "            asset_value = np.dot(self.holdings, self.closings)\n",
        "            # log the values of cash, assets, and total assets\n",
        "            self.account_information[\"cash\"].append(begin_cash)\n",
        "            self.account_information[\"asset_value\"].append(asset_value)\n",
        "            self.account_information[\"total_assets\"].append(begin_cash + asset_value)\n",
        "\n",
        "            # compute reward once we've computed the value of things!\n",
        "            reward = self.get_reward()\n",
        "            self.account_information[\"reward\"].append(reward)\n",
        "\n",
        "            \"\"\"\n",
        "            Now, let's get down to business at hand. \n",
        "            \"\"\"\n",
        "            transactions = self.get_transactions(actions)\n",
        "\n",
        "            # compute our proceeds from sells, and add to cash\n",
        "            sells = -np.clip(transactions, -np.inf, 0)\n",
        "            proceeds = np.dot(sells, self.closings)\n",
        "            costs = proceeds * self.sell_cost_pct\n",
        "            coh = begin_cash + proceeds\n",
        "            # compute the cost of our buys\n",
        "            buys = np.clip(transactions, 0, np.inf)\n",
        "            spend = np.dot(buys, self.closings)\n",
        "            costs += spend * self.buy_cost_pct\n",
        "            # if we run out of cash...\n",
        "            if (spend + costs) > coh:\n",
        "                if self.patient:\n",
        "                    # ... just don't buy anything until we got additional cash\n",
        "                    self.log_step(reason=\"CASH SHORTAGE\")\n",
        "                    transactions = np.where(transactions > 0, 0, transactions)\n",
        "                    spend = 0\n",
        "                    costs = 0\n",
        "                else:\n",
        "                    # ... end the cycle and penalize\n",
        "                    return self.return_terminal(\n",
        "                        reason=\"CASH SHORTAGE\", reward=self.get_reward()\n",
        "                    )\n",
        "            self.transaction_memory.append(\n",
        "                transactions\n",
        "            )  # capture what the model's could do\n",
        "            # verify we didn't do anything impossible here\n",
        "            assert (spend + costs) <= coh\n",
        "            # update our holdings\n",
        "            coh = coh - spend - costs\n",
        "            holdings_updated = self.holdings + transactions\n",
        "            self.date_index += 1\n",
        "            if self.turbulence_threshold is not None:\n",
        "                self.turbulence = self.get_date_vector(\n",
        "                    self.date_index, cols=[\"turbulence\"]\n",
        "                )[0]\n",
        "            # Update State\n",
        "            state = (\n",
        "                [coh] + list(holdings_updated) + self.get_date_vector(self.date_index)\n",
        "            )\n",
        "            self.state_memory.append(state)\n",
        "            return state, reward, False, {}\n",
        "\n",
        "    def get_sb_env(self):\n",
        "        def get_self():\n",
        "            return deepcopy(self)\n",
        "\n",
        "        e = DummyVecEnv([get_self])\n",
        "        obs = e.reset()\n",
        "        return e, obs\n",
        "\n",
        "    def get_multiproc_env(self, n=10):\n",
        "        def get_self():\n",
        "            return deepcopy(self)\n",
        "\n",
        "        e = SubprocVecEnv([get_self for _ in range(n)], start_method=\"fork\")\n",
        "        obs = e.reset()\n",
        "        return e, obs\n",
        "\n",
        "    def save_asset_memory(self):\n",
        "        if self.current_step == 0:\n",
        "            return None\n",
        "        else:\n",
        "            self.account_information[\"date\"] = self.dates[\n",
        "                -len(self.account_information[\"cash\"]) :\n",
        "            ]\n",
        "            return pd.DataFrame(self.account_information)\n",
        "\n",
        "    def save_action_memory(self):\n",
        "        if self.current_step == 0:\n",
        "            return None\n",
        "        else:\n",
        "            return pd.DataFrame(\n",
        "                {\n",
        "                    \"date\": self.dates[-len(self.account_information[\"cash\"]) :],\n",
        "                    \"actions\": self.actions_memory,\n",
        "                    \"transactions\": self.transaction_memory,\n",
        "                }\n",
        "            )"
      ],
      "execution_count": 14,
      "outputs": []
    },
    {
      "cell_type": "markdown",
      "metadata": {
        "id": "iyuPzwP7XAdS"
      },
      "source": [
        " "
      ]
    },
    {
      "cell_type": "code",
      "metadata": {
        "id": "FCqTEpfh3fEZ",
        "colab": {
          "base_uri": "https://localhost:8080/"
        },
        "outputId": "05616dc9-0758-4e16-ed4c-abc69e817211"
      },
      "source": [
        "print(MyStockTradingEnvCashpenalty.__doc__)"
      ],
      "execution_count": 15,
      "outputs": [
        {
          "output_type": "stream",
          "text": [
            "\n",
            "    A stock trading environment for OpenAI gym\n",
            "    This environment penalizes the model for not maintaining a reserve of cash.\n",
            "    This enables the model to manage cash reserves in addition to performing trading procedures.\n",
            "    Reward at any step is given as follows\n",
            "        r_i = (sum(cash, asset_value) - initial_cash - max(0, sum(cash, asset_value)*cash_penalty_proportion-cash))/(days_elapsed)\n",
            "        This reward function takes into account a liquidity requirement, as well as long-term accrued rewards.\n",
            "    Parameters:\n",
            "        df (pandas.DataFrame): Dataframe containing data\n",
            "        buy_cost_pct (float): cost for buying shares\n",
            "        sell_cost_pct (float): cost for selling shares\n",
            "        hmax (int, array): maximum cash to be traded in each trade per asset. If an array is provided, then each index correspond to each asset\n",
            "        discrete_actions (bool): option to choose whether perform dicretization on actions space or not\n",
            "        shares_increment (int): multiples number of shares can be bought in each trade. Only applicable if discrete_actions=True\n",
            "        turbulence_threshold (float): Maximum turbulence allowed in market for purchases to occur. If exceeded, positions are liquidated\n",
            "        print_verbosity(int): When iterating (step), how often to print stats about state of env\n",
            "        initial_amount: (int, float): Amount of cash initially available\n",
            "        daily_information_columns (list(str)): Columns to use when building state space from the dataframe. It could be OHLC columns or any other variables such as technical indicators and turbulence index\n",
            "        cash_penalty_proportion (int, float): Penalty to apply if the algorithm runs out of cash\n",
            "        patient (bool): option to choose whether end the cycle when we're running out of cash or just don't buy anything until we got additional cash\n",
            "    RL Inputs and Outputs\n",
            "        action space: [<n_assets>,] in range {-1, 1}\n",
            "        state space: {start_cash, [shares_i for in in assets], [[indicator_j for j in indicators] for i in assets]]}\n",
            "    TODO:\n",
            "        Organize functions\n",
            "        Write README\n",
            "        Document tests\n",
            "    \n"
          ],
          "name": "stdout"
        }
      ]
    },
    {
      "cell_type": "markdown",
      "metadata": {
        "id": "Q2zqII8rMIqn",
        "outputId": "8a2c943b-1be4-4b8d-b64f-666e0852b7e6"
      },
      "source": [
        "#### state space\n",
        "The state space of the observation is as follows \n",
        "\n",
        "`start_cash, <owned_shares_of_n_assets>, <<indicator_i_for_asset_j> for j in assets>`\n",
        "\n",
        "indicators are any daily measurement you can achieve. Common ones are 'volume', 'open' 'close' 'high', 'low'.\n",
        "However, you can add these as needed, \n",
        "The feature engineer adds indicators, and you can add your own as well. \n"
      ]
    },
    {
      "cell_type": "code",
      "metadata": {
        "id": "Ac5vErdj3fEa",
        "colab": {
          "base_uri": "https://localhost:8080/",
          "height": 206
        },
        "outputId": "a6c83b68-36ef-4ded-c98a-74eb937577b9"
      },
      "source": [
        "processed.head()"
      ],
      "execution_count": 16,
      "outputs": [
        {
          "output_type": "execute_result",
          "data": {
            "text/html": [
              "<div>\n",
              "<style scoped>\n",
              "    .dataframe tbody tr th:only-of-type {\n",
              "        vertical-align: middle;\n",
              "    }\n",
              "\n",
              "    .dataframe tbody tr th {\n",
              "        vertical-align: top;\n",
              "    }\n",
              "\n",
              "    .dataframe thead th {\n",
              "        text-align: right;\n",
              "    }\n",
              "</style>\n",
              "<table border=\"1\" class=\"dataframe\">\n",
              "  <thead>\n",
              "    <tr style=\"text-align: right;\">\n",
              "      <th></th>\n",
              "      <th>date</th>\n",
              "      <th>open</th>\n",
              "      <th>high</th>\n",
              "      <th>low</th>\n",
              "      <th>close</th>\n",
              "      <th>volume</th>\n",
              "      <th>tic</th>\n",
              "      <th>day</th>\n",
              "      <th>macd</th>\n",
              "      <th>rsi_30</th>\n",
              "      <th>cci_30</th>\n",
              "      <th>dx_30</th>\n",
              "      <th>log_volume</th>\n",
              "      <th>change</th>\n",
              "      <th>daily_variance</th>\n",
              "    </tr>\n",
              "  </thead>\n",
              "  <tbody>\n",
              "    <tr>\n",
              "      <th>0</th>\n",
              "      <td>2009-01-02</td>\n",
              "      <td>16.410000</td>\n",
              "      <td>17.000000</td>\n",
              "      <td>16.250000</td>\n",
              "      <td>12.505757</td>\n",
              "      <td>40980600</td>\n",
              "      <td>CSCO</td>\n",
              "      <td>4</td>\n",
              "      <td>0.0</td>\n",
              "      <td>100.0</td>\n",
              "      <td>66.666667</td>\n",
              "      <td>100.0</td>\n",
              "      <td>20.054798</td>\n",
              "      <td>-0.312196</td>\n",
              "      <td>0.059972</td>\n",
              "    </tr>\n",
              "    <tr>\n",
              "      <th>1</th>\n",
              "      <td>2009-01-02</td>\n",
              "      <td>83.889999</td>\n",
              "      <td>87.589996</td>\n",
              "      <td>83.889999</td>\n",
              "      <td>58.506676</td>\n",
              "      <td>7558200</td>\n",
              "      <td>IBM</td>\n",
              "      <td>4</td>\n",
              "      <td>0.0</td>\n",
              "      <td>100.0</td>\n",
              "      <td>66.666667</td>\n",
              "      <td>100.0</td>\n",
              "      <td>19.907284</td>\n",
              "      <td>-0.433853</td>\n",
              "      <td>0.063241</td>\n",
              "    </tr>\n",
              "    <tr>\n",
              "      <th>2</th>\n",
              "      <td>2009-01-02</td>\n",
              "      <td>60.130001</td>\n",
              "      <td>61.000000</td>\n",
              "      <td>59.040001</td>\n",
              "      <td>41.743183</td>\n",
              "      <td>11638900</td>\n",
              "      <td>JNJ</td>\n",
              "      <td>4</td>\n",
              "      <td>0.0</td>\n",
              "      <td>100.0</td>\n",
              "      <td>66.666667</td>\n",
              "      <td>100.0</td>\n",
              "      <td>20.001400</td>\n",
              "      <td>-0.440475</td>\n",
              "      <td>0.046954</td>\n",
              "    </tr>\n",
              "    <tr>\n",
              "      <th>3</th>\n",
              "      <td>2009-01-02</td>\n",
              "      <td>62.380001</td>\n",
              "      <td>64.129997</td>\n",
              "      <td>62.200001</td>\n",
              "      <td>44.068787</td>\n",
              "      <td>8652700</td>\n",
              "      <td>MCD</td>\n",
              "      <td>4</td>\n",
              "      <td>0.0</td>\n",
              "      <td>100.0</td>\n",
              "      <td>66.666667</td>\n",
              "      <td>100.0</td>\n",
              "      <td>19.759134</td>\n",
              "      <td>-0.415514</td>\n",
              "      <td>0.043795</td>\n",
              "    </tr>\n",
              "    <tr>\n",
              "      <th>4</th>\n",
              "      <td>2009-01-02</td>\n",
              "      <td>12.737500</td>\n",
              "      <td>13.400000</td>\n",
              "      <td>12.577500</td>\n",
              "      <td>11.302903</td>\n",
              "      <td>12028800</td>\n",
              "      <td>NKE</td>\n",
              "      <td>4</td>\n",
              "      <td>0.0</td>\n",
              "      <td>100.0</td>\n",
              "      <td>66.666667</td>\n",
              "      <td>100.0</td>\n",
              "      <td>18.727874</td>\n",
              "      <td>-0.126923</td>\n",
              "      <td>0.072769</td>\n",
              "    </tr>\n",
              "  </tbody>\n",
              "</table>\n",
              "</div>"
            ],
            "text/plain": [
              "         date       open       high  ...  log_volume    change  daily_variance\n",
              "0  2009-01-02  16.410000  17.000000  ...   20.054798 -0.312196        0.059972\n",
              "1  2009-01-02  83.889999  87.589996  ...   19.907284 -0.433853        0.063241\n",
              "2  2009-01-02  60.130001  61.000000  ...   20.001400 -0.440475        0.046954\n",
              "3  2009-01-02  62.380001  64.129997  ...   19.759134 -0.415514        0.043795\n",
              "4  2009-01-02  12.737500  13.400000  ...   18.727874 -0.126923        0.072769\n",
              "\n",
              "[5 rows x 15 columns]"
            ]
          },
          "metadata": {
            "tags": []
          },
          "execution_count": 16
        }
      ]
    },
    {
      "cell_type": "code",
      "metadata": {
        "id": "AWyp84Ltto19",
        "colab": {
          "base_uri": "https://localhost:8080/"
        },
        "outputId": "e020821d-25ca-46d7-8603-9f5a41d8f51c"
      },
      "source": [
        "information_cols = ['daily_variance', 'change', 'log_volume', 'close','day', \n",
        "                    'macd', 'rsi_30', 'cci_30', 'dx_30']\n",
        "\n",
        "e_train_gym = MyStockTradingEnvCashpenalty(df = train,initial_amount = 1e6,hmax = 5000, \n",
        "                                turbulence_threshold = None, \n",
        "                                currency='$',\n",
        "                                buy_cost_pct=3e-3,\n",
        "                                sell_cost_pct=3e-3,\n",
        "                                cash_penalty_proportion=0.1,\n",
        "                                cache_indicator_data=True,\n",
        "                                daily_information_cols = information_cols, \n",
        "                                print_verbosity = 100,\n",
        "                                patient = True, \n",
        "                                random_start = True)\n",
        "\n",
        "e_trade_gym = MyStockTradingEnvCashpenalty(df = trade,initial_amount = 1e6,hmax = 5000, \n",
        "                                turbulence_threshold = None, \n",
        "                                currency='$',\n",
        "                                buy_cost_pct=3e-3,\n",
        "                                sell_cost_pct=3e-3,\n",
        "                                cash_penalty_proportion=0.1,\n",
        "                                cache_indicator_data=True,\n",
        "                                daily_information_cols = information_cols, \n",
        "                                print_verbosity = 100,\n",
        "                                patient = True, \n",
        "                                random_start = False)"
      ],
      "execution_count": 17,
      "outputs": [
        {
          "output_type": "stream",
          "text": [
            "caching data\n",
            "data cached!\n",
            "caching data\n",
            "data cached!\n"
          ],
          "name": "stdout"
        }
      ]
    },
    {
      "cell_type": "markdown",
      "metadata": {
        "id": "64EoqOrQjiVf"
      },
      "source": [
        "## Environment for Training\n",
        "There are two available environments. The multiprocessing and the single processing env. \n",
        "Some models won't work with multiprocessing. \n",
        "\n",
        "```python\n",
        "# single processing\n",
        "env_train, _ = e_train_gym.get_sb_env()\n",
        "\n",
        "\n",
        "#multiprocessing\n",
        "env_train, _ = e_train_gym.get_multiproc_env(n = <n_cores>)\n",
        "```\n"
      ]
    },
    {
      "cell_type": "code",
      "metadata": {
        "colab": {
          "base_uri": "https://localhost:8080/"
        },
        "id": "xwSvvPjutpqS",
        "outputId": "7777af40-370f-4c93-91a8-589dbaf176f4"
      },
      "source": [
        "# for this example, let's do multiprocessing with n_cores-2\n",
        "import multiprocessing\n",
        "\n",
        "n_cores = multiprocessing.cpu_count() - 2\n",
        "n_cores = 24\n",
        "print(f\"using {n_cores} cores\")\n",
        "\n",
        "#this is our training env. It allows multiprocessing\n",
        "env_train, _ = e_train_gym.get_multiproc_env(n = n_cores)\n",
        "# env_train, _ = e_train_gym.get_sb_env()\n",
        "\n",
        "#this is our observation environment. It allows full diagnostics\n",
        "env_trade, _ = e_trade_gym.get_sb_env()"
      ],
      "execution_count": 18,
      "outputs": [
        {
          "output_type": "stream",
          "text": [
            "using 24 cores\n"
          ],
          "name": "stdout"
        }
      ]
    },
    {
      "cell_type": "markdown",
      "metadata": {
        "id": "HMNR5nHjh1iz"
      },
      "source": [
        "<a id='5'></a>\n",
        "# Part 6: Implement DRL Algorithms\n",
        "* The implementation of the DRL algorithms are based on **OpenAI Baselines** and **Stable Baselines**. Stable Baselines is a fork of OpenAI Baselines, with a major structural refactoring, and code cleanups.\n",
        "* FinRL library includes fine-tuned standard DRL algorithms, such as DQN, DDPG,\n",
        "Multi-Agent DDPG, PPO, SAC, A2C and TD3. We also allow users to\n",
        "design their own DRL algorithms by adapting these DRL algorithms."
      ]
    },
    {
      "cell_type": "code",
      "metadata": {
        "id": "364PsqckttcQ"
      },
      "source": [
        "agent = DRLAgent(env = env_train)"
      ],
      "execution_count": 19,
      "outputs": []
    },
    {
      "cell_type": "markdown",
      "metadata": {
        "id": "uijiWgkuh1jB"
      },
      "source": [
        "### Model PPO\n"
      ]
    },
    {
      "cell_type": "code",
      "metadata": {
        "id": "Lc7V2tWp3fEb",
        "colab": {
          "base_uri": "https://localhost:8080/"
        },
        "outputId": "daa89b13-9512-49af-e6f1-53a7b7e7cf2a"
      },
      "source": [
        "# from torch.nn import Softsign, ReLU\n",
        "ppo_params ={'n_steps': 256, \n",
        "             'ent_coef': 0.0, \n",
        "             'learning_rate': 0.000005, \n",
        "             'batch_size': 1024, \n",
        "            'gamma': 0.99}\n",
        "\n",
        "policy_kwargs = {\n",
        "#     \"activation_fn\": ReLU,\n",
        "    \"net_arch\": [1024 for _ in range(10)], \n",
        "#     \"squash_output\": True\n",
        "}\n",
        "\n",
        "model = agent.get_model(\"ppo\",  \n",
        "                        model_kwargs = ppo_params, \n",
        "                        policy_kwargs = policy_kwargs, verbose = 0)\n",
        "\n",
        "# model = model.load(\"scaling_reward.model\", env = env_train)"
      ],
      "execution_count": 20,
      "outputs": [
        {
          "output_type": "stream",
          "text": [
            "{'n_steps': 256, 'ent_coef': 0.0, 'learning_rate': 5e-06, 'batch_size': 1024, 'gamma': 0.99}\n"
          ],
          "name": "stdout"
        }
      ]
    },
    {
      "cell_type": "code",
      "metadata": {
        "id": "zTwet1oZ3fEb",
        "colab": {
          "base_uri": "https://localhost:8080/"
        },
        "outputId": "df0774da-4a23-4fca-b229-fb01d347e700"
      },
      "source": [
        "model.learn(total_timesteps = 20000, \n",
        "            eval_env = env_trade, \n",
        "            eval_freq = 500,\n",
        "            log_interval = 1, \n",
        "            tb_log_name = 'env_cashpenalty_highlr',\n",
        "            n_eval_episodes = 1)"
      ],
      "execution_count": 21,
      "outputs": [
        {
          "output_type": "stream",
          "text": [
            "/usr/local/lib/python3.7/dist-packages/stable_baselines3/common/callbacks.py:337: UserWarning: Training and eval env are not of the same type<stable_baselines3.common.vec_env.subproc_vec_env.SubprocVecEnv object at 0x7f8db3ce5a90> != <stable_baselines3.common.vec_env.dummy_vec_env.DummyVecEnv object at 0x7f8db3ce5a50>\n",
            "  warnings.warn(\"Training and eval env are not of the same type\" f\"{self.training_env} != {self.eval_env}\")\n",
            "/usr/local/lib/python3.7/dist-packages/stable_baselines3/common/evaluation.py:69: UserWarning: Evaluation environment is not wrapped with a ``Monitor`` wrapper. This may result in reporting modified episode lengths and rewards, if other wrappers happen to modify these. Consider wrapping environment first with ``Monitor`` wrapper.\n",
            "  UserWarning,\n"
          ],
          "name": "stderr"
        },
        {
          "output_type": "stream",
          "text": [
            "EPISODE|STEPS|TERMINAL_REASON|CASH           |TOT_ASSETS     |TERMINAL_REWARD_unsc|GAINLOSS_PCT|CASH_PROPORTION\n",
            "   1|  99|update         |$948,491       |$1,000,717     |0.00073%  |0.07174%  |94.78%    \n",
            "   1| 199|update         |$896,281       |$1,006,950     |0.00351%  |0.69502%  |89.01%    \n",
            "   1| 299|update         |$844,412       |$994,018       |-0.00201% |-0.59825% |84.95%    \n",
            "   1| 399|update         |$792,543       |$1,016,264     |0.00409%  |1.62636%  |77.99%    \n",
            "   1| 499|update         |$740,675       |$1,096,236     |0.01932%  |9.62364%  |67.57%    \n",
            "   1| 504|Last Date      |$738,082       |$1,094,220     |0.01869%  |9.42199%  |67.45%    \n",
            "Eval num_timesteps=12000, episode_reward=0.02 +/- 0.00\n",
            "Episode length: 505.00 +/- 0.00\n",
            "New best mean reward!\n",
            "   3|  99|update         |$1,000,000     |$1,000,000     |0.00000%  |0.00000%  |100.00%   \n",
            "   3| 199|update         |$1,000,000     |$1,000,000     |0.00000%  |0.00000%  |100.00%   \n",
            "   3| 299|update         |$1,000,000     |$1,000,000     |0.00000%  |0.00000%  |100.00%   \n",
            "   3| 399|update         |$1,000,000     |$1,000,000     |0.00000%  |0.00000%  |100.00%   \n",
            "   3| 499|update         |$1,000,000     |$1,000,000     |0.00000%  |0.00000%  |100.00%   \n",
            "   3| 504|Last Date      |$1,000,000     |$1,000,000     |0.00000%  |0.00000%  |100.00%   \n",
            "Eval num_timesteps=24000, episode_reward=0.00 +/- 0.00\n",
            "Episode length: 505.00 +/- 0.00\n"
          ],
          "name": "stdout"
        },
        {
          "output_type": "execute_result",
          "data": {
            "text/plain": [
              "<stable_baselines3.ppo.ppo.PPO at 0x7f8db3c40850>"
            ]
          },
          "metadata": {
            "tags": []
          },
          "execution_count": 21
        }
      ]
    },
    {
      "cell_type": "code",
      "metadata": {
        "id": "9Jbf8TQq3fEc"
      },
      "source": [
        "model.save(\"different1_24.model\")"
      ],
      "execution_count": 22,
      "outputs": []
    },
    {
      "cell_type": "markdown",
      "metadata": {
        "id": "U5mmgQF_h1jQ"
      },
      "source": [
        "### Trade\n",
        "\n",
        "DRL model needs to update periodically in order to take full advantage of the data, ideally we need to retrain our model yearly, quarterly, or monthly. We also need to tune the parameters along the way, in this notebook I only use the in-sample data from 2009-01 to 2018-12 to tune the parameters once, so there is some alpha decay here as the length of trade date extends. \n",
        "\n",
        "Numerous hyperparameters – e.g. the learning rate, the total number of samples to train on – influence the learning process and are usually determined by testing some variations."
      ]
    },
    {
      "cell_type": "code",
      "metadata": {
        "id": "gABFy6u03fEc",
        "colab": {
          "base_uri": "https://localhost:8080/",
          "height": 206
        },
        "outputId": "cae04044-d3df-4411-d849-92cdcf26a996"
      },
      "source": [
        "trade.head()"
      ],
      "execution_count": 32,
      "outputs": [
        {
          "output_type": "execute_result",
          "data": {
            "text/html": [
              "<div>\n",
              "<style scoped>\n",
              "    .dataframe tbody tr th:only-of-type {\n",
              "        vertical-align: middle;\n",
              "    }\n",
              "\n",
              "    .dataframe tbody tr th {\n",
              "        vertical-align: top;\n",
              "    }\n",
              "\n",
              "    .dataframe thead th {\n",
              "        text-align: right;\n",
              "    }\n",
              "</style>\n",
              "<table border=\"1\" class=\"dataframe\">\n",
              "  <thead>\n",
              "    <tr style=\"text-align: right;\">\n",
              "      <th></th>\n",
              "      <th>date</th>\n",
              "      <th>open</th>\n",
              "      <th>high</th>\n",
              "      <th>low</th>\n",
              "      <th>close</th>\n",
              "      <th>volume</th>\n",
              "      <th>tic</th>\n",
              "      <th>day</th>\n",
              "      <th>macd</th>\n",
              "      <th>rsi_30</th>\n",
              "      <th>cci_30</th>\n",
              "      <th>dx_30</th>\n",
              "      <th>log_volume</th>\n",
              "      <th>change</th>\n",
              "      <th>daily_variance</th>\n",
              "    </tr>\n",
              "  </thead>\n",
              "  <tbody>\n",
              "    <tr>\n",
              "      <th>0</th>\n",
              "      <td>2019-01-02</td>\n",
              "      <td>42.279999</td>\n",
              "      <td>43.200001</td>\n",
              "      <td>42.209999</td>\n",
              "      <td>39.496738</td>\n",
              "      <td>23833500</td>\n",
              "      <td>CSCO</td>\n",
              "      <td>2</td>\n",
              "      <td>-0.939011</td>\n",
              "      <td>44.872565</td>\n",
              "      <td>-87.556999</td>\n",
              "      <td>29.529377</td>\n",
              "      <td>20.662821</td>\n",
              "      <td>-0.070468</td>\n",
              "      <td>0.025065</td>\n",
              "    </tr>\n",
              "    <tr>\n",
              "      <th>0</th>\n",
              "      <td>2019-01-02</td>\n",
              "      <td>112.010002</td>\n",
              "      <td>115.980003</td>\n",
              "      <td>111.690002</td>\n",
              "      <td>100.782135</td>\n",
              "      <td>4239900</td>\n",
              "      <td>IBM</td>\n",
              "      <td>2</td>\n",
              "      <td>-2.239115</td>\n",
              "      <td>42.655677</td>\n",
              "      <td>-75.985288</td>\n",
              "      <td>19.746436</td>\n",
              "      <td>19.873011</td>\n",
              "      <td>-0.111407</td>\n",
              "      <td>0.042567</td>\n",
              "    </tr>\n",
              "    <tr>\n",
              "      <th>0</th>\n",
              "      <td>2019-01-02</td>\n",
              "      <td>128.130005</td>\n",
              "      <td>128.380005</td>\n",
              "      <td>126.279999</td>\n",
              "      <td>119.464256</td>\n",
              "      <td>7631700</td>\n",
              "      <td>JNJ</td>\n",
              "      <td>2</td>\n",
              "      <td>-3.988228</td>\n",
              "      <td>40.136256</td>\n",
              "      <td>-90.896149</td>\n",
              "      <td>41.067317</td>\n",
              "      <td>20.630838</td>\n",
              "      <td>-0.072538</td>\n",
              "      <td>0.017579</td>\n",
              "    </tr>\n",
              "    <tr>\n",
              "      <th>0</th>\n",
              "      <td>2019-01-02</td>\n",
              "      <td>175.410004</td>\n",
              "      <td>176.300003</td>\n",
              "      <td>174.169998</td>\n",
              "      <td>165.785156</td>\n",
              "      <td>2571500</td>\n",
              "      <td>MCD</td>\n",
              "      <td>2</td>\n",
              "      <td>-1.550531</td>\n",
              "      <td>49.427586</td>\n",
              "      <td>-103.832548</td>\n",
              "      <td>24.257938</td>\n",
              "      <td>19.870693</td>\n",
              "      <td>-0.058056</td>\n",
              "      <td>0.012848</td>\n",
              "    </tr>\n",
              "    <tr>\n",
              "      <th>0</th>\n",
              "      <td>2019-01-02</td>\n",
              "      <td>72.790001</td>\n",
              "      <td>74.639999</td>\n",
              "      <td>72.190002</td>\n",
              "      <td>72.298897</td>\n",
              "      <td>6762700</td>\n",
              "      <td>NKE</td>\n",
              "      <td>2</td>\n",
              "      <td>-0.303366</td>\n",
              "      <td>49.670218</td>\n",
              "      <td>33.078835</td>\n",
              "      <td>14.156233</td>\n",
              "      <td>20.007742</td>\n",
              "      <td>-0.006793</td>\n",
              "      <td>0.033887</td>\n",
              "    </tr>\n",
              "  </tbody>\n",
              "</table>\n",
              "</div>"
            ],
            "text/plain": [
              "         date        open        high  ...  log_volume    change  daily_variance\n",
              "0  2019-01-02   42.279999   43.200001  ...   20.662821 -0.070468        0.025065\n",
              "0  2019-01-02  112.010002  115.980003  ...   19.873011 -0.111407        0.042567\n",
              "0  2019-01-02  128.130005  128.380005  ...   20.630838 -0.072538        0.017579\n",
              "0  2019-01-02  175.410004  176.300003  ...   19.870693 -0.058056        0.012848\n",
              "0  2019-01-02   72.790001   74.639999  ...   20.007742 -0.006793        0.033887\n",
              "\n",
              "[5 rows x 15 columns]"
            ]
          },
          "metadata": {
            "tags": []
          },
          "execution_count": 32
        }
      ]
    },
    {
      "cell_type": "code",
      "metadata": {
        "id": "eLOnL5eYh1jR"
      },
      "source": [
        "e_trade_gym.hmax = 5000"
      ],
      "execution_count": 33,
      "outputs": []
    },
    {
      "cell_type": "code",
      "metadata": {
        "id": "Bq9BaTCQ3fEc",
        "colab": {
          "base_uri": "https://localhost:8080/"
        },
        "outputId": "0d9ed052-99ff-4319-fa2e-8ed0a6b13518"
      },
      "source": [
        "print(len(e_trade_gym.dates))"
      ],
      "execution_count": 34,
      "outputs": [
        {
          "output_type": "stream",
          "text": [
            "505\n"
          ],
          "name": "stdout"
        }
      ]
    },
    {
      "cell_type": "code",
      "metadata": {
        "id": "WlDYBI9e3fEd",
        "colab": {
          "base_uri": "https://localhost:8080/"
        },
        "outputId": "4e44f5d7-730e-4b01-ddfc-70be33da65f0"
      },
      "source": [
        "df_account_value, df_actions = DRLAgent.DRL_prediction(model=model,environment = e_trade_gym)"
      ],
      "execution_count": 35,
      "outputs": [
        {
          "output_type": "stream",
          "text": [
            "EPISODE|STEPS|TERMINAL_REASON|CASH           |TOT_ASSETS     |TERMINAL_REWARD_unsc|GAINLOSS_PCT|CASH_PROPORTION\n",
            "   1|  99|update         |$928,875       |$999,042       |-0.00098% |-0.09575% |92.98%    \n",
            "   1| 199|update         |$935,504       |$1,002,876     |0.00145%  |0.28755%  |93.28%    \n",
            "   1| 299|update         |$869,238       |$988,777       |-0.00377% |-1.12235% |87.91%    \n",
            "   1| 399|update         |$837,640       |$998,262       |-0.00044% |-0.17382% |83.91%    \n",
            "   1| 499|update         |$944,142       |$1,003,004     |0.00060%  |0.30036%  |94.13%    \n",
            "   1| 504|Last Date      |$940,582       |$1,003,188     |0.00063%  |0.31876%  |93.76%    \n",
            "hit end!\n"
          ],
          "name": "stdout"
        }
      ]
    },
    {
      "cell_type": "code",
      "metadata": {
        "id": "PzEigeLB3fEd",
        "colab": {
          "base_uri": "https://localhost:8080/",
          "height": 206
        },
        "outputId": "64aaacf3-acd5-4b69-ae48-30df8911b2d0"
      },
      "source": [
        "df_actions.head()"
      ],
      "execution_count": 36,
      "outputs": [
        {
          "output_type": "execute_result",
          "data": {
            "text/html": [
              "<div>\n",
              "<style scoped>\n",
              "    .dataframe tbody tr th:only-of-type {\n",
              "        vertical-align: middle;\n",
              "    }\n",
              "\n",
              "    .dataframe tbody tr th {\n",
              "        vertical-align: top;\n",
              "    }\n",
              "\n",
              "    .dataframe thead th {\n",
              "        text-align: right;\n",
              "    }\n",
              "</style>\n",
              "<table border=\"1\" class=\"dataframe\">\n",
              "  <thead>\n",
              "    <tr style=\"text-align: right;\">\n",
              "      <th></th>\n",
              "      <th>date</th>\n",
              "      <th>actions</th>\n",
              "      <th>transactions</th>\n",
              "    </tr>\n",
              "  </thead>\n",
              "  <tbody>\n",
              "    <tr>\n",
              "      <th>0</th>\n",
              "      <td>2019-01-03</td>\n",
              "      <td>[-0.4443186, -0.1729525, 0.37277892, 0.4309250...</td>\n",
              "      <td>[-0.0, -0.0, 15.602111554174147, 12.9964907165...</td>\n",
              "    </tr>\n",
              "    <tr>\n",
              "      <th>1</th>\n",
              "      <td>2019-01-04</td>\n",
              "      <td>[-1.0, 0.5237563, -1.0, -1.0, 0.637897]</td>\n",
              "      <td>[-0.0, 26.513896722710225, -15.602111554174147...</td>\n",
              "    </tr>\n",
              "    <tr>\n",
              "      <th>2</th>\n",
              "      <td>2019-01-07</td>\n",
              "      <td>[-0.69417304, -0.6442405, -0.5914383, -0.56573...</td>\n",
              "      <td>[-0.0, -26.513896722710225, -0.0, -0.0, 7.4323...</td>\n",
              "    </tr>\n",
              "    <tr>\n",
              "      <th>3</th>\n",
              "      <td>2019-01-08</td>\n",
              "      <td>[1.0, 0.32097083, 0.33302882, 0.8019155, 0.180...</td>\n",
              "      <td>[124.86422520677493, 15.527749415212794, 14.01...</td>\n",
              "    </tr>\n",
              "    <tr>\n",
              "      <th>4</th>\n",
              "      <td>2019-01-09</td>\n",
              "      <td>[-0.22381058, 0.21776092, -0.40456262, 0.86186...</td>\n",
              "      <td>[-27.721387727871075, 10.387022694970215, -14....</td>\n",
              "    </tr>\n",
              "  </tbody>\n",
              "</table>\n",
              "</div>"
            ],
            "text/plain": [
              "         date  ...                                       transactions\n",
              "0  2019-01-03  ...  [-0.0, -0.0, 15.602111554174147, 12.9964907165...\n",
              "1  2019-01-04  ...  [-0.0, 26.513896722710225, -15.602111554174147...\n",
              "2  2019-01-07  ...  [-0.0, -26.513896722710225, -0.0, -0.0, 7.4323...\n",
              "3  2019-01-08  ...  [124.86422520677493, 15.527749415212794, 14.01...\n",
              "4  2019-01-09  ...  [-27.721387727871075, 10.387022694970215, -14....\n",
              "\n",
              "[5 rows x 3 columns]"
            ]
          },
          "metadata": {
            "tags": []
          },
          "execution_count": 36
        }
      ]
    },
    {
      "cell_type": "code",
      "metadata": {
        "colab": {
          "base_uri": "https://localhost:8080/"
        },
        "id": "ERxw3KqLkcP4",
        "outputId": "ff819e29-6cf3-4732-b2a7-118b8af69ce1"
      },
      "source": [
        "df_account_value.shape"
      ],
      "execution_count": 37,
      "outputs": [
        {
          "output_type": "execute_result",
          "data": {
            "text/plain": [
              "(504, 5)"
            ]
          },
          "metadata": {
            "tags": []
          },
          "execution_count": 37
        }
      ]
    },
    {
      "cell_type": "code",
      "metadata": {
        "colab": {
          "base_uri": "https://localhost:8080/",
          "height": 1000
        },
        "id": "2yRkNguY5yvp",
        "outputId": "da2d4b18-2553-4424-ee2c-e1207843ef38"
      },
      "source": [
        "df_account_value.head(50)"
      ],
      "execution_count": 38,
      "outputs": [
        {
          "output_type": "execute_result",
          "data": {
            "text/html": [
              "<div>\n",
              "<style scoped>\n",
              "    .dataframe tbody tr th:only-of-type {\n",
              "        vertical-align: middle;\n",
              "    }\n",
              "\n",
              "    .dataframe tbody tr th {\n",
              "        vertical-align: top;\n",
              "    }\n",
              "\n",
              "    .dataframe thead th {\n",
              "        text-align: right;\n",
              "    }\n",
              "</style>\n",
              "<table border=\"1\" class=\"dataframe\">\n",
              "  <thead>\n",
              "    <tr style=\"text-align: right;\">\n",
              "      <th></th>\n",
              "      <th>cash</th>\n",
              "      <th>asset_value</th>\n",
              "      <th>total_assets</th>\n",
              "      <th>reward</th>\n",
              "      <th>date</th>\n",
              "    </tr>\n",
              "  </thead>\n",
              "  <tbody>\n",
              "    <tr>\n",
              "      <th>0</th>\n",
              "      <td>1000000.000000</td>\n",
              "      <td>0.000000</td>\n",
              "      <td>1.000000e+06</td>\n",
              "      <td>0.000000</td>\n",
              "      <td>2019-01-03</td>\n",
              "    </tr>\n",
              "    <tr>\n",
              "      <th>1</th>\n",
              "      <td>995969.424543</td>\n",
              "      <td>3974.705422</td>\n",
              "      <td>9.999441e+05</td>\n",
              "      <td>-0.000056</td>\n",
              "      <td>2019-01-04</td>\n",
              "    </tr>\n",
              "    <tr>\n",
              "      <th>2</th>\n",
              "      <td>994106.514202</td>\n",
              "      <td>5993.849678</td>\n",
              "      <td>1.000100e+06</td>\n",
              "      <td>0.000050</td>\n",
              "      <td>2019-01-07</td>\n",
              "    </tr>\n",
              "    <tr>\n",
              "      <th>3</th>\n",
              "      <td>996276.158515</td>\n",
              "      <td>3869.091412</td>\n",
              "      <td>1.000145e+06</td>\n",
              "      <td>0.000048</td>\n",
              "      <td>2019-01-08</td>\n",
              "    </tr>\n",
              "    <tr>\n",
              "      <th>4</th>\n",
              "      <td>983053.854694</td>\n",
              "      <td>17225.953287</td>\n",
              "      <td>1.000280e+06</td>\n",
              "      <td>0.000070</td>\n",
              "      <td>2019-01-09</td>\n",
              "    </tr>\n",
              "    <tr>\n",
              "      <th>5</th>\n",
              "      <td>985275.362640</td>\n",
              "      <td>14948.870190</td>\n",
              "      <td>1.000224e+06</td>\n",
              "      <td>0.000045</td>\n",
              "      <td>2019-01-10</td>\n",
              "    </tr>\n",
              "    <tr>\n",
              "      <th>6</th>\n",
              "      <td>994787.956342</td>\n",
              "      <td>5448.781900</td>\n",
              "      <td>1.000237e+06</td>\n",
              "      <td>0.000039</td>\n",
              "      <td>2019-01-11</td>\n",
              "    </tr>\n",
              "    <tr>\n",
              "      <th>7</th>\n",
              "      <td>996778.317261</td>\n",
              "      <td>3445.009136</td>\n",
              "      <td>1.000223e+06</td>\n",
              "      <td>0.000032</td>\n",
              "      <td>2019-01-14</td>\n",
              "    </tr>\n",
              "    <tr>\n",
              "      <th>8</th>\n",
              "      <td>996469.679108</td>\n",
              "      <td>3725.031462</td>\n",
              "      <td>1.000195e+06</td>\n",
              "      <td>0.000024</td>\n",
              "      <td>2019-01-15</td>\n",
              "    </tr>\n",
              "    <tr>\n",
              "      <th>9</th>\n",
              "      <td>988288.460697</td>\n",
              "      <td>12069.833457</td>\n",
              "      <td>1.000358e+06</td>\n",
              "      <td>0.000040</td>\n",
              "      <td>2019-01-16</td>\n",
              "    </tr>\n",
              "    <tr>\n",
              "      <th>10</th>\n",
              "      <td>981495.012672</td>\n",
              "      <td>18780.045127</td>\n",
              "      <td>1.000275e+06</td>\n",
              "      <td>0.000028</td>\n",
              "      <td>2019-01-17</td>\n",
              "    </tr>\n",
              "    <tr>\n",
              "      <th>11</th>\n",
              "      <td>975617.827264</td>\n",
              "      <td>24831.206807</td>\n",
              "      <td>1.000449e+06</td>\n",
              "      <td>0.000041</td>\n",
              "      <td>2019-01-18</td>\n",
              "    </tr>\n",
              "    <tr>\n",
              "      <th>12</th>\n",
              "      <td>972944.069567</td>\n",
              "      <td>27932.826996</td>\n",
              "      <td>1.000877e+06</td>\n",
              "      <td>0.000073</td>\n",
              "      <td>2019-01-22</td>\n",
              "    </tr>\n",
              "    <tr>\n",
              "      <th>13</th>\n",
              "      <td>964839.076271</td>\n",
              "      <td>35733.040769</td>\n",
              "      <td>1.000572e+06</td>\n",
              "      <td>0.000044</td>\n",
              "      <td>2019-01-23</td>\n",
              "    </tr>\n",
              "    <tr>\n",
              "      <th>14</th>\n",
              "      <td>960216.179183</td>\n",
              "      <td>40627.392033</td>\n",
              "      <td>1.000844e+06</td>\n",
              "      <td>0.000060</td>\n",
              "      <td>2019-01-24</td>\n",
              "    </tr>\n",
              "    <tr>\n",
              "      <th>15</th>\n",
              "      <td>962911.709921</td>\n",
              "      <td>37838.306908</td>\n",
              "      <td>1.000750e+06</td>\n",
              "      <td>0.000050</td>\n",
              "      <td>2019-01-25</td>\n",
              "    </tr>\n",
              "    <tr>\n",
              "      <th>16</th>\n",
              "      <td>961541.716500</td>\n",
              "      <td>39367.067866</td>\n",
              "      <td>1.000909e+06</td>\n",
              "      <td>0.000057</td>\n",
              "      <td>2019-01-28</td>\n",
              "    </tr>\n",
              "    <tr>\n",
              "      <th>17</th>\n",
              "      <td>973526.435724</td>\n",
              "      <td>27127.520133</td>\n",
              "      <td>1.000654e+06</td>\n",
              "      <td>0.000038</td>\n",
              "      <td>2019-01-29</td>\n",
              "    </tr>\n",
              "    <tr>\n",
              "      <th>18</th>\n",
              "      <td>975835.346215</td>\n",
              "      <td>24815.421478</td>\n",
              "      <td>1.000651e+06</td>\n",
              "      <td>0.000036</td>\n",
              "      <td>2019-01-30</td>\n",
              "    </tr>\n",
              "    <tr>\n",
              "      <th>19</th>\n",
              "      <td>968942.248457</td>\n",
              "      <td>32081.094039</td>\n",
              "      <td>1.001023e+06</td>\n",
              "      <td>0.000054</td>\n",
              "      <td>2019-01-31</td>\n",
              "    </tr>\n",
              "    <tr>\n",
              "      <th>20</th>\n",
              "      <td>969927.123129</td>\n",
              "      <td>31185.736978</td>\n",
              "      <td>1.001113e+06</td>\n",
              "      <td>0.000056</td>\n",
              "      <td>2019-02-01</td>\n",
              "    </tr>\n",
              "    <tr>\n",
              "      <th>21</th>\n",
              "      <td>975775.875387</td>\n",
              "      <td>25177.731236</td>\n",
              "      <td>1.000954e+06</td>\n",
              "      <td>0.000045</td>\n",
              "      <td>2019-02-04</td>\n",
              "    </tr>\n",
              "    <tr>\n",
              "      <th>22</th>\n",
              "      <td>968231.852845</td>\n",
              "      <td>32801.614325</td>\n",
              "      <td>1.001033e+06</td>\n",
              "      <td>0.000047</td>\n",
              "      <td>2019-02-05</td>\n",
              "    </tr>\n",
              "    <tr>\n",
              "      <th>23</th>\n",
              "      <td>963608.037390</td>\n",
              "      <td>37392.161141</td>\n",
              "      <td>1.001000e+06</td>\n",
              "      <td>0.000043</td>\n",
              "      <td>2019-02-06</td>\n",
              "    </tr>\n",
              "    <tr>\n",
              "      <th>24</th>\n",
              "      <td>976921.127805</td>\n",
              "      <td>23940.548378</td>\n",
              "      <td>1.000862e+06</td>\n",
              "      <td>0.000036</td>\n",
              "      <td>2019-02-07</td>\n",
              "    </tr>\n",
              "    <tr>\n",
              "      <th>25</th>\n",
              "      <td>977295.789514</td>\n",
              "      <td>23329.828262</td>\n",
              "      <td>1.000626e+06</td>\n",
              "      <td>0.000025</td>\n",
              "      <td>2019-02-08</td>\n",
              "    </tr>\n",
              "    <tr>\n",
              "      <th>26</th>\n",
              "      <td>977952.578599</td>\n",
              "      <td>22640.218218</td>\n",
              "      <td>1.000593e+06</td>\n",
              "      <td>0.000023</td>\n",
              "      <td>2019-02-11</td>\n",
              "    </tr>\n",
              "    <tr>\n",
              "      <th>27</th>\n",
              "      <td>966474.874209</td>\n",
              "      <td>34335.350826</td>\n",
              "      <td>1.000810e+06</td>\n",
              "      <td>0.000030</td>\n",
              "      <td>2019-02-12</td>\n",
              "    </tr>\n",
              "    <tr>\n",
              "      <th>28</th>\n",
              "      <td>961914.163011</td>\n",
              "      <td>39159.255327</td>\n",
              "      <td>1.001073e+06</td>\n",
              "      <td>0.000038</td>\n",
              "      <td>2019-02-13</td>\n",
              "    </tr>\n",
              "    <tr>\n",
              "      <th>29</th>\n",
              "      <td>969988.214463</td>\n",
              "      <td>31092.393204</td>\n",
              "      <td>1.001081e+06</td>\n",
              "      <td>0.000037</td>\n",
              "      <td>2019-02-14</td>\n",
              "    </tr>\n",
              "    <tr>\n",
              "      <th>30</th>\n",
              "      <td>965111.394511</td>\n",
              "      <td>35945.207757</td>\n",
              "      <td>1.001057e+06</td>\n",
              "      <td>0.000035</td>\n",
              "      <td>2019-02-15</td>\n",
              "    </tr>\n",
              "    <tr>\n",
              "      <th>31</th>\n",
              "      <td>969935.489253</td>\n",
              "      <td>31498.015474</td>\n",
              "      <td>1.001434e+06</td>\n",
              "      <td>0.000046</td>\n",
              "      <td>2019-02-19</td>\n",
              "    </tr>\n",
              "    <tr>\n",
              "      <th>32</th>\n",
              "      <td>973459.841857</td>\n",
              "      <td>27738.789374</td>\n",
              "      <td>1.001199e+06</td>\n",
              "      <td>0.000037</td>\n",
              "      <td>2019-02-20</td>\n",
              "    </tr>\n",
              "    <tr>\n",
              "      <th>33</th>\n",
              "      <td>965723.736746</td>\n",
              "      <td>35549.440262</td>\n",
              "      <td>1.001273e+06</td>\n",
              "      <td>0.000039</td>\n",
              "      <td>2019-02-21</td>\n",
              "    </tr>\n",
              "    <tr>\n",
              "      <th>34</th>\n",
              "      <td>969461.079437</td>\n",
              "      <td>31507.931734</td>\n",
              "      <td>1.000969e+06</td>\n",
              "      <td>0.000029</td>\n",
              "      <td>2019-02-22</td>\n",
              "    </tr>\n",
              "    <tr>\n",
              "      <th>35</th>\n",
              "      <td>955469.956910</td>\n",
              "      <td>45840.861073</td>\n",
              "      <td>1.001311e+06</td>\n",
              "      <td>0.000037</td>\n",
              "      <td>2019-02-25</td>\n",
              "    </tr>\n",
              "    <tr>\n",
              "      <th>36</th>\n",
              "      <td>945259.346330</td>\n",
              "      <td>56224.510724</td>\n",
              "      <td>1.001484e+06</td>\n",
              "      <td>0.000041</td>\n",
              "      <td>2019-02-26</td>\n",
              "    </tr>\n",
              "    <tr>\n",
              "      <th>37</th>\n",
              "      <td>951631.371995</td>\n",
              "      <td>50017.431295</td>\n",
              "      <td>1.001649e+06</td>\n",
              "      <td>0.000045</td>\n",
              "      <td>2019-02-27</td>\n",
              "    </tr>\n",
              "    <tr>\n",
              "      <th>38</th>\n",
              "      <td>957613.273159</td>\n",
              "      <td>44071.688380</td>\n",
              "      <td>1.001685e+06</td>\n",
              "      <td>0.000044</td>\n",
              "      <td>2019-02-28</td>\n",
              "    </tr>\n",
              "    <tr>\n",
              "      <th>39</th>\n",
              "      <td>958110.492444</td>\n",
              "      <td>43452.937027</td>\n",
              "      <td>1.001563e+06</td>\n",
              "      <td>0.000040</td>\n",
              "      <td>2019-03-01</td>\n",
              "    </tr>\n",
              "    <tr>\n",
              "      <th>40</th>\n",
              "      <td>945865.081541</td>\n",
              "      <td>56258.246436</td>\n",
              "      <td>1.002123e+06</td>\n",
              "      <td>0.000053</td>\n",
              "      <td>2019-03-04</td>\n",
              "    </tr>\n",
              "    <tr>\n",
              "      <th>41</th>\n",
              "      <td>955994.596899</td>\n",
              "      <td>45424.570044</td>\n",
              "      <td>1.001419e+06</td>\n",
              "      <td>0.000035</td>\n",
              "      <td>2019-03-05</td>\n",
              "    </tr>\n",
              "    <tr>\n",
              "      <th>42</th>\n",
              "      <td>965796.573406</td>\n",
              "      <td>35577.141498</td>\n",
              "      <td>1.001374e+06</td>\n",
              "      <td>0.000033</td>\n",
              "      <td>2019-03-06</td>\n",
              "    </tr>\n",
              "    <tr>\n",
              "      <th>43</th>\n",
              "      <td>980904.084411</td>\n",
              "      <td>20359.508358</td>\n",
              "      <td>1.001264e+06</td>\n",
              "      <td>0.000029</td>\n",
              "      <td>2019-03-07</td>\n",
              "    </tr>\n",
              "    <tr>\n",
              "      <th>44</th>\n",
              "      <td>973172.908656</td>\n",
              "      <td>27854.772347</td>\n",
              "      <td>1.001028e+06</td>\n",
              "      <td>0.000023</td>\n",
              "      <td>2019-03-08</td>\n",
              "    </tr>\n",
              "    <tr>\n",
              "      <th>45</th>\n",
              "      <td>965450.791378</td>\n",
              "      <td>35383.217308</td>\n",
              "      <td>1.000834e+06</td>\n",
              "      <td>0.000019</td>\n",
              "      <td>2019-03-11</td>\n",
              "    </tr>\n",
              "    <tr>\n",
              "      <th>46</th>\n",
              "      <td>959101.281434</td>\n",
              "      <td>42105.910622</td>\n",
              "      <td>1.001207e+06</td>\n",
              "      <td>0.000026</td>\n",
              "      <td>2019-03-12</td>\n",
              "    </tr>\n",
              "    <tr>\n",
              "      <th>47</th>\n",
              "      <td>956478.729490</td>\n",
              "      <td>44830.753755</td>\n",
              "      <td>1.001309e+06</td>\n",
              "      <td>0.000028</td>\n",
              "      <td>2019-03-13</td>\n",
              "    </tr>\n",
              "    <tr>\n",
              "      <th>48</th>\n",
              "      <td>950567.713021</td>\n",
              "      <td>50827.533990</td>\n",
              "      <td>1.001395e+06</td>\n",
              "      <td>0.000029</td>\n",
              "      <td>2019-03-14</td>\n",
              "    </tr>\n",
              "    <tr>\n",
              "      <th>49</th>\n",
              "      <td>963577.125695</td>\n",
              "      <td>37861.204339</td>\n",
              "      <td>1.001438e+06</td>\n",
              "      <td>0.000029</td>\n",
              "      <td>2019-03-15</td>\n",
              "    </tr>\n",
              "  </tbody>\n",
              "</table>\n",
              "</div>"
            ],
            "text/plain": [
              "              cash   asset_value  total_assets    reward        date\n",
              "0   1000000.000000      0.000000  1.000000e+06  0.000000  2019-01-03\n",
              "1    995969.424543   3974.705422  9.999441e+05 -0.000056  2019-01-04\n",
              "2    994106.514202   5993.849678  1.000100e+06  0.000050  2019-01-07\n",
              "3    996276.158515   3869.091412  1.000145e+06  0.000048  2019-01-08\n",
              "4    983053.854694  17225.953287  1.000280e+06  0.000070  2019-01-09\n",
              "5    985275.362640  14948.870190  1.000224e+06  0.000045  2019-01-10\n",
              "6    994787.956342   5448.781900  1.000237e+06  0.000039  2019-01-11\n",
              "7    996778.317261   3445.009136  1.000223e+06  0.000032  2019-01-14\n",
              "8    996469.679108   3725.031462  1.000195e+06  0.000024  2019-01-15\n",
              "9    988288.460697  12069.833457  1.000358e+06  0.000040  2019-01-16\n",
              "10   981495.012672  18780.045127  1.000275e+06  0.000028  2019-01-17\n",
              "11   975617.827264  24831.206807  1.000449e+06  0.000041  2019-01-18\n",
              "12   972944.069567  27932.826996  1.000877e+06  0.000073  2019-01-22\n",
              "13   964839.076271  35733.040769  1.000572e+06  0.000044  2019-01-23\n",
              "14   960216.179183  40627.392033  1.000844e+06  0.000060  2019-01-24\n",
              "15   962911.709921  37838.306908  1.000750e+06  0.000050  2019-01-25\n",
              "16   961541.716500  39367.067866  1.000909e+06  0.000057  2019-01-28\n",
              "17   973526.435724  27127.520133  1.000654e+06  0.000038  2019-01-29\n",
              "18   975835.346215  24815.421478  1.000651e+06  0.000036  2019-01-30\n",
              "19   968942.248457  32081.094039  1.001023e+06  0.000054  2019-01-31\n",
              "20   969927.123129  31185.736978  1.001113e+06  0.000056  2019-02-01\n",
              "21   975775.875387  25177.731236  1.000954e+06  0.000045  2019-02-04\n",
              "22   968231.852845  32801.614325  1.001033e+06  0.000047  2019-02-05\n",
              "23   963608.037390  37392.161141  1.001000e+06  0.000043  2019-02-06\n",
              "24   976921.127805  23940.548378  1.000862e+06  0.000036  2019-02-07\n",
              "25   977295.789514  23329.828262  1.000626e+06  0.000025  2019-02-08\n",
              "26   977952.578599  22640.218218  1.000593e+06  0.000023  2019-02-11\n",
              "27   966474.874209  34335.350826  1.000810e+06  0.000030  2019-02-12\n",
              "28   961914.163011  39159.255327  1.001073e+06  0.000038  2019-02-13\n",
              "29   969988.214463  31092.393204  1.001081e+06  0.000037  2019-02-14\n",
              "30   965111.394511  35945.207757  1.001057e+06  0.000035  2019-02-15\n",
              "31   969935.489253  31498.015474  1.001434e+06  0.000046  2019-02-19\n",
              "32   973459.841857  27738.789374  1.001199e+06  0.000037  2019-02-20\n",
              "33   965723.736746  35549.440262  1.001273e+06  0.000039  2019-02-21\n",
              "34   969461.079437  31507.931734  1.000969e+06  0.000029  2019-02-22\n",
              "35   955469.956910  45840.861073  1.001311e+06  0.000037  2019-02-25\n",
              "36   945259.346330  56224.510724  1.001484e+06  0.000041  2019-02-26\n",
              "37   951631.371995  50017.431295  1.001649e+06  0.000045  2019-02-27\n",
              "38   957613.273159  44071.688380  1.001685e+06  0.000044  2019-02-28\n",
              "39   958110.492444  43452.937027  1.001563e+06  0.000040  2019-03-01\n",
              "40   945865.081541  56258.246436  1.002123e+06  0.000053  2019-03-04\n",
              "41   955994.596899  45424.570044  1.001419e+06  0.000035  2019-03-05\n",
              "42   965796.573406  35577.141498  1.001374e+06  0.000033  2019-03-06\n",
              "43   980904.084411  20359.508358  1.001264e+06  0.000029  2019-03-07\n",
              "44   973172.908656  27854.772347  1.001028e+06  0.000023  2019-03-08\n",
              "45   965450.791378  35383.217308  1.000834e+06  0.000019  2019-03-11\n",
              "46   959101.281434  42105.910622  1.001207e+06  0.000026  2019-03-12\n",
              "47   956478.729490  44830.753755  1.001309e+06  0.000028  2019-03-13\n",
              "48   950567.713021  50827.533990  1.001395e+06  0.000029  2019-03-14\n",
              "49   963577.125695  37861.204339  1.001438e+06  0.000029  2019-03-15"
            ]
          },
          "metadata": {
            "tags": []
          },
          "execution_count": 38
        }
      ]
    },
    {
      "cell_type": "markdown",
      "metadata": {
        "id": "W6vvNSC6h1jZ"
      },
      "source": [
        "<a id='6'></a>\n",
        "# Part 7: Backtest Our Strategy\n",
        "Backtesting plays a key role in evaluating the performance of a trading strategy. Automated backtesting tool is preferred because it reduces the human error. We usually use the Quantopian pyfolio package to backtest our trading strategies. It is easy to use and consists of various individual plots that provide a comprehensive image of the performance of a trading strategy."
      ]
    },
    {
      "cell_type": "markdown",
      "metadata": {
        "id": "Lr2zX7ZxNyFQ"
      },
      "source": [
        "<a id='6.1'></a>\n",
        "## 7.1 BackTestStats\n",
        "pass in df_account_value, this information is stored in env class\n"
      ]
    },
    {
      "cell_type": "code",
      "metadata": {
        "colab": {
          "base_uri": "https://localhost:8080/"
        },
        "id": "Nzkr9yv-AdV_",
        "outputId": "704e0979-4129-46d4-82ba-4799c9cc1e58"
      },
      "source": [
        "print(\"==============Get Backtest Results===========\")\n",
        "perf_stats_all = backtest_stats(account_value=df_account_value, value_col_name = 'total_assets')"
      ],
      "execution_count": 30,
      "outputs": [
        {
          "output_type": "stream",
          "text": [
            "==============Get Backtest Results===========\n",
            "Annual return          0.007850\n",
            "Cumulative returns     0.015762\n",
            "Annual volatility      0.021930\n",
            "Sharpe ratio           0.368210\n",
            "Calmar ratio           0.251362\n",
            "Stability              0.016785\n",
            "Max drawdown          -0.031230\n",
            "Omega ratio            1.080488\n",
            "Sortino ratio          0.529550\n",
            "Skew                        NaN\n",
            "Kurtosis                    NaN\n",
            "Tail ratio             1.038716\n",
            "Daily value at risk   -0.002731\n",
            "dtype: float64\n"
          ],
          "name": "stdout"
        }
      ]
    },
    {
      "cell_type": "markdown",
      "metadata": {
        "id": "9U6Suru3h1jc"
      },
      "source": [
        "<a id='6.2'></a>\n",
        "## 7.2 BackTestPlot"
      ]
    },
    {
      "cell_type": "code",
      "metadata": {
        "colab": {
          "base_uri": "https://localhost:8080/",
          "height": 1000
        },
        "id": "lKRGftSS7pNM",
        "outputId": "72d5d595-5235-4f4b-d9c6-e04d1a5a30ef"
      },
      "source": [
        "print(\"==============Compare to DJIA===========\")\n",
        "%matplotlib inline\n",
        "# S&P 500: ^GSPC\n",
        "# Dow Jones Index: ^DJI\n",
        "# NASDAQ 100: ^NDX\n",
        "backtest_plot(df_account_value, \n",
        "             baseline_ticker = '^DJI', \n",
        "             baseline_start = '2019-01-01',\n",
        "             baseline_end = '2021-01-01', value_col_name = 'total_assets')"
      ],
      "execution_count": 31,
      "outputs": [
        {
          "output_type": "stream",
          "text": [
            "==============Compare to DJIA===========\n",
            "[*********************100%***********************]  1 of 1 completed\n",
            "Shape of DataFrame:  (505, 8)\n"
          ],
          "name": "stdout"
        },
        {
          "output_type": "display_data",
          "data": {
            "text/html": [
              "<table border=\"1\" class=\"dataframe\">\n",
              "  <thead>\n",
              "    <tr style=\"text-align: right;\"><th>Start date</th><td colspan=2>2019-01-03</td></tr>\n",
              "    <tr style=\"text-align: right;\"><th>End date</th><td colspan=2>2020-12-31</td></tr>\n",
              "    <tr style=\"text-align: right;\"><th>Total months</th><td colspan=2>24</td></tr>\n",
              "    <tr style=\"text-align: right;\">\n",
              "      <th></th>\n",
              "      <th>Backtest</th>\n",
              "    </tr>\n",
              "  </thead>\n",
              "  <tbody>\n",
              "    <tr>\n",
              "      <th>Annual return</th>\n",
              "      <td>0.785%</td>\n",
              "    </tr>\n",
              "    <tr>\n",
              "      <th>Cumulative returns</th>\n",
              "      <td>1.576%</td>\n",
              "    </tr>\n",
              "    <tr>\n",
              "      <th>Annual volatility</th>\n",
              "      <td>2.193%</td>\n",
              "    </tr>\n",
              "    <tr>\n",
              "      <th>Sharpe ratio</th>\n",
              "      <td>0.37</td>\n",
              "    </tr>\n",
              "    <tr>\n",
              "      <th>Calmar ratio</th>\n",
              "      <td>0.25</td>\n",
              "    </tr>\n",
              "    <tr>\n",
              "      <th>Stability</th>\n",
              "      <td>0.02</td>\n",
              "    </tr>\n",
              "    <tr>\n",
              "      <th>Max drawdown</th>\n",
              "      <td>-3.123%</td>\n",
              "    </tr>\n",
              "    <tr>\n",
              "      <th>Omega ratio</th>\n",
              "      <td>1.08</td>\n",
              "    </tr>\n",
              "    <tr>\n",
              "      <th>Sortino ratio</th>\n",
              "      <td>0.53</td>\n",
              "    </tr>\n",
              "    <tr>\n",
              "      <th>Skew</th>\n",
              "      <td>NaN</td>\n",
              "    </tr>\n",
              "    <tr>\n",
              "      <th>Kurtosis</th>\n",
              "      <td>NaN</td>\n",
              "    </tr>\n",
              "    <tr>\n",
              "      <th>Tail ratio</th>\n",
              "      <td>1.04</td>\n",
              "    </tr>\n",
              "    <tr>\n",
              "      <th>Daily value at risk</th>\n",
              "      <td>-0.273%</td>\n",
              "    </tr>\n",
              "    <tr>\n",
              "      <th>Alpha</th>\n",
              "      <td>0.01</td>\n",
              "    </tr>\n",
              "    <tr>\n",
              "      <th>Beta</th>\n",
              "      <td>-0.02</td>\n",
              "    </tr>\n",
              "  </tbody>\n",
              "</table>"
            ],
            "text/plain": [
              "<IPython.core.display.HTML object>"
            ]
          },
          "metadata": {
            "tags": []
          }
        },
        {
          "output_type": "display_data",
          "data": {
            "text/html": [
              "<table border=\"1\" class=\"dataframe\">\n",
              "  <thead>\n",
              "    <tr style=\"text-align: right;\">\n",
              "      <th>Worst drawdown periods</th>\n",
              "      <th>Net drawdown in %</th>\n",
              "      <th>Peak date</th>\n",
              "      <th>Valley date</th>\n",
              "      <th>Recovery date</th>\n",
              "      <th>Duration</th>\n",
              "    </tr>\n",
              "  </thead>\n",
              "  <tbody>\n",
              "    <tr>\n",
              "      <th>0</th>\n",
              "      <td>3.12</td>\n",
              "      <td>2019-07-05</td>\n",
              "      <td>2020-03-24</td>\n",
              "      <td>2020-08-25</td>\n",
              "      <td>298</td>\n",
              "    </tr>\n",
              "    <tr>\n",
              "      <th>1</th>\n",
              "      <td>1.59</td>\n",
              "      <td>2020-10-09</td>\n",
              "      <td>2020-10-29</td>\n",
              "      <td>2020-12-02</td>\n",
              "      <td>39</td>\n",
              "    </tr>\n",
              "    <tr>\n",
              "      <th>2</th>\n",
              "      <td>0.74</td>\n",
              "      <td>2019-04-22</td>\n",
              "      <td>2019-06-03</td>\n",
              "      <td>2019-06-21</td>\n",
              "      <td>45</td>\n",
              "    </tr>\n",
              "    <tr>\n",
              "      <th>3</th>\n",
              "      <td>0.64</td>\n",
              "      <td>2020-09-03</td>\n",
              "      <td>2020-09-22</td>\n",
              "      <td>2020-10-06</td>\n",
              "      <td>24</td>\n",
              "    </tr>\n",
              "    <tr>\n",
              "      <th>4</th>\n",
              "      <td>0.24</td>\n",
              "      <td>2019-06-25</td>\n",
              "      <td>2019-07-01</td>\n",
              "      <td>2019-07-05</td>\n",
              "      <td>9</td>\n",
              "    </tr>\n",
              "  </tbody>\n",
              "</table>"
            ],
            "text/plain": [
              "<IPython.core.display.HTML object>"
            ]
          },
          "metadata": {
            "tags": []
          }
        },
        {
          "output_type": "stream",
          "text": [
            "/usr/local/lib/python3.7/dist-packages/pyfolio/tears.py:907: UserWarning: Passed returns do not overlap with anyinteresting times.\n",
            "  'interesting times.', UserWarning)\n"
          ],
          "name": "stderr"
        },
        {
          "output_type": "display_data",
          "data": {
            "image/png": "[encoded data removed]",
            "text/plain": [
              "<Figure size 1008x5184 with 13 Axes>"
            ]
          },
          "metadata": {
            "tags": [],
            "needs_background": "light"
          }
        }
      ]
    },
    {
      "cell_type": "code",
      "metadata": {
        "id": "-AXVQiMZ3fEe"
      },
      "source": [
        ""
      ],
      "execution_count": 31,
      "outputs": []
    }
  ]
}